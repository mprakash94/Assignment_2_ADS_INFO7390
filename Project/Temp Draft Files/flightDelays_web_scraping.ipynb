{
 "cells": [
  {
   "cell_type": "code",
   "execution_count": 23,
   "metadata": {
    "collapsed": true
   },
   "outputs": [],
   "source": [
    "import zipfile\n",
    "from zipfile import ZipFile\n",
    "import requests\n",
    "import os\n",
    "import time\n",
    "from selenium import webdriver"
   ]
  },
  {
   "cell_type": "markdown",
   "metadata": {},
   "source": [
    "# Chrome Driver\n",
    "    1.pip install selenium\n",
    "    2.Go to http://chromedriver.storage.googleapis.com/index.html?path=2.25/ and install the crome driver"
   ]
  },
  {
   "cell_type": "code",
   "execution_count": 14,
   "metadata": {
    "collapsed": true
   },
   "outputs": [],
   "source": [
    "path_to_chromedriver = '/Users/madhu/Documents/NEU/Fall 2017/ADS Class/Final project/chromedriver' # change path as needed\n",
    "browser = webdriver.Chrome(executable_path = path_to_chromedriver)"
   ]
  },
  {
   "cell_type": "markdown",
   "metadata": {},
   "source": [
    "# Scraping Flight data for 2017"
   ]
  },
  {
   "cell_type": "code",
   "execution_count": 30,
   "metadata": {},
   "outputs": [],
   "source": [
    "url = 'https://www.transtats.bts.gov/DL_SelectFields.asp?Table_ID=236&DB_Short_Name=On-Time'\n",
    "browser.get(url)\n",
    "browser.find_element_by_xpath('//*[@id=\"XYEAR\"]/option[contains(text(), \"2017\")]').click()\n",
    "browser.find_element_by_xpath('//*[@id=\"FREQUENCY\"]/option[contains(text(),\"January\")]').click()\n",
    "browser.find_element_by_xpath('//*[@id=\"DownloadZip\"]').click()\n",
    "browser.find_element_by_css_selector(\".tsbutton[name='Download2']\").click()\n",
    "time.sleep(10)\n",
    "url = 'https://www.transtats.bts.gov/DL_SelectFields.asp?Table_ID=236&DB_Short_Name=On-Time'\n",
    "browser.get(url)\n",
    "browser.find_element_by_xpath('//*[@id=\"XYEAR\"]/option[contains(text(), \"2017\")]').click()\n",
    "browser.find_element_by_xpath('//*[@id=\"FREQUENCY\"]/option[contains(text(),\"February\")]').click()\n",
    "browser.find_element_by_xpath('//*[@id=\"DownloadZip\"]').click()\n",
    "browser.find_element_by_css_selector(\".tsbutton[name='Download2']\").click()\n",
    "time.sleep(10)\n",
    "url = 'https://www.transtats.bts.gov/DL_SelectFields.asp?Table_ID=236&DB_Short_Name=On-Time'\n",
    "browser.get(url)\n",
    "browser.find_element_by_xpath('//*[@id=\"XYEAR\"]/option[contains(text(), \"2017\")]').click()\n",
    "browser.find_element_by_xpath('//*[@id=\"FREQUENCY\"]/option[contains(text(),\"March\")]').click()\n",
    "browser.find_element_by_xpath('//*[@id=\"DownloadZip\"]').click()\n",
    "browser.find_element_by_css_selector(\".tsbutton[name='Download2']\").click()\n",
    "time.sleep(10)\n",
    "url = 'https://www.transtats.bts.gov/DL_SelectFields.asp?Table_ID=236&DB_Short_Name=On-Time'\n",
    "browser.get(url)\n",
    "browser.find_element_by_xpath('//*[@id=\"XYEAR\"]/option[contains(text(), \"2017\")]').click()\n",
    "browser.find_element_by_xpath('//*[@id=\"FREQUENCY\"]/option[contains(text(),\"April\")]').click()\n",
    "browser.find_element_by_xpath('//*[@id=\"DownloadZip\"]').click()\n",
    "browser.find_element_by_css_selector(\".tsbutton[name='Download2']\").click()\n",
    "time.sleep(10)\n",
    "url = 'https://www.transtats.bts.gov/DL_SelectFields.asp?Table_ID=236&DB_Short_Name=On-Time'\n",
    "browser.get(url)\n",
    "browser.find_element_by_xpath('//*[@id=\"XYEAR\"]/option[contains(text(), \"2017\")]').click()\n",
    "browser.find_element_by_xpath('//*[@id=\"FREQUENCY\"]/option[contains(text(),\"May\")]').click()\n",
    "browser.find_element_by_xpath('//*[@id=\"DownloadZip\"]').click()\n",
    "browser.find_element_by_css_selector(\".tsbutton[name='Download2']\").click()\n",
    "time.sleep(10)\n",
    "url = 'https://www.transtats.bts.gov/DL_SelectFields.asp?Table_ID=236&DB_Short_Name=On-Time'\n",
    "browser.get(url)\n",
    "browser.find_element_by_xpath('//*[@id=\"XYEAR\"]/option[contains(text(), \"2017\")]').click()\n",
    "browser.find_element_by_xpath('//*[@id=\"FREQUENCY\"]/option[contains(text(),\"June\")]').click()\n",
    "browser.find_element_by_xpath('//*[@id=\"DownloadZip\"]').click()\n",
    "browser.find_element_by_css_selector(\".tsbutton[name='Download2']\").click()\n",
    "time.sleep(10)\n",
    "url = 'https://www.transtats.bts.gov/DL_SelectFields.asp?Table_ID=236&DB_Short_Name=On-Time'\n",
    "browser.get(url)\n",
    "browser.find_element_by_xpath('//*[@id=\"XYEAR\"]/option[contains(text(), \"2017\")]').click()\n",
    "browser.find_element_by_xpath('//*[@id=\"FREQUENCY\"]/option[contains(text(),\"July\")]').click()\n",
    "browser.find_element_by_xpath('//*[@id=\"DownloadZip\"]').click()\n",
    "browser.find_element_by_css_selector(\".tsbutton[name='Download2']\").click()\n",
    "time.sleep(10)\n",
    "url = 'https://www.transtats.bts.gov/DL_SelectFields.asp?Table_ID=236&DB_Short_Name=On-Time'\n",
    "browser.get(url)\n",
    "browser.find_element_by_xpath('//*[@id=\"XYEAR\"]/option[contains(text(), \"2017\")]').click()\n",
    "browser.find_element_by_xpath('//*[@id=\"FREQUENCY\"]/option[contains(text(),\"August\")]').click()\n",
    "browser.find_element_by_xpath('//*[@id=\"DownloadZip\"]').click()\n",
    "browser.find_element_by_css_selector(\".tsbutton[name='Download2']\").click()\n",
    "time.sleep(10)\n",
    "url = 'https://www.transtats.bts.gov/DL_SelectFields.asp?Table_ID=236&DB_Short_Name=On-Time'\n",
    "browser.get(url)\n",
    "browser.find_element_by_xpath('//*[@id=\"XYEAR\"]/option[contains(text(), \"2017\")]').click()\n",
    "browser.find_element_by_xpath('//*[@id=\"FREQUENCY\"]/option[contains(text(),\"September\")]').click()\n",
    "browser.find_element_by_xpath('//*[@id=\"DownloadZip\"]').click()\n",
    "browser.find_element_by_css_selector(\".tsbutton[name='Download2']\").click()\n",
    "time.sleep(10)"
   ]
  },
  {
   "cell_type": "markdown",
   "metadata": {},
   "source": [
    "# Unzipping Flies 2017"
   ]
  },
  {
   "cell_type": "code",
   "execution_count": 31,
   "metadata": {},
   "outputs": [],
   "source": [
    "zfiles = ['On_Time_On_Time_Performance_2017_1.zip','On_Time_On_Time_Performance_2017_2.zip','On_Time_On_Time_Performance_2017_3.zip','On_Time_On_Time_Performance_2017_4.zip','On_Time_On_Time_Performance_2017_5.zip','On_Time_On_Time_Performance_2017_6.zip','On_Time_On_Time_Performance_2017_7.zip','On_Time_On_Time_Performance_2017_8.zip','On_Time_On_Time_Performance_2017_9.zip']\n",
    "for z in zfiles:\n",
    "    file_path = 'C:/Users/madhu/Downloads/'+ z\n",
    "    while not os.path.exists(file_path):\n",
    "        time.sleep(30)\n",
    "\n",
    "    if os.path.isfile(file_path):\n",
    "        zip_ref = zipfile.ZipFile(file_path, 'r')\n",
    "        zip_ref.extractall('/Users/madhu/Documents/NEU/Fall 2017/ADS Class/Final project/Data/Data2017')\n",
    "        zip_ref.close()\n",
    "    else:\n",
    "        raise ValueError(\"%s isn't a file!\" % file_path)"
   ]
  },
  {
   "cell_type": "markdown",
   "metadata": {},
   "source": [
    "# Scraping Flight Delay data for 2016"
   ]
  },
  {
   "cell_type": "code",
   "execution_count": 32,
   "metadata": {
    "collapsed": true
   },
   "outputs": [],
   "source": [
    "url = 'https://www.transtats.bts.gov/DL_SelectFields.asp?Table_ID=236&DB_Short_Name=On-Time'\n",
    "browser.get(url)\n",
    "browser.find_element_by_xpath('//*[@id=\"XYEAR\"]/option[contains(text(), \"2016\")]').click()\n",
    "browser.find_element_by_xpath('//*[@id=\"FREQUENCY\"]/option[contains(text(),\"January\")]').click()\n",
    "browser.find_element_by_xpath('//*[@id=\"DownloadZip\"]').click()\n",
    "browser.find_element_by_css_selector(\".tsbutton[name='Download2']\").click()\n",
    "time.sleep(10)\n",
    "url = 'https://www.transtats.bts.gov/DL_SelectFields.asp?Table_ID=236&DB_Short_Name=On-Time'\n",
    "browser.get(url)\n",
    "browser.find_element_by_xpath('//*[@id=\"XYEAR\"]/option[contains(text(), \"2016\")]').click()\n",
    "browser.find_element_by_xpath('//*[@id=\"FREQUENCY\"]/option[contains(text(),\"February\")]').click()\n",
    "browser.find_element_by_xpath('//*[@id=\"DownloadZip\"]').click()\n",
    "browser.find_element_by_css_selector(\".tsbutton[name='Download2']\").click()\n",
    "time.sleep(10)\n",
    "url = 'https://www.transtats.bts.gov/DL_SelectFields.asp?Table_ID=236&DB_Short_Name=On-Time'\n",
    "browser.get(url)\n",
    "browser.find_element_by_xpath('//*[@id=\"XYEAR\"]/option[contains(text(), \"2016\")]').click()\n",
    "browser.find_element_by_xpath('//*[@id=\"FREQUENCY\"]/option[contains(text(),\"March\")]').click()\n",
    "browser.find_element_by_xpath('//*[@id=\"DownloadZip\"]').click()\n",
    "browser.find_element_by_css_selector(\".tsbutton[name='Download2']\").click()\n",
    "time.sleep(10)\n",
    "url = 'https://www.transtats.bts.gov/DL_SelectFields.asp?Table_ID=236&DB_Short_Name=On-Time'\n",
    "browser.get(url)\n",
    "browser.find_element_by_xpath('//*[@id=\"XYEAR\"]/option[contains(text(), \"2016\")]').click()\n",
    "browser.find_element_by_xpath('//*[@id=\"FREQUENCY\"]/option[contains(text(),\"April\")]').click()\n",
    "browser.find_element_by_xpath('//*[@id=\"DownloadZip\"]').click()\n",
    "browser.find_element_by_css_selector(\".tsbutton[name='Download2']\").click()\n",
    "time.sleep(10)\n",
    "url = 'https://www.transtats.bts.gov/DL_SelectFields.asp?Table_ID=236&DB_Short_Name=On-Time'\n",
    "browser.get(url)\n",
    "browser.find_element_by_xpath('//*[@id=\"XYEAR\"]/option[contains(text(), \"2016\")]').click()\n",
    "browser.find_element_by_xpath('//*[@id=\"FREQUENCY\"]/option[contains(text(),\"May\")]').click()\n",
    "browser.find_element_by_xpath('//*[@id=\"DownloadZip\"]').click()\n",
    "browser.find_element_by_css_selector(\".tsbutton[name='Download2']\").click()\n",
    "time.sleep(10)\n",
    "url = 'https://www.transtats.bts.gov/DL_SelectFields.asp?Table_ID=236&DB_Short_Name=On-Time'\n",
    "browser.get(url)\n",
    "browser.find_element_by_xpath('//*[@id=\"XYEAR\"]/option[contains(text(), \"2016\")]').click()\n",
    "browser.find_element_by_xpath('//*[@id=\"FREQUENCY\"]/option[contains(text(),\"June\")]').click()\n",
    "browser.find_element_by_xpath('//*[@id=\"DownloadZip\"]').click()\n",
    "browser.find_element_by_css_selector(\".tsbutton[name='Download2']\").click()\n",
    "time.sleep(10)\n",
    "url = 'https://www.transtats.bts.gov/DL_SelectFields.asp?Table_ID=236&DB_Short_Name=On-Time'\n",
    "browser.get(url)\n",
    "browser.find_element_by_xpath('//*[@id=\"XYEAR\"]/option[contains(text(), \"2016\")]').click()\n",
    "browser.find_element_by_xpath('//*[@id=\"FREQUENCY\"]/option[contains(text(),\"July\")]').click()\n",
    "browser.find_element_by_xpath('//*[@id=\"DownloadZip\"]').click()\n",
    "browser.find_element_by_css_selector(\".tsbutton[name='Download2']\").click()\n",
    "time.sleep(10)\n",
    "url = 'https://www.transtats.bts.gov/DL_SelectFields.asp?Table_ID=236&DB_Short_Name=On-Time'\n",
    "browser.get(url)\n",
    "browser.find_element_by_xpath('//*[@id=\"XYEAR\"]/option[contains(text(), \"2016\")]').click()\n",
    "browser.find_element_by_xpath('//*[@id=\"FREQUENCY\"]/option[contains(text(),\"August\")]').click()\n",
    "browser.find_element_by_xpath('//*[@id=\"DownloadZip\"]').click()\n",
    "browser.find_element_by_css_selector(\".tsbutton[name='Download2']\").click()\n",
    "time.sleep(10)\n",
    "url = 'https://www.transtats.bts.gov/DL_SelectFields.asp?Table_ID=236&DB_Short_Name=On-Time'\n",
    "browser.get(url)\n",
    "browser.find_element_by_xpath('//*[@id=\"XYEAR\"]/option[contains(text(), \"2016\")]').click()\n",
    "browser.find_element_by_xpath('//*[@id=\"FREQUENCY\"]/option[contains(text(),\"September\")]').click()\n",
    "browser.find_element_by_xpath('//*[@id=\"DownloadZip\"]').click()\n",
    "browser.find_element_by_css_selector(\".tsbutton[name='Download2']\").click()\n",
    "time.sleep(10)\n",
    "url = 'https://www.transtats.bts.gov/DL_SelectFields.asp?Table_ID=236&DB_Short_Name=On-Time'\n",
    "browser.get(url)\n",
    "browser.find_element_by_xpath('//*[@id=\"XYEAR\"]/option[contains(text(), \"2016\")]').click()\n",
    "browser.find_element_by_xpath('//*[@id=\"FREQUENCY\"]/option[contains(text(),\"October\")]').click()\n",
    "browser.find_element_by_xpath('//*[@id=\"DownloadZip\"]').click()\n",
    "browser.find_element_by_css_selector(\".tsbutton[name='Download2']\").click()\n",
    "time.sleep(10)\n",
    "url = 'https://www.transtats.bts.gov/DL_SelectFields.asp?Table_ID=236&DB_Short_Name=On-Time'\n",
    "browser.get(url)\n",
    "browser.find_element_by_xpath('//*[@id=\"XYEAR\"]/option[contains(text(), \"2016\")]').click()\n",
    "browser.find_element_by_xpath('//*[@id=\"FREQUENCY\"]/option[contains(text(),\"November\")]').click()\n",
    "browser.find_element_by_xpath('//*[@id=\"DownloadZip\"]').click()\n",
    "browser.find_element_by_css_selector(\".tsbutton[name='Download2']\").click()\n",
    "time.sleep(10)\n",
    "url = 'https://www.transtats.bts.gov/DL_SelectFields.asp?Table_ID=236&DB_Short_Name=On-Time'\n",
    "browser.get(url)\n",
    "browser.find_element_by_xpath('//*[@id=\"XYEAR\"]/option[contains(text(), \"2016\")]').click()\n",
    "browser.find_element_by_xpath('//*[@id=\"FREQUENCY\"]/option[contains(text(),\"December\")]').click()\n",
    "browser.find_element_by_xpath('//*[@id=\"DownloadZip\"]').click()\n",
    "browser.find_element_by_css_selector(\".tsbutton[name='Download2']\").click()\n",
    "time.sleep(10)"
   ]
  },
  {
   "cell_type": "markdown",
   "metadata": {},
   "source": [
    "# Unzipp files 2017"
   ]
  },
  {
   "cell_type": "code",
   "execution_count": 33,
   "metadata": {
    "collapsed": true
   },
   "outputs": [],
   "source": [
    "zfiles = ['On_Time_On_Time_Performance_2016_1.zip','On_Time_On_Time_Performance_2016_2.zip','On_Time_On_Time_Performance_2016_3.zip','On_Time_On_Time_Performance_2016_4.zip','On_Time_On_Time_Performance_2016_5.zip','On_Time_On_Time_Performance_2016_6.zip','On_Time_On_Time_Performance_2016_7.zip','On_Time_On_Time_Performance_2016_8.zip','On_Time_On_Time_Performance_2016_9.zip','On_Time_On_Time_Performance_2016_10.zip','On_Time_On_Time_Performance_2016_11.zip','On_Time_On_Time_Performance_2016_12.zip']\n",
    "for z in zfiles:\n",
    "    file_path = 'C:/Users/madhu/Downloads/'+ z\n",
    "    while not os.path.exists(file_path):\n",
    "        time.sleep(30)\n",
    "\n",
    "    if os.path.isfile(file_path):\n",
    "        zip_ref = zipfile.ZipFile(file_path, 'r')\n",
    "        zip_ref.extractall('/Users/madhu/Documents/NEU/Fall 2017/ADS Class/Final project/Data/Data2016')\n",
    "        zip_ref.close()\n",
    "    else:\n",
    "        raise ValueError(\"%s isn't a file!\" % file_path)"
   ]
  },
  {
   "cell_type": "code",
   "execution_count": null,
   "metadata": {
    "collapsed": true
   },
   "outputs": [],
   "source": []
  }
 ],
 "metadata": {
  "kernelspec": {
   "display_name": "Python 3",
   "language": "python",
   "name": "python3"
  },
  "language_info": {
   "codemirror_mode": {
    "name": "ipython",
    "version": 3
   },
   "file_extension": ".py",
   "mimetype": "text/x-python",
   "name": "python",
   "nbconvert_exporter": "python",
   "pygments_lexer": "ipython3",
   "version": "3.6.1"
  }
 },
 "nbformat": 4,
 "nbformat_minor": 2
}
