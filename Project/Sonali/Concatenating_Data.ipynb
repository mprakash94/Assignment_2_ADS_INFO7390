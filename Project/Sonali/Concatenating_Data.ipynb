{
 "cells": [
  {
   "cell_type": "code",
   "execution_count": 1,
   "metadata": {
    "collapsed": true
   },
   "outputs": [],
   "source": [
    "import warnings\n",
    "warnings.filterwarnings('ignore')"
   ]
  },
  {
   "cell_type": "code",
   "execution_count": 2,
   "metadata": {
    "collapsed": true
   },
   "outputs": [],
   "source": [
    "import pandas as pd\n",
    "import numpy as np\n",
    "import csv"
   ]
  },
  {
   "cell_type": "code",
   "execution_count": 3,
   "metadata": {
    "collapsed": true
   },
   "outputs": [],
   "source": [
    "cur_path = '/Users/sonalichaudhari/Desktop/ADS_Project/Data'"
   ]
  },
  {
   "cell_type": "code",
   "execution_count": 4,
   "metadata": {
    "collapsed": true
   },
   "outputs": [],
   "source": [
    "## 2017 Data"
   ]
  },
  {
   "cell_type": "code",
   "execution_count": 5,
   "metadata": {
    "collapsed": false
   },
   "outputs": [],
   "source": [
    "d1 = pd.read_csv(cur_path+'/Data2017/On_Time_On_Time_Performance_2017_1/On_Time_On_Time_Performance_2017_1.csv', low_memory=False)\n",
    "d2 = pd.read_csv(cur_path+'/Data2017/On_Time_On_Time_Performance_2017_2/On_Time_On_Time_Performance_2017_2.csv', low_memory=False)\n",
    "d3 = pd.read_csv(cur_path+'/Data2017/On_Time_On_Time_Performance_2017_3/On_Time_On_Time_Performance_2017_3.csv', low_memory=False)\n",
    "d4 = pd.read_csv(cur_path+'/Data2017/On_Time_On_Time_Performance_2017_4/On_Time_On_Time_Performance_2017_4.csv', low_memory=False)\n",
    "d5 = pd.read_csv(cur_path+'/Data2017/On_Time_On_Time_Performance_2017_5/On_Time_On_Time_Performance_2017_5.csv', low_memory=False)\n",
    "d6 = pd.read_csv(cur_path+'/Data2017/On_Time_On_Time_Performance_2017_6/On_Time_On_Time_Performance_2017_6.csv', low_memory=False)\n",
    "d7 = pd.read_csv(cur_path+'/Data2017/On_Time_On_Time_Performance_2017_7/On_Time_On_Time_Performance_2017_7.csv', low_memory=False)\n",
    "d8 = pd.read_csv(cur_path+'/Data2017/On_Time_On_Time_Performance_2017_8/On_Time_On_Time_Performance_2017_8.csv', low_memory=False)\n",
    "d9 = pd.read_csv(cur_path+'/Data2017/On_Time_On_Time_Performance_2017_9/On_Time_On_Time_Performance_2017_9.csv', low_memory=False)"
   ]
  },
  {
   "cell_type": "code",
   "execution_count": 6,
   "metadata": {
    "collapsed": true
   },
   "outputs": [],
   "source": [
    "df = pd.concat([d1, d2, d3, d4, d5, d6, d7, d8, d9])  "
   ]
  },
  {
   "cell_type": "code",
   "execution_count": 7,
   "metadata": {
    "collapsed": true
   },
   "outputs": [],
   "source": [
    "del df['Unnamed: 109']"
   ]
  },
  {
   "cell_type": "code",
   "execution_count": 8,
   "metadata": {
    "collapsed": false
   },
   "outputs": [
    {
     "data": {
      "text/plain": [
       "(4276457, 109)"
      ]
     },
     "execution_count": 8,
     "metadata": {},
     "output_type": "execute_result"
    }
   ],
   "source": [
    "df.shape"
   ]
  },
  {
   "cell_type": "code",
   "execution_count": 9,
   "metadata": {
    "collapsed": false
   },
   "outputs": [],
   "source": [
    "# Exporting into CSV for EDA\n",
    "df.to_csv(cur_path+'/Data2017_Uncleaned.csv', index = False)"
   ]
  },
  {
   "cell_type": "code",
   "execution_count": 10,
   "metadata": {
    "collapsed": true
   },
   "outputs": [],
   "source": [
    "# 2016 Data"
   ]
  },
  {
   "cell_type": "code",
   "execution_count": 12,
   "metadata": {
    "collapsed": false
   },
   "outputs": [],
   "source": [
    "d1 = pd.read_csv(cur_path+'/Data2016/On_Time_On_Time_Performance_2016_1/On_Time_On_Time_Performance_2016_1.csv', low_memory=False)\n",
    "d2 = pd.read_csv(cur_path+'/Data2016/On_Time_On_Time_Performance_2016_2/On_Time_On_Time_Performance_2016_2.csv', low_memory=False)\n",
    "d3 = pd.read_csv(cur_path+'/Data2016/On_Time_On_Time_Performance_2016_3/On_Time_On_Time_Performance_2016_3.csv', low_memory=False)\n",
    "d4 = pd.read_csv(cur_path+'/Data2016/On_Time_On_Time_Performance_2016_4/On_Time_On_Time_Performance_2016_4.csv', low_memory=False)\n",
    "d5 = pd.read_csv(cur_path+'/Data2016/On_Time_On_Time_Performance_2016_5/On_Time_On_Time_Performance_2016_5.csv', low_memory=False)\n",
    "d6 = pd.read_csv(cur_path+'/Data2016/On_Time_On_Time_Performance_2016_6/On_Time_On_Time_Performance_2016_6.csv', low_memory=False)\n",
    "d7 = pd.read_csv(cur_path+'/Data2016/On_Time_On_Time_Performance_2016_7/On_Time_On_Time_Performance_2016_7.csv', low_memory=False)\n",
    "d8 = pd.read_csv(cur_path+'/Data2016/On_Time_On_Time_Performance_2016_8/On_Time_On_Time_Performance_2016_8.csv', low_memory=False)\n",
    "d9 = pd.read_csv(cur_path+'/Data2016/On_Time_On_Time_Performance_2016_9/On_Time_On_Time_Performance_2016_9.csv', low_memory=False)\n",
    "d10 = pd.read_csv(cur_path+'/Data2016/On_Time_On_Time_Performance_2016_10/On_Time_On_Time_Performance_2016_10.csv', low_memory=False)\n",
    "d11 = pd.read_csv(cur_path+'/Data2016/On_Time_On_Time_Performance_2016_11/On_Time_On_Time_Performance_2016_11.csv', low_memory=False)\n",
    "d12 = pd.read_csv(cur_path+'/Data2016/On_Time_On_Time_Performance_2016_12/On_Time_On_Time_Performance_2016_12.csv', low_memory=False)"
   ]
  },
  {
   "cell_type": "code",
   "execution_count": 17,
   "metadata": {
    "collapsed": false
   },
   "outputs": [
    {
     "ename": "NameError",
     "evalue": "name 'd10' is not defined",
     "output_type": "error",
     "traceback": [
      "\u001b[0;31m---------------------------------------------------------------------------\u001b[0m",
      "\u001b[0;31mNameError\u001b[0m                                 Traceback (most recent call last)",
      "\u001b[0;32m<ipython-input-17-9ecf1388d4b6>\u001b[0m in \u001b[0;36m<module>\u001b[0;34m()\u001b[0m\n\u001b[0;32m----> 1\u001b[0;31m \u001b[0mdf1\u001b[0m \u001b[0;34m=\u001b[0m \u001b[0mpd\u001b[0m\u001b[0;34m.\u001b[0m\u001b[0mconcat\u001b[0m\u001b[0;34m(\u001b[0m\u001b[0;34m[\u001b[0m\u001b[0md1\u001b[0m\u001b[0;34m,\u001b[0m \u001b[0md2\u001b[0m\u001b[0;34m,\u001b[0m \u001b[0md3\u001b[0m\u001b[0;34m,\u001b[0m \u001b[0md4\u001b[0m\u001b[0;34m,\u001b[0m \u001b[0md5\u001b[0m\u001b[0;34m,\u001b[0m \u001b[0md6\u001b[0m\u001b[0;34m,\u001b[0m \u001b[0md7\u001b[0m\u001b[0;34m,\u001b[0m \u001b[0md8\u001b[0m\u001b[0;34m,\u001b[0m \u001b[0md9\u001b[0m\u001b[0;34m,\u001b[0m \u001b[0md10\u001b[0m\u001b[0;34m,\u001b[0m \u001b[0md11\u001b[0m\u001b[0;34m,\u001b[0m \u001b[0md12\u001b[0m\u001b[0;34m]\u001b[0m\u001b[0;34m)\u001b[0m\u001b[0;34m\u001b[0m\u001b[0m\n\u001b[0m",
      "\u001b[0;31mNameError\u001b[0m: name 'd10' is not defined"
     ]
    }
   ],
   "source": [
    "df1 = pd.concat([d1, d2, d3, d4, d5, d6, d7, d8, d9, d10, d11, d12])  "
   ]
  },
  {
   "cell_type": "code",
   "execution_count": null,
   "metadata": {
    "collapsed": true
   },
   "outputs": [],
   "source": [
    "df.to_csv(cur_path+'/Data2016_Uncleaned.csv', index = False)"
   ]
  }
 ],
 "metadata": {
  "anaconda-cloud": {},
  "kernelspec": {
   "display_name": "Python [conda root]",
   "language": "python",
   "name": "conda-root-py"
  },
  "language_info": {
   "codemirror_mode": {
    "name": "ipython",
    "version": 3
   },
   "file_extension": ".py",
   "mimetype": "text/x-python",
   "name": "python",
   "nbconvert_exporter": "python",
   "pygments_lexer": "ipython3",
   "version": "3.5.2"
  }
 },
 "nbformat": 4,
 "nbformat_minor": 2
}
