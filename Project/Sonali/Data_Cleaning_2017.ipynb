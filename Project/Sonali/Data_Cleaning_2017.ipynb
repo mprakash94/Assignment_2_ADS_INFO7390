{
 "cells": [
  {
   "cell_type": "markdown",
   "metadata": {},
   "source": [
    "# Data Cleaning"
   ]
  },
  {
   "cell_type": "code",
   "execution_count": 10,
   "metadata": {
    "collapsed": false
   },
   "outputs": [],
   "source": [
    "import warnings\n",
    "warnings.filterwarnings('ignore')"
   ]
  },
  {
   "cell_type": "code",
   "execution_count": 11,
   "metadata": {
    "collapsed": true
   },
   "outputs": [],
   "source": [
    "import pandas as pd\n",
    "import numpy as np\n",
    "import csv"
   ]
  },
  {
   "cell_type": "code",
   "execution_count": 12,
   "metadata": {
    "collapsed": true
   },
   "outputs": [],
   "source": [
    "cur_path = '/Users/sonalichaudhari/Desktop/ADS_Project/Data'"
   ]
  },
  {
   "cell_type": "code",
   "execution_count": 13,
   "metadata": {
    "collapsed": false
   },
   "outputs": [],
   "source": [
    "d1 = pd.read_csv(cur_path+'/On_Time_On_Time_Performance_2017_1/On_Time_On_Time_Performance_2017_1.csv', low_memory=False)\n",
    "d2 = pd.read_csv(cur_path+'/On_Time_On_Time_Performance_2017_2/On_Time_On_Time_Performance_2017_2.csv', low_memory=False)\n",
    "d3 = pd.read_csv(cur_path+'/On_Time_On_Time_Performance_2017_3/On_Time_On_Time_Performance_2017_3.csv', low_memory=False)\n",
    "d4 = pd.read_csv(cur_path+'/On_Time_On_Time_Performance_2017_4/On_Time_On_Time_Performance_2017_4.csv', low_memory=False)\n",
    "d5 = pd.read_csv(cur_path+'/On_Time_On_Time_Performance_2017_5/On_Time_On_Time_Performance_2017_5.csv', low_memory=False)\n",
    "d6 = pd.read_csv(cur_path+'/On_Time_On_Time_Performance_2017_6/On_Time_On_Time_Performance_2017_6.csv', low_memory=False)\n",
    "d7 = pd.read_csv(cur_path+'/On_Time_On_Time_Performance_2017_7/On_Time_On_Time_Performance_2017_7.csv', low_memory=False)\n",
    "d8 = pd.read_csv(cur_path+'/On_Time_On_Time_Performance_2017_8/On_Time_On_Time_Performance_2017_8.csv', low_memory=False)\n",
    "d9 = pd.read_csv(cur_path+'/On_Time_On_Time_Performance_2017_9/On_Time_On_Time_Performance_2017_9.csv', low_memory=False)"
   ]
  },
  {
   "cell_type": "code",
   "execution_count": 14,
   "metadata": {
    "collapsed": false
   },
   "outputs": [],
   "source": [
    "df = pd.concat([d1, d2, d3, d4, d5, d6, d7, d8, d9])  "
   ]
  },
  {
   "cell_type": "code",
   "execution_count": 15,
   "metadata": {
    "collapsed": false
   },
   "outputs": [],
   "source": [
    "df.head()\n",
    "del df['Unnamed: 109']"
   ]
  },
  {
   "cell_type": "code",
   "execution_count": 16,
   "metadata": {
    "collapsed": false
   },
   "outputs": [
    {
     "data": {
      "text/plain": [
       "(4276457, 109)"
      ]
     },
     "execution_count": 16,
     "metadata": {},
     "output_type": "execute_result"
    }
   ],
   "source": [
    "df.shape"
   ]
  },
  {
   "cell_type": "code",
   "execution_count": 17,
   "metadata": {
    "collapsed": false
   },
   "outputs": [
    {
     "data": {
      "text/html": [
       "<div>\n",
       "<table border=\"1\" class=\"dataframe\">\n",
       "  <thead>\n",
       "    <tr style=\"text-align: right;\">\n",
       "      <th></th>\n",
       "      <th>index</th>\n",
       "      <th>Missing_Count</th>\n",
       "      <th>Missing_percent</th>\n",
       "    </tr>\n",
       "  </thead>\n",
       "  <tbody>\n",
       "    <tr>\n",
       "      <th>0</th>\n",
       "      <td>Year</td>\n",
       "      <td>0</td>\n",
       "      <td>0.0</td>\n",
       "    </tr>\n",
       "    <tr>\n",
       "      <th>1</th>\n",
       "      <td>Quarter</td>\n",
       "      <td>0</td>\n",
       "      <td>0.0</td>\n",
       "    </tr>\n",
       "    <tr>\n",
       "      <th>2</th>\n",
       "      <td>Month</td>\n",
       "      <td>0</td>\n",
       "      <td>0.0</td>\n",
       "    </tr>\n",
       "    <tr>\n",
       "      <th>3</th>\n",
       "      <td>DayofMonth</td>\n",
       "      <td>0</td>\n",
       "      <td>0.0</td>\n",
       "    </tr>\n",
       "    <tr>\n",
       "      <th>4</th>\n",
       "      <td>DayOfWeek</td>\n",
       "      <td>0</td>\n",
       "      <td>0.0</td>\n",
       "    </tr>\n",
       "  </tbody>\n",
       "</table>\n",
       "</div>"
      ],
      "text/plain": [
       "        index  Missing_Count  Missing_percent\n",
       "0        Year              0              0.0\n",
       "1     Quarter              0              0.0\n",
       "2       Month              0              0.0\n",
       "3  DayofMonth              0              0.0\n",
       "4   DayOfWeek              0              0.0"
      ]
     },
     "execution_count": 17,
     "metadata": {},
     "output_type": "execute_result"
    }
   ],
   "source": [
    "missing_data = df.isnull().sum().to_frame(name='Missing_Count').reset_index()\n",
    "missing_data['Missing_percent'] = (missing_data['Missing_Count']/df.shape[0])*100\n",
    "missing_data.head()"
   ]
  },
  {
   "cell_type": "code",
   "execution_count": 18,
   "metadata": {
    "collapsed": false
   },
   "outputs": [
    {
     "data": {
      "text/plain": [
       "62"
      ]
     },
     "execution_count": 18,
     "metadata": {},
     "output_type": "execute_result"
    }
   ],
   "source": [
    "missing_data = missing_data.sort_values(by='Missing_percent', axis=0, ascending=True)\n",
    "features = missing_data['index'][(missing_data.Missing_percent<99.38)]\n",
    "len(features)"
   ]
  },
  {
   "cell_type": "code",
   "execution_count": 19,
   "metadata": {
    "collapsed": false
   },
   "outputs": [],
   "source": [
    "d = df[features]"
   ]
  },
  {
   "cell_type": "code",
   "execution_count": null,
   "metadata": {
    "collapsed": true
   },
   "outputs": [],
   "source": [
    "'TailNum'"
   ]
  },
  {
   "cell_type": "code",
   "execution_count": 20,
   "metadata": {
    "collapsed": false
   },
   "outputs": [],
   "source": [
    "# d[['UniqueCarrier','AirlineID','Carrier','TailNum','FlightNum']]\n",
    "# d[['OriginAirportID','OriginAirportSeqID','OriginCityMarketID','Origin','OriginCityName','OriginState','OriginStateName']]\n",
    "# d[['CRSDepTime','DepTime','DepDelayMinutes','DepDel15','CRSArrTime','ArrTime','ArrDelayMinutes','ArrDel15','CRSElapsedTime','ActualElapsedTime']]"
   ]
  },
  {
   "cell_type": "code",
   "execution_count": 21,
   "metadata": {
    "collapsed": false
   },
   "outputs": [],
   "source": [
    "dt = d[['Year','Quarter','Month','DayofMonth','DayOfWeek','FlightDate','UniqueCarrier','AirlineID','Carrier','TailNum','FlightNum','OriginAirportID','Origin','Dest','CRSDepTime','DepTime','DepDelayMinutes','DepDel15','CRSArrTime','ArrTime','ArrDelayMinutes','ArrDel15','CRSElapsedTime','ActualElapsedTime','DestAirportID','OriginCityName','OriginState','OriginStateName','DestCityName','DestState','DestStateName','Cancelled']]"
   ]
  },
  {
   "cell_type": "code",
   "execution_count": 22,
   "metadata": {
    "collapsed": false
   },
   "outputs": [
    {
     "data": {
      "text/plain": [
       "(4276457, 32)"
      ]
     },
     "execution_count": 22,
     "metadata": {},
     "output_type": "execute_result"
    }
   ],
   "source": [
    "dt.shape"
   ]
  },
  {
   "cell_type": "code",
   "execution_count": 23,
   "metadata": {
    "collapsed": false
   },
   "outputs": [
    {
     "data": {
      "text/plain": [
       "Year                     0\n",
       "Quarter                  0\n",
       "Month                    0\n",
       "DayofMonth               0\n",
       "DayOfWeek                0\n",
       "FlightDate               0\n",
       "UniqueCarrier            0\n",
       "AirlineID                0\n",
       "Carrier                  0\n",
       "TailNum              11811\n",
       "FlightNum                0\n",
       "OriginAirportID          0\n",
       "Origin                   0\n",
       "Dest                     0\n",
       "CRSDepTime               0\n",
       "DepTime              70648\n",
       "DepDelayMinutes      70672\n",
       "DepDel15             70672\n",
       "CRSArrTime               0\n",
       "ArrTime              74220\n",
       "ArrDelayMinutes      82860\n",
       "ArrDel15             82860\n",
       "CRSElapsedTime           7\n",
       "ActualElapsedTime    82860\n",
       "DestAirportID            0\n",
       "OriginCityName           0\n",
       "OriginState              0\n",
       "OriginStateName          0\n",
       "DestCityName             0\n",
       "DestState                0\n",
       "DestStateName            0\n",
       "Cancelled                0\n",
       "dtype: int64"
      ]
     },
     "execution_count": 23,
     "metadata": {},
     "output_type": "execute_result"
    }
   ],
   "source": [
    "dt.isnull().sum()"
   ]
  },
  {
   "cell_type": "code",
   "execution_count": 24,
   "metadata": {
    "collapsed": true
   },
   "outputs": [],
   "source": [
    "dt = dt[dt['Cancelled']!=1]"
   ]
  },
  {
   "cell_type": "code",
   "execution_count": 25,
   "metadata": {
    "collapsed": false
   },
   "outputs": [
    {
     "data": {
      "text/plain": [
       "(4203809, 32)"
      ]
     },
     "execution_count": 25,
     "metadata": {},
     "output_type": "execute_result"
    }
   ],
   "source": [
    "dt.shape"
   ]
  },
  {
   "cell_type": "code",
   "execution_count": 33,
   "metadata": {
    "collapsed": false
   },
   "outputs": [
    {
     "data": {
      "text/plain": [
       "Year                 0\n",
       "Quarter              0\n",
       "Month                0\n",
       "DayofMonth           0\n",
       "DayOfWeek            0\n",
       "FlightDate           0\n",
       "UniqueCarrier        0\n",
       "AirlineID            0\n",
       "TailNum              0\n",
       "FlightNum            0\n",
       "OriginAirportID      0\n",
       "Origin               0\n",
       "Dest                 0\n",
       "CRSDepTime           0\n",
       "DepTime              0\n",
       "DepDelayMinutes      0\n",
       "DepDel15             0\n",
       "CRSArrTime           0\n",
       "ArrTime              0\n",
       "ArrDelayMinutes      0\n",
       "ArrDel15             0\n",
       "CRSElapsedTime       0\n",
       "ActualElapsedTime    0\n",
       "DestAirportID        0\n",
       "OriginCityName       0\n",
       "OriginState          0\n",
       "OriginStateName      0\n",
       "DestCityName         0\n",
       "DestState            0\n",
       "DestStateName        0\n",
       "Cancelled            0\n",
       "dtype: int64"
      ]
     },
     "execution_count": 33,
     "metadata": {},
     "output_type": "execute_result"
    }
   ],
   "source": [
    "dt.isnull().sum()"
   ]
  },
  {
   "cell_type": "code",
   "execution_count": 29,
   "metadata": {
    "collapsed": false
   },
   "outputs": [],
   "source": [
    "dt = dt[dt['ArrDelayMinutes'].notnull() & dt['ActualElapsedTime'].notnull() & dt['ArrDelayMinutes'].notnull() & dt['ArrDel15'].notnull()]"
   ]
  },
  {
   "cell_type": "code",
   "execution_count": 30,
   "metadata": {
    "collapsed": true
   },
   "outputs": [],
   "source": [
    "# UniqueCarrier aand Carrier are same data columns\n",
    "del dt['Carrier']"
   ]
  },
  {
   "cell_type": "code",
   "execution_count": 39,
   "metadata": {
    "collapsed": false
   },
   "outputs": [
    {
     "data": {
      "text/plain": [
       "(4193597, 32)"
      ]
     },
     "execution_count": 39,
     "metadata": {},
     "output_type": "execute_result"
    }
   ],
   "source": [
    "dt.shape"
   ]
  },
  {
   "cell_type": "code",
   "execution_count": 32,
   "metadata": {
    "collapsed": false
   },
   "outputs": [],
   "source": [
    "#p = dt[['CRSDepTime','DepTime','DepDelayMinutes','DepDel15','CRSArrTime','ArrTime','ArrDelayMinutes','ArrDel15','CRSElapsedTime','ActualElapsedTime','Cancelled']]"
   ]
  },
  {
   "cell_type": "code",
   "execution_count": 82,
   "metadata": {
    "collapsed": false
   },
   "outputs": [],
   "source": [
    "#p[p['ArrDelayMinutes'].isnull() & p['ActualElapsedTime'].isnull() & p['ArrDelayMinutes'].isnull() & p['ArrDel15'].isnull()]"
   ]
  },
  {
   "cell_type": "code",
   "execution_count": 34,
   "metadata": {
    "collapsed": true
   },
   "outputs": [],
   "source": [
    "dt['Status'] = 0\n",
    "dt.loc[dt.DepDel15==1.0,'Status'] = 1\n",
    "dt.loc[dt.ArrDel15==1.0,'Status'] = 1"
   ]
  },
  {
   "cell_type": "code",
   "execution_count": 35,
   "metadata": {
    "collapsed": true
   },
   "outputs": [],
   "source": [
    "airport = pd.read_csv(cur_path+'/Lookup/AirportID.csv', low_memory=False)\n",
    "carrier = pd.read_csv(cur_path+'/Lookup/UniqueCarrier.csv', low_memory=False)\n",
    "origin = pd.read_csv(cur_path+'/Lookup/Origin.csv', low_memory=False)\n",
    "\n",
    "origin_dict = origin.set_index('Code').T.to_dict('list')\n",
    "airport_dict = origin.set_index('Code').T.to_dict('list')\n",
    "carrier_dict = origin.set_index('Code').T.to_dict('list')"
   ]
  },
  {
   "cell_type": "code",
   "execution_count": 38,
   "metadata": {
    "collapsed": false
   },
   "outputs": [],
   "source": [
    "dt.to_csv(cur_path+'/Data2017.csv', index = False)"
   ]
  },
  {
   "cell_type": "markdown",
   "metadata": {},
   "source": [
    "# END"
   ]
  },
  {
   "cell_type": "code",
   "execution_count": 119,
   "metadata": {
    "collapsed": false
   },
   "outputs": [
    {
     "data": {
      "text/plain": [
       "0         0\n",
       "1         0\n",
       "2         0\n",
       "3         0\n",
       "4         0\n",
       "5         0\n",
       "6         0\n",
       "7         0\n",
       "8         0\n",
       "9         0\n",
       "10        0\n",
       "11        0\n",
       "12        0\n",
       "13        0\n",
       "14        0\n",
       "15        0\n",
       "16        0\n",
       "17        0\n",
       "18        0\n",
       "19        0\n",
       "20        0\n",
       "21        0\n",
       "22        0\n",
       "23        0\n",
       "24        0\n",
       "25        0\n",
       "26        0\n",
       "27        0\n",
       "28        0\n",
       "29        0\n",
       "         ..\n",
       "458697    0\n",
       "458698    4\n",
       "458699    4\n",
       "458700    0\n",
       "458701    0\n",
       "458702    0\n",
       "458703    0\n",
       "458704    0\n",
       "458705    0\n",
       "458706    0\n",
       "458707    0\n",
       "458708    0\n",
       "458709    0\n",
       "458710    0\n",
       "458711    0\n",
       "458712    0\n",
       "458713    0\n",
       "458714    0\n",
       "458715    0\n",
       "458716    0\n",
       "458717    0\n",
       "458718    0\n",
       "458719    0\n",
       "458720    0\n",
       "458721    0\n",
       "458722    0\n",
       "458723    0\n",
       "458724    0\n",
       "458725    0\n",
       "458726    0\n",
       "dtype: int64"
      ]
     },
     "execution_count": 119,
     "metadata": {},
     "output_type": "execute_result"
    }
   ],
   "source": [
    "s.shape[1] - s.count(axis=1)"
   ]
  },
  {
   "cell_type": "code",
   "execution_count": 121,
   "metadata": {
    "collapsed": true
   },
   "outputs": [],
   "source": [
    "d['miss']= d.shape[1] - d.count(axis=1)"
   ]
  },
  {
   "cell_type": "code",
   "execution_count": 123,
   "metadata": {
    "collapsed": false
   },
   "outputs": [
    {
     "data": {
      "text/plain": [
       "(4276457, 64)"
      ]
     },
     "execution_count": 123,
     "metadata": {},
     "output_type": "execute_result"
    }
   ],
   "source": [
    "d.shape"
   ]
  },
  {
   "cell_type": "code",
   "execution_count": 124,
   "metadata": {
    "collapsed": false
   },
   "outputs": [
    {
     "data": {
      "text/html": [
       "<div>\n",
       "<table border=\"1\" class=\"dataframe\">\n",
       "  <thead>\n",
       "    <tr style=\"text-align: right;\">\n",
       "      <th></th>\n",
       "      <th>Year</th>\n",
       "      <th>DestStateFips</th>\n",
       "      <th>DestCityName</th>\n",
       "      <th>DestState</th>\n",
       "      <th>DestStateName</th>\n",
       "      <th>DestCityMarketID</th>\n",
       "      <th>DepTimeBlk</th>\n",
       "      <th>Dest</th>\n",
       "      <th>DestWac</th>\n",
       "      <th>ArrTimeBlk</th>\n",
       "      <th>...</th>\n",
       "      <th>ArrDelay</th>\n",
       "      <th>ArrivalDelayGroups</th>\n",
       "      <th>NASDelay</th>\n",
       "      <th>CarrierDelay</th>\n",
       "      <th>WeatherDelay</th>\n",
       "      <th>SecurityDelay</th>\n",
       "      <th>LateAircraftDelay</th>\n",
       "      <th>CancellationCode</th>\n",
       "      <th>STATUS</th>\n",
       "      <th>miss</th>\n",
       "    </tr>\n",
       "  </thead>\n",
       "  <tbody>\n",
       "    <tr>\n",
       "      <th>0</th>\n",
       "      <td>2017</td>\n",
       "      <td>4</td>\n",
       "      <td>Phoenix, AZ</td>\n",
       "      <td>AZ</td>\n",
       "      <td>Arizona</td>\n",
       "      <td>30466</td>\n",
       "      <td>1600-1659</td>\n",
       "      <td>PHX</td>\n",
       "      <td>81</td>\n",
       "      <td>1800-1859</td>\n",
       "      <td>...</td>\n",
       "      <td>-14.0</td>\n",
       "      <td>-1.0</td>\n",
       "      <td>NaN</td>\n",
       "      <td>NaN</td>\n",
       "      <td>NaN</td>\n",
       "      <td>NaN</td>\n",
       "      <td>NaN</td>\n",
       "      <td>NaN</td>\n",
       "      <td>0</td>\n",
       "      <td>6</td>\n",
       "    </tr>\n",
       "    <tr>\n",
       "      <th>1</th>\n",
       "      <td>2017</td>\n",
       "      <td>4</td>\n",
       "      <td>Phoenix, AZ</td>\n",
       "      <td>AZ</td>\n",
       "      <td>Arizona</td>\n",
       "      <td>30466</td>\n",
       "      <td>1600-1659</td>\n",
       "      <td>PHX</td>\n",
       "      <td>81</td>\n",
       "      <td>1800-1859</td>\n",
       "      <td>...</td>\n",
       "      <td>-35.0</td>\n",
       "      <td>-2.0</td>\n",
       "      <td>NaN</td>\n",
       "      <td>NaN</td>\n",
       "      <td>NaN</td>\n",
       "      <td>NaN</td>\n",
       "      <td>NaN</td>\n",
       "      <td>NaN</td>\n",
       "      <td>0</td>\n",
       "      <td>6</td>\n",
       "    </tr>\n",
       "    <tr>\n",
       "      <th>2</th>\n",
       "      <td>2017</td>\n",
       "      <td>4</td>\n",
       "      <td>Phoenix, AZ</td>\n",
       "      <td>AZ</td>\n",
       "      <td>Arizona</td>\n",
       "      <td>30466</td>\n",
       "      <td>1600-1659</td>\n",
       "      <td>PHX</td>\n",
       "      <td>81</td>\n",
       "      <td>1800-1859</td>\n",
       "      <td>...</td>\n",
       "      <td>-30.0</td>\n",
       "      <td>-2.0</td>\n",
       "      <td>NaN</td>\n",
       "      <td>NaN</td>\n",
       "      <td>NaN</td>\n",
       "      <td>NaN</td>\n",
       "      <td>NaN</td>\n",
       "      <td>NaN</td>\n",
       "      <td>0</td>\n",
       "      <td>6</td>\n",
       "    </tr>\n",
       "    <tr>\n",
       "      <th>3</th>\n",
       "      <td>2017</td>\n",
       "      <td>4</td>\n",
       "      <td>Phoenix, AZ</td>\n",
       "      <td>AZ</td>\n",
       "      <td>Arizona</td>\n",
       "      <td>30466</td>\n",
       "      <td>1600-1659</td>\n",
       "      <td>PHX</td>\n",
       "      <td>81</td>\n",
       "      <td>1800-1859</td>\n",
       "      <td>...</td>\n",
       "      <td>33.0</td>\n",
       "      <td>2.0</td>\n",
       "      <td>0.0</td>\n",
       "      <td>33.0</td>\n",
       "      <td>0.0</td>\n",
       "      <td>0.0</td>\n",
       "      <td>0.0</td>\n",
       "      <td>NaN</td>\n",
       "      <td>1</td>\n",
       "      <td>1</td>\n",
       "    </tr>\n",
       "    <tr>\n",
       "      <th>4</th>\n",
       "      <td>2017</td>\n",
       "      <td>4</td>\n",
       "      <td>Phoenix, AZ</td>\n",
       "      <td>AZ</td>\n",
       "      <td>Arizona</td>\n",
       "      <td>30466</td>\n",
       "      <td>1600-1659</td>\n",
       "      <td>PHX</td>\n",
       "      <td>81</td>\n",
       "      <td>1800-1859</td>\n",
       "      <td>...</td>\n",
       "      <td>2.0</td>\n",
       "      <td>0.0</td>\n",
       "      <td>NaN</td>\n",
       "      <td>NaN</td>\n",
       "      <td>NaN</td>\n",
       "      <td>NaN</td>\n",
       "      <td>NaN</td>\n",
       "      <td>NaN</td>\n",
       "      <td>1</td>\n",
       "      <td>6</td>\n",
       "    </tr>\n",
       "  </tbody>\n",
       "</table>\n",
       "<p>5 rows × 64 columns</p>\n",
       "</div>"
      ],
      "text/plain": [
       "   Year  DestStateFips DestCityName DestState DestStateName  DestCityMarketID  \\\n",
       "0  2017              4  Phoenix, AZ        AZ       Arizona             30466   \n",
       "1  2017              4  Phoenix, AZ        AZ       Arizona             30466   \n",
       "2  2017              4  Phoenix, AZ        AZ       Arizona             30466   \n",
       "3  2017              4  Phoenix, AZ        AZ       Arizona             30466   \n",
       "4  2017              4  Phoenix, AZ        AZ       Arizona             30466   \n",
       "\n",
       "  DepTimeBlk Dest  DestWac ArrTimeBlk  ...   ArrDelay  ArrivalDelayGroups  \\\n",
       "0  1600-1659  PHX       81  1800-1859  ...      -14.0                -1.0   \n",
       "1  1600-1659  PHX       81  1800-1859  ...      -35.0                -2.0   \n",
       "2  1600-1659  PHX       81  1800-1859  ...      -30.0                -2.0   \n",
       "3  1600-1659  PHX       81  1800-1859  ...       33.0                 2.0   \n",
       "4  1600-1659  PHX       81  1800-1859  ...        2.0                 0.0   \n",
       "\n",
       "   NASDelay  CarrierDelay  WeatherDelay  SecurityDelay  LateAircraftDelay  \\\n",
       "0       NaN           NaN           NaN            NaN                NaN   \n",
       "1       NaN           NaN           NaN            NaN                NaN   \n",
       "2       NaN           NaN           NaN            NaN                NaN   \n",
       "3       0.0          33.0           0.0            0.0                0.0   \n",
       "4       NaN           NaN           NaN            NaN                NaN   \n",
       "\n",
       "   CancellationCode  STATUS  miss  \n",
       "0               NaN       0     6  \n",
       "1               NaN       0     6  \n",
       "2               NaN       0     6  \n",
       "3               NaN       1     1  \n",
       "4               NaN       1     6  \n",
       "\n",
       "[5 rows x 64 columns]"
      ]
     },
     "execution_count": 124,
     "metadata": {},
     "output_type": "execute_result"
    }
   ],
   "source": [
    "d.head()"
   ]
  },
  {
   "cell_type": "code",
   "execution_count": 134,
   "metadata": {
    "collapsed": false
   },
   "outputs": [
    {
     "data": {
      "text/html": [
       "<div>\n",
       "<table border=\"1\" class=\"dataframe\">\n",
       "  <thead>\n",
       "    <tr style=\"text-align: right;\">\n",
       "      <th></th>\n",
       "      <th>Year</th>\n",
       "      <th>DestStateFips</th>\n",
       "      <th>DestCityName</th>\n",
       "      <th>DestState</th>\n",
       "      <th>DestStateName</th>\n",
       "      <th>DestCityMarketID</th>\n",
       "      <th>DepTimeBlk</th>\n",
       "      <th>Dest</th>\n",
       "      <th>DestWac</th>\n",
       "      <th>ArrTimeBlk</th>\n",
       "      <th>...</th>\n",
       "      <th>ArrDelay</th>\n",
       "      <th>ArrivalDelayGroups</th>\n",
       "      <th>NASDelay</th>\n",
       "      <th>CarrierDelay</th>\n",
       "      <th>WeatherDelay</th>\n",
       "      <th>SecurityDelay</th>\n",
       "      <th>LateAircraftDelay</th>\n",
       "      <th>CancellationCode</th>\n",
       "      <th>STATUS</th>\n",
       "      <th>miss</th>\n",
       "    </tr>\n",
       "  </thead>\n",
       "  <tbody>\n",
       "  </tbody>\n",
       "</table>\n",
       "<p>0 rows × 64 columns</p>\n",
       "</div>"
      ],
      "text/plain": [
       "Empty DataFrame\n",
       "Columns: [Year, DestStateFips, DestCityName, DestState, DestStateName, DestCityMarketID, DepTimeBlk, Dest, DestWac, ArrTimeBlk, CRSArrTime, Cancelled, Diverted, Flights, DistanceGroup, DestAirportSeqID, OriginWac, CRSDepTime, DestAirportID, Distance, Quarter, AirlineID, Month, Carrier, OriginStateName, OriginAirportID, DayOfWeek, OriginCityMarketID, DayofMonth, OriginAirportSeqID, OriginCityName, Origin, OriginState, FlightNum, UniqueCarrier, OriginStateFips, FlightDate, DivAirportLandings, CRSElapsedTime, TailNum, DepTime, DepDelay, DepDelayMinutes, DepDel15, DepartureDelayGroups, WheelsOff, TaxiOut, WheelsOn, TaxiIn, ArrTime, ArrDel15, ArrDelayMinutes, ActualElapsedTime, AirTime, ArrDelay, ArrivalDelayGroups, NASDelay, CarrierDelay, WeatherDelay, SecurityDelay, LateAircraftDelay, CancellationCode, STATUS, miss]\n",
       "Index: []\n",
       "\n",
       "[0 rows x 64 columns]"
      ]
     },
     "execution_count": 134,
     "metadata": {},
     "output_type": "execute_result"
    }
   ],
   "source": [
    "d[d['miss']>=25]"
   ]
  },
  {
   "cell_type": "code",
   "execution_count": 131,
   "metadata": {
    "collapsed": false
   },
   "outputs": [
    {
     "data": {
      "text/plain": [
       "count    4.276457e+06\n",
       "mean     5.307259e+00\n",
       "std      2.878389e+00\n",
       "min      1.000000e+00\n",
       "25%      6.000000e+00\n",
       "50%      6.000000e+00\n",
       "75%      6.000000e+00\n",
       "max      2.200000e+01\n",
       "Name: miss, dtype: float64"
      ]
     },
     "execution_count": 131,
     "metadata": {},
     "output_type": "execute_result"
    }
   ],
   "source": [
    "d['miss'].describe()"
   ]
  },
  {
   "cell_type": "code",
   "execution_count": 141,
   "metadata": {
    "collapsed": false
   },
   "outputs": [
    {
     "data": {
      "text/plain": [
       "array([  0.,   1.,  nan])"
      ]
     },
     "execution_count": 141,
     "metadata": {},
     "output_type": "execute_result"
    }
   ],
   "source": [
    "d.ArrDel15.unique()"
   ]
  },
  {
   "cell_type": "code",
   "execution_count": 143,
   "metadata": {
    "collapsed": false
   },
   "outputs": [],
   "source": [
    "s = d[['ArrDel15','Cancelled']][d.ArrDel15.isnull()]"
   ]
  },
  {
   "cell_type": "code",
   "execution_count": 144,
   "metadata": {
    "collapsed": false
   },
   "outputs": [
    {
     "data": {
      "text/plain": [
       "0"
      ]
     },
     "execution_count": 144,
     "metadata": {},
     "output_type": "execute_result"
    }
   ],
   "source": [
    "s.Cancelled.isnull().sum()"
   ]
  },
  {
   "cell_type": "code",
   "execution_count": 146,
   "metadata": {
    "collapsed": false
   },
   "outputs": [
    {
     "data": {
      "text/plain": [
       "0"
      ]
     },
     "execution_count": 146,
     "metadata": {},
     "output_type": "execute_result"
    }
   ],
   "source": [
    "d['OriginAirportID'].isnull().sum()"
   ]
  },
  {
   "cell_type": "code",
   "execution_count": 147,
   "metadata": {
    "collapsed": false
   },
   "outputs": [
    {
     "data": {
      "text/plain": [
       "Year                          0\n",
       "DestStateFips                 0\n",
       "DestCityName                  0\n",
       "DestState                     0\n",
       "DestStateName                 0\n",
       "DestCityMarketID              0\n",
       "DepTimeBlk                    0\n",
       "Dest                          0\n",
       "DestWac                       0\n",
       "ArrTimeBlk                    0\n",
       "CRSArrTime                    0\n",
       "Cancelled                     0\n",
       "Diverted                      0\n",
       "Flights                       0\n",
       "DistanceGroup                 0\n",
       "DestAirportSeqID              0\n",
       "OriginWac                     0\n",
       "CRSDepTime                    0\n",
       "DestAirportID                 0\n",
       "Distance                      0\n",
       "Quarter                       0\n",
       "AirlineID                     0\n",
       "Month                         0\n",
       "Carrier                       0\n",
       "OriginStateName               0\n",
       "OriginAirportID               0\n",
       "DayOfWeek                     0\n",
       "OriginCityMarketID            0\n",
       "DayofMonth                    0\n",
       "OriginAirportSeqID            0\n",
       "                         ...   \n",
       "UniqueCarrier                 0\n",
       "OriginStateFips               0\n",
       "FlightDate                    0\n",
       "DivAirportLandings            2\n",
       "CRSElapsedTime                7\n",
       "TailNum                   11811\n",
       "DepTime                   70648\n",
       "DepDelay                  70672\n",
       "DepDelayMinutes           70672\n",
       "DepDel15                  70672\n",
       "DepartureDelayGroups      70672\n",
       "WheelsOff                 72211\n",
       "TaxiOut                   72214\n",
       "WheelsOn                  74220\n",
       "TaxiIn                    74220\n",
       "ArrTime                   74220\n",
       "ArrDel15                  82860\n",
       "ArrDelayMinutes           82860\n",
       "ActualElapsedTime         82860\n",
       "AirTime                   82860\n",
       "ArrDelay                  82860\n",
       "ArrivalDelayGroups        82860\n",
       "NASDelay                3452611\n",
       "CarrierDelay            3452611\n",
       "WeatherDelay            3452611\n",
       "SecurityDelay           3452611\n",
       "LateAircraftDelay       3452611\n",
       "CancellationCode        4203809\n",
       "STATUS                        0\n",
       "miss                          0\n",
       "dtype: int64"
      ]
     },
     "execution_count": 147,
     "metadata": {},
     "output_type": "execute_result"
    }
   ],
   "source": [
    "d.isnull().sum()"
   ]
  },
  {
   "cell_type": "code",
   "execution_count": null,
   "metadata": {
    "collapsed": true
   },
   "outputs": [],
   "source": []
  }
 ],
 "metadata": {
  "anaconda-cloud": {},
  "kernelspec": {
   "display_name": "Python [conda root]",
   "language": "python",
   "name": "conda-root-py"
  },
  "language_info": {
   "codemirror_mode": {
    "name": "ipython",
    "version": 3
   },
   "file_extension": ".py",
   "mimetype": "text/x-python",
   "name": "python",
   "nbconvert_exporter": "python",
   "pygments_lexer": "ipython3",
   "version": "3.5.2"
  }
 },
 "nbformat": 4,
 "nbformat_minor": 2
}
