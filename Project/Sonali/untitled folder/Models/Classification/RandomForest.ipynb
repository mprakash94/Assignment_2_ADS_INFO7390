{
 "cells": [
  {
   "cell_type": "markdown",
   "metadata": {},
   "source": [
    "# RandomForest"
   ]
  },
  {
   "cell_type": "code",
   "execution_count": 3,
   "metadata": {
    "collapsed": true
   },
   "outputs": [],
   "source": [
    "import warnings\n",
    "warnings.filterwarnings('ignore')\n",
    "import pandas as pd\n",
    "import numpy as np\n",
    "import csv"
   ]
  },
  {
   "cell_type": "code",
   "execution_count": 4,
   "metadata": {
    "collapsed": false
   },
   "outputs": [],
   "source": [
    "cur_path = '/Users/sonalichaudhari/Desktop/ADS_Project/Data'\n",
    "df = pd.read_csv(open(cur_path+'/Final_Data.csv','rU'), encoding='utf-8')"
   ]
  },
  {
   "cell_type": "code",
   "execution_count": 5,
   "metadata": {
    "collapsed": false
   },
   "outputs": [
    {
     "data": {
      "text/plain": [
       "(8006399, 22)"
      ]
     },
     "execution_count": 5,
     "metadata": {},
     "output_type": "execute_result"
    }
   ],
   "source": [
    "df.shape"
   ]
  },
  {
   "cell_type": "code",
   "execution_count": 6,
   "metadata": {
    "collapsed": false
   },
   "outputs": [
    {
     "data": {
      "text/plain": [
       "FlightNum              int64\n",
       "Year                   int64\n",
       "Day                    int64\n",
       "Month                  int64\n",
       "Week                   int64\n",
       "Origin                object\n",
       "Dest                  object\n",
       "UniqueCarrier         object\n",
       "ArrTime                int64\n",
       "DepTime                int64\n",
       "CRSArrTime             int64\n",
       "CRSDepTime             int64\n",
       "CRSElapsedTime         int64\n",
       "ActualElapsedTime      int64\n",
       "ArrDelayMinutes        int64\n",
       "DepDelayMinutes        int64\n",
       "OriginCityName        object\n",
       "DestCityName          object\n",
       "Flight_Status          int64\n",
       "OriginVisibility     float64\n",
       "OriginWind           float64\n",
       "OriginPrecip         float64\n",
       "dtype: object"
      ]
     },
     "execution_count": 6,
     "metadata": {},
     "output_type": "execute_result"
    }
   ],
   "source": [
    "df.dtypes"
   ]
  },
  {
   "cell_type": "code",
   "execution_count": 7,
   "metadata": {
    "collapsed": true
   },
   "outputs": [],
   "source": [
    "# cols = df.columns.tolist()\n",
    "# p = ['TaxiIn','Flight_Status','TaxiOut','WheelsOff','WheelsOn','FlightNum','Origin','Dest',\n",
    "#      'Distance','DayOfWeek','Status','Quarter','OriginStateName','DestStateName',\n",
    "#      'ArrivalDelayGroups','DepartureDelayGroups','UniqueCarrier','AirlineID']\n",
    "# for i in p:\n",
    "#     if i in cols:\n",
    "#         cols.remove(i)"
   ]
  },
  {
   "cell_type": "code",
   "execution_count": 8,
   "metadata": {
    "collapsed": true
   },
   "outputs": [],
   "source": [
    "cols = df.columns.tolist()\n",
    "cols.remove('Flight_Status')"
   ]
  },
  {
   "cell_type": "markdown",
   "metadata": {},
   "source": [
    "### Cross Validation for splitting the data in train and test sets"
   ]
  },
  {
   "cell_type": "code",
   "execution_count": 9,
   "metadata": {
    "collapsed": false
   },
   "outputs": [],
   "source": [
    "X= df[cols]\n",
    "y = df['Flight_Status']"
   ]
  },
  {
   "cell_type": "code",
   "execution_count": 10,
   "metadata": {
    "collapsed": false
   },
   "outputs": [],
   "source": [
    "from sklearn import preprocessing, cross_validation\n",
    "\n",
    "y = np.ravel(y)\n",
    "# Splitting the data\n",
    "X_train, X_test, y_train, y_test =  cross_validation.train_test_split(X, y,test_size=0.30,random_state=0)"
   ]
  },
  {
   "cell_type": "code",
   "execution_count": 11,
   "metadata": {
    "collapsed": false
   },
   "outputs": [],
   "source": [
    "from sklearn import preprocessing\n",
    "label_encoder = preprocessing.LabelEncoder()\n",
    "# Converting the categorical data to numeric \n",
    "\n",
    "X_train['carrier'] = label_encoder.fit_transform(X_train['UniqueCarrier'])\n",
    "X_train['origin'] = label_encoder.fit_transform(X_train['Origin'])\n",
    "X_train['dest'] = label_encoder.fit_transform(X_train['Dest'])\n",
    "X_train['ori_city'] = label_encoder.fit_transform(X_train['OriginCityName'])\n",
    "X_train['dest_city'] = label_encoder.fit_transform(X_train['DestCityName'])\n",
    "\n",
    "X_test['carrier'] = label_encoder.fit_transform(X_test['UniqueCarrier'])\n",
    "X_test['origin'] = label_encoder.fit_transform(X_test['Origin'])\n",
    "X_test['dest'] = label_encoder.fit_transform(X_test['Dest'])\n",
    "X_test['ori_city'] = label_encoder.fit_transform(X_test['OriginCityName'])\n",
    "X_test['dest_city'] = label_encoder.fit_transform(X_test['DestCityName'])"
   ]
  },
  {
   "cell_type": "code",
   "execution_count": 12,
   "metadata": {
    "collapsed": true
   },
   "outputs": [],
   "source": [
    "# Getting only the numerical columns\n",
    "\n",
    "X_train = X_train._get_numeric_data()\n",
    "X_test = X_test._get_numeric_data()"
   ]
  },
  {
   "cell_type": "code",
   "execution_count": 11,
   "metadata": {
    "collapsed": false
   },
   "outputs": [
    {
     "data": {
      "text/html": [
       "<div>\n",
       "<table border=\"1\" class=\"dataframe\">\n",
       "  <thead>\n",
       "    <tr style=\"text-align: right;\">\n",
       "      <th></th>\n",
       "      <th>FlightNum</th>\n",
       "      <th>Year</th>\n",
       "      <th>Day</th>\n",
       "      <th>Month</th>\n",
       "      <th>Week</th>\n",
       "      <th>ArrTime</th>\n",
       "      <th>DepTime</th>\n",
       "      <th>CRSArrTime</th>\n",
       "      <th>CRSDepTime</th>\n",
       "      <th>CRSElapsedTime</th>\n",
       "      <th>...</th>\n",
       "      <th>ArrDelayMinutes</th>\n",
       "      <th>DepDelayMinutes</th>\n",
       "      <th>OriginVisibility</th>\n",
       "      <th>OriginWind</th>\n",
       "      <th>OriginPrecip</th>\n",
       "      <th>carrier</th>\n",
       "      <th>origin</th>\n",
       "      <th>dest</th>\n",
       "      <th>ori_city</th>\n",
       "      <th>dest_city</th>\n",
       "    </tr>\n",
       "  </thead>\n",
       "  <tbody>\n",
       "    <tr>\n",
       "      <th>5735510</th>\n",
       "      <td>1685</td>\n",
       "      <td>2017</td>\n",
       "      <td>25</td>\n",
       "      <td>4</td>\n",
       "      <td>2</td>\n",
       "      <td>1851</td>\n",
       "      <td>1727</td>\n",
       "      <td>1905</td>\n",
       "      <td>1730</td>\n",
       "      <td>95</td>\n",
       "      <td>...</td>\n",
       "      <td>0</td>\n",
       "      <td>0</td>\n",
       "      <td>10.0</td>\n",
       "      <td>9.0</td>\n",
       "      <td>0.0</td>\n",
       "      <td>3</td>\n",
       "      <td>16</td>\n",
       "      <td>185</td>\n",
       "      <td>14</td>\n",
       "      <td>178</td>\n",
       "    </tr>\n",
       "    <tr>\n",
       "      <th>3878461</th>\n",
       "      <td>1720</td>\n",
       "      <td>2016</td>\n",
       "      <td>16</td>\n",
       "      <td>11</td>\n",
       "      <td>3</td>\n",
       "      <td>1053</td>\n",
       "      <td>939</td>\n",
       "      <td>1041</td>\n",
       "      <td>937</td>\n",
       "      <td>124</td>\n",
       "      <td>...</td>\n",
       "      <td>12</td>\n",
       "      <td>2</td>\n",
       "      <td>10.0</td>\n",
       "      <td>7.0</td>\n",
       "      <td>0.0</td>\n",
       "      <td>3</td>\n",
       "      <td>16</td>\n",
       "      <td>171</td>\n",
       "      <td>14</td>\n",
       "      <td>147</td>\n",
       "    </tr>\n",
       "    <tr>\n",
       "      <th>3795517</th>\n",
       "      <td>3013</td>\n",
       "      <td>2016</td>\n",
       "      <td>22</td>\n",
       "      <td>10</td>\n",
       "      <td>6</td>\n",
       "      <td>1301</td>\n",
       "      <td>1131</td>\n",
       "      <td>1323</td>\n",
       "      <td>1138</td>\n",
       "      <td>105</td>\n",
       "      <td>...</td>\n",
       "      <td>0</td>\n",
       "      <td>0</td>\n",
       "      <td>6.0</td>\n",
       "      <td>7.0</td>\n",
       "      <td>0.0</td>\n",
       "      <td>8</td>\n",
       "      <td>250</td>\n",
       "      <td>138</td>\n",
       "      <td>241</td>\n",
       "      <td>144</td>\n",
       "    </tr>\n",
       "    <tr>\n",
       "      <th>2166340</th>\n",
       "      <td>1483</td>\n",
       "      <td>2016</td>\n",
       "      <td>2</td>\n",
       "      <td>6</td>\n",
       "      <td>4</td>\n",
       "      <td>918</td>\n",
       "      <td>603</td>\n",
       "      <td>912</td>\n",
       "      <td>600</td>\n",
       "      <td>372</td>\n",
       "      <td>...</td>\n",
       "      <td>6</td>\n",
       "      <td>3</td>\n",
       "      <td>10.0</td>\n",
       "      <td>7.0</td>\n",
       "      <td>0.0</td>\n",
       "      <td>9</td>\n",
       "      <td>81</td>\n",
       "      <td>227</td>\n",
       "      <td>173</td>\n",
       "      <td>215</td>\n",
       "    </tr>\n",
       "    <tr>\n",
       "      <th>7992256</th>\n",
       "      <td>577</td>\n",
       "      <td>2017</td>\n",
       "      <td>3</td>\n",
       "      <td>9</td>\n",
       "      <td>7</td>\n",
       "      <td>1117</td>\n",
       "      <td>841</td>\n",
       "      <td>1149</td>\n",
       "      <td>851</td>\n",
       "      <td>358</td>\n",
       "      <td>...</td>\n",
       "      <td>0</td>\n",
       "      <td>0</td>\n",
       "      <td>10.0</td>\n",
       "      <td>5.0</td>\n",
       "      <td>0.0</td>\n",
       "      <td>2</td>\n",
       "      <td>87</td>\n",
       "      <td>227</td>\n",
       "      <td>81</td>\n",
       "      <td>215</td>\n",
       "    </tr>\n",
       "  </tbody>\n",
       "</table>\n",
       "<p>5 rows × 21 columns</p>\n",
       "</div>"
      ],
      "text/plain": [
       "         FlightNum  Year  Day  Month  Week  ArrTime  DepTime  CRSArrTime  \\\n",
       "5735510       1685  2017   25      4     2     1851     1727        1905   \n",
       "3878461       1720  2016   16     11     3     1053      939        1041   \n",
       "3795517       3013  2016   22     10     6     1301     1131        1323   \n",
       "2166340       1483  2016    2      6     4      918      603         912   \n",
       "7992256        577  2017    3      9     7     1117      841        1149   \n",
       "\n",
       "         CRSDepTime  CRSElapsedTime    ...      ArrDelayMinutes  \\\n",
       "5735510        1730              95    ...                    0   \n",
       "3878461         937             124    ...                   12   \n",
       "3795517        1138             105    ...                    0   \n",
       "2166340         600             372    ...                    6   \n",
       "7992256         851             358    ...                    0   \n",
       "\n",
       "         DepDelayMinutes  OriginVisibility  OriginWind  OriginPrecip  carrier  \\\n",
       "5735510                0              10.0         9.0           0.0        3   \n",
       "3878461                2              10.0         7.0           0.0        3   \n",
       "3795517                0               6.0         7.0           0.0        8   \n",
       "2166340                3              10.0         7.0           0.0        9   \n",
       "7992256                0              10.0         5.0           0.0        2   \n",
       "\n",
       "         origin  dest  ori_city  dest_city  \n",
       "5735510      16   185        14        178  \n",
       "3878461      16   171        14        147  \n",
       "3795517     250   138       241        144  \n",
       "2166340      81   227       173        215  \n",
       "7992256      87   227        81        215  \n",
       "\n",
       "[5 rows x 21 columns]"
      ]
     },
     "execution_count": 11,
     "metadata": {},
     "output_type": "execute_result"
    }
   ],
   "source": [
    "X_train.head()"
   ]
  },
  {
   "cell_type": "code",
   "execution_count": 33,
   "metadata": {
    "collapsed": false
   },
   "outputs": [],
   "source": [
    "# Creating the model\n",
    "from sklearn.ensemble import RandomForestClassifier\n",
    "\n",
    "model = RandomForestClassifier(max_depth =15,random_state=0)\n",
    "model = model.fit(X_train, y_train)"
   ]
  },
  {
   "cell_type": "code",
   "execution_count": 34,
   "metadata": {
    "collapsed": false
   },
   "outputs": [
    {
     "name": "stdout",
     "output_type": "stream",
     "text": [
      "1.0\n"
     ]
    }
   ],
   "source": [
    "# Caluculating the accuracy of the model\n",
    "\n",
    "accuracy = model.score(X_train, y_train)\n",
    "print(accuracy)"
   ]
  },
  {
   "cell_type": "code",
   "execution_count": 35,
   "metadata": {
    "collapsed": false
   },
   "outputs": [
    {
     "data": {
      "text/plain": [
       "array([0, 1, 0, ..., 0, 0, 0])"
      ]
     },
     "execution_count": 35,
     "metadata": {},
     "output_type": "execute_result"
    }
   ],
   "source": [
    "# Run the model on the test set\n",
    "y_pred = model.predict(X_test)\n",
    "y_pred"
   ]
  },
  {
   "cell_type": "code",
   "execution_count": 36,
   "metadata": {
    "collapsed": false
   },
   "outputs": [
    {
     "name": "stdout",
     "output_type": "stream",
     "text": [
      "[[1868976       0]\n",
      " [      0  532944]]\n"
     ]
    }
   ],
   "source": [
    "# Generating Confusion Matrix\n",
    "\n",
    "from sklearn.metrics import confusion_matrix\n",
    "cm = confusion_matrix(y_test, y_pred)\n",
    "print(cm)"
   ]
  },
  {
   "cell_type": "code",
   "execution_count": 32,
   "metadata": {
    "collapsed": false
   },
   "outputs": [
    {
     "data": {
      "image/png": "[encoded data removed]",
      "text/plain": [
       "<matplotlib.figure.Figure at 0x1170091d0>"
      ]
     },
     "metadata": {},
     "output_type": "display_data"
    }
   ],
   "source": [
    "# ROC\n",
    "\n",
    "import matplotlib.pyplot as plt\n",
    "from sklearn.metrics import roc_curve\n",
    "\n",
    "preds = model.predict_proba(X_test)[:,1]\n",
    "fpr, tpr, _ = roc_curve(y_test, preds)\n",
    "plt.figure()\n",
    "plt.plot(fpr, tpr, label='ROC curve')\n",
    "plt.plot([0, 1], [0, 1], 'k--')\n",
    "plt.xlim([0.0, 1.0])\n",
    "plt.ylim([0.0, 1.05])\n",
    "plt.xlabel('1-Specificity')\n",
    "plt.ylabel('Sensitivity')\n",
    "plt.title('ROC curve')\n",
    "plt.legend(loc=\"lower right\")\n",
    "plt.show()"
   ]
  },
  {
   "cell_type": "code",
   "execution_count": 26,
   "metadata": {
    "collapsed": true
   },
   "outputs": [],
   "source": [
    "# Predict the values for test and train using the model\n",
    "y_test_predicted = model.predict(X_test)\n",
    "y_train_predicted= model.predict(X_train)"
   ]
  },
  {
   "cell_type": "code",
   "execution_count": 27,
   "metadata": {
    "collapsed": false
   },
   "outputs": [
    {
     "name": "stdout",
     "output_type": "stream",
     "text": [
      "MAE_train: 0.0610624109752\n",
      "MAE_test: 0.0613055389022\n",
      "RMS_train: 0.0610624109752\n",
      "RMS_test: 0.0613055389022\n"
     ]
    }
   ],
   "source": [
    "# Caluclate the rms and mae values\n",
    "from sklearn.metrics import mean_squared_error, mean_absolute_error\n",
    "\n",
    "mae_train = mean_absolute_error(y_train, y_train_predicted)\n",
    "mae_test = mean_absolute_error(y_test, y_test_predicted)\n",
    "rms_train = mean_squared_error(y_train, y_train_predicted)\n",
    "rms_test = mean_squared_error(y_test, y_test_predicted)\n",
    "print('MAE_train:' ,mae_train)\n",
    "print('MAE_test:',mae_test)\n",
    "print('RMS_train:',rms_train)\n",
    "print('RMS_test:',rms_test)"
   ]
  },
  {
   "cell_type": "markdown",
   "metadata": {
    "collapsed": true
   },
   "source": [
    "# TRIALS"
   ]
  },
  {
   "cell_type": "markdown",
   "metadata": {},
   "source": [
    "# 1"
   ]
  },
  {
   "cell_type": "code",
   "execution_count": 13,
   "metadata": {
    "collapsed": false
   },
   "outputs": [
    {
     "name": "stdout",
     "output_type": "stream",
     "text": [
      "Accuracy:  0.966681648731\n",
      "[[1868976       0]\n",
      " [  80112  452832]]\n",
      "MAE_train: 0.0333183512687\n",
      "MAE_test: 0.0333533173461\n",
      "RMS_train: 0.0333183512687\n",
      "RMS_test: 0.0333533173461\n"
     ]
    }
   ],
   "source": [
    "# Creating the model\n",
    "from sklearn.ensemble import RandomForestClassifier\n",
    "\n",
    "model1 = RandomForestClassifier(max_depth =5,random_state=0)\n",
    "model1 = model1.fit(X_train, y_train)\n",
    "\n",
    "accuracy = model1.score(X_train, y_train)\n",
    "print('Accuracy: ',accuracy)\n",
    "\n",
    "# Run the model on the test set\n",
    "y_pred = model1.predict(X_test)\n",
    "from sklearn.metrics import confusion_matrix\n",
    "cm = confusion_matrix(y_test, y_pred)\n",
    "print(cm)\n",
    "\n",
    "# Caluclate the rms and mae values\n",
    "from sklearn.metrics import mean_squared_error, mean_absolute_error\n",
    "y_test_predicted = model1.predict(X_test)\n",
    "y_train_predicted= model1.predict(X_train)\n",
    "mae_train = mean_absolute_error(y_train, y_train_predicted)\n",
    "mae_test = mean_absolute_error(y_test, y_test_predicted)\n",
    "rms_train = mean_squared_error(y_train, y_train_predicted)\n",
    "rms_test = mean_squared_error(y_test, y_test_predicted)\n",
    "print('MAE_train:' ,mae_train)\n",
    "print('MAE_test:',mae_test)\n",
    "print('RMS_train:',rms_train)\n",
    "print('RMS_test:',rms_test)"
   ]
  },
  {
   "cell_type": "markdown",
   "metadata": {
    "collapsed": false
   },
   "source": [
    "# 2"
   ]
  },
  {
   "cell_type": "code",
   "execution_count": 14,
   "metadata": {
    "collapsed": false
   },
   "outputs": [
    {
     "name": "stdout",
     "output_type": "stream",
     "text": [
      "Accuracy:  0.999994290281\n",
      "[[1868976       0]\n",
      " [     15  532929]]\n",
      "MAE_train: 5.70971895871e-06\n",
      "MAE_test: 6.2450039968e-06\n",
      "RMS_train: 5.70971895871e-06\n",
      "RMS_test: 6.2450039968e-06\n"
     ]
    }
   ],
   "source": [
    "# Creating the model\n",
    "from sklearn.ensemble import RandomForestClassifier\n",
    "\n",
    "model2 = RandomForestClassifier(max_depth =10,random_state=0)\n",
    "model2 = model2.fit(X_train, y_train)\n",
    "\n",
    "accuracy = model2.score(X_train, y_train)\n",
    "print('Accuracy: ',accuracy)\n",
    "\n",
    "# Run the model on the test set\n",
    "y_pred = model2.predict(X_test)\n",
    "from sklearn.metrics import confusion_matrix\n",
    "cm = confusion_matrix(y_test, y_pred)\n",
    "print(cm)\n",
    "\n",
    "# Caluclate the rms and mae values\n",
    "from sklearn.metrics import mean_squared_error, mean_absolute_error\n",
    "y_test_predicted = model2.predict(X_test)\n",
    "y_train_predicted= model2.predict(X_train)\n",
    "mae_train = mean_absolute_error(y_train, y_train_predicted)\n",
    "mae_test = mean_absolute_error(y_test, y_test_predicted)\n",
    "rms_train = mean_squared_error(y_train, y_train_predicted)\n",
    "rms_test = mean_squared_error(y_test, y_test_predicted)\n",
    "print('MAE_train:' ,mae_train)\n",
    "print('MAE_test:',mae_test)\n",
    "print('RMS_train:',rms_train)\n",
    "print('RMS_test:',rms_test)"
   ]
  },
  {
   "cell_type": "code",
   "execution_count": null,
   "metadata": {
    "collapsed": true
   },
   "outputs": [],
   "source": []
  }
 ],
 "metadata": {
  "anaconda-cloud": {},
  "kernelspec": {
   "display_name": "Python [conda root]",
   "language": "python",
   "name": "conda-root-py"
  },
  "language_info": {
   "codemirror_mode": {
    "name": "ipython",
    "version": 3
   },
   "file_extension": ".py",
   "mimetype": "text/x-python",
   "name": "python",
   "nbconvert_exporter": "python",
   "pygments_lexer": "ipython3",
   "version": "3.5.2"
  }
 },
 "nbformat": 4,
 "nbformat_minor": 2
}
