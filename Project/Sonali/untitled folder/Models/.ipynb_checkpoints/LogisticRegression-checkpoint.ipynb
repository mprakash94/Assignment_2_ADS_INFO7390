{
 "cells": [
  {
   "cell_type": "markdown",
   "metadata": {},
   "source": [
    "# LogisticRegression"
   ]
  },
  {
   "cell_type": "code",
   "execution_count": 1,
   "metadata": {
    "collapsed": true
   },
   "outputs": [],
   "source": [
    "import warnings\n",
    "warnings.filterwarnings('ignore')"
   ]
  },
  {
   "cell_type": "code",
   "execution_count": 2,
   "metadata": {
    "collapsed": true
   },
   "outputs": [],
   "source": [
    "import pandas as pd\n",
    "import numpy as np\n",
    "import csv"
   ]
  },
  {
   "cell_type": "code",
   "execution_count": 3,
   "metadata": {
    "collapsed": false
   },
   "outputs": [],
   "source": [
    "cur_path = '/Users/sonalichaudhari/Desktop/ADS_Project/Data'\n",
    "df = pd.read_csv(open(cur_path+'/CombinedFile.csv','rU'), encoding='utf-8')"
   ]
  },
  {
   "cell_type": "code",
   "execution_count": 4,
   "metadata": {
    "collapsed": false
   },
   "outputs": [],
   "source": [
    "# d1 = pd.read_csv(cur_path+'/Data2016_Cleaned.csv', low_memory=False)\n",
    "# d2 = pd.read_csv(cur_path+'/Data2017_Cleaned.csv', low_memory=False)\n",
    "\n",
    "# df = pd.concat([d1,d2])"
   ]
  },
  {
   "cell_type": "code",
   "execution_count": 6,
   "metadata": {
    "collapsed": false
   },
   "outputs": [
    {
     "data": {
      "text/plain": [
       "36"
      ]
     },
     "execution_count": 6,
     "metadata": {},
     "output_type": "execute_result"
    }
   ],
   "source": [
    "len(df.columns)"
   ]
  },
  {
   "cell_type": "code",
   "execution_count": 20,
   "metadata": {
    "collapsed": false
   },
   "outputs": [
    {
     "data": {
      "text/plain": [
       "(8058380, 36)"
      ]
     },
     "execution_count": 20,
     "metadata": {},
     "output_type": "execute_result"
    }
   ],
   "source": [
    "df.shape"
   ]
  },
  {
   "cell_type": "code",
   "execution_count": 21,
   "metadata": {
    "collapsed": false
   },
   "outputs": [
    {
     "data": {
      "text/plain": [
       "Index(['Year', 'Dest', 'DestCityName', 'DestStateName', 'CRSDepTime',\n",
       "       'CRSArrTime', 'DestAirportID', 'Distance', 'OriginStateName', 'Month',\n",
       "       'DayofMonth', 'DayOfWeek', 'UniqueCarrier', 'AirlineID', 'Quarter',\n",
       "       'Origin', 'OriginCityName', 'FlightNum', 'OriginAirportID',\n",
       "       'CRSElapsedTime', 'DepTime', 'DepDelayMinutes', 'DepartureDelayGroups',\n",
       "       'WheelsOff', 'TaxiOut', 'TaxiIn', 'WheelsOn', 'ArrTime',\n",
       "       'ArrivalDelayGroups', 'ActualElapsedTime', 'ArrDelayMinutes',\n",
       "       'Flight_Status', 'Status', 'OriginVisibility', 'OriginWind',\n",
       "       'OriginPrecip'],\n",
       "      dtype='object')"
      ]
     },
     "execution_count": 21,
     "metadata": {},
     "output_type": "execute_result"
    }
   ],
   "source": [
    "df.columns"
   ]
  },
  {
   "cell_type": "markdown",
   "metadata": {},
   "source": [
    "### Cross Validation for splitting the data in train and test sets"
   ]
  },
  {
   "cell_type": "code",
   "execution_count": 56,
   "metadata": {
    "collapsed": true
   },
   "outputs": [],
   "source": [
    "cols = df.columns.tolist()\n",
    "p = ['TaxiIn','Flight_Status','TaxiOut','WheelsOff','WheelsOn','FlightNum','Origin','Dest',\n",
    "     'Distance','DayOfWeek','Status','Quarter',\n",
    "     'ArrivalDelayGroups','DepartureDelayGroups','UniqueCarrier']\n",
    "for i in p:\n",
    "    if i in cols:\n",
    "        cols.remove(i)"
   ]
  },
  {
   "cell_type": "code",
   "execution_count": 57,
   "metadata": {
    "collapsed": false
   },
   "outputs": [
    {
     "data": {
      "text/plain": [
       "21"
      ]
     },
     "execution_count": 57,
     "metadata": {},
     "output_type": "execute_result"
    }
   ],
   "source": [
    "len(cols)"
   ]
  },
  {
   "cell_type": "code",
   "execution_count": 58,
   "metadata": {
    "collapsed": false
   },
   "outputs": [
    {
     "data": {
      "text/plain": [
       "15"
      ]
     },
     "execution_count": 58,
     "metadata": {},
     "output_type": "execute_result"
    }
   ],
   "source": [
    "len(p)"
   ]
  },
  {
   "cell_type": "code",
   "execution_count": 59,
   "metadata": {
    "collapsed": false
   },
   "outputs": [],
   "source": [
    "#df[['ArrDelayMinutes','DepDelayMinutes','Flight_Status']]"
   ]
  },
  {
   "cell_type": "code",
   "execution_count": 64,
   "metadata": {
    "collapsed": false
   },
   "outputs": [],
   "source": [
    "X= df[cols]"
   ]
  },
  {
   "cell_type": "code",
   "execution_count": 65,
   "metadata": {
    "collapsed": true
   },
   "outputs": [],
   "source": [
    "y = df['Flight_Status']"
   ]
  },
  {
   "cell_type": "code",
   "execution_count": 66,
   "metadata": {
    "collapsed": false
   },
   "outputs": [],
   "source": [
    "# import statsmodels.api as sm\n",
    "# from statsmodels.formula.api import logit, probit, poisson, ols\n",
    "# logit = sm.Logit(df['Status'], df[c])\n",
    "# mod = logit.fit()\n",
    "# print(mod.summary())"
   ]
  },
  {
   "cell_type": "code",
   "execution_count": 67,
   "metadata": {
    "collapsed": false
   },
   "outputs": [
    {
     "data": {
      "text/plain": [
       "array([[2016, 'DTW', 'Detroit, MI', ..., 9.0, 6.0, 0.0],\n",
       "       [2016, 'DTW', 'Detroit, MI', ..., 10.0, 19.0, 0.0],\n",
       "       [2016, 'DTW', 'Detroit, MI', ..., 10.0, 9.0, 0.0],\n",
       "       ..., \n",
       "       [2017, 'FLL', 'Fort Lauderdale, FL', ..., 10.0, 2.0, 0.08],\n",
       "       [2017, 'JAX', 'Jacksonville, FL', ..., 10.0, 5.0, 0.0],\n",
       "       [2017, 'BOS', 'Boston, MA', ..., 10.0, 6.0, 0.0]], dtype=object)"
      ]
     },
     "execution_count": 67,
     "metadata": {},
     "output_type": "execute_result"
    }
   ],
   "source": [
    "np.asarray(df)"
   ]
  },
  {
   "cell_type": "code",
   "execution_count": 68,
   "metadata": {
    "collapsed": false
   },
   "outputs": [
    {
     "data": {
      "text/plain": [
       "Index(['Year', 'DestCityName', 'DestStateName', 'CRSDepTime', 'CRSArrTime',\n",
       "       'DestAirportID', 'OriginStateName', 'Month', 'DayofMonth', 'AirlineID',\n",
       "       'OriginCityName', 'OriginAirportID', 'CRSElapsedTime', 'DepTime',\n",
       "       'DepDelayMinutes', 'ArrTime', 'ActualElapsedTime', 'ArrDelayMinutes',\n",
       "       'OriginVisibility', 'OriginWind', 'OriginPrecip'],\n",
       "      dtype='object')"
      ]
     },
     "execution_count": 68,
     "metadata": {},
     "output_type": "execute_result"
    }
   ],
   "source": [
    "X.columns"
   ]
  },
  {
   "cell_type": "code",
   "execution_count": 69,
   "metadata": {
    "collapsed": false
   },
   "outputs": [],
   "source": [
    "from sklearn import preprocessing, cross_validation\n",
    "\n",
    "y = np.ravel(y)\n",
    "# Splitting the data\n",
    "X_train, X_test, y_train, y_test =  cross_validation.train_test_split(X, y,test_size=0.30,random_state=0)"
   ]
  },
  {
   "cell_type": "code",
   "execution_count": 70,
   "metadata": {
    "collapsed": false
   },
   "outputs": [],
   "source": [
    "from sklearn import preprocessing\n",
    "label_encoder = preprocessing.LabelEncoder()\n",
    "# Converting the categorical data to numeric \n",
    "#X_train['carrier'] = label_encoder.fit_transform(X_train['UniqueCarrier'])\n",
    "#X_train['status'] = label_encoder.fit_transform(X_train['Status'])\n",
    "#X_train['origin'] = label_encoder.fit_transform(X_train['Origin'])\n",
    "#X_train['dest'] = label_encoder.fit_transform(X_train['Dest'])\n",
    "X_train['ori_city'] = label_encoder.fit_transform(X_train['OriginCityName'])\n",
    "X_train['ori_state'] = label_encoder.fit_transform(X_train['OriginStateName'])\n",
    "X_train['dest_city'] = label_encoder.fit_transform(X_train['DestCityName'])\n",
    "X_train['dest_state'] = label_encoder.fit_transform(X_train['DestStateName'])\n",
    "\n",
    "#X_test['carrier'] = label_encoder.fit_transform(X_test['UniqueCarrier'])\n",
    "#X_test['status'] = label_encoder.fit_transform(X_test['Status'])\n",
    "#X_test['origin'] = label_encoder.fit_transform(X_test['Origin'])\n",
    "#X_test['dest'] = label_encoder.fit_transform(X_test['Dest'])\n",
    "X_test['ori_city'] = label_encoder.fit_transform(X_test['OriginCityName'])\n",
    "X_test['ori_state'] = label_encoder.fit_transform(X_test['OriginStateName'])\n",
    "X_test['dest_city'] = label_encoder.fit_transform(X_test['DestCityName'])\n",
    "X_test['dest_state'] = label_encoder.fit_transform(X_test['DestStateName'])"
   ]
  },
  {
   "cell_type": "code",
   "execution_count": 71,
   "metadata": {
    "collapsed": true
   },
   "outputs": [],
   "source": [
    "X_train = X_train._get_numeric_data()\n",
    "X_test = X_test._get_numeric_data()"
   ]
  },
  {
   "cell_type": "code",
   "execution_count": 79,
   "metadata": {
    "collapsed": false
   },
   "outputs": [],
   "source": [
    "from sklearn.linear_model import LogisticRegression\n",
    "model = LogisticRegression(max_iter = 50)\n",
    "model = model.fit(X_train, y_train)"
   ]
  },
  {
   "cell_type": "code",
   "execution_count": 80,
   "metadata": {
    "collapsed": false
   },
   "outputs": [
    {
     "name": "stdout",
     "output_type": "stream",
     "text": [
      "0.798113091146\n"
     ]
    }
   ],
   "source": [
    "accuracy = model.score(X_train, y_train)\n",
    "print(accuracy)"
   ]
  },
  {
   "cell_type": "code",
   "execution_count": 81,
   "metadata": {
    "collapsed": false
   },
   "outputs": [
    {
     "data": {
      "text/plain": [
       "array([1, 0, 0, ..., 0, 0, 0])"
      ]
     },
     "execution_count": 81,
     "metadata": {},
     "output_type": "execute_result"
    }
   ],
   "source": [
    "# Run the model on the test set\n",
    "y_pred = model.predict(X_test)\n",
    "y_pred"
   ]
  },
  {
   "cell_type": "code",
   "execution_count": 82,
   "metadata": {
    "collapsed": false
   },
   "outputs": [
    {
     "name": "stdout",
     "output_type": "stream",
     "text": [
      "[[1849419   45584]\n",
      " [ 442318   80193]]\n"
     ]
    }
   ],
   "source": [
    "from sklearn.metrics import confusion_matrix\n",
    "cm = confusion_matrix(y_test, y_pred)\n",
    "print(cm)"
   ]
  },
  {
   "cell_type": "code",
   "execution_count": 83,
   "metadata": {
    "collapsed": false
   },
   "outputs": [
    {
     "data": {
      "image/png": "[encoded data removed]",
      "text/plain": [
       "<matplotlib.figure.Figure at 0x19db52b00>"
      ]
     },
     "metadata": {},
     "output_type": "display_data"
    }
   ],
   "source": [
    "import matplotlib.pyplot as plt\n",
    "from sklearn.metrics import roc_curve\n",
    "\n",
    "preds = model.predict_proba(X_test)[:,1]\n",
    "fpr, tpr, _ = roc_curve(y_test, preds)\n",
    "plt.figure()\n",
    "plt.plot(fpr, tpr, label='ROC curve')\n",
    "plt.plot([0, 1], [0, 1], 'k--')\n",
    "plt.xlim([0.0, 1.0])\n",
    "plt.ylim([0.0, 1.05])\n",
    "plt.xlabel('1-Specificity')\n",
    "plt.ylabel('Sensitivity')\n",
    "plt.title('ROC curve')\n",
    "plt.legend(loc=\"lower right\")\n",
    "plt.show()"
   ]
  },
  {
   "cell_type": "code",
   "execution_count": 84,
   "metadata": {
    "collapsed": true
   },
   "outputs": [],
   "source": [
    "# Predict the values for test and train using the model\n",
    "y_test_predicted = model.predict(X_test)\n",
    "y_train_predicted= model.predict(X_train)"
   ]
  },
  {
   "cell_type": "code",
   "execution_count": 85,
   "metadata": {
    "collapsed": false
   },
   "outputs": [
    {
     "name": "stdout",
     "output_type": "stream",
     "text": [
      "MAE_train: 0.201886908854\n",
      "MAE_test: 0.201819720589\n",
      "RMS_train: 0.201886908854\n",
      "RMS_test: 0.201819720589\n"
     ]
    }
   ],
   "source": [
    "# Caluclate the rms and mae values\n",
    "from sklearn.metrics import mean_squared_error, mean_absolute_error\n",
    "\n",
    "mae_train = mean_absolute_error(y_train, y_train_predicted)\n",
    "mae_test = mean_absolute_error(y_test, y_test_predicted)\n",
    "rms_train = mean_squared_error(y_train, y_train_predicted)\n",
    "rms_test = mean_squared_error(y_test, y_test_predicted)\n",
    "print('MAE_train:' ,mae_train)\n",
    "print('MAE_test:',mae_test)\n",
    "print('RMS_train:',rms_train)\n",
    "print('RMS_test:',rms_test)"
   ]
  },
  {
   "cell_type": "code",
   "execution_count": 86,
   "metadata": {
    "collapsed": false
   },
   "outputs": [
    {
     "name": "stdout",
     "output_type": "stream",
     "text": [
      "MAE_train: 0.201886908854\n",
      "MAE_test: 0.201819720589\n",
      "RMS_train: 0.201886908854\n",
      "RMS_test: 0.201819720589\n"
     ]
    }
   ],
   "source": [
    "# Caluclate the rms and mae values\n",
    "from sklearn.metrics import mean_squared_error, mean_absolute_error\n",
    "\n",
    "mae_train = mean_absolute_error(y_train, y_train_predicted)\n",
    "mae_test = mean_absolute_error(y_test, y_test_predicted)\n",
    "rms_train = mean_squared_error(y_train, y_train_predicted)\n",
    "rms_test = mean_squared_error(y_test, y_test_predicted)\n",
    "print('MAE_train:' ,mae_train)\n",
    "print('MAE_test:',mae_test)\n",
    "print('RMS_train:',rms_train)\n",
    "print('RMS_test:',rms_test)"
   ]
  },
  {
   "cell_type": "code",
   "execution_count": null,
   "metadata": {
    "collapsed": true
   },
   "outputs": [],
   "source": []
  }
 ],
 "metadata": {
  "anaconda-cloud": {},
  "kernelspec": {
   "display_name": "Python [conda root]",
   "language": "python",
   "name": "conda-root-py"
  },
  "language_info": {
   "codemirror_mode": {
    "name": "ipython",
    "version": 3
   },
   "file_extension": ".py",
   "mimetype": "text/x-python",
   "name": "python",
   "nbconvert_exporter": "python",
   "pygments_lexer": "ipython3",
   "version": "3.5.2"
  }
 },
 "nbformat": 4,
 "nbformat_minor": 2
}
