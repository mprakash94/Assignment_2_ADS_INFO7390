{
 "cells": [
  {
   "cell_type": "markdown",
   "metadata": {},
   "source": [
    "# Random Forest"
   ]
  },
  {
   "cell_type": "code",
   "execution_count": 1,
   "metadata": {
    "collapsed": true
   },
   "outputs": [],
   "source": [
    "import warnings\n",
    "warnings.filterwarnings('ignore')"
   ]
  },
  {
   "cell_type": "code",
   "execution_count": 2,
   "metadata": {
    "collapsed": true
   },
   "outputs": [],
   "source": [
    "import pandas as pd\n",
    "import numpy as np\n",
    "import csv"
   ]
  },
  {
   "cell_type": "code",
   "execution_count": 3,
   "metadata": {
    "collapsed": true
   },
   "outputs": [],
   "source": [
    "cur_path = '/Users/sonalichaudhari/Desktop/ADS_Project/Data'\n",
    "df = pd.read_csv(open(cur_path+'/Data_for_Prediction.csv','rU'), encoding='utf-8')"
   ]
  },
  {
   "cell_type": "code",
   "execution_count": 5,
   "metadata": {
    "collapsed": false
   },
   "outputs": [
    {
     "data": {
      "text/plain": [
       "(9731654, 33)"
      ]
     },
     "execution_count": 5,
     "metadata": {},
     "output_type": "execute_result"
    }
   ],
   "source": [
    "df.shape"
   ]
  },
  {
   "cell_type": "code",
   "execution_count": 4,
   "metadata": {
    "collapsed": true
   },
   "outputs": [],
   "source": [
    "cols = df.columns.tolist()\n",
    "cols.remove('DepDelayMinutes')"
   ]
  },
  {
   "cell_type": "code",
   "execution_count": 5,
   "metadata": {
    "collapsed": true
   },
   "outputs": [],
   "source": [
    "X= df[cols]\n",
    "y = df['DepDelayMinutes']"
   ]
  },
  {
   "cell_type": "code",
   "execution_count": 12,
   "metadata": {
    "collapsed": false
   },
   "outputs": [
    {
     "data": {
      "text/plain": [
       "['Year',\n",
       " 'Day',\n",
       " 'Month',\n",
       " 'Week',\n",
       " 'Origin',\n",
       " 'Dest',\n",
       " 'UniqueCarrier',\n",
       " 'CRSArrTime',\n",
       " 'CRSDepTime',\n",
       " 'CRSElapsedTime',\n",
       " 'OriginPrecip']"
      ]
     },
     "execution_count": 12,
     "metadata": {},
     "output_type": "execute_result"
    }
   ],
   "source": [
    "cols"
   ]
  },
  {
   "cell_type": "markdown",
   "metadata": {},
   "source": [
    "### Cross Validation for splitting the data in train and test sets"
   ]
  },
  {
   "cell_type": "code",
   "execution_count": 15,
   "metadata": {
    "collapsed": false
   },
   "outputs": [],
   "source": [
    "# from sklearn.model_selection import StratifiedKFold\n",
    "\n",
    "# skf = StratifiedKFold(n_splits=2)\n",
    "# skf.get_n_splits(X, y)\n",
    "# print(skf)  \n",
    "# StratifiedKFold(n_splits=2, random_state=None, shuffle=False)\n",
    "# for train_index, test_index in skf.split(X, y):\n",
    "#     print(\"TRAIN:\", train_index, \"TEST:\", test_index)\n",
    "#     X_train, X_test = X.iloc[train_index], X.iloc[test_index]\n",
    "#     y_train, y_test = y.iloc[train_index], y.iloc[test_index]"
   ]
  },
  {
   "cell_type": "code",
   "execution_count": 17,
   "metadata": {
    "collapsed": false
   },
   "outputs": [],
   "source": [
    "from sklearn.model_selection import train_test_split\n",
    "X_train, X_test, y_train, y_test = train_test_split(df.ix[:, df.columns != 'DepDelayMinutes'], df['DepDelayMinutes'], \n",
    "                                            test_size=0.30)"
   ]
  },
  {
   "cell_type": "code",
   "execution_count": 18,
   "metadata": {
    "collapsed": false
   },
   "outputs": [],
   "source": [
    "from sklearn import preprocessing\n",
    "label_encoder = preprocessing.LabelEncoder()\n",
    "\n",
    "# Converting the categorical data to numeric \n",
    "\n",
    "X_train['carrier'] = label_encoder.fit_transform(X_train['UniqueCarrier'])\n",
    "X_train['origin'] = label_encoder.fit_transform(X_train['Origin'])\n",
    "X_train['dest'] = label_encoder.fit_transform(X_train['Dest'])\n",
    "\n",
    "X_test['carrier'] = label_encoder.fit_transform(X_test['UniqueCarrier'])\n",
    "X_test['origin'] = label_encoder.fit_transform(X_test['Origin'])\n",
    "X_test['dest'] = label_encoder.fit_transform(X_test['Dest'])"
   ]
  },
  {
   "cell_type": "code",
   "execution_count": 19,
   "metadata": {
    "collapsed": true
   },
   "outputs": [],
   "source": [
    "X_train = X_train._get_numeric_data()\n",
    "X_test = X_test._get_numeric_data()"
   ]
  },
  {
   "cell_type": "code",
   "execution_count": 24,
   "metadata": {
    "collapsed": false
   },
   "outputs": [
    {
     "data": {
      "text/plain": [
       "MLPRegressor(activation='relu', alpha=0.0001, batch_size='auto', beta_1=0.9,\n",
       "       beta_2=0.999, early_stopping=False, epsilon=1e-08,\n",
       "       hidden_layer_sizes=(200, 100, 25), learning_rate='constant',\n",
       "       learning_rate_init=0.001, max_iter=200, momentum=0.9,\n",
       "       nesterovs_momentum=True, power_t=0.5, random_state=None,\n",
       "       shuffle=True, solver='adam', tol=0.0001, validation_fraction=0.1,\n",
       "       verbose=False, warm_start=False)"
      ]
     },
     "execution_count": 24,
     "metadata": {},
     "output_type": "execute_result"
    }
   ],
   "source": [
    "from sklearn.neural_network import MLPRegressor\n",
    "nn = MLPRegressor(hidden_layer_sizes=(200,100,25))\n",
    "nn.fit(X=X_train.values,y= y_train)"
   ]
  },
  {
   "cell_type": "code",
   "execution_count": 25,
   "metadata": {
    "collapsed": false
   },
   "outputs": [
    {
     "name": "stdout",
     "output_type": "stream",
     "text": [
      "0.0207381303653\n"
     ]
    }
   ],
   "source": [
    "accuracy = nn.score(X_train, y_train)\n",
    "print(accuracy)"
   ]
  },
  {
   "cell_type": "code",
   "execution_count": null,
   "metadata": {
    "collapsed": true
   },
   "outputs": [],
   "source": [
    "y_test_predicted = nn.predict(X_test)\n",
    "y_train_predicted= rnnf.predict(X_train)"
   ]
  },
  {
   "cell_type": "code",
   "execution_count": null,
   "metadata": {
    "collapsed": false
   },
   "outputs": [],
   "source": [
    "from sklearn.metrics import mean_absolute_error,mean_squared_error\n",
    "\n",
    "# Caluclate the rms and mae values\n",
    "mae_train = mean_absolute_error(y_train, y_train_predicted)\n",
    "mae_test = mean_absolute_error(y_test, y_test_predicted)\n",
    "rms_train = mean_squared_error(y_train, y_train_predicted)\n",
    "rms_test = mean_squared_error(y_test, y_test_predicted)\n",
    "print('MAE_train:' ,mae_train)\n",
    "print('MAE_test:',mae_test)\n",
    "print('RMS_train:',rms_train)\n",
    "print('RMS_test:',rms_test)"
   ]
  },
  {
   "cell_type": "code",
   "execution_count": 27,
   "metadata": {
    "collapsed": false
   },
   "outputs": [
    {
     "name": "stdout",
     "output_type": "stream",
     "text": [
      "0.0133447785024\n"
     ]
    }
   ],
   "source": [
    "from sklearn.neural_network import MLPRegressor\n",
    "nn1 = MLPRegressor(hidden_layer_sizes=(500,250,25))\n",
    "nn1.fit(X=X_train.values,y= y_train)\n",
    "accuracy = nn1.score(X_train, y_train)\n",
    "print(accuracy)"
   ]
  },
  {
   "cell_type": "code",
   "execution_count": 28,
   "metadata": {
    "collapsed": false
   },
   "outputs": [
    {
     "name": "stdout",
     "output_type": "stream",
     "text": [
      "0.0212876913568\n"
     ]
    }
   ],
   "source": [
    "from sklearn.neural_network import MLPRegressor\n",
    "nn2 = MLPRegressor(hidden_layer_sizes=(100,50,10,5))\n",
    "nn2.fit(X=X_train.values,y= y_train)\n",
    "accuracy = nn2.score(X_train, y_train)\n",
    "print(accuracy)"
   ]
  },
  {
   "cell_type": "code",
   "execution_count": 29,
   "metadata": {
    "collapsed": false
   },
   "outputs": [
    {
     "name": "stdout",
     "output_type": "stream",
     "text": [
      "0.0239341016263\n"
     ]
    }
   ],
   "source": [
    "from sklearn.neural_network import MLPRegressor\n",
    "nn3 = MLPRegressor(hidden_layer_sizes=(80,40,10,5))\n",
    "nn3.fit(X=X_train.values,y= y_train)\n",
    "accuracy = nn3.score(X_train, y_train)\n",
    "print(accuracy)"
   ]
  },
  {
   "cell_type": "code",
   "execution_count": null,
   "metadata": {
    "collapsed": true
   },
   "outputs": [],
   "source": []
  }
 ],
 "metadata": {
  "anaconda-cloud": {},
  "kernelspec": {
   "display_name": "Python [conda root]",
   "language": "python",
   "name": "conda-root-py"
  },
  "language_info": {
   "codemirror_mode": {
    "name": "ipython",
    "version": 3
   },
   "file_extension": ".py",
   "mimetype": "text/x-python",
   "name": "python",
   "nbconvert_exporter": "python",
   "pygments_lexer": "ipython3",
   "version": "3.5.2"
  }
 },
 "nbformat": 4,
 "nbformat_minor": 2
}
