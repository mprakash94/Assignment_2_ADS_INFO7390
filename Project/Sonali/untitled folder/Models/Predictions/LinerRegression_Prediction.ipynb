{
 "cells": [
  {
   "cell_type": "markdown",
   "metadata": {},
   "source": [
    "# LinerRegression_Prediction"
   ]
  },
  {
   "cell_type": "code",
   "execution_count": 12,
   "metadata": {
    "collapsed": true
   },
   "outputs": [],
   "source": [
    "import warnings\n",
    "warnings.filterwarnings('ignore')\n",
    "import pandas as pd\n",
    "import numpy as np\n",
    "import csv"
   ]
  },
  {
   "cell_type": "code",
   "execution_count": 13,
   "metadata": {
    "collapsed": false
   },
   "outputs": [],
   "source": [
    "cur_path = '/Users/sonalichaudhari/Desktop/ADS_Project/Data'\n",
    "df = pd.read_csv(open(cur_path+'/Data_for_Prediction.csv','rU'), encoding='utf-8')"
   ]
  },
  {
   "cell_type": "code",
   "execution_count": 14,
   "metadata": {
    "collapsed": false
   },
   "outputs": [
    {
     "data": {
      "text/plain": [
       "(1775152, 12)"
      ]
     },
     "execution_count": 14,
     "metadata": {},
     "output_type": "execute_result"
    }
   ],
   "source": [
    "df.shape"
   ]
  },
  {
   "cell_type": "code",
   "execution_count": 15,
   "metadata": {
    "collapsed": false
   },
   "outputs": [
    {
     "data": {
      "text/plain": [
       "Index(['Year', 'Day', 'Month', 'Week', 'Origin', 'Dest', 'UniqueCarrier',\n",
       "       'CRSArrTime', 'CRSDepTime', 'CRSElapsedTime', 'DepDelayMinutes',\n",
       "       'OriginPrecip'],\n",
       "      dtype='object')"
      ]
     },
     "execution_count": 15,
     "metadata": {},
     "output_type": "execute_result"
    }
   ],
   "source": [
    "df.columns"
   ]
  },
  {
   "cell_type": "code",
   "execution_count": 16,
   "metadata": {
    "collapsed": true
   },
   "outputs": [],
   "source": [
    "cols = df.columns.tolist()\n",
    "cols.remove('DepDelayMinutes')"
   ]
  },
  {
   "cell_type": "code",
   "execution_count": 17,
   "metadata": {
    "collapsed": true
   },
   "outputs": [],
   "source": [
    "X= df[cols]\n",
    "y = df['DepDelayMinutes']"
   ]
  },
  {
   "cell_type": "markdown",
   "metadata": {},
   "source": [
    "# Features"
   ]
  },
  {
   "cell_type": "code",
   "execution_count": 18,
   "metadata": {
    "collapsed": false
   },
   "outputs": [],
   "source": [
    "# # Recursive Feature Elimination\n",
    "# from sklearn import datasets\n",
    "# from sklearn.feature_selection import RFE\n",
    "# from sklearn.linear_model import LogisticRegression\n",
    "# # load the iris datasets\n",
    "\n",
    "# # create a base classifier used to evaluate a subset of attributes\n",
    "# model = LogisticRegression()\n",
    "# # create the RFE model and select 3 attributes\n",
    "# rfe = RFE(model, 10)\n",
    "# rfe = rfe.fit(X, y)\n",
    "# # summarize the selection of the attributes\n",
    "# print(rfe.support_)\n",
    "# print(rfe.ranking_)"
   ]
  },
  {
   "cell_type": "code",
   "execution_count": 19,
   "metadata": {
    "collapsed": true
   },
   "outputs": [],
   "source": [
    "# from sklearn.feature_selection import SelectKBest, chi2\n",
    "\n",
    "# X = # your dataframe with n columns\n",
    "# y = # target values - encoded if categorical\n",
    "# # instanciate your selector\n",
    "# selector = SelectKBest(chi2, k=...) # k < n, try something like int(round(n/10.))\n",
    "# # Fit it to your data\n",
    "# selector.fit(X, y)"
   ]
  },
  {
   "cell_type": "markdown",
   "metadata": {},
   "source": [
    "### Cross Validation for splitting the data in train and test sets"
   ]
  },
  {
   "cell_type": "code",
   "execution_count": 20,
   "metadata": {
    "collapsed": true
   },
   "outputs": [],
   "source": [
    "y = np.ravel(y)"
   ]
  },
  {
   "cell_type": "code",
   "execution_count": 21,
   "metadata": {
    "collapsed": false
   },
   "outputs": [
    {
     "name": "stdout",
     "output_type": "stream",
     "text": [
      "StratifiedKFold(n_splits=2, random_state=None, shuffle=False)\n",
      "TRAIN: [ 172606  431106  449824 ..., 1775149 1775150 1775151] TEST: [      0       1       2 ..., 1700920 1715265 1727142]\n",
      "TRAIN: [      0       1       2 ..., 1700920 1715265 1727142] TEST: [ 172606  431106  449824 ..., 1775149 1775150 1775151]\n"
     ]
    }
   ],
   "source": [
    "from sklearn.model_selection import StratifiedKFold\n",
    "\n",
    "skf = StratifiedKFold(n_splits=2)\n",
    "skf.get_n_splits(X, y)\n",
    "print(skf)  \n",
    "StratifiedKFold(n_splits=2, random_state=None, shuffle=False)\n",
    "for train_index, test_index in skf.split(X, y):\n",
    "    print(\"TRAIN:\", train_index, \"TEST:\", test_index)\n",
    "    X_train, X_test = X.iloc[train_index], X.iloc[test_index]\n",
    "    y_train, y_test = y[train_index], y[test_index]"
   ]
  },
  {
   "cell_type": "code",
   "execution_count": 22,
   "metadata": {
    "collapsed": false
   },
   "outputs": [],
   "source": [
    "from sklearn import preprocessing\n",
    "label_encoder = preprocessing.LabelEncoder()\n",
    "# Converting the categorical data to numeric \n",
    "X_train['carrier'] = label_encoder.fit_transform(X_train['UniqueCarrier'])\n",
    "X_train['origin'] = label_encoder.fit_transform(X_train['Origin'])\n",
    "X_train['dest'] = label_encoder.fit_transform(X_train['Dest'])\n",
    "\n",
    "X_test['carrier'] = label_encoder.fit_transform(X_test['UniqueCarrier'])\n",
    "X_test['origin'] = label_encoder.fit_transform(X_test['Origin'])\n",
    "X_test['dest'] = label_encoder.fit_transform(X_test['Dest'])"
   ]
  },
  {
   "cell_type": "code",
   "execution_count": 23,
   "metadata": {
    "collapsed": true
   },
   "outputs": [],
   "source": [
    "X_train = X_train._get_numeric_data()\n",
    "X_test = X_test._get_numeric_data()"
   ]
  },
  {
   "cell_type": "code",
   "execution_count": 28,
   "metadata": {
    "collapsed": false
   },
   "outputs": [],
   "source": [
    "from sklearn.linear_model import LinearRegression\n"
   ]
  },
  {
   "cell_type": "code",
   "execution_count": 30,
   "metadata": {
    "collapsed": false
   },
   "outputs": [
    {
     "data": {
      "text/plain": [
       "LinearRegression(copy_X=True, fit_intercept=True, n_jobs=1, normalize=False)"
      ]
     },
     "execution_count": 30,
     "metadata": {},
     "output_type": "execute_result"
    }
   ],
   "source": [
    "model = LinearRegression()\n",
    "model.fit(X_train, y_train)"
   ]
  },
  {
   "cell_type": "code",
   "execution_count": 31,
   "metadata": {
    "collapsed": false
   },
   "outputs": [
    {
     "name": "stdout",
     "output_type": "stream",
     "text": [
      "0.101719695688\n"
     ]
    }
   ],
   "source": [
    "accuracy = model.score(X_train, y_train)\n",
    "print(accuracy)"
   ]
  },
  {
   "cell_type": "code",
   "execution_count": 32,
   "metadata": {
    "collapsed": false
   },
   "outputs": [
    {
     "name": "stdout",
     "output_type": "stream",
     "text": [
      "-----Train-----\n",
      "RMS:  71.09457648813665\n",
      "MAE:  42.6471192405\n",
      "MAPE:  inf\n",
      "-----Test-----\n",
      "RMS:  693.6796930320971\n",
      "MAE:  659.687534234\n",
      "MAPE:  inf\n"
     ]
    }
   ],
   "source": [
    "# Run the model on the test set and train set\n",
    "y_test_predicted = model.predict(X_test)\n",
    "y_train_predicted= model.predict(X_train)\n",
    "\n",
    "# RMS MAPE MAE\n",
    "from sklearn.metrics import mean_squared_error,mean_absolute_error\n",
    "from math import sqrt\n",
    "\n",
    "rms = sqrt(mean_squared_error(y_train, y_train_predicted))    \n",
    "mae_train = mean_absolute_error(y_train, y_train_predicted) \n",
    "mape_train = np.mean(np.abs((y_train - y_train_predicted) / y_train)) * 100\n",
    "print(\"-----Train-----\")\n",
    "print('RMS: ',rms)\n",
    "print('MAE: ',mae_train)\n",
    "print('MAPE: ',mape_train)\n",
    "#finished square footage of the property, square footage of lot, tax amounts, number of bedrooms, and number of units\n",
    "#MAE, RMS, MAPE\n",
    "rms = sqrt(mean_squared_error(y_test, y_test_predicted))    \n",
    "mae_test = mean_absolute_error(y_test, y_test_predicted)\n",
    "mape_test = np.mean(np.abs((y_test - y_test_predicted) / y_test)) * 100\n",
    "print(\"-----Test-----\")\n",
    "print('RMS: ',rms)\n",
    "print('MAE: ',mae_test)\n",
    "print('MAPE: ',mape_test)"
   ]
  },
  {
   "cell_type": "markdown",
   "metadata": {},
   "source": [
    "# Trial"
   ]
  },
  {
   "cell_type": "markdown",
   "metadata": {},
   "source": [
    "# 1"
   ]
  },
  {
   "cell_type": "code",
   "execution_count": null,
   "metadata": {
    "collapsed": true
   },
   "outputs": [],
   "source": [
    "from sklearn.linear_model import LinearRegression\n",
    "model1 = linear_model.LinearRegression()\n",
    "model1 = model1.fit(X_train, y_train)\n",
    "\n",
    "accuracy = model1.score(X_train, y_train)\n",
    "print('Accuracy : ',accuracy)\n",
    "\n",
    "# Run the model on the test set and train set\n",
    "y_test_predicted = model1.predict(X_test)\n",
    "y_train_predicted= model1.predict(X_train)\n",
    "\n",
    "# RMS MAPE MAE\n",
    "\n",
    "rms = sqrt(mean_squared_error(y_train, y_train_predicted))    \n",
    "mae_train = mean_absolute_error(y_train, y_train_predicted) \n",
    "mape_train = np.mean(np.abs((y_train - y_train_predicted) / y_train)) * 100\n",
    "print(\"-----Train-----\")\n",
    "print('RMS: ',rms)\n",
    "print('MAE: ',mae_train)\n",
    "print('MAPE: ',mape_train)\n",
    "#finished square footage of the property, square footage of lot, tax amounts, number of bedrooms, and number of units\n",
    "#MAE, RMS, MAPE\n",
    "rms = sqrt(mean_squared_error(y_test, y_test_predicted))    \n",
    "mae_test = mean_absolute_error(y_test, y_test_predicted)\n",
    "mape_test = np.mean(np.abs((y_test - y_test_predicted) / y_test)) * 100\n",
    "print(\"-----Test-----\")\n",
    "print('RMS: ',rms)\n",
    "print('MAE: ',mae_test)\n",
    "print('MAPE: ',mape_test)"
   ]
  }
 ],
 "metadata": {
  "anaconda-cloud": {},
  "kernelspec": {
   "display_name": "Python [conda root]",
   "language": "python",
   "name": "conda-root-py"
  },
  "language_info": {
   "codemirror_mode": {
    "name": "ipython",
    "version": 3
   },
   "file_extension": ".py",
   "mimetype": "text/x-python",
   "name": "python",
   "nbconvert_exporter": "python",
   "pygments_lexer": "ipython3",
   "version": "3.5.2"
  }
 },
 "nbformat": 4,
 "nbformat_minor": 2
}
