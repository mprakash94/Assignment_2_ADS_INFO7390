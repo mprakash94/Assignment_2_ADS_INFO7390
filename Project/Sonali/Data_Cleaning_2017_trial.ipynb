{
 "cells": [
  {
   "cell_type": "markdown",
   "metadata": {},
   "source": [
    "# Data Cleaning"
   ]
  },
  {
   "cell_type": "markdown",
   "metadata": {},
   "source": [
    "### Imports"
   ]
  },
  {
   "cell_type": "code",
   "execution_count": 1,
   "metadata": {
    "collapsed": false
   },
   "outputs": [],
   "source": [
    "import warnings\n",
    "warnings.filterwarnings('ignore')"
   ]
  },
  {
   "cell_type": "code",
   "execution_count": 2,
   "metadata": {
    "collapsed": true
   },
   "outputs": [],
   "source": [
    "import pandas as pd\n",
    "import numpy as np\n",
    "import csv"
   ]
  },
  {
   "cell_type": "markdown",
   "metadata": {},
   "source": [
    "### Loading the Csvs and combining into a single dataframe"
   ]
  },
  {
   "cell_type": "code",
   "execution_count": 3,
   "metadata": {
    "collapsed": true
   },
   "outputs": [],
   "source": [
    "cur_path = '/Users/sonalichaudhari/Desktop/ADS_Project/Data'"
   ]
  },
  {
   "cell_type": "code",
   "execution_count": 4,
   "metadata": {
    "collapsed": false
   },
   "outputs": [],
   "source": [
    "df = pd.read_csv(open(cur_path+'/Data2017_Uncleaned.csv','rU'), encoding='utf-8')"
   ]
  },
  {
   "cell_type": "markdown",
   "metadata": {},
   "source": [
    "### CLEANING"
   ]
  },
  {
   "cell_type": "code",
   "execution_count": 5,
   "metadata": {
    "collapsed": false
   },
   "outputs": [
    {
     "data": {
      "text/plain": [
       "(4276457, 109)"
      ]
     },
     "execution_count": 5,
     "metadata": {},
     "output_type": "execute_result"
    }
   ],
   "source": [
    "df.shape"
   ]
  },
  {
   "cell_type": "markdown",
   "metadata": {},
   "source": [
    "### Getting rid of columns having 98% or more missing data"
   ]
  },
  {
   "cell_type": "code",
   "execution_count": 6,
   "metadata": {
    "collapsed": false
   },
   "outputs": [
    {
     "data": {
      "text/plain": [
       "62"
      ]
     },
     "execution_count": 6,
     "metadata": {},
     "output_type": "execute_result"
    }
   ],
   "source": [
    "missing_data = df.isnull().sum().to_frame(name='Missing_Count').reset_index()\n",
    "missing_data['Missing_percent'] = (missing_data['Missing_Count']/df.shape[0])*100\n",
    "missing_data = missing_data.sort_values(by='Missing_percent', axis=0, ascending=True)\n",
    "features = missing_data['index'][(missing_data.Missing_percent<99.38)]\n",
    "len(features)"
   ]
  },
  {
   "cell_type": "code",
   "execution_count": 7,
   "metadata": {
    "collapsed": false
   },
   "outputs": [],
   "source": [
    "d = df[features]"
   ]
  },
  {
   "cell_type": "code",
   "execution_count": 8,
   "metadata": {
    "collapsed": false
   },
   "outputs": [],
   "source": [
    "#d[['UniqueCarrier','AirlineID','Carrier','TailNum','FlightNum']]\n",
    "#d[['OriginAirportID','OriginAirportSeqID','OriginCityMarketID','Origin','OriginCityName','OriginState','OriginStateName']]\n",
    "#d[['CRSDepTime','DepTime','DepDelayMinutes','DepDel15','CRSArrTime','ArrTime','ArrDelayMinutes','ArrDel15','CRSElapsedTime','ActualElapsedTime']]"
   ]
  },
  {
   "cell_type": "code",
   "execution_count": 9,
   "metadata": {
    "collapsed": false
   },
   "outputs": [
    {
     "data": {
      "text/plain": [
       "Index(['Year', 'DestAirportSeqID', 'DestCityMarketID', 'Dest', 'DestCityName',\n",
       "       'DestState', 'DestStateFips', 'DestStateName', 'DestAirportID',\n",
       "       'DestWac', 'DepTimeBlk', 'CRSArrTime', 'ArrTimeBlk', 'Cancelled',\n",
       "       'Diverted', 'Flights', 'DistanceGroup', 'CRSDepTime', 'OriginWac',\n",
       "       'Distance', 'OriginStateFips', 'FlightDate', 'DayOfWeek', 'DayofMonth',\n",
       "       'Month', 'Quarter', 'Carrier', 'AirlineID', 'OriginStateName',\n",
       "       'OriginAirportID', 'OriginAirportSeqID', 'OriginCityMarketID', 'Origin',\n",
       "       'OriginCityName', 'OriginState', 'FlightNum', 'UniqueCarrier',\n",
       "       'DivAirportLandings', 'CRSElapsedTime', 'TailNum', 'DepTime',\n",
       "       'DepDelay', 'DepDelayMinutes', 'DepDel15', 'DepartureDelayGroups',\n",
       "       'WheelsOff', 'TaxiOut', 'WheelsOn', 'TaxiIn', 'ArrTime', 'ArrDel15',\n",
       "       'ArrDelayMinutes', 'ActualElapsedTime', 'AirTime', 'ArrDelay',\n",
       "       'ArrivalDelayGroups', 'NASDelay', 'CarrierDelay', 'WeatherDelay',\n",
       "       'SecurityDelay', 'LateAircraftDelay', 'CancellationCode'],\n",
       "      dtype='object')"
      ]
     },
     "execution_count": 9,
     "metadata": {},
     "output_type": "execute_result"
    }
   ],
   "source": [
    "d.columns"
   ]
  },
  {
   "cell_type": "code",
   "execution_count": 10,
   "metadata": {
    "collapsed": false
   },
   "outputs": [
    {
     "data": {
      "text/plain": [
       "Year                          0\n",
       "DestAirportSeqID              0\n",
       "DestCityMarketID              0\n",
       "Dest                          0\n",
       "DestCityName                  0\n",
       "DestState                     0\n",
       "DestStateFips                 0\n",
       "DestStateName                 0\n",
       "DestAirportID                 0\n",
       "DestWac                       0\n",
       "DepTimeBlk                    0\n",
       "CRSArrTime                    0\n",
       "ArrTimeBlk                    0\n",
       "Cancelled                     0\n",
       "Diverted                      0\n",
       "Flights                       0\n",
       "DistanceGroup                 0\n",
       "CRSDepTime                    0\n",
       "OriginWac                     0\n",
       "Distance                      0\n",
       "OriginStateFips               0\n",
       "FlightDate                    0\n",
       "DayOfWeek                     0\n",
       "DayofMonth                    0\n",
       "Month                         0\n",
       "Quarter                       0\n",
       "Carrier                       0\n",
       "AirlineID                     0\n",
       "OriginStateName               0\n",
       "OriginAirportID               0\n",
       "                         ...   \n",
       "Origin                        0\n",
       "OriginCityName                0\n",
       "OriginState                   0\n",
       "FlightNum                     0\n",
       "UniqueCarrier                 0\n",
       "DivAirportLandings            2\n",
       "CRSElapsedTime                7\n",
       "TailNum                   11811\n",
       "DepTime                   70648\n",
       "DepDelay                  70672\n",
       "DepDelayMinutes           70672\n",
       "DepDel15                  70672\n",
       "DepartureDelayGroups      70672\n",
       "WheelsOff                 72211\n",
       "TaxiOut                   72214\n",
       "WheelsOn                  74220\n",
       "TaxiIn                    74220\n",
       "ArrTime                   74220\n",
       "ArrDel15                  82860\n",
       "ArrDelayMinutes           82860\n",
       "ActualElapsedTime         82860\n",
       "AirTime                   82860\n",
       "ArrDelay                  82860\n",
       "ArrivalDelayGroups        82860\n",
       "NASDelay                3452611\n",
       "CarrierDelay            3452611\n",
       "WeatherDelay            3452611\n",
       "SecurityDelay           3452611\n",
       "LateAircraftDelay       3452611\n",
       "CancellationCode        4203809\n",
       "dtype: int64"
      ]
     },
     "execution_count": 10,
     "metadata": {},
     "output_type": "execute_result"
    }
   ],
   "source": [
    "d.isnull().sum()"
   ]
  },
  {
   "cell_type": "markdown",
   "metadata": {
    "collapsed": false
   },
   "source": [
    "### Taking only the columns relevant for the delay"
   ]
  },
  {
   "cell_type": "code",
   "execution_count": 11,
   "metadata": {
    "collapsed": true
   },
   "outputs": [],
   "source": [
    "#dt = d[['Year','Quarter','Month','DayofMonth','DayOfWeek','FlightDate','UniqueCarrier','AirlineID','Carrier','TailNum','FlightNum','OriginAirportID','Origin','Dest','CRSDepTime','DepTime','DepDelayMinutes','DepDel15','CRSArrTime','ArrTime','ArrDelayMinutes','ArrDel15','CRSElapsedTime','ActualElapsedTime','DestAirportID','OriginCityName','OriginState','OriginStateName','DestCityName','DestState','DestStateName','Cancelled','TaxiOut','TaxiIn','WheelsOff','WheelsOn','Diverted','WeatherDelay','CarrierDelay','NASDelay','SecurityDelay','LateAircraftDelay']]"
   ]
  },
  {
   "cell_type": "code",
   "execution_count": 12,
   "metadata": {
    "collapsed": true
   },
   "outputs": [],
   "source": [
    "pp = features.tolist()\n",
    "p = ['DivAirportLandings','TailNum','Carrier','OriginAirportSeqID','OriginCityMarketID','OriginStateFips','OriginWac','DestAirportSeqID','DestCityMArketID','DestStateFips','DestWac','DepTimeBlk','SecurityDelay','LateAircraftDelay', 'WeatherDelay', 'CarrierDelay', 'NASDelay',\n",
    "       'CancellationCode']\n",
    "for i in p:\n",
    "    if i in pp:\n",
    "        pp.remove(i)"
   ]
  },
  {
   "cell_type": "code",
   "execution_count": 13,
   "metadata": {
    "collapsed": false
   },
   "outputs": [],
   "source": [
    "dt= d[pp]"
   ]
  },
  {
   "cell_type": "code",
   "execution_count": 14,
   "metadata": {
    "collapsed": false
   },
   "outputs": [
    {
     "data": {
      "text/plain": [
       "45"
      ]
     },
     "execution_count": 14,
     "metadata": {},
     "output_type": "execute_result"
    }
   ],
   "source": [
    "len(dt.columns)"
   ]
  },
  {
   "cell_type": "code",
   "execution_count": 15,
   "metadata": {
    "collapsed": false
   },
   "outputs": [
    {
     "data": {
      "text/plain": [
       "Index(['Year', 'DestCityMarketID', 'Dest', 'DestCityName', 'DestState',\n",
       "       'DestStateName', 'DestAirportID', 'CRSArrTime', 'ArrTimeBlk',\n",
       "       'Cancelled', 'Diverted', 'Flights', 'DistanceGroup', 'CRSDepTime',\n",
       "       'Distance', 'FlightDate', 'DayOfWeek', 'DayofMonth', 'Month', 'Quarter',\n",
       "       'AirlineID', 'OriginStateName', 'OriginAirportID', 'Origin',\n",
       "       'OriginCityName', 'OriginState', 'FlightNum', 'UniqueCarrier',\n",
       "       'CRSElapsedTime', 'DepTime', 'DepDelay', 'DepDelayMinutes', 'DepDel15',\n",
       "       'DepartureDelayGroups', 'WheelsOff', 'TaxiOut', 'WheelsOn', 'TaxiIn',\n",
       "       'ArrTime', 'ArrDel15', 'ArrDelayMinutes', 'ActualElapsedTime',\n",
       "       'AirTime', 'ArrDelay', 'ArrivalDelayGroups'],\n",
       "      dtype='object')"
      ]
     },
     "execution_count": 15,
     "metadata": {},
     "output_type": "execute_result"
    }
   ],
   "source": [
    "dt.columns"
   ]
  },
  {
   "cell_type": "code",
   "execution_count": 16,
   "metadata": {
    "collapsed": false
   },
   "outputs": [
    {
     "data": {
      "text/plain": [
       "(4276457, 45)"
      ]
     },
     "execution_count": 16,
     "metadata": {},
     "output_type": "execute_result"
    }
   ],
   "source": [
    "dt.shape"
   ]
  },
  {
   "cell_type": "code",
   "execution_count": 17,
   "metadata": {
    "collapsed": false
   },
   "outputs": [
    {
     "data": {
      "text/plain": [
       "Year                        0\n",
       "DestCityMarketID            0\n",
       "Dest                        0\n",
       "DestCityName                0\n",
       "DestState                   0\n",
       "DestStateName               0\n",
       "DestAirportID               0\n",
       "CRSArrTime                  0\n",
       "ArrTimeBlk                  0\n",
       "Cancelled                   0\n",
       "Diverted                    0\n",
       "Flights                     0\n",
       "DistanceGroup               0\n",
       "CRSDepTime                  0\n",
       "Distance                    0\n",
       "FlightDate                  0\n",
       "DayOfWeek                   0\n",
       "DayofMonth                  0\n",
       "Month                       0\n",
       "Quarter                     0\n",
       "AirlineID                   0\n",
       "OriginStateName             0\n",
       "OriginAirportID             0\n",
       "Origin                      0\n",
       "OriginCityName              0\n",
       "OriginState                 0\n",
       "FlightNum                   0\n",
       "UniqueCarrier               0\n",
       "CRSElapsedTime              7\n",
       "DepTime                 70648\n",
       "DepDelay                70672\n",
       "DepDelayMinutes         70672\n",
       "DepDel15                70672\n",
       "DepartureDelayGroups    70672\n",
       "WheelsOff               72211\n",
       "TaxiOut                 72214\n",
       "WheelsOn                74220\n",
       "TaxiIn                  74220\n",
       "ArrTime                 74220\n",
       "ArrDel15                82860\n",
       "ArrDelayMinutes         82860\n",
       "ActualElapsedTime       82860\n",
       "AirTime                 82860\n",
       "ArrDelay                82860\n",
       "ArrivalDelayGroups      82860\n",
       "dtype: int64"
      ]
     },
     "execution_count": 17,
     "metadata": {},
     "output_type": "execute_result"
    }
   ],
   "source": [
    "dt.isnull().sum()"
   ]
  },
  {
   "cell_type": "code",
   "execution_count": 18,
   "metadata": {
    "collapsed": false
   },
   "outputs": [],
   "source": [
    "dt['Flight_Status'] = 0\n",
    "dt.loc[df.DepDel15==1.0 ,'Flight_Status'] = 1\n",
    "dt.loc[df.ArrDel15==1.0,'Flight_Status'] = 1\n",
    "dt.loc[df.Cancelled==1.0, ['Flight_Status']] = 1\n",
    "dt['Flight_Status'] = dt['Flight_Status'].astype(int)\n",
    "dt['Status'] = np.where(dt['Flight_Status']==1,'Delayed', 'On Time')"
   ]
  },
  {
   "cell_type": "code",
   "execution_count": 19,
   "metadata": {
    "collapsed": false
   },
   "outputs": [],
   "source": [
    "dt = dt[dt['Cancelled']!=1]"
   ]
  },
  {
   "cell_type": "code",
   "execution_count": 20,
   "metadata": {
    "collapsed": false
   },
   "outputs": [
    {
     "data": {
      "text/plain": [
       "(4203809, 47)"
      ]
     },
     "execution_count": 20,
     "metadata": {},
     "output_type": "execute_result"
    }
   ],
   "source": [
    "dt.shape"
   ]
  },
  {
   "cell_type": "code",
   "execution_count": 21,
   "metadata": {
    "collapsed": false
   },
   "outputs": [
    {
     "data": {
      "text/plain": [
       "72648"
      ]
     },
     "execution_count": 21,
     "metadata": {},
     "output_type": "execute_result"
    }
   ],
   "source": [
    "4276457-4203809"
   ]
  },
  {
   "cell_type": "code",
   "execution_count": 22,
   "metadata": {
    "collapsed": false
   },
   "outputs": [
    {
     "data": {
      "text/plain": [
       "Year                        0\n",
       "DestCityMarketID            0\n",
       "Dest                        0\n",
       "DestCityName                0\n",
       "DestState                   0\n",
       "DestStateName               0\n",
       "DestAirportID               0\n",
       "CRSArrTime                  0\n",
       "ArrTimeBlk                  0\n",
       "Cancelled                   0\n",
       "Diverted                    0\n",
       "Flights                     0\n",
       "DistanceGroup               0\n",
       "CRSDepTime                  0\n",
       "Distance                    0\n",
       "FlightDate                  0\n",
       "DayOfWeek                   0\n",
       "DayofMonth                  0\n",
       "Month                       0\n",
       "Quarter                     0\n",
       "AirlineID                   0\n",
       "OriginStateName             0\n",
       "OriginAirportID             0\n",
       "Origin                      0\n",
       "OriginCityName              0\n",
       "OriginState                 0\n",
       "FlightNum                   0\n",
       "UniqueCarrier               0\n",
       "CRSElapsedTime              0\n",
       "DepTime                     0\n",
       "DepDelay                    0\n",
       "DepDelayMinutes             0\n",
       "DepDel15                    0\n",
       "DepartureDelayGroups        0\n",
       "WheelsOff                   0\n",
       "TaxiOut                     0\n",
       "WheelsOn                 1572\n",
       "TaxiIn                   1572\n",
       "ArrTime                  1572\n",
       "ArrDel15                10212\n",
       "ArrDelayMinutes         10212\n",
       "ActualElapsedTime       10212\n",
       "AirTime                 10212\n",
       "ArrDelay                10212\n",
       "ArrivalDelayGroups      10212\n",
       "Flight_Status               0\n",
       "Status                      0\n",
       "dtype: int64"
      ]
     },
     "execution_count": 22,
     "metadata": {},
     "output_type": "execute_result"
    }
   ],
   "source": [
    "dt.isnull().sum()"
   ]
  },
  {
   "cell_type": "code",
   "execution_count": 23,
   "metadata": {
    "collapsed": false
   },
   "outputs": [],
   "source": [
    "dt = dt[dt['ArrTime'].notnull() & dt['ArrDelayMinutes'].notnull() & dt['ActualElapsedTime'].notnull() & dt['ArrDelayMinutes'].notnull() & dt['ArrDel15'].notnull()]"
   ]
  },
  {
   "cell_type": "code",
   "execution_count": 24,
   "metadata": {
    "collapsed": false
   },
   "outputs": [
    {
     "data": {
      "text/plain": [
       "(4193597, 47)"
      ]
     },
     "execution_count": 24,
     "metadata": {},
     "output_type": "execute_result"
    }
   ],
   "source": [
    "dt.shape"
   ]
  },
  {
   "cell_type": "code",
   "execution_count": 25,
   "metadata": {
    "collapsed": false
   },
   "outputs": [
    {
     "data": {
      "text/plain": [
       "Year                    0\n",
       "DestCityMarketID        0\n",
       "Dest                    0\n",
       "DestCityName            0\n",
       "DestState               0\n",
       "DestStateName           0\n",
       "DestAirportID           0\n",
       "CRSArrTime              0\n",
       "ArrTimeBlk              0\n",
       "Cancelled               0\n",
       "Diverted                0\n",
       "Flights                 0\n",
       "DistanceGroup           0\n",
       "CRSDepTime              0\n",
       "Distance                0\n",
       "FlightDate              0\n",
       "DayOfWeek               0\n",
       "DayofMonth              0\n",
       "Month                   0\n",
       "Quarter                 0\n",
       "AirlineID               0\n",
       "OriginStateName         0\n",
       "OriginAirportID         0\n",
       "Origin                  0\n",
       "OriginCityName          0\n",
       "OriginState             0\n",
       "FlightNum               0\n",
       "UniqueCarrier           0\n",
       "CRSElapsedTime          0\n",
       "DepTime                 0\n",
       "DepDelay                0\n",
       "DepDelayMinutes         0\n",
       "DepDel15                0\n",
       "DepartureDelayGroups    0\n",
       "WheelsOff               0\n",
       "TaxiOut                 0\n",
       "WheelsOn                0\n",
       "TaxiIn                  0\n",
       "ArrTime                 0\n",
       "ArrDel15                0\n",
       "ArrDelayMinutes         0\n",
       "ActualElapsedTime       0\n",
       "AirTime                 0\n",
       "ArrDelay                0\n",
       "ArrivalDelayGroups      0\n",
       "Flight_Status           0\n",
       "Status                  0\n",
       "dtype: int64"
      ]
     },
     "execution_count": 25,
     "metadata": {},
     "output_type": "execute_result"
    }
   ],
   "source": [
    "dt.isnull().sum()"
   ]
  },
  {
   "cell_type": "code",
   "execution_count": 26,
   "metadata": {
    "collapsed": true
   },
   "outputs": [],
   "source": [
    "del dt['Cancelled']"
   ]
  },
  {
   "cell_type": "code",
   "execution_count": 27,
   "metadata": {
    "collapsed": false
   },
   "outputs": [
    {
     "data": {
      "text/plain": [
       "Index(['Year', 'DestCityMarketID', 'Dest', 'DestCityName', 'DestState',\n",
       "       'DestStateName', 'DestAirportID', 'CRSArrTime', 'ArrTimeBlk',\n",
       "       'Diverted', 'Flights', 'DistanceGroup', 'CRSDepTime', 'Distance',\n",
       "       'FlightDate', 'DayOfWeek', 'DayofMonth', 'Month', 'Quarter',\n",
       "       'AirlineID', 'OriginStateName', 'OriginAirportID', 'Origin',\n",
       "       'OriginCityName', 'OriginState', 'FlightNum', 'UniqueCarrier',\n",
       "       'CRSElapsedTime', 'DepTime', 'DepDelay', 'DepDelayMinutes', 'DepDel15',\n",
       "       'DepartureDelayGroups', 'WheelsOff', 'TaxiOut', 'WheelsOn', 'TaxiIn',\n",
       "       'ArrTime', 'ArrDel15', 'ArrDelayMinutes', 'ActualElapsedTime',\n",
       "       'AirTime', 'ArrDelay', 'ArrivalDelayGroups', 'Flight_Status', 'Status'],\n",
       "      dtype='object')"
      ]
     },
     "execution_count": 27,
     "metadata": {},
     "output_type": "execute_result"
    }
   ],
   "source": [
    "dt.columns"
   ]
  },
  {
   "cell_type": "code",
   "execution_count": 28,
   "metadata": {
    "collapsed": true
   },
   "outputs": [],
   "source": [
    "# Lookup Tables"
   ]
  },
  {
   "cell_type": "code",
   "execution_count": 29,
   "metadata": {
    "collapsed": false
   },
   "outputs": [],
   "source": [
    "airport = pd.read_csv(cur_path+'/Lookup/AirportID.csv', low_memory=False)\n",
    "carrier = pd.read_csv(cur_path+'/Lookup/UniqueCarrier.csv', low_memory=False)\n",
    "origin = pd.read_csv(cur_path+'/Lookup/Origin.csv', low_memory=False)"
   ]
  },
  {
   "cell_type": "code",
   "execution_count": 30,
   "metadata": {
    "collapsed": false
   },
   "outputs": [],
   "source": [
    "origin_dict = origin.set_index('Code').T.to_dict('list')\n",
    "airport_dict = origin.set_index('Code').T.to_dict('list')\n",
    "carrier_dict = origin.set_index('Code').T.to_dict('list')"
   ]
  },
  {
   "cell_type": "code",
   "execution_count": 31,
   "metadata": {
    "collapsed": false
   },
   "outputs": [
    {
     "data": {
      "text/plain": [
       "'Dallas/Fort Worth'"
      ]
     },
     "execution_count": 31,
     "metadata": {},
     "output_type": "execute_result"
    }
   ],
   "source": [
    "origin_dict['DFW'][0].split(',')[0]"
   ]
  },
  {
   "cell_type": "code",
   "execution_count": 32,
   "metadata": {
    "collapsed": true
   },
   "outputs": [],
   "source": [
    "dd = dt"
   ]
  },
  {
   "cell_type": "code",
   "execution_count": 35,
   "metadata": {
    "collapsed": false
   },
   "outputs": [
    {
     "data": {
      "text/plain": [
       "(4193597, 46)"
      ]
     },
     "execution_count": 35,
     "metadata": {},
     "output_type": "execute_result"
    }
   ],
   "source": [
    "dd.shape"
   ]
  },
  {
   "cell_type": "markdown",
   "metadata": {},
   "source": [
    "### Removing Outliers"
   ]
  },
  {
   "cell_type": "code",
   "execution_count": 40,
   "metadata": {
    "collapsed": false
   },
   "outputs": [
    {
     "data": {
      "text/plain": [
       "(24, 46)"
      ]
     },
     "execution_count": 40,
     "metadata": {},
     "output_type": "execute_result"
    }
   ],
   "source": [
    "dt[dt.DepDelayMinutes>1500].shape"
   ]
  },
  {
   "cell_type": "code",
   "execution_count": 41,
   "metadata": {
    "collapsed": false
   },
   "outputs": [
    {
     "data": {
      "text/plain": [
       "(22, 46)"
      ]
     },
     "execution_count": 41,
     "metadata": {},
     "output_type": "execute_result"
    }
   ],
   "source": [
    "dt[dt.ArrDelayMinutes>1500].shape"
   ]
  },
  {
   "cell_type": "code",
   "execution_count": 42,
   "metadata": {
    "collapsed": true
   },
   "outputs": [],
   "source": [
    "dd = dd[dd.DepDelayMinutes<1500]"
   ]
  },
  {
   "cell_type": "code",
   "execution_count": 43,
   "metadata": {
    "collapsed": true
   },
   "outputs": [],
   "source": [
    "dd = dd[dd.ArrDelayMinutes<1500]"
   ]
  },
  {
   "cell_type": "code",
   "execution_count": 44,
   "metadata": {
    "collapsed": false
   },
   "outputs": [
    {
     "data": {
      "text/plain": [
       "(4193573, 46)"
      ]
     },
     "execution_count": 44,
     "metadata": {},
     "output_type": "execute_result"
    }
   ],
   "source": [
    "dd.shape"
   ]
  },
  {
   "cell_type": "code",
   "execution_count": 47,
   "metadata": {
    "collapsed": false
   },
   "outputs": [
    {
     "data": {
      "text/html": [
       "<div>\n",
       "<table border=\"1\" class=\"dataframe\">\n",
       "  <thead>\n",
       "    <tr style=\"text-align: right;\">\n",
       "      <th></th>\n",
       "      <th>Year</th>\n",
       "      <th>DestCityMarketID</th>\n",
       "      <th>Dest</th>\n",
       "      <th>DestCityName</th>\n",
       "      <th>DestState</th>\n",
       "      <th>DestStateName</th>\n",
       "      <th>DestAirportID</th>\n",
       "      <th>CRSArrTime</th>\n",
       "      <th>ArrTimeBlk</th>\n",
       "      <th>Diverted</th>\n",
       "      <th>...</th>\n",
       "      <th>TaxiIn</th>\n",
       "      <th>ArrTime</th>\n",
       "      <th>ArrDel15</th>\n",
       "      <th>ArrDelayMinutes</th>\n",
       "      <th>ActualElapsedTime</th>\n",
       "      <th>AirTime</th>\n",
       "      <th>ArrDelay</th>\n",
       "      <th>ArrivalDelayGroups</th>\n",
       "      <th>Flight_Status</th>\n",
       "      <th>Status</th>\n",
       "    </tr>\n",
       "  </thead>\n",
       "  <tbody>\n",
       "    <tr>\n",
       "      <th>3942797</th>\n",
       "      <td>2017</td>\n",
       "      <td>32575</td>\n",
       "      <td>LAX</td>\n",
       "      <td>Los Angeles, CA</td>\n",
       "      <td>CA</td>\n",
       "      <td>California</td>\n",
       "      <td>12892</td>\n",
       "      <td>1815</td>\n",
       "      <td>1800-1859</td>\n",
       "      <td>0.0</td>\n",
       "      <td>...</td>\n",
       "      <td>19.0</td>\n",
       "      <td>1736.0</td>\n",
       "      <td>1.0</td>\n",
       "      <td>1401.0</td>\n",
       "      <td>319.0</td>\n",
       "      <td>287.0</td>\n",
       "      <td>1401.0</td>\n",
       "      <td>12.0</td>\n",
       "      <td>1</td>\n",
       "      <td>Delayed</td>\n",
       "    </tr>\n",
       "    <tr>\n",
       "      <th>4027960</th>\n",
       "      <td>2017</td>\n",
       "      <td>30194</td>\n",
       "      <td>DFW</td>\n",
       "      <td>Dallas/Fort Worth, TX</td>\n",
       "      <td>TX</td>\n",
       "      <td>Texas</td>\n",
       "      <td>11298</td>\n",
       "      <td>927</td>\n",
       "      <td>0900-0959</td>\n",
       "      <td>0.0</td>\n",
       "      <td>...</td>\n",
       "      <td>11.0</td>\n",
       "      <td>728.0</td>\n",
       "      <td>1.0</td>\n",
       "      <td>1321.0</td>\n",
       "      <td>139.0</td>\n",
       "      <td>113.0</td>\n",
       "      <td>1321.0</td>\n",
       "      <td>12.0</td>\n",
       "      <td>1</td>\n",
       "      <td>Delayed</td>\n",
       "    </tr>\n",
       "  </tbody>\n",
       "</table>\n",
       "<p>2 rows × 46 columns</p>\n",
       "</div>"
      ],
      "text/plain": [
       "         Year  DestCityMarketID Dest           DestCityName DestState  \\\n",
       "3942797  2017             32575  LAX        Los Angeles, CA        CA   \n",
       "4027960  2017             30194  DFW  Dallas/Fort Worth, TX        TX   \n",
       "\n",
       "        DestStateName  DestAirportID  CRSArrTime ArrTimeBlk  Diverted  \\\n",
       "3942797    California          12892        1815  1800-1859       0.0   \n",
       "4027960         Texas          11298         927  0900-0959       0.0   \n",
       "\n",
       "          ...     TaxiIn  ArrTime  ArrDel15  ArrDelayMinutes  \\\n",
       "3942797   ...       19.0   1736.0       1.0           1401.0   \n",
       "4027960   ...       11.0    728.0       1.0           1321.0   \n",
       "\n",
       "        ActualElapsedTime  AirTime  ArrDelay  ArrivalDelayGroups  \\\n",
       "3942797             319.0    287.0    1401.0                12.0   \n",
       "4027960             139.0    113.0    1321.0                12.0   \n",
       "\n",
       "         Flight_Status   Status  \n",
       "3942797              1  Delayed  \n",
       "4027960              1  Delayed  \n",
       "\n",
       "[2 rows x 46 columns]"
      ]
     },
     "execution_count": 47,
     "metadata": {},
     "output_type": "execute_result"
    }
   ],
   "source": [
    "dd[(dd.Month==9) & (dd.ArrDelayMinutes>1300)]"
   ]
  },
  {
   "cell_type": "code",
   "execution_count": 48,
   "metadata": {
    "collapsed": false
   },
   "outputs": [],
   "source": [
    "dd = dd.drop((dd.Month==9) & (dd.ArrDelayMinutes>1300))"
   ]
  },
  {
   "cell_type": "code",
   "execution_count": 43,
   "metadata": {
    "collapsed": false
   },
   "outputs": [
    {
     "data": {
      "image/png": "[encoded data removed]",
      "text/plain": [
       "<matplotlib.figure.Figure at 0x14cf45668>"
      ]
     },
     "metadata": {},
     "output_type": "display_data"
    }
   ],
   "source": [
    "import matplotlib.pyplot as plt\n",
    "import seaborn as sns\n",
    "import numpy as np\n",
    "color = sns.color_palette()\n",
    "\n",
    "sns.lmplot(x='Month', y='ArrDelayMinutes', data=dt, fit_reg=False)\n",
    "plt.show()"
   ]
  },
  {
   "cell_type": "code",
   "execution_count": 34,
   "metadata": {
    "collapsed": false
   },
   "outputs": [
    {
     "data": {
      "image/png": "[encoded data removed]",
      "text/plain": [
       "<matplotlib.figure.Figure at 0x13a8be9b0>"
      ]
     },
     "metadata": {},
     "output_type": "display_data"
    }
   ],
   "source": [
    "import matplotlib.pyplot as plt\n",
    "import seaborn as sns\n",
    "import numpy as np\n",
    "color = sns.color_palette()\n",
    "\n",
    "sns.lmplot(x='Month', y='DepDelayMinutes', data=dt, fit_reg=False)\n",
    "plt.show()"
   ]
  },
  {
   "cell_type": "code",
   "execution_count": 50,
   "metadata": {
    "collapsed": false
   },
   "outputs": [
    {
     "data": {
      "text/plain": [
       "Year                    0\n",
       "DestCityMarketID        0\n",
       "Dest                    0\n",
       "DestCityName            0\n",
       "DestState               0\n",
       "DestStateName           0\n",
       "DestAirportID           0\n",
       "CRSArrTime              0\n",
       "ArrTimeBlk              0\n",
       "Diverted                0\n",
       "Flights                 0\n",
       "DistanceGroup           0\n",
       "CRSDepTime              0\n",
       "Distance                0\n",
       "FlightDate              0\n",
       "DayOfWeek               0\n",
       "DayofMonth              0\n",
       "Month                   0\n",
       "Quarter                 0\n",
       "AirlineID               0\n",
       "OriginStateName         0\n",
       "OriginAirportID         0\n",
       "Origin                  0\n",
       "OriginCityName          0\n",
       "OriginState             0\n",
       "FlightNum               0\n",
       "UniqueCarrier           0\n",
       "CRSElapsedTime          0\n",
       "DepTime                 0\n",
       "DepDelay                0\n",
       "DepDelayMinutes         0\n",
       "DepDel15                0\n",
       "DepartureDelayGroups    0\n",
       "WheelsOff               0\n",
       "TaxiOut                 0\n",
       "WheelsOn                0\n",
       "TaxiIn                  0\n",
       "ArrTime                 0\n",
       "ArrDel15                0\n",
       "ArrDelayMinutes         0\n",
       "ActualElapsedTime       0\n",
       "AirTime                 0\n",
       "ArrDelay                0\n",
       "ArrivalDelayGroups      0\n",
       "Flight_Status           0\n",
       "Status                  0\n",
       "dtype: int64"
      ]
     },
     "execution_count": 50,
     "metadata": {},
     "output_type": "execute_result"
    }
   ],
   "source": [
    "dd.isnull().sum()"
   ]
  },
  {
   "cell_type": "code",
   "execution_count": 51,
   "metadata": {
    "collapsed": false
   },
   "outputs": [],
   "source": [
    "dd.to_csv(cur_path+'/Data2017_Cleaned.csv', index = False)"
   ]
  },
  {
   "cell_type": "code",
   "execution_count": null,
   "metadata": {
    "collapsed": true
   },
   "outputs": [],
   "source": []
  }
 ],
 "metadata": {
  "anaconda-cloud": {},
  "kernelspec": {
   "display_name": "Python [conda root]",
   "language": "python",
   "name": "conda-root-py"
  },
  "language_info": {
   "codemirror_mode": {
    "name": "ipython",
    "version": 3
   },
   "file_extension": ".py",
   "mimetype": "text/x-python",
   "name": "python",
   "nbconvert_exporter": "python",
   "pygments_lexer": "ipython3",
   "version": "3.5.2"
  }
 },
 "nbformat": 4,
 "nbformat_minor": 2
}
