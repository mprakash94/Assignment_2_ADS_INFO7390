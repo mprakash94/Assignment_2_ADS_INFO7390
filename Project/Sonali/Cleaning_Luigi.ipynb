{
 "cells": [
  {
   "cell_type": "code",
   "execution_count": 1,
   "metadata": {
    "collapsed": true
   },
   "outputs": [],
   "source": [
    "import warnings\n",
    "warnings.filterwarnings('ignore')"
   ]
  },
  {
   "cell_type": "code",
   "execution_count": 2,
   "metadata": {
    "collapsed": true
   },
   "outputs": [],
   "source": [
    "import pandas as pd\n",
    "import numpy as np\n",
    "import csv"
   ]
  },
  {
   "cell_type": "code",
   "execution_count": 3,
   "metadata": {
    "collapsed": true
   },
   "outputs": [],
   "source": [
    "cur_path = '/Users/sonalichaudhari/Desktop/ADS_Project/Data'"
   ]
  },
  {
   "cell_type": "code",
   "execution_count": 4,
   "metadata": {
    "collapsed": true
   },
   "outputs": [],
   "source": [
    "d1 = pd.read_csv(cur_path+'/Data2016/On_Time_On_Time_Performance_2016_1/On_Time_On_Time_Performance_2016_1.csv', low_memory=False)\n",
    "d2 = pd.read_csv(cur_path+'/Data2016/On_Time_On_Time_Performance_2016_2/On_Time_On_Time_Performance_2016_2.csv', low_memory=False)\n",
    "d3 = pd.read_csv(cur_path+'/Data2016/On_Time_On_Time_Performance_2016_3/On_Time_On_Time_Performance_2016_3.csv', low_memory=False)\n",
    "d4 = pd.read_csv(cur_path+'/Data2016/On_Time_On_Time_Performance_2016_4/On_Time_On_Time_Performance_2016_4.csv', low_memory=False)\n",
    "d5 = pd.read_csv(cur_path+'/Data2016/On_Time_On_Time_Performance_2016_5/On_Time_On_Time_Performance_2016_5.csv', low_memory=False)\n",
    "d6 = pd.read_csv(cur_path+'/Data2016/On_Time_On_Time_Performance_2016_6/On_Time_On_Time_Performance_2016_6.csv', low_memory=False)\n",
    "d7 = pd.read_csv(cur_path+'/Data2016/On_Time_On_Time_Performance_2016_7/On_Time_On_Time_Performance_2016_7.csv', low_memory=False)\n",
    "d8 = pd.read_csv(cur_path+'/Data2016/On_Time_On_Time_Performance_2016_8/On_Time_On_Time_Performance_2016_8.csv', low_memory=False)\n",
    "d9 = pd.read_csv(cur_path+'/Data2016/On_Time_On_Time_Performance_2016_9/On_Time_On_Time_Performance_2016_9.csv', low_memory=False)\n",
    "d10 = pd.read_csv(cur_path+'/Data2016/On_Time_On_Time_Performance_2016_10/On_Time_On_Time_Performance_2016_10.csv', low_memory=False)\n",
    "d11 = pd.read_csv(cur_path+'/Data2016/On_Time_On_Time_Performance_2016_11/On_Time_On_Time_Performance_2016_11.csv', low_memory=False)\n",
    "d12 = pd.read_csv(cur_path+'/Data2016/On_Time_On_Time_Performance_2016_12/On_Time_On_Time_Performance_2016_12.csv', low_memory=False)"
   ]
  },
  {
   "cell_type": "code",
   "execution_count": 5,
   "metadata": {
    "collapsed": true
   },
   "outputs": [],
   "source": [
    "df_16 = pd.concat([d1, d2, d3, d4, d5, d6, d7, d8, d9, d10, d11, d12])  "
   ]
  },
  {
   "cell_type": "code",
   "execution_count": 6,
   "metadata": {
    "collapsed": true
   },
   "outputs": [],
   "source": [
    "d1 = pd.read_csv(cur_path+'/On_Time_On_Time_Performance_2017_1/On_Time_On_Time_Performance_2017_1.csv', low_memory=False)\n",
    "d2 = pd.read_csv(cur_path+'/On_Time_On_Time_Performance_2017_2/On_Time_On_Time_Performance_2017_2.csv', low_memory=False)\n",
    "d3 = pd.read_csv(cur_path+'/On_Time_On_Time_Performance_2017_3/On_Time_On_Time_Performance_2017_3.csv', low_memory=False)\n",
    "d4 = pd.read_csv(cur_path+'/On_Time_On_Time_Performance_2017_4/On_Time_On_Time_Performance_2017_4.csv', low_memory=False)\n",
    "d5 = pd.read_csv(cur_path+'/On_Time_On_Time_Performance_2017_5/On_Time_On_Time_Performance_2017_5.csv', low_memory=False)\n",
    "d6 = pd.read_csv(cur_path+'/On_Time_On_Time_Performance_2017_6/On_Time_On_Time_Performance_2017_6.csv', low_memory=False)\n",
    "d7 = pd.read_csv(cur_path+'/On_Time_On_Time_Performance_2017_7/On_Time_On_Time_Performance_2017_7.csv', low_memory=False)\n",
    "d8 = pd.read_csv(cur_path+'/On_Time_On_Time_Performance_2017_8/On_Time_On_Time_Performance_2017_8.csv', low_memory=False)\n",
    "d9 = pd.read_csv(cur_path+'/On_Time_On_Time_Performance_2017_9/On_Time_On_Time_Performance_2017_9.csv', low_memory=False)"
   ]
  },
  {
   "cell_type": "code",
   "execution_count": 7,
   "metadata": {
    "collapsed": true
   },
   "outputs": [],
   "source": [
    "df_17 = pd.concat([d1, d2, d3, d4, d5, d6, d7, d8, d9])  "
   ]
  },
  {
   "cell_type": "code",
   "execution_count": 25,
   "metadata": {
    "collapsed": false
   },
   "outputs": [
    {
     "ename": "NameError",
     "evalue": "name 'p' is not defined",
     "output_type": "error",
     "traceback": [
      "\u001b[0;31m---------------------------------------------------------------------------\u001b[0m",
      "\u001b[0;31mNameError\u001b[0m                                 Traceback (most recent call last)",
      "\u001b[0;32m<ipython-input-25-90dcba2d136f>\u001b[0m in \u001b[0;36m<module>\u001b[0;34m()\u001b[0m\n\u001b[0;32m----> 1\u001b[0;31m \u001b[0mclean\u001b[0m\u001b[0;34m(\u001b[0m\u001b[0mdf_16\u001b[0m\u001b[0;34m)\u001b[0m\u001b[0;34m\u001b[0m\u001b[0m\n\u001b[0m\u001b[1;32m      2\u001b[0m \u001b[0mclean\u001b[0m\u001b[0;34m(\u001b[0m\u001b[0mdf_17\u001b[0m\u001b[0;34m)\u001b[0m\u001b[0;34m\u001b[0m\u001b[0m\n",
      "\u001b[0;32m<ipython-input-24-826e7dde9549>\u001b[0m in \u001b[0;36mclean\u001b[0;34m(df)\u001b[0m\n\u001b[1;32m     13\u001b[0m     \u001b[0mdt\u001b[0m \u001b[0;34m=\u001b[0m \u001b[0mdt\u001b[0m\u001b[0;34m[\u001b[0m\u001b[0mdt\u001b[0m\u001b[0;34m[\u001b[0m\u001b[0;34m'Cancelled'\u001b[0m\u001b[0;34m]\u001b[0m\u001b[0;34m!=\u001b[0m\u001b[0;36m1\u001b[0m\u001b[0;34m]\u001b[0m\u001b[0;34m\u001b[0m\u001b[0m\n\u001b[1;32m     14\u001b[0m \u001b[0;34m\u001b[0m\u001b[0m\n\u001b[0;32m---> 15\u001b[0;31m     \u001b[0mdt\u001b[0m \u001b[0;34m=\u001b[0m \u001b[0mdt\u001b[0m\u001b[0;34m[\u001b[0m\u001b[0mdt\u001b[0m\u001b[0;34m[\u001b[0m\u001b[0;34m'ArrDelayMinutes'\u001b[0m\u001b[0;34m]\u001b[0m\u001b[0;34m.\u001b[0m\u001b[0mnotnull\u001b[0m\u001b[0;34m(\u001b[0m\u001b[0;34m)\u001b[0m \u001b[0;34m&\u001b[0m \u001b[0mp\u001b[0m\u001b[0;34m[\u001b[0m\u001b[0;34m'ActualElapsedTime'\u001b[0m\u001b[0;34m]\u001b[0m\u001b[0;34m.\u001b[0m\u001b[0mnotnull\u001b[0m\u001b[0;34m(\u001b[0m\u001b[0;34m)\u001b[0m \u001b[0;34m&\u001b[0m \u001b[0mp\u001b[0m\u001b[0;34m[\u001b[0m\u001b[0;34m'ArrDelayMinutes'\u001b[0m\u001b[0;34m]\u001b[0m\u001b[0;34m.\u001b[0m\u001b[0mnotnull\u001b[0m\u001b[0;34m(\u001b[0m\u001b[0;34m)\u001b[0m \u001b[0;34m&\u001b[0m \u001b[0mp\u001b[0m\u001b[0;34m[\u001b[0m\u001b[0;34m'ArrDel15'\u001b[0m\u001b[0;34m]\u001b[0m\u001b[0;34m.\u001b[0m\u001b[0mnotnull\u001b[0m\u001b[0;34m(\u001b[0m\u001b[0;34m)\u001b[0m\u001b[0;34m]\u001b[0m\u001b[0;34m\u001b[0m\u001b[0m\n\u001b[0m\u001b[1;32m     16\u001b[0m \u001b[0;34m\u001b[0m\u001b[0m\n\u001b[1;32m     17\u001b[0m     \u001b[0mdt\u001b[0m\u001b[0;34m[\u001b[0m\u001b[0;34m'Status'\u001b[0m\u001b[0;34m]\u001b[0m \u001b[0;34m=\u001b[0m \u001b[0;36m0\u001b[0m\u001b[0;34m\u001b[0m\u001b[0m\n",
      "\u001b[0;31mNameError\u001b[0m: name 'p' is not defined"
     ]
    }
   ],
   "source": [
    "clean(df_16)\n",
    "clean(df_17)"
   ]
  },
  {
   "cell_type": "code",
   "execution_count": 8,
   "metadata": {
    "collapsed": false
   },
   "outputs": [
    {
     "data": {
      "text/plain": [
       "(5617658, 110)"
      ]
     },
     "execution_count": 8,
     "metadata": {},
     "output_type": "execute_result"
    }
   ],
   "source": [
    "df_16.shape"
   ]
  },
  {
   "cell_type": "code",
   "execution_count": 9,
   "metadata": {
    "collapsed": false
   },
   "outputs": [
    {
     "data": {
      "text/plain": [
       "(4276457, 110)"
      ]
     },
     "execution_count": 9,
     "metadata": {},
     "output_type": "execute_result"
    }
   ],
   "source": [
    "df_17.shape"
   ]
  },
  {
   "cell_type": "code",
   "execution_count": 24,
   "metadata": {
    "collapsed": false
   },
   "outputs": [],
   "source": [
    "def clean(df):  \n",
    "    del df['Unnamed: 109']\n",
    "\n",
    "    missing_data = df.isnull().sum().to_frame(name='Missing_Count').reset_index()\n",
    "    missing_data['Missing_percent'] = (missing_data['Missing_Count']/df.shape[0])*100\n",
    "    missing_data = missing_data.sort_values(by='Missing_percent', axis=0, ascending=True)\n",
    "    features = missing_data['index'][(missing_data.Missing_percent<99.38)]\n",
    "\n",
    "    df = df[features]\n",
    "\n",
    "    dt = df[['Year','Quarter','Month','DayofMonth','DayOfWeek','FlightDate','UniqueCarrier','AirlineID','Carrier','TailNum','FlightNum','OriginAirportID','Origin','Dest','CRSDepTime','DepTime','DepDelayMinutes','DepDel15','CRSArrTime','ArrTime','ArrDelayMinutes','ArrDel15','CRSElapsedTime','ActualElapsedTime','DestAirportID','OriginCityName','OriginState','OriginStateName','DestCityName','DestState','DestStateName','Cancelled']]\n",
    "\n",
    "    dt = dt[dt['Cancelled']!=1]\n",
    "\n",
    "    dt = dt[dt['ArrDelayMinutes'].notnull() & dt['ActualElapsedTime'].notnull() & dt['ArrDelayMinutes'].notnull() & dt['ArrDel15'].notnull()]\n",
    "\n",
    "    dt['Status'] = 0\n",
    "    dt.loc[dt.DepDel15==1.0,'Status'] = 1\n",
    "    dt.loc[dt.ArrDel15==1.0,'Status'] = 1\n",
    "    if str(df_16['Year'][:1][0]) =='2016':\n",
    "        dt.to_csv(cur_path+'/Data2016.csv', index = False)\n",
    "    else:\n",
    "        dt.to_csv(cur_path+'/Data2017.csv', index = False)"
   ]
  },
  {
   "cell_type": "code",
   "execution_count": null,
   "metadata": {
    "collapsed": true
   },
   "outputs": [],
   "source": []
  }
 ],
 "metadata": {
  "anaconda-cloud": {},
  "kernelspec": {
   "display_name": "Python [conda root]",
   "language": "python",
   "name": "conda-root-py"
  },
  "language_info": {
   "codemirror_mode": {
    "name": "ipython",
    "version": 3
   },
   "file_extension": ".py",
   "mimetype": "text/x-python",
   "name": "python",
   "nbconvert_exporter": "python",
   "pygments_lexer": "ipython3",
   "version": "3.5.2"
  }
 },
 "nbformat": 4,
 "nbformat_minor": 2
}
