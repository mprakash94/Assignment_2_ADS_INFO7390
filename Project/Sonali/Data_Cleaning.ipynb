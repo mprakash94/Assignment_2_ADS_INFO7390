{
 "cells": [
  {
   "cell_type": "markdown",
   "metadata": {},
   "source": [
    "# DATA CLEANING 2016"
   ]
  },
  {
   "cell_type": "markdown",
   "metadata": {},
   "source": [
    "### Imports"
   ]
  },
  {
   "cell_type": "code",
   "execution_count": 1,
   "metadata": {
    "collapsed": false
   },
   "outputs": [],
   "source": [
    "import warnings\n",
    "warnings.filterwarnings('ignore')\n",
    "import pandas as pd\n",
    "import numpy as np\n",
    "import csv"
   ]
  },
  {
   "cell_type": "markdown",
   "metadata": {},
   "source": [
    "### Loading the Csvs and combining into a single dataframe"
   ]
  },
  {
   "cell_type": "code",
   "execution_count": 2,
   "metadata": {
    "collapsed": false
   },
   "outputs": [],
   "source": [
    "cur_path = '/Users/sonalichaudhari/Desktop/ADS_Project/Data'\n",
    "df = pd.read_csv(open(cur_path+'/Data2016_Uncleaned.csv','rU'), encoding='utf-8')\n",
    "df.shape"
   ]
  },
  {
   "cell_type": "markdown",
   "metadata": {},
   "source": [
    "### CLEANING"
   ]
  },
  {
   "cell_type": "markdown",
   "metadata": {},
   "source": [
    "### Getting rid of columns having 98% or more missing data"
   ]
  },
  {
   "cell_type": "code",
   "execution_count": 216,
   "metadata": {
    "collapsed": false
   },
   "outputs": [
    {
     "data": {
      "text/plain": [
       "62"
      ]
     },
     "execution_count": 216,
     "metadata": {},
     "output_type": "execute_result"
    }
   ],
   "source": [
    "missing_data = df.isnull().sum().to_frame(name='Missing_Count').reset_index()\n",
    "missing_data['Missing_percent'] = (missing_data['Missing_Count']/df.shape[0])*100\n",
    "missing_data = missing_data.sort_values(by='Missing_percent', axis=0, ascending=True)\n",
    "features = missing_data['index'][(missing_data.Missing_percent<99.38)]\n",
    "len(features)"
   ]
  },
  {
   "cell_type": "code",
   "execution_count": 217,
   "metadata": {
    "collapsed": false
   },
   "outputs": [],
   "source": [
    "# Considering only the columns having more than 99.38% of data\n",
    "d = df[features]\n",
    "\n",
    "# Renaming the columns\n",
    "d = d.rename(columns = {'DayofMonth':'Day','DayOfWeek':'Week'})"
   ]
  },
  {
   "cell_type": "markdown",
   "metadata": {},
   "source": [
    "### Taking only the columns relevant for the delay"
   ]
  },
  {
   "cell_type": "code",
   "execution_count": 218,
   "metadata": {
    "collapsed": true
   },
   "outputs": [],
   "source": [
    "columns = ['FlightNum','Year','Day','Month','Week','Origin','Dest','UniqueCarrier','Cancelled','ArrTime','DepTime','CRSArrTime','CRSDepTime','DepDel15','ArrDel15','CRSElapsedTime','ActualElapsedTime','ArrDelayMinutes','DepDelayMinutes','OriginCityName','DestCityName']"
   ]
  },
  {
   "cell_type": "code",
   "execution_count": 219,
   "metadata": {
    "collapsed": false
   },
   "outputs": [
    {
     "data": {
      "text/plain": [
       "21"
      ]
     },
     "execution_count": 219,
     "metadata": {},
     "output_type": "execute_result"
    }
   ],
   "source": [
    "len(columns)"
   ]
  },
  {
   "cell_type": "code",
   "execution_count": 220,
   "metadata": {
    "collapsed": false
   },
   "outputs": [
    {
     "data": {
      "text/plain": [
       "(5617658, 21)"
      ]
     },
     "execution_count": 220,
     "metadata": {},
     "output_type": "execute_result"
    }
   ],
   "source": [
    "dt = d[columns]\n",
    "dt.shape"
   ]
  },
  {
   "cell_type": "code",
   "execution_count": 221,
   "metadata": {
    "collapsed": false
   },
   "outputs": [
    {
     "data": {
      "text/plain": [
       "65861"
      ]
     },
     "execution_count": 221,
     "metadata": {},
     "output_type": "execute_result"
    }
   ],
   "source": [
    "len(dt[dt.Cancelled==1])"
   ]
  },
  {
   "cell_type": "code",
   "execution_count": 222,
   "metadata": {
    "collapsed": true
   },
   "outputs": [],
   "source": [
    "dt = dt[dt.Cancelled==0]"
   ]
  },
  {
   "cell_type": "code",
   "execution_count": 223,
   "metadata": {
    "collapsed": false
   },
   "outputs": [
    {
     "data": {
      "text/plain": [
       "FlightNum                0\n",
       "DepDelayMinutes          0\n",
       "CRSElapsedTime           0\n",
       "DepDel15                 0\n",
       "CRSDepTime               0\n",
       "CRSArrTime               0\n",
       "OriginCityName           0\n",
       "Cancelled                0\n",
       "DepTime                  0\n",
       "Dest                     0\n",
       "Origin                   0\n",
       "Week                     0\n",
       "Month                    0\n",
       "Day                      0\n",
       "Year                     0\n",
       "UniqueCarrier            0\n",
       "DestCityName             0\n",
       "ArrTime               1983\n",
       "ArrDel15             13652\n",
       "ActualElapsedTime    13652\n",
       "ArrDelayMinutes      13652\n",
       "dtype: int64"
      ]
     },
     "execution_count": 223,
     "metadata": {},
     "output_type": "execute_result"
    }
   ],
   "source": [
    "dt.isnull().sum().sort_values()"
   ]
  },
  {
   "cell_type": "markdown",
   "metadata": {},
   "source": [
    "### Removing row having 'ArrTime','ArrDelayMinutes','ActualElapsedTime','ArrDelayMinutes' Nulls"
   ]
  },
  {
   "cell_type": "code",
   "execution_count": 224,
   "metadata": {
    "collapsed": true
   },
   "outputs": [],
   "source": [
    "dt = dt[(dt.ArrTime.notnull()) & (dt.ActualElapsedTime.notnull())]"
   ]
  },
  {
   "cell_type": "code",
   "execution_count": 225,
   "metadata": {
    "collapsed": false
   },
   "outputs": [
    {
     "data": {
      "text/plain": [
       "FlightNum            0\n",
       "DepDelayMinutes      0\n",
       "ArrDelayMinutes      0\n",
       "ActualElapsedTime    0\n",
       "CRSElapsedTime       0\n",
       "ArrDel15             0\n",
       "DepDel15             0\n",
       "CRSDepTime           0\n",
       "CRSArrTime           0\n",
       "OriginCityName       0\n",
       "DepTime              0\n",
       "Cancelled            0\n",
       "UniqueCarrier        0\n",
       "Dest                 0\n",
       "Origin               0\n",
       "Week                 0\n",
       "Month                0\n",
       "Day                  0\n",
       "Year                 0\n",
       "ArrTime              0\n",
       "DestCityName         0\n",
       "dtype: int64"
      ]
     },
     "execution_count": 225,
     "metadata": {},
     "output_type": "execute_result"
    }
   ],
   "source": [
    "dt.isnull().sum().sort_values()"
   ]
  },
  {
   "cell_type": "code",
   "execution_count": 226,
   "metadata": {
    "collapsed": false
   },
   "outputs": [
    {
     "data": {
      "text/plain": [
       "FlightNum              int64\n",
       "Year                   int64\n",
       "Day                    int64\n",
       "Month                  int64\n",
       "Week                   int64\n",
       "Origin                object\n",
       "Dest                  object\n",
       "UniqueCarrier         object\n",
       "Cancelled            float64\n",
       "ArrTime              float64\n",
       "DepTime              float64\n",
       "CRSArrTime             int64\n",
       "CRSDepTime             int64\n",
       "DepDel15             float64\n",
       "ArrDel15             float64\n",
       "CRSElapsedTime       float64\n",
       "ActualElapsedTime    float64\n",
       "ArrDelayMinutes      float64\n",
       "DepDelayMinutes      float64\n",
       "OriginCityName        object\n",
       "DestCityName          object\n",
       "dtype: object"
      ]
     },
     "execution_count": 226,
     "metadata": {},
     "output_type": "execute_result"
    }
   ],
   "source": [
    "dt.dtypes"
   ]
  },
  {
   "cell_type": "code",
   "execution_count": 227,
   "metadata": {
    "collapsed": false
   },
   "outputs": [],
   "source": [
    "dt[['Cancelled','ArrTime','DepTime','DepDel15','ArrDel15',\n",
    "    'CRSElapsedTime','ActualElapsedTime','ArrDelayMinutes','DepDelayMinutes']]=dt[['Cancelled',\n",
    "                                                                                   'ArrTime','DepTime','DepDel15','ArrDel15','CRSElapsedTime','ActualElapsedTime','ArrDelayMinutes','DepDelayMinutes']].astype(int)"
   ]
  },
  {
   "cell_type": "markdown",
   "metadata": {},
   "source": [
    "### Mapping from the LOOKUP tables"
   ]
  },
  {
   "cell_type": "code",
   "execution_count": 228,
   "metadata": {
    "collapsed": true
   },
   "outputs": [],
   "source": [
    "# # Mappping Day number to name\n",
    "# days = {1:'Monday',2:'Tuesday',3:'Wedsday',4:'Thursday',5:'Friday',6:'Saturday',7:'Sunday'}\n",
    "\n",
    "# df['Day'] = df['DayOfWeek'].apply(lambda x: days[x])"
   ]
  },
  {
   "cell_type": "code",
   "execution_count": 229,
   "metadata": {
    "collapsed": true
   },
   "outputs": [],
   "source": [
    "cancel = pd.read_csv(cur_path+'/Lookup/CancellationCode.csv', low_memory=False)\n",
    "airport = pd.read_csv(cur_path+'/Lookup/AirportID.csv', low_memory=False)\n",
    "carrier = pd.read_csv(cur_path+'/Lookup/UniqueCarrier.csv', low_memory=False)\n",
    "origin = pd.read_csv(cur_path+'/Lookup/Origin.csv', low_memory=False)\n",
    "\n",
    "cancel_dict = cancel.set_index('Code').T.to_dict('list')\n",
    "origin_dict = origin.set_index('Code').T.to_dict('list')\n",
    "airport_dict = airport.set_index('Code').T.to_dict('list')\n",
    "carrier_dict = carrier.set_index('Code').T.to_dict('list')"
   ]
  },
  {
   "cell_type": "code",
   "execution_count": 230,
   "metadata": {
    "collapsed": true
   },
   "outputs": [],
   "source": [
    "#df['day'] = df['DayOfWeek'].apply(lambda x: days[x])"
   ]
  },
  {
   "cell_type": "markdown",
   "metadata": {},
   "source": [
    "### Adding new columns to differentiate flights felayed and ontime flights"
   ]
  },
  {
   "cell_type": "code",
   "execution_count": 231,
   "metadata": {
    "collapsed": true
   },
   "outputs": [],
   "source": [
    "dt['Flight_Status'] = 0\n",
    "dt.loc[dt.DepDel15==1.0 ,'Flight_Status'] = 1\n",
    "dt.loc[dt.ArrDel15==1.0,'Flight_Status'] = 1\n",
    "dt['Flight_Status'] = dt['Flight_Status'].astype(int)"
   ]
  },
  {
   "cell_type": "code",
   "execution_count": 232,
   "metadata": {
    "collapsed": false
   },
   "outputs": [
    {
     "data": {
      "text/plain": [
       "FlightNum            0\n",
       "Year                 0\n",
       "Day                  0\n",
       "Month                0\n",
       "Week                 0\n",
       "Origin               0\n",
       "Dest                 0\n",
       "UniqueCarrier        0\n",
       "Cancelled            0\n",
       "ArrTime              0\n",
       "DepTime              0\n",
       "CRSArrTime           0\n",
       "CRSDepTime           0\n",
       "DepDel15             0\n",
       "ArrDel15             0\n",
       "CRSElapsedTime       0\n",
       "ActualElapsedTime    0\n",
       "ArrDelayMinutes      0\n",
       "DepDelayMinutes      0\n",
       "OriginCityName       0\n",
       "DestCityName         0\n",
       "Flight_Status        0\n",
       "dtype: int64"
      ]
     },
     "execution_count": 232,
     "metadata": {},
     "output_type": "execute_result"
    }
   ],
   "source": [
    "dt.isnull().sum()"
   ]
  },
  {
   "cell_type": "markdown",
   "metadata": {},
   "source": [
    "### Removing Outliers"
   ]
  },
  {
   "cell_type": "code",
   "execution_count": 233,
   "metadata": {
    "collapsed": false
   },
   "outputs": [
    {
     "data": {
      "text/plain": [
       "(5538145, 22)"
      ]
     },
     "execution_count": 233,
     "metadata": {},
     "output_type": "execute_result"
    }
   ],
   "source": [
    "dt.shape"
   ]
  },
  {
   "cell_type": "code",
   "execution_count": 234,
   "metadata": {
    "collapsed": false
   },
   "outputs": [
    {
     "data": {
      "text/plain": [
       "(48, 22)"
      ]
     },
     "execution_count": 234,
     "metadata": {},
     "output_type": "execute_result"
    }
   ],
   "source": [
    "dt[dt.DepDelayMinutes>1350].shape"
   ]
  },
  {
   "cell_type": "code",
   "execution_count": 235,
   "metadata": {
    "collapsed": false
   },
   "outputs": [
    {
     "data": {
      "text/plain": [
       "(41, 22)"
      ]
     },
     "execution_count": 235,
     "metadata": {},
     "output_type": "execute_result"
    }
   ],
   "source": [
    "dt[dt.ArrDelayMinutes>1400].shape"
   ]
  },
  {
   "cell_type": "code",
   "execution_count": 236,
   "metadata": {
    "collapsed": true
   },
   "outputs": [],
   "source": [
    "dd =dt"
   ]
  },
  {
   "cell_type": "code",
   "execution_count": 237,
   "metadata": {
    "collapsed": false
   },
   "outputs": [],
   "source": [
    "dd = dd[dd.DepDelayMinutes<1350]"
   ]
  },
  {
   "cell_type": "code",
   "execution_count": 238,
   "metadata": {
    "collapsed": false
   },
   "outputs": [
    {
     "data": {
      "text/plain": [
       "(5538095, 22)"
      ]
     },
     "execution_count": 238,
     "metadata": {},
     "output_type": "execute_result"
    }
   ],
   "source": [
    "dd = dd[dd.ArrDelayMinutes<1400]\n",
    "dd.shape"
   ]
  },
  {
   "cell_type": "code",
   "execution_count": 239,
   "metadata": {
    "collapsed": false
   },
   "outputs": [],
   "source": [
    "dd = dd[~((dd['Month'] == 1) & (dd['ArrDelayMinutes']>1320))]\n",
    "dd = dd[~((dd['Month'] == 2) & (dd['ArrDelayMinutes']>1220))]\n",
    "dd = dd[~((dd['Month'] == 3) & (dd['ArrDelayMinutes']>1220))]\n",
    "dd = dd[~((dd['Month'] == 5) & (dd['ArrDelayMinutes']>1500))]\n",
    "dd = dd[~((dd['Month'] == 6) & (dd['ArrDelayMinutes']>1200))]\n",
    "dd = dd[~((dd['Month'] == 7) & (dd['ArrDelayMinutes']>1350))]\n",
    "dd = dd[~((dd['Month'] == 9) & (dd['ArrDelayMinutes']>1120))]\n",
    "dd = dd[~((dd['Month'] == 9) & (dd['ArrDelayMinutes']>1020))]\n",
    "dd = dd[~((dd['Month'] == 10) & (dd['ArrDelayMinutes']>1270))]\n",
    "dd = dd[~((dd['Month'] == 11) & (dd['ArrDelayMinutes']>1200))]\n",
    "dd = dd[~((dd['Month'] == 12) & (dd['ArrDelayMinutes']>1350))]"
   ]
  },
  {
   "cell_type": "code",
   "execution_count": 240,
   "metadata": {
    "collapsed": false
   },
   "outputs": [
    {
     "data": {
      "text/plain": [
       "(5538054, 22)"
      ]
     },
     "execution_count": 240,
     "metadata": {},
     "output_type": "execute_result"
    }
   ],
   "source": [
    "dd.shape"
   ]
  },
  {
   "cell_type": "code",
   "execution_count": 241,
   "metadata": {
    "collapsed": false
   },
   "outputs": [],
   "source": [
    "#dd[(dd.Month==11) & (dd.DepDelayMinutes>1100)]"
   ]
  },
  {
   "cell_type": "code",
   "execution_count": 242,
   "metadata": {
    "collapsed": true
   },
   "outputs": [],
   "source": [
    "dd = dd[~((dd['Month'] == 2) & (dd['DepDelayMinutes']>1220))]\n",
    "dd = dd[~((dd['Month'] == 4) & (dd['DepDelayMinutes']>1220))]\n",
    "dd = dd[~((dd['Month'] == 5) & (dd['DepDelayMinutes']>1200))]\n",
    "dd = dd[~((dd['Month'] == 10) & (dd['DepDelayMinutes']>1210))]\n",
    "dd = dd[~((dd['Month'] == 11) & (dd['DepDelayMinutes']>1100))]\n",
    "dd = dd[~((dd['Month'] == 12) & (dd['DepDelayMinutes']>1350))]"
   ]
  },
  {
   "cell_type": "code",
   "execution_count": 243,
   "metadata": {
    "collapsed": false
   },
   "outputs": [
    {
     "data": {
      "text/plain": [
       "(5538041, 22)"
      ]
     },
     "execution_count": 243,
     "metadata": {},
     "output_type": "execute_result"
    }
   ],
   "source": [
    "dd.shape"
   ]
  },
  {
   "cell_type": "code",
   "execution_count": 125,
   "metadata": {
    "collapsed": false
   },
   "outputs": [
    {
     "data": {
      "image/png": "[encoded data removed]",
      "text/plain": [
       "<matplotlib.figure.Figure at 0x11af826d8>"
      ]
     },
     "metadata": {},
     "output_type": "display_data"
    }
   ],
   "source": [
    "import matplotlib.pyplot as plt\n",
    "import seaborn as sns\n",
    "import numpy as np\n",
    "color = sns.color_palette()\n",
    "\n",
    "sns.lmplot(x='Month', y='DepDelayMinutes', data=dd, fit_reg=False)\n",
    "plt.show()"
   ]
  },
  {
   "cell_type": "code",
   "execution_count": 126,
   "metadata": {
    "collapsed": false
   },
   "outputs": [
    {
     "data": {
      "image/png": "[encoded data removed]",
      "text/plain": [
       "<matplotlib.figure.Figure at 0x11c9ca978>"
      ]
     },
     "metadata": {},
     "output_type": "display_data"
    }
   ],
   "source": [
    "import matplotlib.pyplot as plt\n",
    "import seaborn as sns\n",
    "import numpy as np\n",
    "color = sns.color_palette()\n",
    "\n",
    "sns.lmplot(x='Month', y='ArrDelayMinutes', data=dd, fit_reg=False)\n",
    "plt.show()"
   ]
  },
  {
   "cell_type": "code",
   "execution_count": 30,
   "metadata": {
    "collapsed": false
   },
   "outputs": [
    {
     "data": {
      "image/png": "[encoded data removed]",
      "text/plain": [
       "<matplotlib.figure.Figure at 0x115be36a0>"
      ]
     },
     "metadata": {},
     "output_type": "display_data"
    }
   ],
   "source": [
    "import matplotlib.pyplot as plt\n",
    "import seaborn as sns\n",
    "import numpy as np\n",
    "color = sns.color_palette()\n",
    "\n",
    "sns.lmplot(x='Month', y='ArrDelayMinutes', data=dt, fit_reg=False)\n",
    "plt.show()"
   ]
  },
  {
   "cell_type": "code",
   "execution_count": 31,
   "metadata": {
    "collapsed": false
   },
   "outputs": [
    {
     "data": {
      "image/png": "[encoded data removed]",
      "text/plain": [
       "<matplotlib.figure.Figure at 0x115be32e8>"
      ]
     },
     "metadata": {},
     "output_type": "display_data"
    }
   ],
   "source": [
    "import matplotlib.pyplot as plt\n",
    "import seaborn as sns\n",
    "import numpy as np\n",
    "color = sns.color_palette()\n",
    "\n",
    "sns.lmplot(x='Month', y='DepDelayMinutes', data=dt, fit_reg=False)\n",
    "plt.show()"
   ]
  },
  {
   "cell_type": "code",
   "execution_count": 145,
   "metadata": {
    "collapsed": true
   },
   "outputs": [],
   "source": [
    "#dd.to_csv(cur_path+'/Data2016_Cleaned.csv', index = False)"
   ]
  },
  {
   "cell_type": "markdown",
   "metadata": {},
   "source": [
    "# DATA CLEANING 2017"
   ]
  },
  {
   "cell_type": "code",
   "execution_count": 245,
   "metadata": {
    "collapsed": false
   },
   "outputs": [
    {
     "data": {
      "text/plain": [
       "(4276457, 109)"
      ]
     },
     "execution_count": 245,
     "metadata": {},
     "output_type": "execute_result"
    }
   ],
   "source": [
    "df1 = pd.read_csv(open(cur_path+'/Data2017_Uncleaned.csv','rU'), encoding='utf-8')\n",
    "df1.shape"
   ]
  },
  {
   "cell_type": "code",
   "execution_count": 246,
   "metadata": {
    "collapsed": true
   },
   "outputs": [],
   "source": [
    "missing_data1 = df1.isnull().sum().to_frame(name='Missing_Count').reset_index()\n",
    "missing_data1['Missing_percent'] = (missing_data1['Missing_Count']/df1.shape[0])*100\n",
    "missing_data1 = missing_data1.sort_values(by='Missing_percent', axis=0, ascending=True)\n",
    "features1 = missing_data1['index'][(missing_data1.Missing_percent<99.38)]\n",
    "len(features1)\n",
    "d1 = df1[features1]"
   ]
  },
  {
   "cell_type": "code",
   "execution_count": 247,
   "metadata": {
    "collapsed": true
   },
   "outputs": [],
   "source": [
    "d1 = d1.rename(columns = {'DayofMonth':'Day','DayOfWeek':'Week'})"
   ]
  },
  {
   "cell_type": "code",
   "execution_count": 248,
   "metadata": {
    "collapsed": false
   },
   "outputs": [
    {
     "data": {
      "text/plain": [
       "(4276457, 21)"
      ]
     },
     "execution_count": 248,
     "metadata": {},
     "output_type": "execute_result"
    }
   ],
   "source": [
    "dt1= d1[columns]\n",
    "dt1.shape"
   ]
  },
  {
   "cell_type": "code",
   "execution_count": 249,
   "metadata": {
    "collapsed": false
   },
   "outputs": [
    {
     "data": {
      "text/plain": [
       "(4203809, 21)"
      ]
     },
     "execution_count": 249,
     "metadata": {},
     "output_type": "execute_result"
    }
   ],
   "source": [
    "dt1 = dt1[dt1.Cancelled==0]\n",
    "dt1.shape"
   ]
  },
  {
   "cell_type": "code",
   "execution_count": 250,
   "metadata": {
    "collapsed": false
   },
   "outputs": [
    {
     "data": {
      "text/plain": [
       "FlightNum                0\n",
       "Year                     0\n",
       "Day                      0\n",
       "Month                    0\n",
       "Week                     0\n",
       "Origin                   0\n",
       "Dest                     0\n",
       "UniqueCarrier            0\n",
       "Cancelled                0\n",
       "ArrTime               1572\n",
       "DepTime                  0\n",
       "CRSArrTime               0\n",
       "CRSDepTime               0\n",
       "DepDel15                 0\n",
       "ArrDel15             10212\n",
       "CRSElapsedTime           0\n",
       "ActualElapsedTime    10212\n",
       "ArrDelayMinutes      10212\n",
       "DepDelayMinutes          0\n",
       "OriginCityName           0\n",
       "DestCityName             0\n",
       "dtype: int64"
      ]
     },
     "execution_count": 250,
     "metadata": {},
     "output_type": "execute_result"
    }
   ],
   "source": [
    "dt1.isnull().sum()"
   ]
  },
  {
   "cell_type": "code",
   "execution_count": 251,
   "metadata": {
    "collapsed": false
   },
   "outputs": [
    {
     "data": {
      "text/plain": [
       "(4130702, 21)"
      ]
     },
     "execution_count": 251,
     "metadata": {},
     "output_type": "execute_result"
    }
   ],
   "source": [
    "dt1 = dt1[(dt.ArrTime.notnull()) & (dt1.ActualElapsedTime.notnull())]\n",
    "dt1.shape"
   ]
  },
  {
   "cell_type": "code",
   "execution_count": 252,
   "metadata": {
    "collapsed": true
   },
   "outputs": [],
   "source": [
    "dt1[['Cancelled','ArrTime','DepTime','DepDel15','ArrDel15',\n",
    "    'CRSElapsedTime','ActualElapsedTime','ArrDelayMinutes','DepDelayMinutes']]=dt1[['Cancelled',\n",
    "                                                                                   'ArrTime','DepTime','DepDel15','ArrDel15','CRSElapsedTime','ActualElapsedTime','ArrDelayMinutes','DepDelayMinutes']].astype(int)"
   ]
  },
  {
   "cell_type": "code",
   "execution_count": 253,
   "metadata": {
    "collapsed": true
   },
   "outputs": [],
   "source": [
    "dt1['Flight_Status'] = 0\n",
    "dt1.loc[dt1.DepDel15==1.0 ,'Flight_Status'] = 1\n",
    "dt1.loc[dt1.ArrDel15==1.0,'Flight_Status'] = 1\n",
    "dt1['Flight_Status'] = dt1['Flight_Status'].astype(int)"
   ]
  },
  {
   "cell_type": "code",
   "execution_count": 254,
   "metadata": {
    "collapsed": false
   },
   "outputs": [
    {
     "data": {
      "text/plain": [
       "(4130702, 22)"
      ]
     },
     "execution_count": 254,
     "metadata": {},
     "output_type": "execute_result"
    }
   ],
   "source": [
    "dd1 = dt1\n",
    "dd1.shape"
   ]
  },
  {
   "cell_type": "code",
   "execution_count": 255,
   "metadata": {
    "collapsed": true
   },
   "outputs": [],
   "source": [
    "dd1 = dd1[~((dd1['Month'] == 1) & (dd1['ArrDelayMinutes']>1500))]\n",
    "dd1 = dd1[~((dd1['Month'] == 3) & (dd1['ArrDelayMinutes']>1500))]\n",
    "dd1 = dd1[~((dd1['Month'] == 9) & (dd1['ArrDelayMinutes']>1500))]\n",
    "dd1 = dd1[~((dd1['Month'] == 5) & (dd1['ArrDelayMinutes']>1530))]\n",
    "dd1 = dd1[~((dd1['Month'] == 6) & (dd1['ArrDelayMinutes']>1500))]\n",
    "dd1 = dd1[~((dd1['Month'] == 7) & (dd1['ArrDelayMinutes']>1550))]\n",
    "dd1 = dd1[~((dd1['Month'] == 9) & (dd1['ArrDelayMinutes']>1300))]"
   ]
  },
  {
   "cell_type": "code",
   "execution_count": 198,
   "metadata": {
    "collapsed": false
   },
   "outputs": [
    {
     "data": {
      "image/png": "[encoded data removed]",
      "text/plain": [
       "<matplotlib.figure.Figure at 0x11af3bc88>"
      ]
     },
     "metadata": {},
     "output_type": "display_data"
    }
   ],
   "source": [
    "import matplotlib.pyplot as plt\n",
    "import seaborn as sns\n",
    "import numpy as np\n",
    "color = sns.color_palette()\n",
    "\n",
    "sns.lmplot(x='Month', y='ArrDelayMinutes', data=dd1, fit_reg=False)\n",
    "plt.show()"
   ]
  },
  {
   "cell_type": "code",
   "execution_count": 256,
   "metadata": {
    "collapsed": true
   },
   "outputs": [],
   "source": [
    "dd1 = dd1[~((dd1['Month'] == 1) & (dd1['DepDelayMinutes']>1500))]\n",
    "dd1 = dd1[~((dd1['Month'] == 3) & (dd1['DepDelayMinutes']>1500))]\n",
    "dd1 = dd1[~((dd1['Month'] == 4) & (dd1['DepDelayMinutes']>1500))]\n",
    "dd1 = dd1[~((dd1['Month'] == 5) & (dd1['DepDelayMinutes']>1520))]\n",
    "dd1 = dd1[~((dd1['Month'] == 6) & (dd1['DepDelayMinutes']>1500))]\n",
    "dd1 = dd1[~((dd1['Month'] == 7) & (dd1['DepDelayMinutes']>1500))]\n",
    "dd1 = dd1[~((dd1['Month'] == 9) & (dd1['DepDelayMinutes']>1300))]"
   ]
  },
  {
   "cell_type": "code",
   "execution_count": 197,
   "metadata": {
    "collapsed": false
   },
   "outputs": [
    {
     "data": {
      "image/png": "[encoded data removed]",
      "text/plain": [
       "<matplotlib.figure.Figure at 0x146d0a240>"
      ]
     },
     "metadata": {},
     "output_type": "display_data"
    }
   ],
   "source": [
    "import matplotlib.pyplot as plt\n",
    "import seaborn as sns\n",
    "import numpy as np\n",
    "color = sns.color_palette()\n",
    "\n",
    "sns.lmplot(x='Month', y='DepDelayMinutes', data=dd1, fit_reg=False)\n",
    "plt.show()"
   ]
  },
  {
   "cell_type": "code",
   "execution_count": 213,
   "metadata": {
    "collapsed": false
   },
   "outputs": [
    {
     "data": {
      "text/plain": [
       "(4130680, 22)"
      ]
     },
     "execution_count": 213,
     "metadata": {},
     "output_type": "execute_result"
    }
   ],
   "source": [
    "dd1.shape"
   ]
  },
  {
   "cell_type": "code",
   "execution_count": 258,
   "metadata": {
    "collapsed": false
   },
   "outputs": [
    {
     "data": {
      "text/plain": [
       "(5538041, 22)"
      ]
     },
     "execution_count": 258,
     "metadata": {},
     "output_type": "execute_result"
    }
   ],
   "source": [
    "dd.shape"
   ]
  },
  {
   "cell_type": "code",
   "execution_count": 259,
   "metadata": {
    "collapsed": true
   },
   "outputs": [],
   "source": [
    "data = pd.concat([dd,dd1])"
   ]
  },
  {
   "cell_type": "code",
   "execution_count": 261,
   "metadata": {
    "collapsed": false
   },
   "outputs": [
    {
     "data": {
      "text/plain": [
       "(9668721, 22)"
      ]
     },
     "execution_count": 261,
     "metadata": {},
     "output_type": "execute_result"
    }
   ],
   "source": [
    "data.shape"
   ]
  },
  {
   "cell_type": "code",
   "execution_count": 262,
   "metadata": {
    "collapsed": false
   },
   "outputs": [
    {
     "data": {
      "text/plain": [
       "FlightNum            0\n",
       "Year                 0\n",
       "Day                  0\n",
       "Month                0\n",
       "Week                 0\n",
       "Origin               0\n",
       "Dest                 0\n",
       "UniqueCarrier        0\n",
       "Cancelled            0\n",
       "ArrTime              0\n",
       "DepTime              0\n",
       "CRSArrTime           0\n",
       "CRSDepTime           0\n",
       "DepDel15             0\n",
       "ArrDel15             0\n",
       "CRSElapsedTime       0\n",
       "ActualElapsedTime    0\n",
       "ArrDelayMinutes      0\n",
       "DepDelayMinutes      0\n",
       "OriginCityName       0\n",
       "DestCityName         0\n",
       "Flight_Status        0\n",
       "dtype: int64"
      ]
     },
     "execution_count": 262,
     "metadata": {},
     "output_type": "execute_result"
    }
   ],
   "source": [
    "data.isnull().sum()"
   ]
  },
  {
   "cell_type": "code",
   "execution_count": 263,
   "metadata": {
    "collapsed": true
   },
   "outputs": [],
   "source": [
    "data.to_csv(cur_path+'/DataClean.csv',index = False)"
   ]
  },
  {
   "cell_type": "code",
   "execution_count": 3,
   "metadata": {
    "collapsed": true
   },
   "outputs": [],
   "source": [
    "data = pd.read_csv(open(cur_path+'/DataClean.csv', 'rU'), encoding = 'utf-8')"
   ]
  },
  {
   "cell_type": "code",
   "execution_count": 4,
   "metadata": {
    "collapsed": true
   },
   "outputs": [],
   "source": [
    "# airports taken into consideration\n",
    "airport = ['DFW', 'DTW', 'SEA', 'JFK', 'SJC', 'ORD', 'PHX', 'STL', 'LAX',\n",
    "       'MCO', 'DEN', 'MIA', 'IAH','SLC', 'TUS','BOS', 'FLL', 'SFO', 'OGG', 'TPA', 'SNA', 'OKC', 'HNL',\n",
    "       'PHL', 'LGA', 'RDU', 'DCA', 'RIC', 'ATL', 'LBB', 'CLT', 'ELP',\n",
    "       'BNA', 'JAC', 'SMF', 'EWR', 'IAD', 'LIH', 'SJU', 'ABQ',\n",
    "       'ORF', 'JAX', 'MSY','MCI', 'GUC', 'IND', 'PDX', 'BWI',\n",
    "       'MSP', 'MKE', 'ONT', 'RSW', 'DSM', 'PSP',\n",
    "       'EGE', 'PBI', 'SDF', 'PIT', 'DAY', 'STX', 'COS',\n",
    "       'CMH', 'MTJ', 'HDN', 'BDL', 'MEM', 'CLE', 'HOU','OAK',\n",
    "       'GEG', 'ANC', 'BUF', 'SYR', 'ALB', 'PVD','ILM', 'ICT',\n",
    "       'PWM', 'GSO', 'CHS', 'MDT', 'BHM', 'ADQ', 'BRW', 'SCC',\n",
    "       'JNU', 'KTN', 'YAK', 'CDV','PSG', 'WRG', 'OME',\n",
    "       'OTZ', 'BUR', 'ADK', 'SWF', 'LGB', 'PSE', 'BQN', 'HPN',\n",
    "       'SAV', 'SRQ', 'BTV', 'ORH','CVG', 'BIS', 'AVL', 'GRR',\n",
    "       'FNT', 'MYR', 'JAN', 'FAR', 'PNS', 'AGS','LEX',\n",
    "       'DAL', 'ATW', 'GPT', 'MLB', 'BZN', 'CHO', 'MSN', 'EYW',\n",
    "       'TRI', 'LFT', 'ROA', 'ECP', 'VPS', 'XNA', 'EVV', 'AVP', 'MDW',\n",
    "       'HSV', 'FAY', 'TYS', 'TLH', 'MSO','TTN',\n",
    "       'PHF', 'FSD', 'LBE','BMI', 'CRW','PPG', 'IAG', 'ACT','SHV', 'FSM', 'MAF',\n",
    "       'SAF', 'JLN', 'LRD', 'BRO', 'TYR', 'GJT', 'DLH',\n",
    "       'SBA', 'ASE', 'IDA', 'RAP', 'FCA', 'LNK', 'AMA',\n",
    "       'BFL', 'MLI', 'LSE', 'SBN', 'PSC','FLG', 'ISN', 'GFK',\n",
    "       'GTF', 'MRY', 'MBS', 'SUN', 'TWF', 'SGF', 'CPR',\n",
    "       'BTR', 'PBG', 'CRP', 'CID', 'SBP', 'RKS', 'CMX', 'MMH', 'PLN',\n",
    "       'EKO', 'GCC', 'MFR', 'SMX', 'EUG', 'RST', 'TVC', 'SPI',\n",
    "       'SGU', 'HLN', 'RDM', 'ACV', 'EAU', 'DVL', 'JMS', 'MKG', 'HYS',\n",
    "       'COD', 'ITH', 'APN', 'ESC', 'BJI', 'MQT',\n",
    "       'BGM', 'RHI', 'LWS', 'IMT', 'BRD', 'INL', 'PIH', 'GUM', 'HIB',\n",
    "       'BTM', 'CDC', 'OTH', 'RDD', 'HRL', 'ISP', 'MHT', 'GNV',\n",
    "       'MEI', 'PIB', 'BPT',  'AEX', 'TXK', 'ROW', 'CLL',\n",
    "       'HOB', 'LCH', 'OAJ', 'ELM', 'VLD', 'MGM', 'BGR', 'GTR',\n",
    "       'CSG', 'BQK', 'DHN', 'EWN', 'ABY', 'SPS', 'SJT', 'GGG',\n",
    "       'ACK', 'MVY', 'HYA', 'GST', 'AKN', 'DLG', 'GCK', 'MHK',\n",
    "       'ABI', 'GRI', 'EFD', 'PGD', 'SPN']"
   ]
  },
  {
   "cell_type": "code",
   "execution_count": 5,
   "metadata": {
    "collapsed": true
   },
   "outputs": [],
   "source": [
    "dt_both = data[data.Origin.isin(airport)]\n",
    "dt_both = dt_both[dt_both.Dest.isin(airport)]"
   ]
  },
  {
   "cell_type": "code",
   "execution_count": 6,
   "metadata": {
    "collapsed": true
   },
   "outputs": [],
   "source": [
    "df_weather2016 = pd.read_csv(cur_path+'/weatherdata2016/weatherdata2016.csv', low_memory=False)\n",
    "df_weather2017 = pd.read_csv(cur_path+'/weatherdata2017/weatherdata2017.csv', low_memory=False)"
   ]
  },
  {
   "cell_type": "code",
   "execution_count": 8,
   "metadata": {
    "collapsed": true
   },
   "outputs": [],
   "source": [
    "df_weather2016=df_weather2016.rename(columns = {'year':'Year','month':'Month','day':'Day'})\n",
    "df_weather2017=df_weather2017.rename(columns = {'year':'Year','month':'Month','day':'Day'})\n",
    "df_weather = pd.concat([df_weather2016,df_weather2017])"
   ]
  },
  {
   "cell_type": "code",
   "execution_count": 10,
   "metadata": {
    "collapsed": false
   },
   "outputs": [],
   "source": [
    "df_weather_origin = df_weather[['station', 'Year', 'Month', 'Day', 'Visibility', 'Wind', 'Precip']]\n",
    "df_weather_origin.columns = ['Origin', 'Year', 'Month', 'Day', 'OriginVisibility', 'OriginWind', 'OriginPrecip']"
   ]
  },
  {
   "cell_type": "code",
   "execution_count": 12,
   "metadata": {
    "collapsed": false
   },
   "outputs": [],
   "source": [
    "result = dt_both.merge(df_weather_origin.drop_duplicates(subset=['Origin', 'Year','Month', 'Day']), how='left',on=['Origin', 'Year','Month', 'Day'])"
   ]
  },
  {
   "cell_type": "code",
   "execution_count": 13,
   "metadata": {
    "collapsed": false
   },
   "outputs": [
    {
     "data": {
      "text/plain": [
       "FlightNum                 0\n",
       "Year                      0\n",
       "Day                       0\n",
       "Month                     0\n",
       "Week                      0\n",
       "Origin                    0\n",
       "Dest                      0\n",
       "UniqueCarrier             0\n",
       "Cancelled                 0\n",
       "ArrTime                   0\n",
       "DepTime                   0\n",
       "CRSArrTime                0\n",
       "CRSDepTime                0\n",
       "DepDel15                  0\n",
       "ArrDel15                  0\n",
       "CRSElapsedTime            0\n",
       "ActualElapsedTime         0\n",
       "ArrDelayMinutes           0\n",
       "DepDelayMinutes           0\n",
       "OriginCityName            0\n",
       "DestCityName              0\n",
       "Flight_Status             0\n",
       "OriginVisibility     395343\n",
       "OriginWind           395343\n",
       "OriginPrecip         395343\n",
       "dtype: int64"
      ]
     },
     "execution_count": 13,
     "metadata": {},
     "output_type": "execute_result"
    }
   ],
   "source": [
    "result.isnull().sum()"
   ]
  },
  {
   "cell_type": "code",
   "execution_count": 14,
   "metadata": {
    "collapsed": true
   },
   "outputs": [],
   "source": [
    "final_combined =result\n",
    "final_combined.OriginVisibility = final_combined.OriginVisibility.fillna((final_combined.OriginVisibility.fillna(method='ffill') +final_combined.OriginVisibility.fillna(method='bfill'))/2)\n",
    "final_combined.OriginWind = final_combined.OriginWind.fillna((final_combined.OriginWind.fillna(method='ffill') +final_combined.OriginWind.fillna(method='bfill'))/2)\n",
    "final_combined.OriginPrecip = final_combined.OriginPrecip.fillna((final_combined.OriginPrecip.fillna(method='ffill') +final_combined.OriginPrecip.fillna(method='bfill'))/2)"
   ]
  },
  {
   "cell_type": "code",
   "execution_count": 15,
   "metadata": {
    "collapsed": true
   },
   "outputs": [],
   "source": [
    "df_dec = final_combined.loc[(final_combined['Month']==9)]"
   ]
  },
  {
   "cell_type": "code",
   "execution_count": 16,
   "metadata": {
    "collapsed": true
   },
   "outputs": [],
   "source": [
    "mode_vis = df_dec.OriginVisibility.mode()[0]\n",
    "mode_wind = df_dec.OriginWind.mode()[0]\n",
    "mode_pre = df_dec.OriginPrecip.mode()[0]"
   ]
  },
  {
   "cell_type": "code",
   "execution_count": 17,
   "metadata": {
    "collapsed": true
   },
   "outputs": [],
   "source": [
    "final_combined.OriginVisibility = final_combined.OriginVisibility.fillna(mode_vis)\n",
    "final_combined.OriginWind = final_combined.OriginWind.fillna(mode_wind)\n",
    "final_combined.OriginPrecip = final_combined.OriginPrecip.fillna(mode_pre)"
   ]
  },
  {
   "cell_type": "code",
   "execution_count": 18,
   "metadata": {
    "collapsed": false
   },
   "outputs": [
    {
     "data": {
      "text/plain": [
       "FlightNum            0\n",
       "Year                 0\n",
       "Day                  0\n",
       "Month                0\n",
       "Week                 0\n",
       "Origin               0\n",
       "Dest                 0\n",
       "UniqueCarrier        0\n",
       "Cancelled            0\n",
       "ArrTime              0\n",
       "DepTime              0\n",
       "CRSArrTime           0\n",
       "CRSDepTime           0\n",
       "DepDel15             0\n",
       "ArrDel15             0\n",
       "CRSElapsedTime       0\n",
       "ActualElapsedTime    0\n",
       "ArrDelayMinutes      0\n",
       "DepDelayMinutes      0\n",
       "OriginCityName       0\n",
       "DestCityName         0\n",
       "Flight_Status        0\n",
       "OriginVisibility     0\n",
       "OriginWind           0\n",
       "OriginPrecip         0\n",
       "dtype: int64"
      ]
     },
     "execution_count": 18,
     "metadata": {},
     "output_type": "execute_result"
    }
   ],
   "source": [
    "final_combined.isnull().sum()"
   ]
  },
  {
   "cell_type": "code",
   "execution_count": 19,
   "metadata": {
    "collapsed": false
   },
   "outputs": [
    {
     "data": {
      "text/plain": [
       "(8006399, 25)"
      ]
     },
     "execution_count": 19,
     "metadata": {},
     "output_type": "execute_result"
    }
   ],
   "source": [
    "final_combined.shape"
   ]
  },
  {
   "cell_type": "code",
   "execution_count": null,
   "metadata": {
    "collapsed": true
   },
   "outputs": [],
   "source": [
    "del final_combined['Cancelled']\n",
    "del final_combined['ArrDel15']\n",
    "del final_combined['DepDel15']"
   ]
  },
  {
   "cell_type": "code",
   "execution_count": 20,
   "metadata": {
    "collapsed": true
   },
   "outputs": [],
   "source": [
    "final_combined.to_csv(cur_path+'/Final_Data.csv',index = False)"
   ]
  },
  {
   "cell_type": "code",
   "execution_count": null,
   "metadata": {
    "collapsed": true
   },
   "outputs": [],
   "source": []
  }
 ],
 "metadata": {
  "anaconda-cloud": {},
  "kernelspec": {
   "display_name": "Python [conda root]",
   "language": "python",
   "name": "conda-root-py"
  },
  "language_info": {
   "codemirror_mode": {
    "name": "ipython",
    "version": 3
   },
   "file_extension": ".py",
   "mimetype": "text/x-python",
   "name": "python",
   "nbconvert_exporter": "python",
   "pygments_lexer": "ipython3",
   "version": "3.5.2"
  }
 },
 "nbformat": 4,
 "nbformat_minor": 2
}
