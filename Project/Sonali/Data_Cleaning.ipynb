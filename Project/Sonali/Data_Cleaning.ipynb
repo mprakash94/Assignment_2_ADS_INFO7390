{
 "cells": [
  {
   "cell_type": "markdown",
   "metadata": {},
   "source": [
    "# ------------------------------------DATA CLEANING--------------------------------------"
   ]
  },
  {
   "cell_type": "markdown",
   "metadata": {},
   "source": [
    "# DATA CLEANING 2016"
   ]
  },
  {
   "cell_type": "markdown",
   "metadata": {},
   "source": [
    "### Imports"
   ]
  },
  {
   "cell_type": "code",
   "execution_count": 1,
   "metadata": {
    "collapsed": false
   },
   "outputs": [],
   "source": [
    "import warnings\n",
    "warnings.filterwarnings('ignore')"
   ]
  },
  {
   "cell_type": "code",
   "execution_count": 2,
   "metadata": {
    "collapsed": true
   },
   "outputs": [],
   "source": [
    "import pandas as pd\n",
    "import numpy as np\n",
    "import csv"
   ]
  },
  {
   "cell_type": "markdown",
   "metadata": {},
   "source": [
    "### Loading the Csvs and combining into a single dataframe"
   ]
  },
  {
   "cell_type": "code",
   "execution_count": 3,
   "metadata": {
    "collapsed": true
   },
   "outputs": [],
   "source": [
    "cur_path = '/Users/sonalichaudhari/Desktop/ADS_Project/Data'"
   ]
  },
  {
   "cell_type": "code",
   "execution_count": 4,
   "metadata": {
    "collapsed": false
   },
   "outputs": [],
   "source": [
    "df = pd.read_csv(open(cur_path+'/Data2016_Uncleaned.csv','rU'), encoding='utf-8')"
   ]
  },
  {
   "cell_type": "markdown",
   "metadata": {},
   "source": [
    "### CLEANING"
   ]
  },
  {
   "cell_type": "code",
   "execution_count": 5,
   "metadata": {
    "collapsed": false
   },
   "outputs": [
    {
     "data": {
      "text/plain": [
       "(5617658, 109)"
      ]
     },
     "execution_count": 5,
     "metadata": {},
     "output_type": "execute_result"
    }
   ],
   "source": [
    "df.shape"
   ]
  },
  {
   "cell_type": "markdown",
   "metadata": {},
   "source": [
    "### Getting rid of columns having 98% or more missing data"
   ]
  },
  {
   "cell_type": "code",
   "execution_count": 6,
   "metadata": {
    "collapsed": false
   },
   "outputs": [
    {
     "data": {
      "text/plain": [
       "62"
      ]
     },
     "execution_count": 6,
     "metadata": {},
     "output_type": "execute_result"
    }
   ],
   "source": [
    "missing_data = df.isnull().sum().to_frame(name='Missing_Count').reset_index()\n",
    "missing_data['Missing_percent'] = (missing_data['Missing_Count']/df.shape[0])*100\n",
    "missing_data = missing_data.sort_values(by='Missing_percent', axis=0, ascending=True)\n",
    "features = missing_data['index'][(missing_data.Missing_percent<99.38)]\n",
    "len(features)"
   ]
  },
  {
   "cell_type": "code",
   "execution_count": 7,
   "metadata": {
    "collapsed": false
   },
   "outputs": [],
   "source": [
    "d = df[features]"
   ]
  },
  {
   "cell_type": "code",
   "execution_count": 55,
   "metadata": {
    "collapsed": false
   },
   "outputs": [
    {
     "data": {
      "text/plain": [
       "Index(['Year', 'DestCityMarketID', 'Dest', 'DestCityName', 'DestState',\n",
       "       'DestStateFips', 'DestStateName', 'DestWac', 'DestAirportSeqID',\n",
       "       'CRSDepTime', 'CRSArrTime', 'ArrTimeBlk', 'Cancelled', 'Diverted',\n",
       "       'Flights', 'DistanceGroup', 'DivAirportLandings', 'DepTimeBlk',\n",
       "       'DestAirportID', 'Distance', 'OriginStateName', 'OriginWac', 'Month',\n",
       "       'DayofMonth', 'DayOfWeek', 'FlightDate', 'UniqueCarrier', 'AirlineID',\n",
       "       'Carrier', 'Quarter', 'Origin', 'OriginStateFips', 'OriginState',\n",
       "       'OriginCityName', 'FlightNum', 'OriginCityMarketID',\n",
       "       'OriginAirportSeqID', 'OriginAirportID', 'CRSElapsedTime', 'TailNum',\n",
       "       'DepTime', 'DepDelay', 'DepDelayMinutes', 'DepDel15',\n",
       "       'DepartureDelayGroups', 'WheelsOff', 'TaxiOut', 'TaxiIn', 'WheelsOn',\n",
       "       'ArrTime', 'ArrivalDelayGroups', 'ActualElapsedTime', 'AirTime',\n",
       "       'ArrDel15', 'ArrDelayMinutes', 'ArrDelay', 'SecurityDelay',\n",
       "       'LateAircraftDelay', 'WeatherDelay', 'CarrierDelay', 'NASDelay',\n",
       "       'CancellationCode', 'Flight_Status', 'Status'],\n",
       "      dtype='object')"
      ]
     },
     "execution_count": 55,
     "metadata": {},
     "output_type": "execute_result"
    }
   ],
   "source": [
    "d.columns"
   ]
  },
  {
   "cell_type": "markdown",
   "metadata": {},
   "source": [
    "### Adding new columns to differentiate flights felayed and ontime flights"
   ]
  },
  {
   "cell_type": "code",
   "execution_count": 54,
   "metadata": {
    "collapsed": true
   },
   "outputs": [],
   "source": [
    "d['Flight_Status'] = 0\n",
    "d.loc[df.DepDel15==1.0 ,'Flight_Status'] = 1\n",
    "d.loc[df.ArrDel15==1.0,'Flight_Status'] = 1\n",
    "d.loc[df.Cancelled==1.0, ['Flight_Status']] = 1\n",
    "d['Flight_Status'] = d['Flight_Status'].astype(int)\n",
    "d['Status'] = np.where(d['Flight_Status']==1,'Delayed', 'On Time')"
   ]
  },
  {
   "cell_type": "markdown",
   "metadata": {
    "collapsed": false
   },
   "source": [
    "### Taking only the columns relevant for the delay"
   ]
  },
  {
   "cell_type": "code",
   "execution_count": 81,
   "metadata": {
    "collapsed": true
   },
   "outputs": [],
   "source": [
    "cols = features.tolist()\n",
    "p = ['FlightDate','TailNum','Carrier','OriginAirportSeqID','OriginCityMarketID','OriginStateFips','OriginState','OriginWac','DestAirportSeqID','DestCityMArketID','DestStateFips','DestWac','DepDelay','DepDel15','DepTimeBlk','SecurityDelay','LateAircraftDelay', 'WeatherDelay', 'CarrierDelay', 'NASDelay',\n",
    "    'ArrDelay','ArrDel15','ArrTimeBlk','Diverted','Flights','AirTime','DistanceGroup','CancellationCode']\n",
    "for i in p:\n",
    "    if i in cols:\n",
    "        cols.remove(i)"
   ]
  },
  {
   "cell_type": "code",
   "execution_count": 82,
   "metadata": {
    "collapsed": false
   },
   "outputs": [
    {
     "data": {
      "text/plain": [
       "(5617658, 35)"
      ]
     },
     "execution_count": 82,
     "metadata": {},
     "output_type": "execute_result"
    }
   ],
   "source": [
    "dt= d[cols]\n",
    "dt.shape"
   ]
  },
  {
   "cell_type": "code",
   "execution_count": 83,
   "metadata": {
    "collapsed": false
   },
   "outputs": [
    {
     "data": {
      "text/plain": [
       "Year                        0\n",
       "DestCityMarketID            0\n",
       "Dest                        0\n",
       "DestCityName                0\n",
       "DestState                   0\n",
       "DestStateName               0\n",
       "CRSDepTime                  0\n",
       "CRSArrTime                  0\n",
       "Cancelled                   0\n",
       "DivAirportLandings          0\n",
       "DestAirportID               0\n",
       "Distance                    0\n",
       "OriginStateName             0\n",
       "Month                       0\n",
       "DayofMonth                  0\n",
       "DayOfWeek                   0\n",
       "UniqueCarrier               0\n",
       "AirlineID                   0\n",
       "Quarter                     0\n",
       "Origin                      0\n",
       "OriginCityName              0\n",
       "FlightNum                   0\n",
       "OriginAirportID             0\n",
       "CRSElapsedTime              6\n",
       "DepTime                 63456\n",
       "DepDelayMinutes         63456\n",
       "DepartureDelayGroups    63456\n",
       "WheelsOff               65418\n",
       "TaxiOut                 65418\n",
       "TaxiIn                  67844\n",
       "WheelsOn                67844\n",
       "ArrTime                 67844\n",
       "ArrivalDelayGroups      79513\n",
       "ActualElapsedTime       79513\n",
       "ArrDelayMinutes         79513\n",
       "dtype: int64"
      ]
     },
     "execution_count": 83,
     "metadata": {},
     "output_type": "execute_result"
    }
   ],
   "source": [
    "dt.isnull().sum()"
   ]
  },
  {
   "cell_type": "markdown",
   "metadata": {
    "collapsed": true
   },
   "source": [
    "### Removing all the Cancelled Flights details"
   ]
  },
  {
   "cell_type": "code",
   "execution_count": 84,
   "metadata": {
    "collapsed": false
   },
   "outputs": [],
   "source": [
    "dt = dt[dt['Cancelled']!=1]"
   ]
  },
  {
   "cell_type": "code",
   "execution_count": 85,
   "metadata": {
    "collapsed": false
   },
   "outputs": [
    {
     "data": {
      "text/plain": [
       "(5551797, 34)"
      ]
     },
     "execution_count": 85,
     "metadata": {},
     "output_type": "execute_result"
    }
   ],
   "source": [
    "del dt['Cancelled']\n",
    "dt.shape"
   ]
  },
  {
   "cell_type": "code",
   "execution_count": 86,
   "metadata": {
    "collapsed": false
   },
   "outputs": [
    {
     "data": {
      "text/plain": [
       "Year                        0\n",
       "DestCityMarketID            0\n",
       "Dest                        0\n",
       "DestCityName                0\n",
       "DestState                   0\n",
       "DestStateName               0\n",
       "CRSDepTime                  0\n",
       "CRSArrTime                  0\n",
       "DivAirportLandings          0\n",
       "DestAirportID               0\n",
       "Distance                    0\n",
       "OriginStateName             0\n",
       "Month                       0\n",
       "DayofMonth                  0\n",
       "DayOfWeek                   0\n",
       "UniqueCarrier               0\n",
       "AirlineID                   0\n",
       "Quarter                     0\n",
       "Origin                      0\n",
       "OriginCityName              0\n",
       "FlightNum                   0\n",
       "OriginAirportID             0\n",
       "CRSElapsedTime              0\n",
       "DepTime                     0\n",
       "DepDelayMinutes             0\n",
       "DepartureDelayGroups        0\n",
       "WheelsOff                   0\n",
       "TaxiOut                     0\n",
       "TaxiIn                   1983\n",
       "WheelsOn                 1983\n",
       "ArrTime                  1983\n",
       "ArrivalDelayGroups      13652\n",
       "ActualElapsedTime       13652\n",
       "ArrDelayMinutes         13652\n",
       "dtype: int64"
      ]
     },
     "execution_count": 86,
     "metadata": {},
     "output_type": "execute_result"
    }
   ],
   "source": [
    "dt.isnull().sum()"
   ]
  },
  {
   "cell_type": "markdown",
   "metadata": {},
   "source": [
    "### Removing row having 'ArrTime','ArrDelayMinutes','ActualElapsedTime','ArrDelayMinutes' Nulls"
   ]
  },
  {
   "cell_type": "code",
   "execution_count": 87,
   "metadata": {
    "collapsed": false
   },
   "outputs": [
    {
     "data": {
      "text/plain": [
       "(5538145, 34)"
      ]
     },
     "execution_count": 87,
     "metadata": {},
     "output_type": "execute_result"
    }
   ],
   "source": [
    "dt = dt[dt['ArrTime'].notnull() & dt['ArrDelayMinutes'].notnull() & dt['ActualElapsedTime'].notnull() & dt['ArrDelayMinutes'].notnull()]\n",
    "dt.shape"
   ]
  },
  {
   "cell_type": "code",
   "execution_count": 88,
   "metadata": {
    "collapsed": false
   },
   "outputs": [
    {
     "data": {
      "text/plain": [
       "Year                    0\n",
       "DestCityMarketID        0\n",
       "Dest                    0\n",
       "DestCityName            0\n",
       "DestState               0\n",
       "DestStateName           0\n",
       "CRSDepTime              0\n",
       "CRSArrTime              0\n",
       "DivAirportLandings      0\n",
       "DestAirportID           0\n",
       "Distance                0\n",
       "OriginStateName         0\n",
       "Month                   0\n",
       "DayofMonth              0\n",
       "DayOfWeek               0\n",
       "UniqueCarrier           0\n",
       "AirlineID               0\n",
       "Quarter                 0\n",
       "Origin                  0\n",
       "OriginCityName          0\n",
       "FlightNum               0\n",
       "OriginAirportID         0\n",
       "CRSElapsedTime          0\n",
       "DepTime                 0\n",
       "DepDelayMinutes         0\n",
       "DepartureDelayGroups    0\n",
       "WheelsOff               0\n",
       "TaxiOut                 0\n",
       "TaxiIn                  0\n",
       "WheelsOn                0\n",
       "ArrTime                 0\n",
       "ArrivalDelayGroups      0\n",
       "ActualElapsedTime       0\n",
       "ArrDelayMinutes         0\n",
       "dtype: int64"
      ]
     },
     "execution_count": 88,
     "metadata": {},
     "output_type": "execute_result"
    }
   ],
   "source": [
    "dt.isnull().sum()"
   ]
  },
  {
   "cell_type": "code",
   "execution_count": 90,
   "metadata": {
    "collapsed": false
   },
   "outputs": [
    {
     "data": {
      "text/plain": [
       "(5538145, 34)"
      ]
     },
     "execution_count": 90,
     "metadata": {},
     "output_type": "execute_result"
    }
   ],
   "source": [
    "dt.shape"
   ]
  },
  {
   "cell_type": "code",
   "execution_count": 226,
   "metadata": {
    "collapsed": false
   },
   "outputs": [
    {
     "data": {
      "text/plain": [
       "(5538145, 34)"
      ]
     },
     "execution_count": 226,
     "metadata": {},
     "output_type": "execute_result"
    }
   ],
   "source": [
    "dd = dt\n",
    "dd.shape"
   ]
  },
  {
   "cell_type": "markdown",
   "metadata": {},
   "source": [
    "### Removing Outliers"
   ]
  },
  {
   "cell_type": "code",
   "execution_count": 227,
   "metadata": {
    "collapsed": false
   },
   "outputs": [
    {
     "data": {
      "text/plain": [
       "(48, 34)"
      ]
     },
     "execution_count": 227,
     "metadata": {},
     "output_type": "execute_result"
    }
   ],
   "source": [
    "dt[dt.DepDelayMinutes>1350].shape"
   ]
  },
  {
   "cell_type": "code",
   "execution_count": 228,
   "metadata": {
    "collapsed": false
   },
   "outputs": [
    {
     "data": {
      "text/plain": [
       "(41, 34)"
      ]
     },
     "execution_count": 228,
     "metadata": {},
     "output_type": "execute_result"
    }
   ],
   "source": [
    "dt[dt.ArrDelayMinutes>1400].shape"
   ]
  },
  {
   "cell_type": "code",
   "execution_count": 229,
   "metadata": {
    "collapsed": false
   },
   "outputs": [
    {
     "data": {
      "text/plain": [
       "(5538095, 34)"
      ]
     },
     "execution_count": 229,
     "metadata": {},
     "output_type": "execute_result"
    }
   ],
   "source": [
    "dd = dd[dd.DepDelayMinutes<1350]\n",
    "dd.shape"
   ]
  },
  {
   "cell_type": "code",
   "execution_count": 234,
   "metadata": {
    "collapsed": false
   },
   "outputs": [
    {
     "data": {
      "text/plain": [
       "(5538095, 34)"
      ]
     },
     "execution_count": 234,
     "metadata": {},
     "output_type": "execute_result"
    }
   ],
   "source": [
    "dd = dd[dd.ArrDelayMinutes<1400]\n",
    "dd.shape"
   ]
  },
  {
   "cell_type": "code",
   "execution_count": 231,
   "metadata": {
    "collapsed": false
   },
   "outputs": [],
   "source": [
    "#dd[(dd.Month==4) & (dd.ArrDelayMinutes >1200)]"
   ]
  },
  {
   "cell_type": "code",
   "execution_count": 233,
   "metadata": {
    "collapsed": false
   },
   "outputs": [],
   "source": [
    "#dd[(dd.Month==9) & (dd.ArrDelayMinutes >1210)]"
   ]
  },
  {
   "cell_type": "code",
   "execution_count": 235,
   "metadata": {
    "collapsed": false
   },
   "outputs": [],
   "source": [
    "dd = dd.drop(((dd.Month==4) & (dd.ArrDelayMinutes >1200))|((dd.DepDelayMinutes>1200) & (dd.Month==2)) |((dd.DepDelayMinutes>1210) & (dd.Month==5))|((dd.DepDelayMinutes>1200) & (dd.Month==9))| ((dd.DepDelayMinutes>1220) & (dd.Month==10))|((dd.DepDelayMinutes>1200) & (dd.Month==11))|((dd.DepDelayMinutes>1300) & (dd.Month==12)))"
   ]
  },
  {
   "cell_type": "code",
   "execution_count": 236,
   "metadata": {
    "collapsed": false
   },
   "outputs": [
    {
     "data": {
      "text/plain": [
       "(5538093, 34)"
      ]
     },
     "execution_count": 236,
     "metadata": {},
     "output_type": "execute_result"
    }
   ],
   "source": [
    "dd.shape"
   ]
  },
  {
   "cell_type": "code",
   "execution_count": 237,
   "metadata": {
    "collapsed": false
   },
   "outputs": [],
   "source": [
    "dd = dd[dd.ArrDelayMinutes <= 1325]"
   ]
  },
  {
   "cell_type": "code",
   "execution_count": 238,
   "metadata": {
    "collapsed": false
   },
   "outputs": [],
   "source": [
    "#dd[(dd.DepDelayMinutes>1200) & (dd.Month==2)]"
   ]
  },
  {
   "cell_type": "code",
   "execution_count": 239,
   "metadata": {
    "collapsed": false
   },
   "outputs": [],
   "source": [
    "#dd[(dd.DepDelayMinutes>1210) & (dd.Month==5)]"
   ]
  },
  {
   "cell_type": "code",
   "execution_count": 240,
   "metadata": {
    "collapsed": false
   },
   "outputs": [],
   "source": [
    "#dd[(dd.DepDelayMinutes>1200) & (dd.Month==9)]"
   ]
  },
  {
   "cell_type": "code",
   "execution_count": 241,
   "metadata": {
    "collapsed": false
   },
   "outputs": [],
   "source": [
    "#dd[(dd.DepDelayMinutes>1220) & (dd.Month==10)]"
   ]
  },
  {
   "cell_type": "code",
   "execution_count": 242,
   "metadata": {
    "collapsed": false
   },
   "outputs": [],
   "source": [
    "#dd[(dd.DepDelayMinutes>1200) & (dd.Month==11)]"
   ]
  },
  {
   "cell_type": "code",
   "execution_count": 243,
   "metadata": {
    "collapsed": false
   },
   "outputs": [],
   "source": [
    "#dd[(dd.DepDelayMinutes>1300) & (dd.Month==12)]"
   ]
  },
  {
   "cell_type": "code",
   "execution_count": 244,
   "metadata": {
    "collapsed": false
   },
   "outputs": [
    {
     "data": {
      "image/png": "[encoded data removed]",
      "text/plain": [
       "<matplotlib.figure.Figure at 0x331301860>"
      ]
     },
     "metadata": {},
     "output_type": "display_data"
    }
   ],
   "source": [
    "import matplotlib.pyplot as plt\n",
    "import seaborn as sns\n",
    "import numpy as np\n",
    "color = sns.color_palette()\n",
    "\n",
    "sns.lmplot(x='Month', y='ArrDelayMinutes', data=dd, fit_reg=False)\n",
    "plt.show()"
   ]
  },
  {
   "cell_type": "code",
   "execution_count": 245,
   "metadata": {
    "collapsed": false
   },
   "outputs": [
    {
     "data": {
      "image/png": "[encoded data removed]",
      "text/plain": [
       "<matplotlib.figure.Figure at 0x1ddc270f0>"
      ]
     },
     "metadata": {},
     "output_type": "display_data"
    }
   ],
   "source": [
    "import matplotlib.pyplot as plt\n",
    "import seaborn as sns\n",
    "import numpy as np\n",
    "color = sns.color_palette()\n",
    "\n",
    "sns.lmplot(x='Month', y='DepDelayMinutes', data=dd, fit_reg=False)\n",
    "plt.show()"
   ]
  },
  {
   "cell_type": "code",
   "execution_count": 107,
   "metadata": {
    "collapsed": false
   },
   "outputs": [
    {
     "data": {
      "image/png": "[encoded data removed]",
      "text/plain": [
       "<matplotlib.figure.Figure at 0x132dba5c0>"
      ]
     },
     "metadata": {},
     "output_type": "display_data"
    }
   ],
   "source": [
    "import matplotlib.pyplot as plt\n",
    "import seaborn as sns\n",
    "import numpy as np\n",
    "color = sns.color_palette()\n",
    "\n",
    "sns.lmplot(x='Month', y='ArrDelayMinutes', data=dt, fit_reg=False)\n",
    "plt.show()"
   ]
  },
  {
   "cell_type": "code",
   "execution_count": 108,
   "metadata": {
    "collapsed": false
   },
   "outputs": [
    {
     "data": {
      "image/png": "[encoded data removed]",
      "text/plain": [
       "<matplotlib.figure.Figure at 0x1c270bba8>"
      ]
     },
     "metadata": {},
     "output_type": "display_data"
    }
   ],
   "source": [
    "import matplotlib.pyplot as plt\n",
    "import seaborn as sns\n",
    "import numpy as np\n",
    "color = sns.color_palette()\n",
    "\n",
    "sns.lmplot(x='Month', y='DepDelayMinutes', data=dt, fit_reg=False)\n",
    "plt.show()"
   ]
  },
  {
   "cell_type": "code",
   "execution_count": 246,
   "metadata": {
    "collapsed": false
   },
   "outputs": [],
   "source": [
    "dd.to_csv(cur_path+'/Data2016_Cleaned.csv', index = False)"
   ]
  },
  {
   "cell_type": "markdown",
   "metadata": {},
   "source": [
    "# DATA CLEANING 2017"
   ]
  },
  {
   "cell_type": "code",
   "execution_count": 247,
   "metadata": {
    "collapsed": true
   },
   "outputs": [],
   "source": [
    "df1 = pd.read_csv(open(cur_path+'/Data2017_Uncleaned.csv','rU'), encoding='utf-8')"
   ]
  },
  {
   "cell_type": "code",
   "execution_count": 248,
   "metadata": {
    "collapsed": false
   },
   "outputs": [
    {
     "data": {
      "text/plain": [
       "(4276457, 109)"
      ]
     },
     "execution_count": 248,
     "metadata": {},
     "output_type": "execute_result"
    }
   ],
   "source": [
    "df1.shape"
   ]
  },
  {
   "cell_type": "code",
   "execution_count": 249,
   "metadata": {
    "collapsed": false
   },
   "outputs": [
    {
     "data": {
      "text/plain": [
       "62"
      ]
     },
     "execution_count": 249,
     "metadata": {},
     "output_type": "execute_result"
    }
   ],
   "source": [
    "missing_data1 = df1.isnull().sum().to_frame(name='Missing_Count').reset_index()\n",
    "missing_data1['Missing_percent'] = (missing_data1['Missing_Count']/df1.shape[0])*100\n",
    "missing_data1 = missing_data1.sort_values(by='Missing_percent', axis=0, ascending=True)\n",
    "features1 = missing_data1['index'][(missing_data1.Missing_percent<99.38)]\n",
    "len(features1)"
   ]
  },
  {
   "cell_type": "code",
   "execution_count": 250,
   "metadata": {
    "collapsed": true
   },
   "outputs": [],
   "source": [
    "d1 = df1[features1]"
   ]
  },
  {
   "cell_type": "code",
   "execution_count": 251,
   "metadata": {
    "collapsed": true
   },
   "outputs": [],
   "source": [
    "d1['Flight_Status'] = 0\n",
    "d1.loc[df.DepDel15==1.0 ,'Flight_Status'] = 1\n",
    "d1.loc[df.ArrDel15==1.0,'Flight_Status'] = 1\n",
    "d1.loc[df.Cancelled==1.0, ['Flight_Status']] = 1\n",
    "d1['Flight_Status'] = d1['Flight_Status'].astype(int)\n",
    "d1['Status'] = np.where(d1['Flight_Status']==1,'Delayed', 'On Time')"
   ]
  },
  {
   "cell_type": "code",
   "execution_count": 252,
   "metadata": {
    "collapsed": false
   },
   "outputs": [
    {
     "data": {
      "text/plain": [
       "(4276457, 35)"
      ]
     },
     "execution_count": 252,
     "metadata": {},
     "output_type": "execute_result"
    }
   ],
   "source": [
    "dt1= d1[cols]\n",
    "dt1.shape"
   ]
  },
  {
   "cell_type": "code",
   "execution_count": 254,
   "metadata": {
    "collapsed": false
   },
   "outputs": [
    {
     "data": {
      "text/plain": [
       "Year                        0\n",
       "DestCityMarketID            0\n",
       "Dest                        0\n",
       "DestCityName                0\n",
       "DestState                   0\n",
       "DestStateName               0\n",
       "CRSDepTime                  0\n",
       "CRSArrTime                  0\n",
       "Cancelled                   0\n",
       "DivAirportLandings          2\n",
       "DestAirportID               0\n",
       "Distance                    0\n",
       "OriginStateName             0\n",
       "Month                       0\n",
       "DayofMonth                  0\n",
       "DayOfWeek                   0\n",
       "UniqueCarrier               0\n",
       "AirlineID                   0\n",
       "Quarter                     0\n",
       "Origin                      0\n",
       "OriginCityName              0\n",
       "FlightNum                   0\n",
       "OriginAirportID             0\n",
       "CRSElapsedTime              7\n",
       "DepTime                 70648\n",
       "DepDelayMinutes         70672\n",
       "DepartureDelayGroups    70672\n",
       "WheelsOff               72211\n",
       "TaxiOut                 72214\n",
       "TaxiIn                  74220\n",
       "WheelsOn                74220\n",
       "ArrTime                 74220\n",
       "ArrivalDelayGroups      82860\n",
       "ActualElapsedTime       82860\n",
       "ArrDelayMinutes         82860\n",
       "dtype: int64"
      ]
     },
     "execution_count": 254,
     "metadata": {},
     "output_type": "execute_result"
    }
   ],
   "source": [
    "dt1.isnull().sum()"
   ]
  },
  {
   "cell_type": "code",
   "execution_count": 255,
   "metadata": {
    "collapsed": true
   },
   "outputs": [],
   "source": [
    "dt1 = dt1[dt1['Cancelled']!=1]\n",
    "del dt1[\"Cancelled\"]"
   ]
  },
  {
   "cell_type": "code",
   "execution_count": 256,
   "metadata": {
    "collapsed": false
   },
   "outputs": [
    {
     "data": {
      "text/plain": [
       "(4193597, 34)"
      ]
     },
     "execution_count": 256,
     "metadata": {},
     "output_type": "execute_result"
    }
   ],
   "source": [
    "dt1 = dt1[dt1['ArrTime'].notnull() & dt1['ArrDelayMinutes'].notnull() & dt1['ActualElapsedTime'].notnull() & dt1['ArrDelayMinutes'].notnull()]\n",
    "dt1.shape"
   ]
  },
  {
   "cell_type": "code",
   "execution_count": 257,
   "metadata": {
    "collapsed": true
   },
   "outputs": [],
   "source": [
    "d1 = dt1"
   ]
  },
  {
   "cell_type": "code",
   "execution_count": 258,
   "metadata": {
    "collapsed": true
   },
   "outputs": [],
   "source": [
    "d1 = d1[d1.DepDelayMinutes<1500]"
   ]
  },
  {
   "cell_type": "code",
   "execution_count": 259,
   "metadata": {
    "collapsed": true
   },
   "outputs": [],
   "source": [
    "d1 = d1[d1.ArrDelayMinutes<1500]"
   ]
  },
  {
   "cell_type": "code",
   "execution_count": 260,
   "metadata": {
    "collapsed": false
   },
   "outputs": [
    {
     "data": {
      "text/plain": [
       "(4193573, 34)"
      ]
     },
     "execution_count": 260,
     "metadata": {},
     "output_type": "execute_result"
    }
   ],
   "source": [
    "d1.shape"
   ]
  },
  {
   "cell_type": "code",
   "execution_count": 261,
   "metadata": {
    "collapsed": true
   },
   "outputs": [],
   "source": [
    "d1 = d1.drop((d1.Month==9) & (d1.ArrDelayMinutes>1300))"
   ]
  },
  {
   "cell_type": "code",
   "execution_count": 262,
   "metadata": {
    "collapsed": false
   },
   "outputs": [
    {
     "data": {
      "text/plain": [
       "Year                    0\n",
       "DestCityMarketID        0\n",
       "Dest                    0\n",
       "DestCityName            0\n",
       "DestState               0\n",
       "DestStateName           0\n",
       "CRSDepTime              0\n",
       "CRSArrTime              0\n",
       "DivAirportLandings      1\n",
       "DestAirportID           0\n",
       "Distance                0\n",
       "OriginStateName         0\n",
       "Month                   0\n",
       "DayofMonth              0\n",
       "DayOfWeek               0\n",
       "UniqueCarrier           0\n",
       "AirlineID               0\n",
       "Quarter                 0\n",
       "Origin                  0\n",
       "OriginCityName          0\n",
       "FlightNum               0\n",
       "OriginAirportID         0\n",
       "CRSElapsedTime          0\n",
       "DepTime                 0\n",
       "DepDelayMinutes         0\n",
       "DepartureDelayGroups    0\n",
       "WheelsOff               0\n",
       "TaxiOut                 0\n",
       "TaxiIn                  0\n",
       "WheelsOn                0\n",
       "ArrTime                 0\n",
       "ArrivalDelayGroups      0\n",
       "ActualElapsedTime       0\n",
       "ArrDelayMinutes         0\n",
       "dtype: int64"
      ]
     },
     "execution_count": 262,
     "metadata": {},
     "output_type": "execute_result"
    }
   ],
   "source": [
    "d1.isnull().sum()"
   ]
  },
  {
   "cell_type": "code",
   "execution_count": 265,
   "metadata": {
    "collapsed": false
   },
   "outputs": [],
   "source": [
    "d1.to_csv(cur_path+'/Data2017_Cleaned.csv', index = False)"
   ]
  },
  {
   "cell_type": "markdown",
   "metadata": {},
   "source": [
    "# END"
   ]
  }
 ],
 "metadata": {
  "anaconda-cloud": {},
  "kernelspec": {
   "display_name": "Python [conda root]",
   "language": "python",
   "name": "conda-root-py"
  },
  "language_info": {
   "codemirror_mode": {
    "name": "ipython",
    "version": 3
   },
   "file_extension": ".py",
   "mimetype": "text/x-python",
   "name": "python",
   "nbconvert_exporter": "python",
   "pygments_lexer": "ipython3",
   "version": "3.5.2"
  }
 },
 "nbformat": 4,
 "nbformat_minor": 2
}
