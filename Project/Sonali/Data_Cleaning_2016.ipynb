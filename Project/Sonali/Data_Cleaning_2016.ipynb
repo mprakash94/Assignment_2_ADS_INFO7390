{
 "cells": [
  {
   "cell_type": "markdown",
   "metadata": {},
   "source": [
    "# Data Cleaning"
   ]
  },
  {
   "cell_type": "code",
   "execution_count": 204,
   "metadata": {
    "collapsed": false
   },
   "outputs": [],
   "source": [
    "import warnings\n",
    "warnings.filterwarnings('ignore')"
   ]
  },
  {
   "cell_type": "code",
   "execution_count": 205,
   "metadata": {
    "collapsed": true
   },
   "outputs": [],
   "source": [
    "import pandas as pd\n",
    "import numpy as np\n",
    "import csv"
   ]
  },
  {
   "cell_type": "code",
   "execution_count": 206,
   "metadata": {
    "collapsed": true
   },
   "outputs": [],
   "source": [
    "cur_path = '/Users/sonalichaudhari/Desktop/ADS_Project/Data'"
   ]
  },
  {
   "cell_type": "code",
   "execution_count": 207,
   "metadata": {
    "collapsed": false
   },
   "outputs": [],
   "source": [
    "d1 = pd.read_csv(cur_path+'/Data2016/On_Time_On_Time_Performance_2016_1/On_Time_On_Time_Performance_2016_1.csv', low_memory=False)\n",
    "d2 = pd.read_csv(cur_path+'/Data2016/On_Time_On_Time_Performance_2016_2/On_Time_On_Time_Performance_2016_2.csv', low_memory=False)\n",
    "d3 = pd.read_csv(cur_path+'/Data2016/On_Time_On_Time_Performance_2016_3/On_Time_On_Time_Performance_2016_3.csv', low_memory=False)\n",
    "d4 = pd.read_csv(cur_path+'/Data2016/On_Time_On_Time_Performance_2016_4/On_Time_On_Time_Performance_2016_4.csv', low_memory=False)\n",
    "d5 = pd.read_csv(cur_path+'/Data2016/On_Time_On_Time_Performance_2016_5/On_Time_On_Time_Performance_2016_5.csv', low_memory=False)\n",
    "d6 = pd.read_csv(cur_path+'/Data2016/On_Time_On_Time_Performance_2016_6/On_Time_On_Time_Performance_2016_6.csv', low_memory=False)\n",
    "d7 = pd.read_csv(cur_path+'/Data2016/On_Time_On_Time_Performance_2016_7/On_Time_On_Time_Performance_2016_7.csv', low_memory=False)\n",
    "d8 = pd.read_csv(cur_path+'/Data2016/On_Time_On_Time_Performance_2016_8/On_Time_On_Time_Performance_2016_8.csv', low_memory=False)\n",
    "d9 = pd.read_csv(cur_path+'/Data2016/On_Time_On_Time_Performance_2016_9/On_Time_On_Time_Performance_2016_9.csv', low_memory=False)\n",
    "d10 = pd.read_csv(cur_path+'/Data2016/On_Time_On_Time_Performance_2016_10/On_Time_On_Time_Performance_2016_10.csv', low_memory=False)\n",
    "d11 = pd.read_csv(cur_path+'/Data2016/On_Time_On_Time_Performance_2016_11/On_Time_On_Time_Performance_2016_11.csv', low_memory=False)\n",
    "d12 = pd.read_csv(cur_path+'/Data2016/On_Time_On_Time_Performance_2016_12/On_Time_On_Time_Performance_2016_12.csv', low_memory=False)"
   ]
  },
  {
   "cell_type": "code",
   "execution_count": 208,
   "metadata": {
    "collapsed": false
   },
   "outputs": [],
   "source": [
    "df = pd.concat([d1, d2, d3, d4, d5, d6, d7, d8, d9, d10, d11, d12])  "
   ]
  },
  {
   "cell_type": "code",
   "execution_count": 209,
   "metadata": {
    "collapsed": false
   },
   "outputs": [],
   "source": [
    "df.head()\n",
    "del df['Unnamed: 109']"
   ]
  },
  {
   "cell_type": "code",
   "execution_count": 210,
   "metadata": {
    "collapsed": false
   },
   "outputs": [
    {
     "data": {
      "text/plain": [
       "(5617658, 109)"
      ]
     },
     "execution_count": 210,
     "metadata": {},
     "output_type": "execute_result"
    }
   ],
   "source": [
    "df.shape"
   ]
  },
  {
   "cell_type": "code",
   "execution_count": 211,
   "metadata": {
    "collapsed": false
   },
   "outputs": [
    {
     "data": {
      "text/html": [
       "<div>\n",
       "<table border=\"1\" class=\"dataframe\">\n",
       "  <thead>\n",
       "    <tr style=\"text-align: right;\">\n",
       "      <th></th>\n",
       "      <th>index</th>\n",
       "      <th>Missing_Count</th>\n",
       "      <th>Missing_percent</th>\n",
       "    </tr>\n",
       "  </thead>\n",
       "  <tbody>\n",
       "    <tr>\n",
       "      <th>0</th>\n",
       "      <td>Year</td>\n",
       "      <td>0</td>\n",
       "      <td>0.0</td>\n",
       "    </tr>\n",
       "    <tr>\n",
       "      <th>1</th>\n",
       "      <td>Quarter</td>\n",
       "      <td>0</td>\n",
       "      <td>0.0</td>\n",
       "    </tr>\n",
       "    <tr>\n",
       "      <th>2</th>\n",
       "      <td>Month</td>\n",
       "      <td>0</td>\n",
       "      <td>0.0</td>\n",
       "    </tr>\n",
       "    <tr>\n",
       "      <th>3</th>\n",
       "      <td>DayofMonth</td>\n",
       "      <td>0</td>\n",
       "      <td>0.0</td>\n",
       "    </tr>\n",
       "    <tr>\n",
       "      <th>4</th>\n",
       "      <td>DayOfWeek</td>\n",
       "      <td>0</td>\n",
       "      <td>0.0</td>\n",
       "    </tr>\n",
       "  </tbody>\n",
       "</table>\n",
       "</div>"
      ],
      "text/plain": [
       "        index  Missing_Count  Missing_percent\n",
       "0        Year              0              0.0\n",
       "1     Quarter              0              0.0\n",
       "2       Month              0              0.0\n",
       "3  DayofMonth              0              0.0\n",
       "4   DayOfWeek              0              0.0"
      ]
     },
     "execution_count": 211,
     "metadata": {},
     "output_type": "execute_result"
    }
   ],
   "source": [
    "missing_data = df.isnull().sum().to_frame(name='Missing_Count').reset_index()\n",
    "missing_data['Missing_percent'] = (missing_data['Missing_Count']/df.shape[0])*100\n",
    "missing_data.head()"
   ]
  },
  {
   "cell_type": "code",
   "execution_count": 212,
   "metadata": {
    "collapsed": false
   },
   "outputs": [
    {
     "data": {
      "text/plain": [
       "62"
      ]
     },
     "execution_count": 212,
     "metadata": {},
     "output_type": "execute_result"
    }
   ],
   "source": [
    "missing_data = missing_data.sort_values(by='Missing_percent', axis=0, ascending=True)\n",
    "features = missing_data['index'][(missing_data.Missing_percent<99.38)]\n",
    "len(features)"
   ]
  },
  {
   "cell_type": "code",
   "execution_count": 213,
   "metadata": {
    "collapsed": false
   },
   "outputs": [],
   "source": [
    "d = df[features]"
   ]
  },
  {
   "cell_type": "code",
   "execution_count": 214,
   "metadata": {
    "collapsed": false
   },
   "outputs": [],
   "source": [
    "#d[['UniqueCarrier','AirlineID','Carrier','TailNum','FlightNum']]\n",
    "#d[['OriginAirportID','OriginAirportSeqID','OriginCityMarketID','Origin','OriginCityName','OriginState','OriginStateName']]\n",
    "#d[['CRSDepTime','DepTime','DepDelayMinutes','DepDel15','CRSArrTime','ArrTime','ArrDelayMinutes','ArrDel15','CRSElapsedTime','ActualElapsedTime']]"
   ]
  },
  {
   "cell_type": "code",
   "execution_count": 215,
   "metadata": {
    "collapsed": true
   },
   "outputs": [],
   "source": [
    "# Taking only the columns relevant for the delay"
   ]
  },
  {
   "cell_type": "code",
   "execution_count": 216,
   "metadata": {
    "collapsed": false
   },
   "outputs": [],
   "source": [
    "dt = d[['Year','Quarter','Month','DayofMonth','DayOfWeek','FlightDate','UniqueCarrier','AirlineID','Carrier','TailNum','FlightNum','OriginAirportID','Origin','Dest','CRSDepTime','DepTime','DepDelayMinutes','DepDel15','CRSArrTime','ArrTime','ArrDelayMinutes','ArrDel15','CRSElapsedTime','ActualElapsedTime','DestAirportID','OriginCityName','OriginState','OriginStateName','DestCityName','DestState','DestStateName','Cancelled']]"
   ]
  },
  {
   "cell_type": "code",
   "execution_count": 217,
   "metadata": {
    "collapsed": true
   },
   "outputs": [],
   "source": [
    "# UniqueCarrier aand Carrier are same data columns\n",
    "del dt['Carrier']"
   ]
  },
  {
   "cell_type": "code",
   "execution_count": 218,
   "metadata": {
    "collapsed": false
   },
   "outputs": [
    {
     "data": {
      "text/plain": [
       "(5617658, 31)"
      ]
     },
     "execution_count": 218,
     "metadata": {},
     "output_type": "execute_result"
    }
   ],
   "source": [
    "dt.shape"
   ]
  },
  {
   "cell_type": "code",
   "execution_count": 219,
   "metadata": {
    "collapsed": false
   },
   "outputs": [
    {
     "data": {
      "text/plain": [
       "Year                     0\n",
       "Quarter                  0\n",
       "Month                    0\n",
       "DayofMonth               0\n",
       "DayOfWeek                0\n",
       "FlightDate               0\n",
       "UniqueCarrier            0\n",
       "AirlineID                0\n",
       "TailNum              12892\n",
       "FlightNum                0\n",
       "OriginAirportID          0\n",
       "Origin                   0\n",
       "Dest                     0\n",
       "CRSDepTime               0\n",
       "DepTime              63456\n",
       "DepDelayMinutes      63456\n",
       "DepDel15             63456\n",
       "CRSArrTime               0\n",
       "ArrTime              67844\n",
       "ArrDelayMinutes      79513\n",
       "ArrDel15             79513\n",
       "CRSElapsedTime           6\n",
       "ActualElapsedTime    79513\n",
       "DestAirportID            0\n",
       "OriginCityName           0\n",
       "OriginState              0\n",
       "OriginStateName          0\n",
       "DestCityName             0\n",
       "DestState                0\n",
       "DestStateName            0\n",
       "Cancelled                0\n",
       "dtype: int64"
      ]
     },
     "execution_count": 219,
     "metadata": {},
     "output_type": "execute_result"
    }
   ],
   "source": [
    "dt.isnull().sum()"
   ]
  },
  {
   "cell_type": "code",
   "execution_count": 220,
   "metadata": {
    "collapsed": true
   },
   "outputs": [],
   "source": [
    "dt = dt[dt['Cancelled']!=1]"
   ]
  },
  {
   "cell_type": "code",
   "execution_count": 221,
   "metadata": {
    "collapsed": false
   },
   "outputs": [
    {
     "data": {
      "text/plain": [
       "(5551797, 31)"
      ]
     },
     "execution_count": 221,
     "metadata": {},
     "output_type": "execute_result"
    }
   ],
   "source": [
    "dt.shape"
   ]
  },
  {
   "cell_type": "code",
   "execution_count": 222,
   "metadata": {
    "collapsed": true
   },
   "outputs": [],
   "source": [
    "dt = dt[dt['ArrDelayMinutes'].notnull() & p['ActualElapsedTime'].notnull() & p['ArrDelayMinutes'].notnull() & p['ArrDel15'].notnull()]"
   ]
  },
  {
   "cell_type": "code",
   "execution_count": 223,
   "metadata": {
    "collapsed": false
   },
   "outputs": [
    {
     "data": {
      "text/plain": [
       "(5538145, 31)"
      ]
     },
     "execution_count": 223,
     "metadata": {},
     "output_type": "execute_result"
    }
   ],
   "source": [
    "dt.shape"
   ]
  },
  {
   "cell_type": "code",
   "execution_count": 224,
   "metadata": {
    "collapsed": false
   },
   "outputs": [
    {
     "data": {
      "text/plain": [
       "Year                 0\n",
       "Quarter              0\n",
       "Month                0\n",
       "DayofMonth           0\n",
       "DayOfWeek            0\n",
       "FlightDate           0\n",
       "UniqueCarrier        0\n",
       "AirlineID            0\n",
       "TailNum              0\n",
       "FlightNum            0\n",
       "OriginAirportID      0\n",
       "Origin               0\n",
       "Dest                 0\n",
       "CRSDepTime           0\n",
       "DepTime              0\n",
       "DepDelayMinutes      0\n",
       "DepDel15             0\n",
       "CRSArrTime           0\n",
       "ArrTime              0\n",
       "ArrDelayMinutes      0\n",
       "ArrDel15             0\n",
       "CRSElapsedTime       0\n",
       "ActualElapsedTime    0\n",
       "DestAirportID        0\n",
       "OriginCityName       0\n",
       "OriginState          0\n",
       "OriginStateName      0\n",
       "DestCityName         0\n",
       "DestState            0\n",
       "DestStateName        0\n",
       "Cancelled            0\n",
       "dtype: int64"
      ]
     },
     "execution_count": 224,
     "metadata": {},
     "output_type": "execute_result"
    }
   ],
   "source": [
    "dt.isnull().sum()"
   ]
  },
  {
   "cell_type": "code",
   "execution_count": 225,
   "metadata": {
    "collapsed": false
   },
   "outputs": [
    {
     "data": {
      "text/plain": [
       "Index(['Year', 'Quarter', 'Month', 'DayofMonth', 'DayOfWeek', 'FlightDate',\n",
       "       'UniqueCarrier', 'AirlineID', 'TailNum', 'FlightNum', 'OriginAirportID',\n",
       "       'Origin', 'Dest', 'CRSDepTime', 'DepTime', 'DepDelayMinutes',\n",
       "       'DepDel15', 'CRSArrTime', 'ArrTime', 'ArrDelayMinutes', 'ArrDel15',\n",
       "       'CRSElapsedTime', 'ActualElapsedTime', 'DestAirportID',\n",
       "       'OriginCityName', 'OriginState', 'OriginStateName', 'DestCityName',\n",
       "       'DestState', 'DestStateName', 'Cancelled'],\n",
       "      dtype='object')"
      ]
     },
     "execution_count": 225,
     "metadata": {},
     "output_type": "execute_result"
    }
   ],
   "source": [
    "dt.columns"
   ]
  },
  {
   "cell_type": "code",
   "execution_count": 226,
   "metadata": {
    "collapsed": true
   },
   "outputs": [],
   "source": [
    "dt['Status'] = 0"
   ]
  },
  {
   "cell_type": "code",
   "execution_count": 227,
   "metadata": {
    "collapsed": false
   },
   "outputs": [],
   "source": [
    "dt.loc[dt.DepDel15==1.0,'Status'] = 1"
   ]
  },
  {
   "cell_type": "code",
   "execution_count": 228,
   "metadata": {
    "collapsed": false
   },
   "outputs": [],
   "source": [
    "dt.loc[dt.ArrDel15==1.0,'Status'] = 1"
   ]
  },
  {
   "cell_type": "code",
   "execution_count": 229,
   "metadata": {
    "collapsed": true
   },
   "outputs": [],
   "source": [
    "# Lookup Tables"
   ]
  },
  {
   "cell_type": "code",
   "execution_count": 199,
   "metadata": {
    "collapsed": false
   },
   "outputs": [],
   "source": [
    "airport = pd.read_csv(cur_path+'/Lookup/AirportID.csv', low_memory=False)\n",
    "\n",
    "carrier = pd.read_csv(cur_path+'/Lookup/UniqueCarrier.csv', low_memory=False)\n",
    "origin = pd.read_csv(cur_path+'/Lookup/Origin.csv', low_memory=False)"
   ]
  },
  {
   "cell_type": "code",
   "execution_count": 200,
   "metadata": {
    "collapsed": false
   },
   "outputs": [],
   "source": [
    "origin_dict = origin.set_index('Code').T.to_dict('list')\n",
    "airport_dict = origin.set_index('Code').T.to_dict('list')\n",
    "carrier_dict = origin.set_index('Code').T.to_dict('list')"
   ]
  },
  {
   "cell_type": "code",
   "execution_count": 202,
   "metadata": {
    "collapsed": false
   },
   "outputs": [
    {
     "data": {
      "text/plain": [
       "'Dallas/Fort Worth'"
      ]
     },
     "execution_count": 202,
     "metadata": {},
     "output_type": "execute_result"
    }
   ],
   "source": [
    "origin_dict['DFW'][0].split(',')[0]"
   ]
  },
  {
   "cell_type": "code",
   "execution_count": 203,
   "metadata": {
    "collapsed": false
   },
   "outputs": [
    {
     "data": {
      "text/html": [
       "<div>\n",
       "<table border=\"1\" class=\"dataframe\">\n",
       "  <thead>\n",
       "    <tr style=\"text-align: right;\">\n",
       "      <th></th>\n",
       "      <th>Code</th>\n",
       "      <th>Description</th>\n",
       "    </tr>\n",
       "  </thead>\n",
       "  <tbody>\n",
       "    <tr>\n",
       "      <th>0</th>\n",
       "      <td>01A</td>\n",
       "      <td>Afognak Lake, AK: Afognak Lake Airport</td>\n",
       "    </tr>\n",
       "    <tr>\n",
       "      <th>1</th>\n",
       "      <td>03A</td>\n",
       "      <td>Granite Mountain, AK: Bear Creek Mining Strip</td>\n",
       "    </tr>\n",
       "    <tr>\n",
       "      <th>2</th>\n",
       "      <td>04A</td>\n",
       "      <td>Lik, AK: Lik Mining Camp</td>\n",
       "    </tr>\n",
       "    <tr>\n",
       "      <th>3</th>\n",
       "      <td>05A</td>\n",
       "      <td>Little Squaw, AK: Little Squaw Airport</td>\n",
       "    </tr>\n",
       "    <tr>\n",
       "      <th>4</th>\n",
       "      <td>06A</td>\n",
       "      <td>Kizhuyak, AK: Kizhuyak Bay</td>\n",
       "    </tr>\n",
       "    <tr>\n",
       "      <th>5</th>\n",
       "      <td>07A</td>\n",
       "      <td>Klawock, AK: Klawock Seaplane Base</td>\n",
       "    </tr>\n",
       "    <tr>\n",
       "      <th>6</th>\n",
       "      <td>08A</td>\n",
       "      <td>Elizabeth Island, AK: Elizabeth Island Airport</td>\n",
       "    </tr>\n",
       "    <tr>\n",
       "      <th>7</th>\n",
       "      <td>09A</td>\n",
       "      <td>Homer, AK: Augustin Island</td>\n",
       "    </tr>\n",
       "    <tr>\n",
       "      <th>8</th>\n",
       "      <td>1B1</td>\n",
       "      <td>Hudson, NY: Columbia County</td>\n",
       "    </tr>\n",
       "    <tr>\n",
       "      <th>9</th>\n",
       "      <td>1G4</td>\n",
       "      <td>Peach Springs, AZ: Grand Canyon West</td>\n",
       "    </tr>\n",
       "    <tr>\n",
       "      <th>10</th>\n",
       "      <td>1N7</td>\n",
       "      <td>Blairstown, NJ: Blairstown Airport</td>\n",
       "    </tr>\n",
       "    <tr>\n",
       "      <th>11</th>\n",
       "      <td>1NY</td>\n",
       "      <td>Penn Yan, NY: Penn Yan Airport</td>\n",
       "    </tr>\n",
       "    <tr>\n",
       "      <th>12</th>\n",
       "      <td>6B0</td>\n",
       "      <td>Middlebury, VT: Middlebury State</td>\n",
       "    </tr>\n",
       "    <tr>\n",
       "      <th>13</th>\n",
       "      <td>7AK</td>\n",
       "      <td>Akun, AK: Akun Airport</td>\n",
       "    </tr>\n",
       "    <tr>\n",
       "      <th>14</th>\n",
       "      <td>8F3</td>\n",
       "      <td>Crosbyton, TX: Crosbyton Municipal</td>\n",
       "    </tr>\n",
       "    <tr>\n",
       "      <th>15</th>\n",
       "      <td>A01</td>\n",
       "      <td>Fairbanks/Ft. Wainwright, AK: Blair Lake</td>\n",
       "    </tr>\n",
       "    <tr>\n",
       "      <th>16</th>\n",
       "      <td>A02</td>\n",
       "      <td>Deadmans Bay, AK: Deadmans Bay Airport</td>\n",
       "    </tr>\n",
       "    <tr>\n",
       "      <th>17</th>\n",
       "      <td>A03</td>\n",
       "      <td>Hallo Bay, AK: Hallo Bay Airport</td>\n",
       "    </tr>\n",
       "    <tr>\n",
       "      <th>18</th>\n",
       "      <td>A04</td>\n",
       "      <td>Red Lake, AK: Red Lake Airport</td>\n",
       "    </tr>\n",
       "    <tr>\n",
       "      <th>19</th>\n",
       "      <td>A05</td>\n",
       "      <td>Shell Lake, AK: Shell Lake Airport</td>\n",
       "    </tr>\n",
       "    <tr>\n",
       "      <th>20</th>\n",
       "      <td>A06</td>\n",
       "      <td>Kougarok, AK: Navigator Airstrip</td>\n",
       "    </tr>\n",
       "    <tr>\n",
       "      <th>21</th>\n",
       "      <td>A07</td>\n",
       "      <td>Selawik, AK: Roland Norton Memorial</td>\n",
       "    </tr>\n",
       "    <tr>\n",
       "      <th>22</th>\n",
       "      <td>A08</td>\n",
       "      <td>Pillar Bay, AK: Pillar Bay Airport</td>\n",
       "    </tr>\n",
       "    <tr>\n",
       "      <th>23</th>\n",
       "      <td>A09</td>\n",
       "      <td>Johnstone Point, AK: Johnstone Point Airport</td>\n",
       "    </tr>\n",
       "    <tr>\n",
       "      <th>24</th>\n",
       "      <td>A11</td>\n",
       "      <td>Bell Creek, AK: Bell Creek Airport</td>\n",
       "    </tr>\n",
       "    <tr>\n",
       "      <th>25</th>\n",
       "      <td>A12</td>\n",
       "      <td>Cinnabar, AK: Cinnabar Airport</td>\n",
       "    </tr>\n",
       "    <tr>\n",
       "      <th>26</th>\n",
       "      <td>A13</td>\n",
       "      <td>Mountaintop Mine, AK: Mountaintop Mine Airport</td>\n",
       "    </tr>\n",
       "    <tr>\n",
       "      <th>27</th>\n",
       "      <td>A14</td>\n",
       "      <td>Whitebear, AK: Whitebear Airport</td>\n",
       "    </tr>\n",
       "    <tr>\n",
       "      <th>28</th>\n",
       "      <td>A15</td>\n",
       "      <td>Puviaq, AK: Puviaq Airport</td>\n",
       "    </tr>\n",
       "    <tr>\n",
       "      <th>29</th>\n",
       "      <td>A16</td>\n",
       "      <td>Arley Lake, AK: Arley Lake Airport</td>\n",
       "    </tr>\n",
       "    <tr>\n",
       "      <th>...</th>\n",
       "      <td>...</td>\n",
       "      <td>...</td>\n",
       "    </tr>\n",
       "    <tr>\n",
       "      <th>6422</th>\n",
       "      <td>ZVA</td>\n",
       "      <td>Miandrivazo, Madagascar: Miandrivazo Airport</td>\n",
       "    </tr>\n",
       "    <tr>\n",
       "      <th>6423</th>\n",
       "      <td>ZVK</td>\n",
       "      <td>Savannakhet, Laos: Savannakhet International</td>\n",
       "    </tr>\n",
       "    <tr>\n",
       "      <th>6424</th>\n",
       "      <td>ZWL</td>\n",
       "      <td>Wollaston Lake, Canada: Wollaston Lake Airport</td>\n",
       "    </tr>\n",
       "    <tr>\n",
       "      <th>6425</th>\n",
       "      <td>ZXA</td>\n",
       "      <td>Rota, Spain: Rota NS</td>\n",
       "    </tr>\n",
       "    <tr>\n",
       "      <th>6426</th>\n",
       "      <td>ZXB</td>\n",
       "      <td>Albuquerque, NM: Double Eagle II</td>\n",
       "    </tr>\n",
       "    <tr>\n",
       "      <th>6427</th>\n",
       "      <td>ZXC</td>\n",
       "      <td>Gasquet, CA: Ward Field</td>\n",
       "    </tr>\n",
       "    <tr>\n",
       "      <th>6428</th>\n",
       "      <td>ZXD</td>\n",
       "      <td>San Isidro, Dominican Republic: San Isidro Int...</td>\n",
       "    </tr>\n",
       "    <tr>\n",
       "      <th>6429</th>\n",
       "      <td>ZXE</td>\n",
       "      <td>Sculthorpe, United Kingdom: Sculthorpe Airport</td>\n",
       "    </tr>\n",
       "    <tr>\n",
       "      <th>6430</th>\n",
       "      <td>ZXF</td>\n",
       "      <td>Illinois Creek, AK: Illinois Creek Airport</td>\n",
       "    </tr>\n",
       "    <tr>\n",
       "      <th>6431</th>\n",
       "      <td>ZXH</td>\n",
       "      <td>Chomondely Sound, AK: Chomondely Sound Airport</td>\n",
       "    </tr>\n",
       "    <tr>\n",
       "      <th>6432</th>\n",
       "      <td>ZXI</td>\n",
       "      <td>Coal Bay, AK: Coal Bay Airport</td>\n",
       "    </tr>\n",
       "    <tr>\n",
       "      <th>6433</th>\n",
       "      <td>ZXJ</td>\n",
       "      <td>Happy Harbour, AK: Happy Harbour Airport</td>\n",
       "    </tr>\n",
       "    <tr>\n",
       "      <th>6434</th>\n",
       "      <td>ZXK</td>\n",
       "      <td>Lancaster Cove, AK: Lancaster Cove Airport</td>\n",
       "    </tr>\n",
       "    <tr>\n",
       "      <th>6435</th>\n",
       "      <td>ZXL</td>\n",
       "      <td>Reid Cove, AK: Reid Cove Airport</td>\n",
       "    </tr>\n",
       "    <tr>\n",
       "      <th>6436</th>\n",
       "      <td>ZXM</td>\n",
       "      <td>Saltery Cove, AK: Saltery Cove Airport</td>\n",
       "    </tr>\n",
       "    <tr>\n",
       "      <th>6437</th>\n",
       "      <td>ZXN</td>\n",
       "      <td>Clover Bay, AK: Clover Bay Airport</td>\n",
       "    </tr>\n",
       "    <tr>\n",
       "      <th>6438</th>\n",
       "      <td>ZXO</td>\n",
       "      <td>El Capitan, AK: El Capitan Peak</td>\n",
       "    </tr>\n",
       "    <tr>\n",
       "      <th>6439</th>\n",
       "      <td>ZXP</td>\n",
       "      <td>Salmon Bay Lake, AK: Salmon Bay Lake Airport</td>\n",
       "    </tr>\n",
       "    <tr>\n",
       "      <th>6440</th>\n",
       "      <td>ZXQ</td>\n",
       "      <td>Santa Ynez, CA: Santa Ynez Airport</td>\n",
       "    </tr>\n",
       "    <tr>\n",
       "      <th>6441</th>\n",
       "      <td>ZXT</td>\n",
       "      <td>Cloverdale, CA: Cloverdale Municipal</td>\n",
       "    </tr>\n",
       "    <tr>\n",
       "      <th>6442</th>\n",
       "      <td>ZXU</td>\n",
       "      <td>North Kingstown, RI: Quonset State</td>\n",
       "    </tr>\n",
       "    <tr>\n",
       "      <th>6443</th>\n",
       "      <td>ZXV</td>\n",
       "      <td>Nappanee, IN: Nappanee Municipal</td>\n",
       "    </tr>\n",
       "    <tr>\n",
       "      <th>6444</th>\n",
       "      <td>ZXW</td>\n",
       "      <td>Paradise, CA: Paradise Skypark</td>\n",
       "    </tr>\n",
       "    <tr>\n",
       "      <th>6445</th>\n",
       "      <td>ZXX</td>\n",
       "      <td>Kennewick, WA: Vista Field</td>\n",
       "    </tr>\n",
       "    <tr>\n",
       "      <th>6446</th>\n",
       "      <td>ZXY</td>\n",
       "      <td>Delta, CO: Blake Field</td>\n",
       "    </tr>\n",
       "    <tr>\n",
       "      <th>6447</th>\n",
       "      <td>ZXZ</td>\n",
       "      <td>Waterville, WA: Waterville Airport</td>\n",
       "    </tr>\n",
       "    <tr>\n",
       "      <th>6448</th>\n",
       "      <td>ZYL</td>\n",
       "      <td>Sylhet, Bangladesh: Savannakhet</td>\n",
       "    </tr>\n",
       "    <tr>\n",
       "      <th>6449</th>\n",
       "      <td>ZZU</td>\n",
       "      <td>Mzuzu, Malawi: Mzuzu Airport</td>\n",
       "    </tr>\n",
       "    <tr>\n",
       "      <th>6450</th>\n",
       "      <td>ZZV</td>\n",
       "      <td>Zanesville, OH: Zanesville Municipal</td>\n",
       "    </tr>\n",
       "    <tr>\n",
       "      <th>6451</th>\n",
       "      <td>ZZZ</td>\n",
       "      <td>Unknown Point in Alaska</td>\n",
       "    </tr>\n",
       "  </tbody>\n",
       "</table>\n",
       "<p>6452 rows × 2 columns</p>\n",
       "</div>"
      ],
      "text/plain": [
       "     Code                                        Description\n",
       "0     01A             Afognak Lake, AK: Afognak Lake Airport\n",
       "1     03A      Granite Mountain, AK: Bear Creek Mining Strip\n",
       "2     04A                           Lik, AK: Lik Mining Camp\n",
       "3     05A             Little Squaw, AK: Little Squaw Airport\n",
       "4     06A                         Kizhuyak, AK: Kizhuyak Bay\n",
       "5     07A                 Klawock, AK: Klawock Seaplane Base\n",
       "6     08A     Elizabeth Island, AK: Elizabeth Island Airport\n",
       "7     09A                         Homer, AK: Augustin Island\n",
       "8     1B1                        Hudson, NY: Columbia County\n",
       "9     1G4               Peach Springs, AZ: Grand Canyon West\n",
       "10    1N7                 Blairstown, NJ: Blairstown Airport\n",
       "11    1NY                     Penn Yan, NY: Penn Yan Airport\n",
       "12    6B0                   Middlebury, VT: Middlebury State\n",
       "13    7AK                             Akun, AK: Akun Airport\n",
       "14    8F3                 Crosbyton, TX: Crosbyton Municipal\n",
       "15    A01           Fairbanks/Ft. Wainwright, AK: Blair Lake\n",
       "16    A02             Deadmans Bay, AK: Deadmans Bay Airport\n",
       "17    A03                   Hallo Bay, AK: Hallo Bay Airport\n",
       "18    A04                     Red Lake, AK: Red Lake Airport\n",
       "19    A05                 Shell Lake, AK: Shell Lake Airport\n",
       "20    A06                   Kougarok, AK: Navigator Airstrip\n",
       "21    A07                Selawik, AK: Roland Norton Memorial\n",
       "22    A08                 Pillar Bay, AK: Pillar Bay Airport\n",
       "23    A09       Johnstone Point, AK: Johnstone Point Airport\n",
       "24    A11                 Bell Creek, AK: Bell Creek Airport\n",
       "25    A12                     Cinnabar, AK: Cinnabar Airport\n",
       "26    A13     Mountaintop Mine, AK: Mountaintop Mine Airport\n",
       "27    A14                   Whitebear, AK: Whitebear Airport\n",
       "28    A15                         Puviaq, AK: Puviaq Airport\n",
       "29    A16                 Arley Lake, AK: Arley Lake Airport\n",
       "...   ...                                                ...\n",
       "6422  ZVA       Miandrivazo, Madagascar: Miandrivazo Airport\n",
       "6423  ZVK       Savannakhet, Laos: Savannakhet International\n",
       "6424  ZWL     Wollaston Lake, Canada: Wollaston Lake Airport\n",
       "6425  ZXA                               Rota, Spain: Rota NS\n",
       "6426  ZXB                   Albuquerque, NM: Double Eagle II\n",
       "6427  ZXC                            Gasquet, CA: Ward Field\n",
       "6428  ZXD  San Isidro, Dominican Republic: San Isidro Int...\n",
       "6429  ZXE     Sculthorpe, United Kingdom: Sculthorpe Airport\n",
       "6430  ZXF         Illinois Creek, AK: Illinois Creek Airport\n",
       "6431  ZXH     Chomondely Sound, AK: Chomondely Sound Airport\n",
       "6432  ZXI                     Coal Bay, AK: Coal Bay Airport\n",
       "6433  ZXJ           Happy Harbour, AK: Happy Harbour Airport\n",
       "6434  ZXK         Lancaster Cove, AK: Lancaster Cove Airport\n",
       "6435  ZXL                   Reid Cove, AK: Reid Cove Airport\n",
       "6436  ZXM             Saltery Cove, AK: Saltery Cove Airport\n",
       "6437  ZXN                 Clover Bay, AK: Clover Bay Airport\n",
       "6438  ZXO                    El Capitan, AK: El Capitan Peak\n",
       "6439  ZXP       Salmon Bay Lake, AK: Salmon Bay Lake Airport\n",
       "6440  ZXQ                 Santa Ynez, CA: Santa Ynez Airport\n",
       "6441  ZXT               Cloverdale, CA: Cloverdale Municipal\n",
       "6442  ZXU                 North Kingstown, RI: Quonset State\n",
       "6443  ZXV                   Nappanee, IN: Nappanee Municipal\n",
       "6444  ZXW                     Paradise, CA: Paradise Skypark\n",
       "6445  ZXX                         Kennewick, WA: Vista Field\n",
       "6446  ZXY                             Delta, CO: Blake Field\n",
       "6447  ZXZ                 Waterville, WA: Waterville Airport\n",
       "6448  ZYL                    Sylhet, Bangladesh: Savannakhet\n",
       "6449  ZZU                       Mzuzu, Malawi: Mzuzu Airport\n",
       "6450  ZZV               Zanesville, OH: Zanesville Municipal\n",
       "6451  ZZZ                            Unknown Point in Alaska\n",
       "\n",
       "[6452 rows x 2 columns]"
      ]
     },
     "execution_count": 203,
     "metadata": {},
     "output_type": "execute_result"
    }
   ],
   "source": [
    "origin"
   ]
  },
  {
   "cell_type": "code",
   "execution_count": 230,
   "metadata": {
    "collapsed": true
   },
   "outputs": [],
   "source": [
    "dt.to_csv(cur_path+'/Data2016.csv', index = False)"
   ]
  },
  {
   "cell_type": "code",
   "execution_count": 231,
   "metadata": {
    "collapsed": false
   },
   "outputs": [
    {
     "data": {
      "text/plain": [
       "(5538145, 32)"
      ]
     },
     "execution_count": 231,
     "metadata": {},
     "output_type": "execute_result"
    }
   ],
   "source": [
    "dt.shape"
   ]
  },
  {
   "cell_type": "code",
   "execution_count": null,
   "metadata": {
    "collapsed": true
   },
   "outputs": [],
   "source": []
  }
 ],
 "metadata": {
  "anaconda-cloud": {},
  "kernelspec": {
   "display_name": "Python [conda root]",
   "language": "python",
   "name": "conda-root-py"
  },
  "language_info": {
   "codemirror_mode": {
    "name": "ipython",
    "version": 3
   },
   "file_extension": ".py",
   "mimetype": "text/x-python",
   "name": "python",
   "nbconvert_exporter": "python",
   "pygments_lexer": "ipython3",
   "version": "3.5.2"
  }
 },
 "nbformat": 4,
 "nbformat_minor": 2
}
