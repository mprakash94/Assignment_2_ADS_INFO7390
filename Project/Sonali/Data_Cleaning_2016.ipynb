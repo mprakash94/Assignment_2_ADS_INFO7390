{
 "cells": [
  {
   "cell_type": "markdown",
   "metadata": {},
   "source": [
    "# Data Cleaning"
   ]
  },
  {
   "cell_type": "markdown",
   "metadata": {},
   "source": [
    "### Imports"
   ]
  },
  {
   "cell_type": "code",
   "execution_count": 1,
   "metadata": {
    "collapsed": false
   },
   "outputs": [],
   "source": [
    "import warnings\n",
    "warnings.filterwarnings('ignore')"
   ]
  },
  {
   "cell_type": "code",
   "execution_count": 2,
   "metadata": {
    "collapsed": true
   },
   "outputs": [],
   "source": [
    "import pandas as pd\n",
    "import numpy as np\n",
    "import csv"
   ]
  },
  {
   "cell_type": "markdown",
   "metadata": {},
   "source": [
    "### Loading the Csvs and combining into a single dataframe"
   ]
  },
  {
   "cell_type": "code",
   "execution_count": 3,
   "metadata": {
    "collapsed": true
   },
   "outputs": [],
   "source": [
    "cur_path = '/Users/sonalichaudhari/Desktop/ADS_Project/Data'"
   ]
  },
  {
   "cell_type": "code",
   "execution_count": 4,
   "metadata": {
    "collapsed": false
   },
   "outputs": [],
   "source": [
    "df = pd.read_csv(open(cur_path+'/Data2016_Uncleaned.csv','rU'), encoding='utf-8')"
   ]
  },
  {
   "cell_type": "markdown",
   "metadata": {},
   "source": [
    "### CLEANING"
   ]
  },
  {
   "cell_type": "code",
   "execution_count": 5,
   "metadata": {
    "collapsed": false
   },
   "outputs": [
    {
     "data": {
      "text/plain": [
       "(5617658, 109)"
      ]
     },
     "execution_count": 5,
     "metadata": {},
     "output_type": "execute_result"
    }
   ],
   "source": [
    "df.shape"
   ]
  },
  {
   "cell_type": "markdown",
   "metadata": {},
   "source": [
    "### Getting rid of columns having 98% or more missing data"
   ]
  },
  {
   "cell_type": "code",
   "execution_count": 6,
   "metadata": {
    "collapsed": false
   },
   "outputs": [
    {
     "data": {
      "text/plain": [
       "62"
      ]
     },
     "execution_count": 6,
     "metadata": {},
     "output_type": "execute_result"
    }
   ],
   "source": [
    "missing_data = df.isnull().sum().to_frame(name='Missing_Count').reset_index()\n",
    "missing_data['Missing_percent'] = (missing_data['Missing_Count']/df.shape[0])*100\n",
    "missing_data = missing_data.sort_values(by='Missing_percent', axis=0, ascending=True)\n",
    "features = missing_data['index'][(missing_data.Missing_percent<99.38)]\n",
    "len(features)"
   ]
  },
  {
   "cell_type": "code",
   "execution_count": 7,
   "metadata": {
    "collapsed": false
   },
   "outputs": [],
   "source": [
    "d = df[features]"
   ]
  },
  {
   "cell_type": "code",
   "execution_count": 8,
   "metadata": {
    "collapsed": false
   },
   "outputs": [],
   "source": [
    "#d[['UniqueCarrier','AirlineID','Carrier','TailNum','FlightNum']]\n",
    "#d[['OriginAirportID','OriginAirportSeqID','OriginCityMarketID','Origin','OriginCityName','OriginState','OriginStateName']]\n",
    "#d[['CRSDepTime','DepTime','DepDelayMinutes','DepDel15','CRSArrTime','ArrTime','ArrDelayMinutes','ArrDel15','CRSElapsedTime','ActualElapsedTime']]"
   ]
  },
  {
   "cell_type": "code",
   "execution_count": 11,
   "metadata": {
    "collapsed": false
   },
   "outputs": [
    {
     "data": {
      "text/plain": [
       "Index(['Year', 'DestCityMarketID', 'Dest', 'DestCityName', 'DestState',\n",
       "       'DestStateFips', 'DestStateName', 'DestWac', 'DestAirportSeqID',\n",
       "       'CRSDepTime', 'CRSArrTime', 'ArrTimeBlk', 'Cancelled', 'Diverted',\n",
       "       'Flights', 'DistanceGroup', 'DivAirportLandings', 'DepTimeBlk',\n",
       "       'DestAirportID', 'Distance', 'OriginStateName', 'OriginWac', 'Month',\n",
       "       'DayofMonth', 'DayOfWeek', 'FlightDate', 'UniqueCarrier', 'AirlineID',\n",
       "       'Carrier', 'Quarter', 'Origin', 'OriginStateFips', 'OriginState',\n",
       "       'OriginCityName', 'FlightNum', 'OriginCityMarketID',\n",
       "       'OriginAirportSeqID', 'OriginAirportID', 'CRSElapsedTime', 'TailNum',\n",
       "       'DepTime', 'DepDelay', 'DepDelayMinutes', 'DepDel15',\n",
       "       'DepartureDelayGroups', 'WheelsOff', 'TaxiOut', 'TaxiIn', 'WheelsOn',\n",
       "       'ArrTime', 'ArrivalDelayGroups', 'ActualElapsedTime', 'AirTime',\n",
       "       'ArrDel15', 'ArrDelayMinutes', 'ArrDelay', 'SecurityDelay',\n",
       "       'LateAircraftDelay', 'WeatherDelay', 'CarrierDelay', 'NASDelay',\n",
       "       'CancellationCode'],\n",
       "      dtype='object')"
      ]
     },
     "execution_count": 11,
     "metadata": {},
     "output_type": "execute_result"
    }
   ],
   "source": [
    "d.columns"
   ]
  },
  {
   "cell_type": "code",
   "execution_count": 9,
   "metadata": {
    "collapsed": false
   },
   "outputs": [
    {
     "data": {
      "text/plain": [
       "Year                          0\n",
       "DestCityMarketID              0\n",
       "Dest                          0\n",
       "DestCityName                  0\n",
       "DestState                     0\n",
       "DestStateFips                 0\n",
       "DestStateName                 0\n",
       "DestWac                       0\n",
       "DestAirportSeqID              0\n",
       "CRSDepTime                    0\n",
       "CRSArrTime                    0\n",
       "ArrTimeBlk                    0\n",
       "Cancelled                     0\n",
       "Diverted                      0\n",
       "Flights                       0\n",
       "DistanceGroup                 0\n",
       "DivAirportLandings            0\n",
       "DepTimeBlk                    0\n",
       "DestAirportID                 0\n",
       "Distance                      0\n",
       "OriginStateName               0\n",
       "OriginWac                     0\n",
       "Month                         0\n",
       "DayofMonth                    0\n",
       "DayOfWeek                     0\n",
       "FlightDate                    0\n",
       "UniqueCarrier                 0\n",
       "AirlineID                     0\n",
       "Carrier                       0\n",
       "Quarter                       0\n",
       "                         ...   \n",
       "OriginState                   0\n",
       "OriginCityName                0\n",
       "FlightNum                     0\n",
       "OriginCityMarketID            0\n",
       "OriginAirportSeqID            0\n",
       "OriginAirportID               0\n",
       "CRSElapsedTime                6\n",
       "TailNum                   12892\n",
       "DepTime                   63456\n",
       "DepDelay                  63456\n",
       "DepDelayMinutes           63456\n",
       "DepDel15                  63456\n",
       "DepartureDelayGroups      63456\n",
       "WheelsOff                 65418\n",
       "TaxiOut                   65418\n",
       "TaxiIn                    67844\n",
       "WheelsOn                  67844\n",
       "ArrTime                   67844\n",
       "ArrivalDelayGroups        79513\n",
       "ActualElapsedTime         79513\n",
       "AirTime                   79513\n",
       "ArrDel15                  79513\n",
       "ArrDelayMinutes           79513\n",
       "ArrDelay                  79513\n",
       "SecurityDelay           4653419\n",
       "LateAircraftDelay       4653419\n",
       "WeatherDelay            4653419\n",
       "CarrierDelay            4653419\n",
       "NASDelay                4653419\n",
       "CancellationCode        5551797\n",
       "dtype: int64"
      ]
     },
     "execution_count": 9,
     "metadata": {},
     "output_type": "execute_result"
    }
   ],
   "source": [
    "d.isnull().sum()"
   ]
  },
  {
   "cell_type": "markdown",
   "metadata": {
    "collapsed": false
   },
   "source": [
    "### Taking only the columns relevant for the delay"
   ]
  },
  {
   "cell_type": "code",
   "execution_count": null,
   "metadata": {
    "collapsed": true
   },
   "outputs": [],
   "source": [
    "#dt = d[['Year','Quarter','Month','DayofMonth','DayOfWeek','FlightDate','UniqueCarrier','AirlineID','Carrier','TailNum','FlightNum','OriginAirportID','Origin','Dest','CRSDepTime','DepTime','DepDelayMinutes','DepDel15','CRSArrTime','ArrTime','ArrDelayMinutes','ArrDel15','CRSElapsedTime','ActualElapsedTime','DestAirportID','OriginCityName','OriginState','OriginStateName','DestCityName','DestState','DestStateName','Cancelled','TaxiOut','TaxiIn','WheelsOff','WheelsOn','Diverted','WeatherDelay','CarrierDelay','NASDelay','SecurityDelay','LateAircraftDelay']]"
   ]
  },
  {
   "cell_type": "code",
   "execution_count": 19,
   "metadata": {
    "collapsed": true
   },
   "outputs": [],
   "source": [
    "pp = features.tolist()\n",
    "p = ['TailNum','Carrier','OriginAirportSeqID','OriginCityMarketID','OriginStateFips','OriginWac','DestAirportSeqID','DestCityMArketID','DestStateFips','DestWac','DepTimeBlk','SecurityDelay','LateAircraftDelay', 'WeatherDelay', 'CarrierDelay', 'NASDelay',\n",
    "       'CancellationCode']\n",
    "for i in p:\n",
    "    if i in pp:\n",
    "        pp.remove(i)"
   ]
  },
  {
   "cell_type": "code",
   "execution_count": 28,
   "metadata": {
    "collapsed": false
   },
   "outputs": [],
   "source": [
    "dt= d[pp]"
   ]
  },
  {
   "cell_type": "code",
   "execution_count": 29,
   "metadata": {
    "collapsed": false
   },
   "outputs": [
    {
     "data": {
      "text/plain": [
       "46"
      ]
     },
     "execution_count": 29,
     "metadata": {},
     "output_type": "execute_result"
    }
   ],
   "source": [
    "len(dt.columns)"
   ]
  },
  {
   "cell_type": "code",
   "execution_count": 30,
   "metadata": {
    "collapsed": false
   },
   "outputs": [
    {
     "data": {
      "text/plain": [
       "Index(['Year', 'DestCityMarketID', 'Dest', 'DestCityName', 'DestState',\n",
       "       'DestStateName', 'CRSDepTime', 'CRSArrTime', 'ArrTimeBlk', 'Cancelled',\n",
       "       'Diverted', 'Flights', 'DistanceGroup', 'DivAirportLandings',\n",
       "       'DestAirportID', 'Distance', 'OriginStateName', 'Month', 'DayofMonth',\n",
       "       'DayOfWeek', 'FlightDate', 'UniqueCarrier', 'AirlineID', 'Quarter',\n",
       "       'Origin', 'OriginState', 'OriginCityName', 'FlightNum',\n",
       "       'OriginAirportID', 'CRSElapsedTime', 'DepTime', 'DepDelay',\n",
       "       'DepDelayMinutes', 'DepDel15', 'DepartureDelayGroups', 'WheelsOff',\n",
       "       'TaxiOut', 'TaxiIn', 'WheelsOn', 'ArrTime', 'ArrivalDelayGroups',\n",
       "       'ActualElapsedTime', 'AirTime', 'ArrDel15', 'ArrDelayMinutes',\n",
       "       'ArrDelay'],\n",
       "      dtype='object')"
      ]
     },
     "execution_count": 30,
     "metadata": {},
     "output_type": "execute_result"
    }
   ],
   "source": [
    "dt.columns"
   ]
  },
  {
   "cell_type": "code",
   "execution_count": 31,
   "metadata": {
    "collapsed": false
   },
   "outputs": [
    {
     "data": {
      "text/plain": [
       "(5617658, 46)"
      ]
     },
     "execution_count": 31,
     "metadata": {},
     "output_type": "execute_result"
    }
   ],
   "source": [
    "dt.shape"
   ]
  },
  {
   "cell_type": "code",
   "execution_count": 32,
   "metadata": {
    "collapsed": false
   },
   "outputs": [
    {
     "data": {
      "text/plain": [
       "Year                        0\n",
       "DestCityMarketID            0\n",
       "Dest                        0\n",
       "DestCityName                0\n",
       "DestState                   0\n",
       "DestStateName               0\n",
       "CRSDepTime                  0\n",
       "CRSArrTime                  0\n",
       "ArrTimeBlk                  0\n",
       "Cancelled                   0\n",
       "Diverted                    0\n",
       "Flights                     0\n",
       "DistanceGroup               0\n",
       "DivAirportLandings          0\n",
       "DestAirportID               0\n",
       "Distance                    0\n",
       "OriginStateName             0\n",
       "Month                       0\n",
       "DayofMonth                  0\n",
       "DayOfWeek                   0\n",
       "FlightDate                  0\n",
       "UniqueCarrier               0\n",
       "AirlineID                   0\n",
       "Quarter                     0\n",
       "Origin                      0\n",
       "OriginState                 0\n",
       "OriginCityName              0\n",
       "FlightNum                   0\n",
       "OriginAirportID             0\n",
       "CRSElapsedTime              6\n",
       "DepTime                 63456\n",
       "DepDelay                63456\n",
       "DepDelayMinutes         63456\n",
       "DepDel15                63456\n",
       "DepartureDelayGroups    63456\n",
       "WheelsOff               65418\n",
       "TaxiOut                 65418\n",
       "TaxiIn                  67844\n",
       "WheelsOn                67844\n",
       "ArrTime                 67844\n",
       "ArrivalDelayGroups      79513\n",
       "ActualElapsedTime       79513\n",
       "AirTime                 79513\n",
       "ArrDel15                79513\n",
       "ArrDelayMinutes         79513\n",
       "ArrDelay                79513\n",
       "dtype: int64"
      ]
     },
     "execution_count": 32,
     "metadata": {},
     "output_type": "execute_result"
    }
   ],
   "source": [
    "dt.isnull().sum()"
   ]
  },
  {
   "cell_type": "code",
   "execution_count": 33,
   "metadata": {
    "collapsed": true
   },
   "outputs": [],
   "source": [
    "dt['Flight_Status'] = 0\n",
    "dt.loc[df.DepDel15==1.0 ,'Flight_Status'] = 1\n",
    "dt.loc[df.ArrDel15==1.0,'Flight_Status'] = 1\n",
    "dt.loc[df.Cancelled==1.0, ['Flight_Status']] = 1\n",
    "dt['Flight_Status'] = df['Flight_Status'].astype(int)\n",
    "dt['Status'] = np.where(dt['Flight_Status']==1,'Delayed', 'On Time')"
   ]
  },
  {
   "cell_type": "code",
   "execution_count": 34,
   "metadata": {
    "collapsed": false
   },
   "outputs": [],
   "source": [
    "dt = dt[dt['Cancelled']!=1]"
   ]
  },
  {
   "cell_type": "code",
   "execution_count": 35,
   "metadata": {
    "collapsed": false
   },
   "outputs": [
    {
     "data": {
      "text/plain": [
       "(5551797, 48)"
      ]
     },
     "execution_count": 35,
     "metadata": {},
     "output_type": "execute_result"
    }
   ],
   "source": [
    "dt.shape"
   ]
  },
  {
   "cell_type": "code",
   "execution_count": 36,
   "metadata": {
    "collapsed": false
   },
   "outputs": [
    {
     "data": {
      "text/plain": [
       "Year                        0\n",
       "DestCityMarketID            0\n",
       "Dest                        0\n",
       "DestCityName                0\n",
       "DestState                   0\n",
       "DestStateName               0\n",
       "CRSDepTime                  0\n",
       "CRSArrTime                  0\n",
       "ArrTimeBlk                  0\n",
       "Cancelled                   0\n",
       "Diverted                    0\n",
       "Flights                     0\n",
       "DistanceGroup               0\n",
       "DivAirportLandings          0\n",
       "DestAirportID               0\n",
       "Distance                    0\n",
       "OriginStateName             0\n",
       "Month                       0\n",
       "DayofMonth                  0\n",
       "DayOfWeek                   0\n",
       "FlightDate                  0\n",
       "UniqueCarrier               0\n",
       "AirlineID                   0\n",
       "Quarter                     0\n",
       "Origin                      0\n",
       "OriginState                 0\n",
       "OriginCityName              0\n",
       "FlightNum                   0\n",
       "OriginAirportID             0\n",
       "CRSElapsedTime              0\n",
       "DepTime                     0\n",
       "DepDelay                    0\n",
       "DepDelayMinutes             0\n",
       "DepDel15                    0\n",
       "DepartureDelayGroups        0\n",
       "WheelsOff                   0\n",
       "TaxiOut                     0\n",
       "TaxiIn                   1983\n",
       "WheelsOn                 1983\n",
       "ArrTime                  1983\n",
       "ArrivalDelayGroups      13652\n",
       "ActualElapsedTime       13652\n",
       "AirTime                 13652\n",
       "ArrDel15                13652\n",
       "ArrDelayMinutes         13652\n",
       "ArrDelay                13652\n",
       "Flight_Status               0\n",
       "Status                      0\n",
       "dtype: int64"
      ]
     },
     "execution_count": 36,
     "metadata": {},
     "output_type": "execute_result"
    }
   ],
   "source": [
    "dt.isnull().sum()"
   ]
  },
  {
   "cell_type": "code",
   "execution_count": 41,
   "metadata": {
    "collapsed": false
   },
   "outputs": [],
   "source": [
    "dt = dt[dt['ArrTime'].notnull() & dt['ArrDelayMinutes'].notnull() & dt['ActualElapsedTime'].notnull() & dt['ArrDelayMinutes'].notnull() & dt['ArrDel15'].notnull()]"
   ]
  },
  {
   "cell_type": "code",
   "execution_count": 42,
   "metadata": {
    "collapsed": false
   },
   "outputs": [
    {
     "data": {
      "text/plain": [
       "(5538145, 48)"
      ]
     },
     "execution_count": 42,
     "metadata": {},
     "output_type": "execute_result"
    }
   ],
   "source": [
    "dt.shape"
   ]
  },
  {
   "cell_type": "code",
   "execution_count": 43,
   "metadata": {
    "collapsed": false
   },
   "outputs": [],
   "source": [
    "#dt[['ArrTime','CRSArrTime','Cancelled','ArrivalDelayGroups','ActualElapsedTime','AirTime','ArrDel15','ArrDelayMinutes','ArrDelay']][dt.ArrDel15.isnull()]"
   ]
  },
  {
   "cell_type": "code",
   "execution_count": 44,
   "metadata": {
    "collapsed": false
   },
   "outputs": [
    {
     "data": {
      "text/plain": [
       "Year                    0\n",
       "DestCityMarketID        0\n",
       "Dest                    0\n",
       "DestCityName            0\n",
       "DestState               0\n",
       "DestStateName           0\n",
       "CRSDepTime              0\n",
       "CRSArrTime              0\n",
       "ArrTimeBlk              0\n",
       "Cancelled               0\n",
       "Diverted                0\n",
       "Flights                 0\n",
       "DistanceGroup           0\n",
       "DivAirportLandings      0\n",
       "DestAirportID           0\n",
       "Distance                0\n",
       "OriginStateName         0\n",
       "Month                   0\n",
       "DayofMonth              0\n",
       "DayOfWeek               0\n",
       "FlightDate              0\n",
       "UniqueCarrier           0\n",
       "AirlineID               0\n",
       "Quarter                 0\n",
       "Origin                  0\n",
       "OriginState             0\n",
       "OriginCityName          0\n",
       "FlightNum               0\n",
       "OriginAirportID         0\n",
       "CRSElapsedTime          0\n",
       "DepTime                 0\n",
       "DepDelay                0\n",
       "DepDelayMinutes         0\n",
       "DepDel15                0\n",
       "DepartureDelayGroups    0\n",
       "WheelsOff               0\n",
       "TaxiOut                 0\n",
       "TaxiIn                  0\n",
       "WheelsOn                0\n",
       "ArrTime                 0\n",
       "ArrivalDelayGroups      0\n",
       "ActualElapsedTime       0\n",
       "AirTime                 0\n",
       "ArrDel15                0\n",
       "ArrDelayMinutes         0\n",
       "ArrDelay                0\n",
       "Flight_Status           0\n",
       "Status                  0\n",
       "dtype: int64"
      ]
     },
     "execution_count": 44,
     "metadata": {},
     "output_type": "execute_result"
    }
   ],
   "source": [
    "dt.isnull().sum()"
   ]
  },
  {
   "cell_type": "code",
   "execution_count": 45,
   "metadata": {
    "collapsed": true
   },
   "outputs": [],
   "source": [
    "del dt['Cancelled']"
   ]
  },
  {
   "cell_type": "code",
   "execution_count": 46,
   "metadata": {
    "collapsed": false
   },
   "outputs": [
    {
     "data": {
      "text/plain": [
       "Index(['Year', 'DestCityMarketID', 'Dest', 'DestCityName', 'DestState',\n",
       "       'DestStateName', 'CRSDepTime', 'CRSArrTime', 'ArrTimeBlk', 'Diverted',\n",
       "       'Flights', 'DistanceGroup', 'DivAirportLandings', 'DestAirportID',\n",
       "       'Distance', 'OriginStateName', 'Month', 'DayofMonth', 'DayOfWeek',\n",
       "       'FlightDate', 'UniqueCarrier', 'AirlineID', 'Quarter', 'Origin',\n",
       "       'OriginState', 'OriginCityName', 'FlightNum', 'OriginAirportID',\n",
       "       'CRSElapsedTime', 'DepTime', 'DepDelay', 'DepDelayMinutes', 'DepDel15',\n",
       "       'DepartureDelayGroups', 'WheelsOff', 'TaxiOut', 'TaxiIn', 'WheelsOn',\n",
       "       'ArrTime', 'ArrivalDelayGroups', 'ActualElapsedTime', 'AirTime',\n",
       "       'ArrDel15', 'ArrDelayMinutes', 'ArrDelay', 'Flight_Status', 'Status'],\n",
       "      dtype='object')"
      ]
     },
     "execution_count": 46,
     "metadata": {},
     "output_type": "execute_result"
    }
   ],
   "source": [
    "dt.columns"
   ]
  },
  {
   "cell_type": "code",
   "execution_count": 31,
   "metadata": {
    "collapsed": true
   },
   "outputs": [],
   "source": [
    "# Lookup Tables"
   ]
  },
  {
   "cell_type": "code",
   "execution_count": 32,
   "metadata": {
    "collapsed": false
   },
   "outputs": [],
   "source": [
    "airport = pd.read_csv(cur_path+'/Lookup/AirportID.csv', low_memory=False)\n",
    "carrier = pd.read_csv(cur_path+'/Lookup/UniqueCarrier.csv', low_memory=False)\n",
    "origin = pd.read_csv(cur_path+'/Lookup/Origin.csv', low_memory=False)"
   ]
  },
  {
   "cell_type": "code",
   "execution_count": 33,
   "metadata": {
    "collapsed": false
   },
   "outputs": [],
   "source": [
    "origin_dict = origin.set_index('Code').T.to_dict('list')\n",
    "airport_dict = origin.set_index('Code').T.to_dict('list')\n",
    "carrier_dict = origin.set_index('Code').T.to_dict('list')"
   ]
  },
  {
   "cell_type": "code",
   "execution_count": 34,
   "metadata": {
    "collapsed": false
   },
   "outputs": [
    {
     "data": {
      "text/plain": [
       "'Dallas/Fort Worth'"
      ]
     },
     "execution_count": 34,
     "metadata": {},
     "output_type": "execute_result"
    }
   ],
   "source": [
    "origin_dict['DFW'][0].split(',')[0]"
   ]
  },
  {
   "cell_type": "code",
   "execution_count": 75,
   "metadata": {
    "collapsed": true
   },
   "outputs": [],
   "source": [
    "dd = dt"
   ]
  },
  {
   "cell_type": "code",
   "execution_count": 76,
   "metadata": {
    "collapsed": false
   },
   "outputs": [
    {
     "data": {
      "text/plain": [
       "(5538145, 47)"
      ]
     },
     "execution_count": 76,
     "metadata": {},
     "output_type": "execute_result"
    }
   ],
   "source": [
    "dd.shape"
   ]
  },
  {
   "cell_type": "markdown",
   "metadata": {},
   "source": [
    "### Removing Outliers"
   ]
  },
  {
   "cell_type": "code",
   "execution_count": 67,
   "metadata": {
    "collapsed": false
   },
   "outputs": [
    {
     "data": {
      "text/plain": [
       "(48, 47)"
      ]
     },
     "execution_count": 67,
     "metadata": {},
     "output_type": "execute_result"
    }
   ],
   "source": [
    "dt[dt.DepDelayMinutes>1350].shape"
   ]
  },
  {
   "cell_type": "code",
   "execution_count": 68,
   "metadata": {
    "collapsed": false
   },
   "outputs": [
    {
     "data": {
      "text/plain": [
       "(41, 47)"
      ]
     },
     "execution_count": 68,
     "metadata": {},
     "output_type": "execute_result"
    }
   ],
   "source": [
    "dt[dt.ArrDelayMinutes>1400].shape"
   ]
  },
  {
   "cell_type": "code",
   "execution_count": 77,
   "metadata": {
    "collapsed": true
   },
   "outputs": [],
   "source": [
    "dd = dd[dd.DepDelayMinutes<1350]"
   ]
  },
  {
   "cell_type": "code",
   "execution_count": 78,
   "metadata": {
    "collapsed": true
   },
   "outputs": [],
   "source": [
    "dd = dd[dd.ArrDelayMinutes<1400]"
   ]
  },
  {
   "cell_type": "code",
   "execution_count": 103,
   "metadata": {
    "collapsed": false
   },
   "outputs": [
    {
     "data": {
      "text/plain": [
       "(5538090, 47)"
      ]
     },
     "execution_count": 103,
     "metadata": {},
     "output_type": "execute_result"
    }
   ],
   "source": [
    "dd.shape"
   ]
  },
  {
   "cell_type": "code",
   "execution_count": 94,
   "metadata": {
    "collapsed": false
   },
   "outputs": [],
   "source": [
    "dd = dd.drop((dd.Month==4) & (dd.ArrDelayMinutes >1200))"
   ]
  },
  {
   "cell_type": "code",
   "execution_count": 102,
   "metadata": {
    "collapsed": false
   },
   "outputs": [],
   "source": [
    "dd = dd[dd.ArrDelayMinutes < 1340]"
   ]
  },
  {
   "cell_type": "code",
   "execution_count": 96,
   "metadata": {
    "collapsed": false
   },
   "outputs": [
    {
     "data": {
      "image/png": "[encoded data removed]",
      "text/plain": [
       "<matplotlib.figure.Figure at 0x156334cf8>"
      ]
     },
     "metadata": {},
     "output_type": "display_data"
    }
   ],
   "source": [
    "import matplotlib.pyplot as plt\n",
    "import seaborn as sns\n",
    "import numpy as np\n",
    "color = sns.color_palette()\n",
    "\n",
    "sns.lmplot(x='Month', y='ArrDelayMinutes', data=dd, fit_reg=False)\n",
    "plt.show()"
   ]
  },
  {
   "cell_type": "code",
   "execution_count": null,
   "metadata": {
    "collapsed": false
   },
   "outputs": [],
   "source": [
    "dd.to_csv(cur_path+'/Data2016_Cleaned.csv', index = False)"
   ]
  }
 ],
 "metadata": {
  "anaconda-cloud": {},
  "kernelspec": {
   "display_name": "Python [conda root]",
   "language": "python",
   "name": "conda-root-py"
  },
  "language_info": {
   "codemirror_mode": {
    "name": "ipython",
    "version": 3
   },
   "file_extension": ".py",
   "mimetype": "text/x-python",
   "name": "python",
   "nbconvert_exporter": "python",
   "pygments_lexer": "ipython3",
   "version": "3.5.2"
  }
 },
 "nbformat": 4,
 "nbformat_minor": 2
}
