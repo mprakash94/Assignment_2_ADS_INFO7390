{
 "cells": [
  {
   "cell_type": "code",
   "execution_count": 1,
   "metadata": {
    "collapsed": true
   },
   "outputs": [],
   "source": [
    "import warnings\n",
    "warnings.filterwarnings('ignore')"
   ]
  },
  {
   "cell_type": "code",
   "execution_count": 2,
   "metadata": {
    "collapsed": true
   },
   "outputs": [],
   "source": [
    "import pandas as pd\n",
    "import numpy as np\n",
    "import csv"
   ]
  },
  {
   "cell_type": "code",
   "execution_count": 3,
   "metadata": {
    "collapsed": true
   },
   "outputs": [],
   "source": [
    "cur_path = '/Users/sonalichaudhari/Desktop/ADS_Project/Data'"
   ]
  },
  {
   "cell_type": "code",
   "execution_count": 4,
   "metadata": {
    "collapsed": true
   },
   "outputs": [],
   "source": [
    "## 2017 Data"
   ]
  },
  {
   "cell_type": "code",
   "execution_count": 5,
   "metadata": {
    "collapsed": false
   },
   "outputs": [],
   "source": [
    "d1 = pd.read_csv(cur_path+'/Data2017/On_Time_On_Time_Performance_2017_1/On_Time_On_Time_Performance_2017_1.csv', low_memory=False)\n",
    "d2 = pd.read_csv(cur_path+'/Data2017/On_Time_On_Time_Performance_2017_2/On_Time_On_Time_Performance_2017_2.csv', low_memory=False)\n",
    "d3 = pd.read_csv(cur_path+'/Data2017/On_Time_On_Time_Performance_2017_3/On_Time_On_Time_Performance_2017_3.csv', low_memory=False)\n",
    "d4 = pd.read_csv(cur_path+'/Data2017/On_Time_On_Time_Performance_2017_4/On_Time_On_Time_Performance_2017_4.csv', low_memory=False)\n",
    "d5 = pd.read_csv(cur_path+'/Data2017/On_Time_On_Time_Performance_2017_5/On_Time_On_Time_Performance_2017_5.csv', low_memory=False)\n",
    "d6 = pd.read_csv(cur_path+'/Data2017/On_Time_On_Time_Performance_2017_6/On_Time_On_Time_Performance_2017_6.csv', low_memory=False)\n",
    "d7 = pd.read_csv(cur_path+'/Data2017/On_Time_On_Time_Performance_2017_7/On_Time_On_Time_Performance_2017_7.csv', low_memory=False)\n",
    "d8 = pd.read_csv(cur_path+'/Data2017/On_Time_On_Time_Performance_2017_8/On_Time_On_Time_Performance_2017_8.csv', low_memory=False)\n",
    "d9 = pd.read_csv(cur_path+'/Data2017/On_Time_On_Time_Performance_2017_9/On_Time_On_Time_Performance_2017_9.csv', low_memory=False)"
   ]
  },
  {
   "cell_type": "code",
   "execution_count": 6,
   "metadata": {
    "collapsed": true
   },
   "outputs": [],
   "source": [
    "df = pd.concat([d1, d2, d3, d4, d5, d6, d7, d8, d9])  "
   ]
  },
  {
   "cell_type": "code",
   "execution_count": 7,
   "metadata": {
    "collapsed": true
   },
   "outputs": [],
   "source": [
    "del df['Unnamed: 109']"
   ]
  },
  {
   "cell_type": "code",
   "execution_count": 8,
   "metadata": {
    "collapsed": false
   },
   "outputs": [
    {
     "data": {
      "text/plain": [
       "(4276457, 109)"
      ]
     },
     "execution_count": 8,
     "metadata": {},
     "output_type": "execute_result"
    }
   ],
   "source": [
    "df.shape"
   ]
  },
  {
   "cell_type": "code",
   "execution_count": 9,
   "metadata": {
    "collapsed": false
   },
   "outputs": [],
   "source": [
    "# Exporting into CSV for EDA\n",
    "df.to_csv(cur_path+'/Data2017_Uncleaned.csv', index = False)"
   ]
  },
  {
   "cell_type": "code",
   "execution_count": 10,
   "metadata": {
    "collapsed": true
   },
   "outputs": [],
   "source": [
    "# 2016 Data"
   ]
  },
  {
   "cell_type": "code",
   "execution_count": 12,
   "metadata": {
    "collapsed": false
   },
   "outputs": [],
   "source": [
    "d1 = pd.read_csv(cur_path+'/Data2016/On_Time_On_Time_Performance_2016_1/On_Time_On_Time_Performance_2016_1.csv', low_memory=False)\n",
    "d2 = pd.read_csv(cur_path+'/Data2016/On_Time_On_Time_Performance_2016_2/On_Time_On_Time_Performance_2016_2.csv', low_memory=False)\n",
    "d3 = pd.read_csv(cur_path+'/Data2016/On_Time_On_Time_Performance_2016_3/On_Time_On_Time_Performance_2016_3.csv', low_memory=False)\n",
    "d4 = pd.read_csv(cur_path+'/Data2016/On_Time_On_Time_Performance_2016_4/On_Time_On_Time_Performance_2016_4.csv', low_memory=False)\n",
    "d5 = pd.read_csv(cur_path+'/Data2016/On_Time_On_Time_Performance_2016_5/On_Time_On_Time_Performance_2016_5.csv', low_memory=False)\n",
    "d6 = pd.read_csv(cur_path+'/Data2016/On_Time_On_Time_Performance_2016_6/On_Time_On_Time_Performance_2016_6.csv', low_memory=False)\n",
    "d7 = pd.read_csv(cur_path+'/Data2016/On_Time_On_Time_Performance_2016_7/On_Time_On_Time_Performance_2016_7.csv', low_memory=False)\n",
    "d8 = pd.read_csv(cur_path+'/Data2016/On_Time_On_Time_Performance_2016_8/On_Time_On_Time_Performance_2016_8.csv', low_memory=False)\n",
    "d9 = pd.read_csv(cur_path+'/Data2016/On_Time_On_Time_Performance_2016_9/On_Time_On_Time_Performance_2016_9.csv', low_memory=False)\n",
    "d10 = pd.read_csv(cur_path+'/Data2016/On_Time_On_Time_Performance_2016_10/On_Time_On_Time_Performance_2016_10.csv', low_memory=False)\n",
    "d11 = pd.read_csv(cur_path+'/Data2016/On_Time_On_Time_Performance_2016_11/On_Time_On_Time_Performance_2016_11.csv', low_memory=False)\n",
    "d12 = pd.read_csv(cur_path+'/Data2016/On_Time_On_Time_Performance_2016_12/On_Time_On_Time_Performance_2016_12.csv', low_memory=False)"
   ]
  },
  {
   "cell_type": "code",
   "execution_count": 17,
   "metadata": {
    "collapsed": false
   },
   "outputs": [
    {
     "ename": "NameError",
     "evalue": "name 'd10' is not defined",
     "output_type": "error",
     "traceback": [
      "\u001b[0;31m---------------------------------------------------------------------------\u001b[0m",
      "\u001b[0;31mNameError\u001b[0m                                 Traceback (most recent call last)",
      "\u001b[0;32m<ipython-input-17-9ecf1388d4b6>\u001b[0m in \u001b[0;36m<module>\u001b[0;34m()\u001b[0m\n\u001b[0;32m----> 1\u001b[0;31m \u001b[0mdf1\u001b[0m \u001b[0;34m=\u001b[0m \u001b[0mpd\u001b[0m\u001b[0;34m.\u001b[0m\u001b[0mconcat\u001b[0m\u001b[0;34m(\u001b[0m\u001b[0;34m[\u001b[0m\u001b[0md1\u001b[0m\u001b[0;34m,\u001b[0m \u001b[0md2\u001b[0m\u001b[0;34m,\u001b[0m \u001b[0md3\u001b[0m\u001b[0;34m,\u001b[0m \u001b[0md4\u001b[0m\u001b[0;34m,\u001b[0m \u001b[0md5\u001b[0m\u001b[0;34m,\u001b[0m \u001b[0md6\u001b[0m\u001b[0;34m,\u001b[0m \u001b[0md7\u001b[0m\u001b[0;34m,\u001b[0m \u001b[0md8\u001b[0m\u001b[0;34m,\u001b[0m \u001b[0md9\u001b[0m\u001b[0;34m,\u001b[0m \u001b[0md10\u001b[0m\u001b[0;34m,\u001b[0m \u001b[0md11\u001b[0m\u001b[0;34m,\u001b[0m \u001b[0md12\u001b[0m\u001b[0;34m]\u001b[0m\u001b[0;34m)\u001b[0m\u001b[0;34m\u001b[0m\u001b[0m\n\u001b[0m",
      "\u001b[0;31mNameError\u001b[0m: name 'd10' is not defined"
     ]
    }
   ],
   "source": [
    "df1 = pd.concat([d1, d2, d3, d4, d5, d6, d7, d8, d9, d10, d11, d12])  "
   ]
  },
  {
   "cell_type": "code",
   "execution_count": null,
   "metadata": {
    "collapsed": true
   },
   "outputs": [],
   "source": [
    "df.to_csv(cur_path+'/Data2016_Uncleaned.csv', index = False)"
   ]
  },
  {
   "cell_type": "code",
   "execution_count": 11,
   "metadata": {
    "collapsed": false
   },
   "outputs": [],
   "source": [
    "data = pd.read_csv(open(cur_path+'/Final_Data.csv','rU'), encoding='utf-8')"
   ]
  },
  {
   "cell_type": "code",
   "execution_count": 14,
   "metadata": {
    "collapsed": false
   },
   "outputs": [
    {
     "data": {
      "text/plain": [
       "['FlightNum',\n",
       " 'Year',\n",
       " 'Day',\n",
       " 'Month',\n",
       " 'Week',\n",
       " 'Origin',\n",
       " 'Dest',\n",
       " 'UniqueCarrier',\n",
       " 'ArrTime',\n",
       " 'DepTime',\n",
       " 'CRSArrTime',\n",
       " 'CRSDepTime',\n",
       " 'CRSElapsedTime',\n",
       " 'ActualElapsedTime',\n",
       " 'ArrDelayMinutes',\n",
       " 'DepDelayMinutes',\n",
       " 'OriginCityName',\n",
       " 'DestCityName',\n",
       " 'Flight_Status',\n",
       " 'OriginVisibility',\n",
       " 'OriginWind',\n",
       " 'OriginPrecip']"
      ]
     },
     "execution_count": 14,
     "metadata": {},
     "output_type": "execute_result"
    }
   ],
   "source": [
    "data.columns.tolist()"
   ]
  },
  {
   "cell_type": "code",
   "execution_count": 15,
   "metadata": {
    "collapsed": false
   },
   "outputs": [],
   "source": [
    "cols = data.columns.tolist()\n",
    "cols.remove('OriginWind')\n",
    "cols.remove('OriginVisibility')\n",
    "cols.remove('ArrTime')\n",
    "cols.remove('ArrDelayMinutes')\n",
    "cols.remove('DepTime')\n",
    "cols.remove('OriginCityName')\n",
    "cols.remove('DestCityName')\n",
    "cols.remove('ActualElapsedTime')\n",
    "cols.remove('FlightNum')"
   ]
  },
  {
   "cell_type": "code",
   "execution_count": 16,
   "metadata": {
    "collapsed": false
   },
   "outputs": [
    {
     "data": {
      "text/plain": [
       "13"
      ]
     },
     "execution_count": 16,
     "metadata": {},
     "output_type": "execute_result"
    }
   ],
   "source": [
    "len(cols)"
   ]
  },
  {
   "cell_type": "code",
   "execution_count": 17,
   "metadata": {
    "collapsed": true
   },
   "outputs": [],
   "source": [
    "data = data[cols]"
   ]
  },
  {
   "cell_type": "code",
   "execution_count": 18,
   "metadata": {
    "collapsed": false
   },
   "outputs": [
    {
     "data": {
      "text/plain": [
       "(8006399, 13)"
      ]
     },
     "execution_count": 18,
     "metadata": {},
     "output_type": "execute_result"
    }
   ],
   "source": [
    "data.shape"
   ]
  },
  {
   "cell_type": "code",
   "execution_count": 19,
   "metadata": {
    "collapsed": true
   },
   "outputs": [],
   "source": [
    "data.to_csv(cur_path+'/Data_for_Classification.csv', index = False)"
   ]
  },
  {
   "cell_type": "code",
   "execution_count": 20,
   "metadata": {
    "collapsed": false
   },
   "outputs": [
    {
     "data": {
      "text/plain": [
       "Index(['Year', 'Day', 'Month', 'Week', 'Origin', 'Dest', 'UniqueCarrier',\n",
       "       'CRSArrTime', 'CRSDepTime', 'CRSElapsedTime', 'DepDelayMinutes',\n",
       "       'Flight_Status', 'OriginPrecip'],\n",
       "      dtype='object')"
      ]
     },
     "execution_count": 20,
     "metadata": {},
     "output_type": "execute_result"
    }
   ],
   "source": [
    "data.columns"
   ]
  },
  {
   "cell_type": "code",
   "execution_count": 22,
   "metadata": {
    "collapsed": true
   },
   "outputs": [],
   "source": [
    "d =  data[data.Flight_Status==1]"
   ]
  },
  {
   "cell_type": "code",
   "execution_count": 23,
   "metadata": {
    "collapsed": false
   },
   "outputs": [
    {
     "data": {
      "text/plain": [
       "(1775152, 13)"
      ]
     },
     "execution_count": 23,
     "metadata": {},
     "output_type": "execute_result"
    }
   ],
   "source": [
    "d.shape"
   ]
  },
  {
   "cell_type": "code",
   "execution_count": 24,
   "metadata": {
    "collapsed": true
   },
   "outputs": [],
   "source": [
    "del d['Flight_Status']"
   ]
  },
  {
   "cell_type": "code",
   "execution_count": 25,
   "metadata": {
    "collapsed": false
   },
   "outputs": [
    {
     "data": {
      "text/plain": [
       "(1775152, 12)"
      ]
     },
     "execution_count": 25,
     "metadata": {},
     "output_type": "execute_result"
    }
   ],
   "source": [
    "d.shape"
   ]
  },
  {
   "cell_type": "code",
   "execution_count": 26,
   "metadata": {
    "collapsed": true
   },
   "outputs": [],
   "source": [
    "d.to_csv(cur_path+'/Data_for_Prediction.csv', index = False)"
   ]
  },
  {
   "cell_type": "code",
   "execution_count": null,
   "metadata": {
    "collapsed": true
   },
   "outputs": [],
   "source": []
  }
 ],
 "metadata": {
  "anaconda-cloud": {},
  "kernelspec": {
   "display_name": "Python [conda root]",
   "language": "python",
   "name": "conda-root-py"
  },
  "language_info": {
   "codemirror_mode": {
    "name": "ipython",
    "version": 3
   },
   "file_extension": ".py",
   "mimetype": "text/x-python",
   "name": "python",
   "nbconvert_exporter": "python",
   "pygments_lexer": "ipython3",
   "version": "3.5.2"
  }
 },
 "nbformat": 4,
 "nbformat_minor": 2
}
