{
 "cells": [
  {
   "cell_type": "code",
   "execution_count": 2,
   "metadata": {
    "collapsed": false
   },
   "outputs": [],
   "source": [
    "import warnings\n",
    "warnings.filterwarnings('ignore')\n",
    "import pandas as pd\n",
    "import numpy as np\n",
    "import csv"
   ]
  },
  {
   "cell_type": "code",
   "execution_count": 3,
   "metadata": {
    "collapsed": false
   },
   "outputs": [],
   "source": [
    "cur_path = '/Users/sonalichaudhari/Desktop/ADS_Project/Data'\n",
    "df = pd.read_csv(open(cur_path+'/Data2016_Uncleaned.csv','rU'), encoding='utf-8')\n",
    "df1 = pd.read_csv(open(cur_path+'/Data2017_Uncleaned.csv','rU'), encoding='utf-8')"
   ]
  },
  {
   "cell_type": "code",
   "execution_count": 6,
   "metadata": {
    "collapsed": false
   },
   "outputs": [
    {
     "data": {
      "text/plain": [
       "62"
      ]
     },
     "execution_count": 6,
     "metadata": {},
     "output_type": "execute_result"
    }
   ],
   "source": [
    "missing_data = df.isnull().sum().to_frame(name='Missing_Count').reset_index()\n",
    "missing_data['Missing_percent'] = (missing_data['Missing_Count']/df.shape[0])*100\n",
    "missing_data = missing_data.sort_values(by='Missing_percent', axis=0, ascending=True)\n",
    "features = missing_data['index'][(missing_data.Missing_percent<99.38)]\n",
    "len(features)"
   ]
  },
  {
   "cell_type": "code",
   "execution_count": 79,
   "metadata": {
    "collapsed": false
   },
   "outputs": [],
   "source": [
    "# Considering only the columns having more than 99.38% of data\n",
    "d = df[features]\n",
    "\n",
    "# Renaming the columns\n",
    "d = d.rename(columns = {'DayofMonth':'Day','DayOfWeek':'Week'})"
   ]
  },
  {
   "cell_type": "code",
   "execution_count": 80,
   "metadata": {
    "collapsed": false
   },
   "outputs": [
    {
     "data": {
      "text/plain": [
       "0          2017-01-17\n",
       "1          2017-01-18\n",
       "2          2017-01-19\n",
       "3          2017-01-20\n",
       "4          2017-01-21\n",
       "5          2017-01-22\n",
       "6          2017-01-23\n",
       "7          2017-01-24\n",
       "8          2017-01-25\n",
       "9          2017-01-26\n",
       "10         2017-01-27\n",
       "11         2017-01-28\n",
       "12         2017-01-29\n",
       "13         2017-01-30\n",
       "14         2017-01-31\n",
       "15         2017-01-11\n",
       "16         2017-01-12\n",
       "17         2017-01-13\n",
       "18         2017-01-14\n",
       "19         2017-01-18\n",
       "20         2017-01-19\n",
       "21         2017-01-20\n",
       "22         2017-01-21\n",
       "23         2017-01-22\n",
       "24         2017-01-25\n",
       "25         2017-01-26\n",
       "26         2017-01-27\n",
       "27         2017-01-28\n",
       "28         2017-01-29\n",
       "29         2017-01-06\n",
       "              ...    \n",
       "4276427    2017-09-25\n",
       "4276428    2017-09-25\n",
       "4276429    2017-09-25\n",
       "4276430    2017-09-25\n",
       "4276431    2017-09-25\n",
       "4276432    2017-09-25\n",
       "4276433    2017-09-25\n",
       "4276434    2017-09-25\n",
       "4276435    2017-09-25\n",
       "4276436    2017-09-25\n",
       "4276437    2017-09-25\n",
       "4276438    2017-09-25\n",
       "4276439    2017-09-25\n",
       "4276440    2017-09-25\n",
       "4276441    2017-09-25\n",
       "4276442    2017-09-25\n",
       "4276443    2017-09-25\n",
       "4276444    2017-09-25\n",
       "4276445    2017-09-25\n",
       "4276446    2017-09-25\n",
       "4276447    2017-09-25\n",
       "4276448    2017-09-25\n",
       "4276449    2017-09-25\n",
       "4276450    2017-09-25\n",
       "4276451    2017-09-25\n",
       "4276452    2017-09-25\n",
       "4276453    2017-09-25\n",
       "4276454    2017-09-25\n",
       "4276455    2017-09-25\n",
       "4276456    2017-09-25\n",
       "Name: FlightDate, dtype: object"
      ]
     },
     "execution_count": 80,
     "metadata": {},
     "output_type": "execute_result"
    }
   ],
   "source": [
    "df1.FlightDate"
   ]
  },
  {
   "cell_type": "code",
   "execution_count": 81,
   "metadata": {
    "collapsed": true
   },
   "outputs": [],
   "source": [
    "columns = ['FlightDate','FlightNum','Year','Day','Month','Week','Origin','Dest','UniqueCarrier','Cancelled','ArrTime','ArrTimeBlk','DepTime','DepTimeBlk','CRSArrTime','CRSDepTime','DepDel15','ArrDel15','CRSElapsedTime','ActualElapsedTime','WheelsOn','WheelsOff','LateAircraftDelay','CarrierDelay','WeatherDelay','NASDelay','SecurityDelay','ArrDelayMinutes','DepDelayMinutes','OriginCityName','DestCityName','Distance']"
   ]
  },
  {
   "cell_type": "code",
   "execution_count": 82,
   "metadata": {
    "collapsed": false
   },
   "outputs": [
    {
     "data": {
      "text/plain": [
       "(5617658, 32)"
      ]
     },
     "execution_count": 82,
     "metadata": {},
     "output_type": "execute_result"
    }
   ],
   "source": [
    "dt = d[columns]\n",
    "dt.shape"
   ]
  },
  {
   "cell_type": "code",
   "execution_count": 83,
   "metadata": {
    "collapsed": true
   },
   "outputs": [],
   "source": [
    "dt = dt[dt.Cancelled==0]"
   ]
  },
  {
   "cell_type": "code",
   "execution_count": 84,
   "metadata": {
    "collapsed": true
   },
   "outputs": [],
   "source": [
    "dt = dt[(dt.ArrTime.notnull()) &(dt.ArrDelayMinutes.notnull())]"
   ]
  },
  {
   "cell_type": "code",
   "execution_count": 85,
   "metadata": {
    "collapsed": false
   },
   "outputs": [
    {
     "data": {
      "text/plain": [
       "FlightDate                 0\n",
       "OriginCityName             0\n",
       "DepDelayMinutes            0\n",
       "ArrDelayMinutes            0\n",
       "WheelsOff                  0\n",
       "WheelsOn                   0\n",
       "ActualElapsedTime          0\n",
       "CRSElapsedTime             0\n",
       "ArrDel15                   0\n",
       "DepDel15                   0\n",
       "DestCityName               0\n",
       "CRSArrTime                 0\n",
       "DepTimeBlk                 0\n",
       "CRSDepTime                 0\n",
       "ArrTimeBlk                 0\n",
       "FlightNum                  0\n",
       "Year                       0\n",
       "Day                        0\n",
       "DepTime                    0\n",
       "Month                      0\n",
       "Distance                   0\n",
       "Origin                     0\n",
       "Dest                       0\n",
       "UniqueCarrier              0\n",
       "Cancelled                  0\n",
       "ArrTime                    0\n",
       "Week                       0\n",
       "CarrierDelay         4573906\n",
       "WeatherDelay         4573906\n",
       "NASDelay             4573906\n",
       "SecurityDelay        4573906\n",
       "LateAircraftDelay    4573906\n",
       "dtype: int64"
      ]
     },
     "execution_count": 85,
     "metadata": {},
     "output_type": "execute_result"
    }
   ],
   "source": [
    "dt.isnull().sum().sort_values()"
   ]
  },
  {
   "cell_type": "code",
   "execution_count": 86,
   "metadata": {
    "collapsed": true
   },
   "outputs": [],
   "source": [
    "dt['Flight_Status'] = 0\n",
    "dt.loc[dt.DepDel15==1.0 ,'Flight_Status'] = 1\n",
    "dt.loc[dt.ArrDel15==1.0,'Flight_Status'] = 1\n",
    "dt['Flight_Status'] = dt['Flight_Status'].astype(int)"
   ]
  },
  {
   "cell_type": "code",
   "execution_count": 87,
   "metadata": {
    "collapsed": false
   },
   "outputs": [
    {
     "data": {
      "text/plain": [
       "(5538145, 33)"
      ]
     },
     "execution_count": 87,
     "metadata": {},
     "output_type": "execute_result"
    }
   ],
   "source": [
    "dt.shape"
   ]
  },
  {
   "cell_type": "code",
   "execution_count": 88,
   "metadata": {
    "collapsed": false
   },
   "outputs": [
    {
     "data": {
      "text/plain": [
       "FlightDate            object\n",
       "FlightNum              int64\n",
       "Year                   int64\n",
       "Day                    int64\n",
       "Month                  int64\n",
       "Week                   int64\n",
       "Origin                object\n",
       "Dest                  object\n",
       "UniqueCarrier         object\n",
       "Cancelled            float64\n",
       "ArrTime              float64\n",
       "ArrTimeBlk            object\n",
       "DepTime              float64\n",
       "DepTimeBlk            object\n",
       "CRSArrTime             int64\n",
       "CRSDepTime             int64\n",
       "DepDel15             float64\n",
       "ArrDel15             float64\n",
       "CRSElapsedTime       float64\n",
       "ActualElapsedTime    float64\n",
       "WheelsOn             float64\n",
       "WheelsOff            float64\n",
       "LateAircraftDelay    float64\n",
       "CarrierDelay         float64\n",
       "WeatherDelay         float64\n",
       "NASDelay             float64\n",
       "SecurityDelay        float64\n",
       "ArrDelayMinutes      float64\n",
       "DepDelayMinutes      float64\n",
       "OriginCityName        object\n",
       "DestCityName          object\n",
       "Distance             float64\n",
       "Flight_Status          int64\n",
       "dtype: object"
      ]
     },
     "execution_count": 88,
     "metadata": {},
     "output_type": "execute_result"
    }
   ],
   "source": [
    "dt.dtypes"
   ]
  },
  {
   "cell_type": "code",
   "execution_count": 89,
   "metadata": {
    "collapsed": false
   },
   "outputs": [
    {
     "data": {
      "text/plain": [
       "(5538145, 33)"
      ]
     },
     "execution_count": 89,
     "metadata": {},
     "output_type": "execute_result"
    }
   ],
   "source": [
    "dt.shape"
   ]
  },
  {
   "cell_type": "markdown",
   "metadata": {},
   "source": [
    "### Removing row having 'ArrTime','ArrDelayMinutes','ActualElapsedTime','ArrDelayMinutes' Nulls"
   ]
  },
  {
   "cell_type": "code",
   "execution_count": 105,
   "metadata": {
    "collapsed": false
   },
   "outputs": [],
   "source": [
    "dt[['Cancelled','ArrTime','DepTime','DepDel15','ArrDel15',\n",
    "    'CRSElapsedTime','ActualElapsedTime','ArrDelayMinutes','DepDelayMinutes','WheelsOn','WheelsOff','Distance']]=dt[['Cancelled',\n",
    "                                                                                   'ArrTime','DepTime','DepDel15','ArrDel15','CRSElapsedTime','ActualElapsedTime','ArrDelayMinutes','DepDelayMinutes','WheelsOn','WheelsOff','Distance']].astype(int)"
   ]
  },
  {
   "cell_type": "code",
   "execution_count": 106,
   "metadata": {
    "collapsed": false
   },
   "outputs": [
    {
     "data": {
      "text/plain": [
       "array([0])"
      ]
     },
     "execution_count": 106,
     "metadata": {},
     "output_type": "execute_result"
    }
   ],
   "source": [
    "dt.Cancelled.unique()"
   ]
  },
  {
   "cell_type": "markdown",
   "metadata": {},
   "source": [
    "### Removing Outliers"
   ]
  },
  {
   "cell_type": "code",
   "execution_count": 92,
   "metadata": {
    "collapsed": false
   },
   "outputs": [
    {
     "data": {
      "text/plain": [
       "(5538145, 33)"
      ]
     },
     "execution_count": 92,
     "metadata": {},
     "output_type": "execute_result"
    }
   ],
   "source": [
    "dt.shape"
   ]
  },
  {
   "cell_type": "code",
   "execution_count": 93,
   "metadata": {
    "collapsed": false
   },
   "outputs": [
    {
     "data": {
      "text/plain": [
       "(48, 33)"
      ]
     },
     "execution_count": 93,
     "metadata": {},
     "output_type": "execute_result"
    }
   ],
   "source": [
    "dt[dt.DepDelayMinutes>1350].shape"
   ]
  },
  {
   "cell_type": "code",
   "execution_count": 94,
   "metadata": {
    "collapsed": false
   },
   "outputs": [
    {
     "data": {
      "text/plain": [
       "(41, 33)"
      ]
     },
     "execution_count": 94,
     "metadata": {},
     "output_type": "execute_result"
    }
   ],
   "source": [
    "dt[dt.ArrDelayMinutes>1400].shape"
   ]
  },
  {
   "cell_type": "code",
   "execution_count": 95,
   "metadata": {
    "collapsed": true
   },
   "outputs": [],
   "source": [
    "dd =dt"
   ]
  },
  {
   "cell_type": "code",
   "execution_count": 96,
   "metadata": {
    "collapsed": true
   },
   "outputs": [],
   "source": [
    "#dd.DepDelayMinutes.fillna(0, inplace=True)"
   ]
  },
  {
   "cell_type": "code",
   "execution_count": 97,
   "metadata": {
    "collapsed": false
   },
   "outputs": [],
   "source": [
    "dd = dd[dd.DepDelayMinutes<1350]"
   ]
  },
  {
   "cell_type": "code",
   "execution_count": 98,
   "metadata": {
    "collapsed": false
   },
   "outputs": [
    {
     "data": {
      "text/plain": [
       "(5538095, 33)"
      ]
     },
     "execution_count": 98,
     "metadata": {},
     "output_type": "execute_result"
    }
   ],
   "source": [
    "dd = dd[dd.ArrDelayMinutes<1400]\n",
    "dd.shape"
   ]
  },
  {
   "cell_type": "code",
   "execution_count": 99,
   "metadata": {
    "collapsed": false
   },
   "outputs": [
    {
     "data": {
      "text/plain": [
       "array([0])"
      ]
     },
     "execution_count": 99,
     "metadata": {},
     "output_type": "execute_result"
    }
   ],
   "source": [
    "dd.Cancelled.unique()"
   ]
  },
  {
   "cell_type": "code",
   "execution_count": 100,
   "metadata": {
    "collapsed": false
   },
   "outputs": [],
   "source": [
    "dd = dd[~((dd['Month'] == 1) & (dd['ArrDelayMinutes']>1320))]\n",
    "dd = dd[~((dd['Month'] == 2) & (dd['ArrDelayMinutes']>1220))]\n",
    "dd = dd[~((dd['Month'] == 3) & (dd['ArrDelayMinutes']>1220))]\n",
    "dd = dd[~((dd['Month'] == 5) & (dd['ArrDelayMinutes']>1500))]\n",
    "dd = dd[~((dd['Month'] == 6) & (dd['ArrDelayMinutes']>1200))]\n",
    "dd = dd[~((dd['Month'] == 7) & (dd['ArrDelayMinutes']>1350))]\n",
    "dd = dd[~((dd['Month'] == 9) & (dd['ArrDelayMinutes']>1120))]\n",
    "dd = dd[~((dd['Month'] == 9) & (dd['ArrDelayMinutes']>1020))]\n",
    "dd = dd[~((dd['Month'] == 10) & (dd['ArrDelayMinutes']>1270))]\n",
    "dd = dd[~((dd['Month'] == 11) & (dd['ArrDelayMinutes']>1200))]\n",
    "dd = dd[~((dd['Month'] == 12) & (dd['ArrDelayMinutes']>1350))]"
   ]
  },
  {
   "cell_type": "code",
   "execution_count": 101,
   "metadata": {
    "collapsed": false
   },
   "outputs": [
    {
     "data": {
      "text/plain": [
       "(5538054, 33)"
      ]
     },
     "execution_count": 101,
     "metadata": {},
     "output_type": "execute_result"
    }
   ],
   "source": [
    "dd.shape"
   ]
  },
  {
   "cell_type": "code",
   "execution_count": 102,
   "metadata": {
    "collapsed": false
   },
   "outputs": [],
   "source": [
    "#dd[(dd.Month==11) & (dd.DepDelayMinutes>1100)]"
   ]
  },
  {
   "cell_type": "code",
   "execution_count": 103,
   "metadata": {
    "collapsed": true
   },
   "outputs": [],
   "source": [
    "dd = dd[~((dd['Month'] == 2) & (dd['DepDelayMinutes']>1220))]\n",
    "dd = dd[~((dd['Month'] == 4) & (dd['DepDelayMinutes']>1220))]\n",
    "dd = dd[~((dd['Month'] == 5) & (dd['DepDelayMinutes']>1200))]\n",
    "dd = dd[~((dd['Month'] == 10) & (dd['DepDelayMinutes']>1210))]\n",
    "dd = dd[~((dd['Month'] == 11) & (dd['DepDelayMinutes']>1100))]\n",
    "dd = dd[~((dd['Month'] == 12) & (dd['DepDelayMinutes']>1350))]"
   ]
  },
  {
   "cell_type": "code",
   "execution_count": 104,
   "metadata": {
    "collapsed": false
   },
   "outputs": [
    {
     "data": {
      "text/plain": [
       "(5538041, 33)"
      ]
     },
     "execution_count": 104,
     "metadata": {},
     "output_type": "execute_result"
    }
   ],
   "source": [
    "dd.shape"
   ]
  },
  {
   "cell_type": "code",
   "execution_count": 60,
   "metadata": {
    "collapsed": true
   },
   "outputs": [],
   "source": [
    "#dd.to_csv(cur_path+'/Data2016_Cleaned.csv', index = False)"
   ]
  },
  {
   "cell_type": "code",
   "execution_count": 107,
   "metadata": {
    "collapsed": false
   },
   "outputs": [
    {
     "data": {
      "text/plain": [
       "FlightDate                 0\n",
       "DestCityName               0\n",
       "OriginCityName             0\n",
       "DepDelayMinutes            0\n",
       "ArrDelayMinutes            0\n",
       "WheelsOff                  0\n",
       "WheelsOn                   0\n",
       "ActualElapsedTime          0\n",
       "CRSElapsedTime             0\n",
       "ArrDel15                   0\n",
       "Distance                   0\n",
       "CRSDepTime                 0\n",
       "CRSArrTime                 0\n",
       "DepDel15                   0\n",
       "DepTime                    0\n",
       "FlightNum                  0\n",
       "Year                       0\n",
       "Day                        0\n",
       "Month                      0\n",
       "DepTimeBlk                 0\n",
       "Week                       0\n",
       "Flight_Status              0\n",
       "Dest                       0\n",
       "UniqueCarrier              0\n",
       "Cancelled                  0\n",
       "ArrTime                    0\n",
       "ArrTimeBlk                 0\n",
       "Origin                     0\n",
       "LateAircraftDelay    4573906\n",
       "WeatherDelay         4573906\n",
       "NASDelay             4573906\n",
       "SecurityDelay        4573906\n",
       "CarrierDelay         4573906\n",
       "dtype: int64"
      ]
     },
     "execution_count": 107,
     "metadata": {},
     "output_type": "execute_result"
    }
   ],
   "source": [
    "dd.isnull().sum().sort_values()"
   ]
  },
  {
   "cell_type": "markdown",
   "metadata": {},
   "source": [
    "# DATA CLEANING 2017"
   ]
  },
  {
   "cell_type": "code",
   "execution_count": 108,
   "metadata": {
    "collapsed": false
   },
   "outputs": [
    {
     "data": {
      "text/plain": [
       "(4276457, 109)"
      ]
     },
     "execution_count": 108,
     "metadata": {},
     "output_type": "execute_result"
    }
   ],
   "source": [
    "#df1 = pd.read_csv(open(cur_path+'/Data2017_Uncleaned.csv','rU'), encoding='utf-8')\n",
    "df1.shape"
   ]
  },
  {
   "cell_type": "code",
   "execution_count": 109,
   "metadata": {
    "collapsed": true
   },
   "outputs": [],
   "source": [
    "missing_data1 = df1.isnull().sum().to_frame(name='Missing_Count').reset_index()\n",
    "missing_data1['Missing_percent'] = (missing_data1['Missing_Count']/df1.shape[0])*100\n",
    "missing_data1 = missing_data1.sort_values(by='Missing_percent', axis=0, ascending=True)\n",
    "features1 = missing_data1['index'][(missing_data1.Missing_percent<99.38)]\n",
    "len(features1)\n",
    "d1 = df1[features1]"
   ]
  },
  {
   "cell_type": "code",
   "execution_count": 110,
   "metadata": {
    "collapsed": true
   },
   "outputs": [],
   "source": [
    "d1 = d1.rename(columns = {'DayofMonth':'Day','DayOfWeek':'Week'})"
   ]
  },
  {
   "cell_type": "code",
   "execution_count": 111,
   "metadata": {
    "collapsed": false
   },
   "outputs": [
    {
     "data": {
      "text/plain": [
       "(4276457, 32)"
      ]
     },
     "execution_count": 111,
     "metadata": {},
     "output_type": "execute_result"
    }
   ],
   "source": [
    "dt1= d1[columns]\n",
    "dt1.shape"
   ]
  },
  {
   "cell_type": "code",
   "execution_count": 112,
   "metadata": {
    "collapsed": false
   },
   "outputs": [
    {
     "data": {
      "text/plain": [
       "(4193597, 32)"
      ]
     },
     "execution_count": 112,
     "metadata": {},
     "output_type": "execute_result"
    }
   ],
   "source": [
    "dt1 = dt1[dt1.Cancelled==0]\n",
    "dt1 = dt1[(dt1.ArrTime.notnull()) &(dt1.ArrDelayMinutes.notnull())]\n",
    "dt1.shape"
   ]
  },
  {
   "cell_type": "code",
   "execution_count": 113,
   "metadata": {
    "collapsed": false
   },
   "outputs": [
    {
     "data": {
      "text/plain": [
       "FlightDate                 0\n",
       "OriginCityName             0\n",
       "DepDelayMinutes            0\n",
       "ArrDelayMinutes            0\n",
       "WheelsOff                  0\n",
       "WheelsOn                   0\n",
       "ActualElapsedTime          0\n",
       "CRSElapsedTime             0\n",
       "ArrDel15                   0\n",
       "DepDel15                   0\n",
       "DestCityName               0\n",
       "CRSArrTime                 0\n",
       "DepTimeBlk                 0\n",
       "CRSDepTime                 0\n",
       "ArrTimeBlk                 0\n",
       "FlightNum                  0\n",
       "Year                       0\n",
       "Day                        0\n",
       "DepTime                    0\n",
       "Month                      0\n",
       "Distance                   0\n",
       "Origin                     0\n",
       "Dest                       0\n",
       "UniqueCarrier              0\n",
       "Cancelled                  0\n",
       "ArrTime                    0\n",
       "Week                       0\n",
       "CarrierDelay         3369751\n",
       "WeatherDelay         3369751\n",
       "NASDelay             3369751\n",
       "SecurityDelay        3369751\n",
       "LateAircraftDelay    3369751\n",
       "dtype: int64"
      ]
     },
     "execution_count": 113,
     "metadata": {},
     "output_type": "execute_result"
    }
   ],
   "source": [
    "dt1.isnull().sum().sort_values()"
   ]
  },
  {
   "cell_type": "code",
   "execution_count": 114,
   "metadata": {
    "collapsed": true
   },
   "outputs": [],
   "source": [
    "dt1[['Cancelled','ArrTime','DepTime','DepDel15','ArrDel15',\n",
    "    'CRSElapsedTime','ActualElapsedTime','ArrDelayMinutes','DepDelayMinutes','WheelsOn','WheelsOff','Distance']]=dt1[['Cancelled',\n",
    "                                                                                   'ArrTime','DepTime','DepDel15','ArrDel15','CRSElapsedTime','ActualElapsedTime','ArrDelayMinutes','DepDelayMinutes','WheelsOn','WheelsOff','Distance']].astype(int)"
   ]
  },
  {
   "cell_type": "code",
   "execution_count": 115,
   "metadata": {
    "collapsed": true
   },
   "outputs": [],
   "source": [
    "#dt1.DepDelayMinutes.fillna(0, inplace=True)\n",
    "dt1['Flight_Status'] = 0\n",
    "dt1.loc[dt1.DepDel15==1.0 ,'Flight_Status'] = 1\n",
    "dt1.loc[dt1.ArrDel15==1.0,'Flight_Status'] = 1\n",
    "dt1['Flight_Status'] = dt1['Flight_Status'].astype(int)"
   ]
  },
  {
   "cell_type": "code",
   "execution_count": 116,
   "metadata": {
    "collapsed": false
   },
   "outputs": [
    {
     "data": {
      "text/plain": [
       "(4193597, 33)"
      ]
     },
     "execution_count": 116,
     "metadata": {},
     "output_type": "execute_result"
    }
   ],
   "source": [
    "dd1 = dt1\n",
    "dd1.shape"
   ]
  },
  {
   "cell_type": "code",
   "execution_count": 117,
   "metadata": {
    "collapsed": true
   },
   "outputs": [],
   "source": [
    "dd1 = dd1[~((dd1['Month'] == 1) & (dd1['ArrDelayMinutes']>1500))]\n",
    "dd1 = dd1[~((dd1['Month'] == 3) & (dd1['ArrDelayMinutes']>1500))]\n",
    "dd1 = dd1[~((dd1['Month'] == 9) & (dd1['ArrDelayMinutes']>1500))]\n",
    "dd1 = dd1[~((dd1['Month'] == 5) & (dd1['ArrDelayMinutes']>1530))]\n",
    "dd1 = dd1[~((dd1['Month'] == 6) & (dd1['ArrDelayMinutes']>1500))]\n",
    "dd1 = dd1[~((dd1['Month'] == 7) & (dd1['ArrDelayMinutes']>1550))]\n",
    "dd1 = dd1[~((dd1['Month'] == 9) & (dd1['ArrDelayMinutes']>1300))]"
   ]
  },
  {
   "cell_type": "code",
   "execution_count": 118,
   "metadata": {
    "collapsed": false
   },
   "outputs": [],
   "source": [
    "dd1 = dd1[~((dd1['Month'] == 1) & (dd1['DepDelayMinutes']>1500))]\n",
    "dd1 = dd1[~((dd1['Month'] == 3) & (dd1['DepDelayMinutes']>1500))]\n",
    "dd1 = dd1[~((dd1['Month'] == 4) & (dd1['DepDelayMinutes']>1500))]\n",
    "dd1 = dd1[~((dd1['Month'] == 5) & (dd1['DepDelayMinutes']>1520))]\n",
    "dd1 = dd1[~((dd1['Month'] == 6) & (dd1['DepDelayMinutes']>1500))]\n",
    "dd1 = dd1[~((dd1['Month'] == 7) & (dd1['DepDelayMinutes']>1500))]\n",
    "dd1 = dd1[~((dd1['Month'] == 9) & (dd1['DepDelayMinutes']>1300))]"
   ]
  },
  {
   "cell_type": "code",
   "execution_count": 119,
   "metadata": {
    "collapsed": false
   },
   "outputs": [
    {
     "data": {
      "text/plain": [
       "(4193575, 33)"
      ]
     },
     "execution_count": 119,
     "metadata": {},
     "output_type": "execute_result"
    }
   ],
   "source": [
    "dd1.shape"
   ]
  },
  {
   "cell_type": "code",
   "execution_count": 120,
   "metadata": {
    "collapsed": false
   },
   "outputs": [
    {
     "data": {
      "text/plain": [
       "(5538041, 33)"
      ]
     },
     "execution_count": 120,
     "metadata": {},
     "output_type": "execute_result"
    }
   ],
   "source": [
    "dd.shape"
   ]
  },
  {
   "cell_type": "code",
   "execution_count": 121,
   "metadata": {
    "collapsed": true
   },
   "outputs": [],
   "source": [
    "data = pd.concat([dd,dd1])"
   ]
  },
  {
   "cell_type": "code",
   "execution_count": 122,
   "metadata": {
    "collapsed": false
   },
   "outputs": [
    {
     "data": {
      "text/plain": [
       "(9731616, 33)"
      ]
     },
     "execution_count": 122,
     "metadata": {},
     "output_type": "execute_result"
    }
   ],
   "source": [
    "data.shape"
   ]
  },
  {
   "cell_type": "code",
   "execution_count": 123,
   "metadata": {
    "collapsed": false
   },
   "outputs": [
    {
     "data": {
      "text/plain": [
       "FlightDate                 0\n",
       "FlightNum                  0\n",
       "Year                       0\n",
       "Day                        0\n",
       "Month                      0\n",
       "Week                       0\n",
       "Origin                     0\n",
       "Dest                       0\n",
       "UniqueCarrier              0\n",
       "Cancelled                  0\n",
       "ArrTime                    0\n",
       "ArrTimeBlk                 0\n",
       "DepTime                    0\n",
       "DepTimeBlk                 0\n",
       "CRSArrTime                 0\n",
       "CRSDepTime                 0\n",
       "DepDel15                   0\n",
       "ArrDel15                   0\n",
       "CRSElapsedTime             0\n",
       "ActualElapsedTime          0\n",
       "WheelsOn                   0\n",
       "WheelsOff                  0\n",
       "LateAircraftDelay    7943657\n",
       "CarrierDelay         7943657\n",
       "WeatherDelay         7943657\n",
       "NASDelay             7943657\n",
       "SecurityDelay        7943657\n",
       "ArrDelayMinutes            0\n",
       "DepDelayMinutes            0\n",
       "OriginCityName             0\n",
       "DestCityName               0\n",
       "Distance                   0\n",
       "Flight_Status              0\n",
       "dtype: int64"
      ]
     },
     "execution_count": 123,
     "metadata": {},
     "output_type": "execute_result"
    }
   ],
   "source": [
    "data.isnull().sum()"
   ]
  },
  {
   "cell_type": "code",
   "execution_count": 124,
   "metadata": {
    "collapsed": true
   },
   "outputs": [],
   "source": [
    "data.to_csv(cur_path+'/clean.csv',index = False)"
   ]
  },
  {
   "cell_type": "markdown",
   "metadata": {
    "collapsed": true
   },
   "source": [
    "# COMBINING WEATHER DATA"
   ]
  },
  {
   "cell_type": "code",
   "execution_count": 125,
   "metadata": {
    "collapsed": true
   },
   "outputs": [],
   "source": [
    "# airports taken into consideration\n",
    "airport = ['DFW', 'DTW', 'SEA', 'JFK', 'SJC', 'ORD', 'PHX', 'STL', 'LAX',\n",
    "       'MCO', 'DEN', 'MIA', 'IAH','SLC', 'TUS','BOS', 'FLL', 'SFO', 'OGG', 'TPA', 'SNA', 'OKC', 'HNL',\n",
    "       'PHL', 'LGA', 'RDU', 'DCA', 'RIC', 'ATL', 'LBB', 'CLT', 'ELP',\n",
    "       'BNA', 'JAC', 'SMF', 'EWR', 'IAD', 'LIH', 'SJU', 'ABQ',\n",
    "       'ORF', 'JAX', 'MSY','MCI', 'GUC', 'IND', 'PDX', 'BWI',\n",
    "       'MSP', 'MKE', 'ONT', 'RSW', 'DSM', 'PSP',\n",
    "       'EGE', 'PBI', 'SDF', 'PIT', 'DAY', 'STX', 'COS',\n",
    "       'CMH', 'MTJ', 'HDN', 'BDL', 'MEM', 'CLE', 'HOU','OAK',\n",
    "       'GEG', 'ANC', 'BUF', 'SYR', 'ALB', 'PVD','ILM', 'ICT',\n",
    "       'PWM', 'GSO', 'CHS', 'MDT', 'BHM', 'ADQ', 'BRW', 'SCC',\n",
    "       'JNU', 'KTN', 'YAK', 'CDV','PSG', 'WRG', 'OME',\n",
    "       'OTZ', 'BUR', 'ADK', 'SWF', 'LGB', 'PSE', 'BQN', 'HPN',\n",
    "       'SAV', 'SRQ', 'BTV', 'ORH','CVG', 'BIS', 'AVL', 'GRR',\n",
    "       'FNT', 'MYR', 'JAN', 'FAR', 'PNS', 'AGS','LEX',\n",
    "       'DAL', 'ATW', 'GPT', 'MLB', 'BZN', 'CHO', 'MSN', 'EYW',\n",
    "       'TRI', 'LFT', 'ROA', 'ECP', 'VPS', 'XNA', 'EVV', 'AVP', 'MDW',\n",
    "       'HSV', 'FAY', 'TYS', 'TLH', 'MSO','TTN',\n",
    "       'PHF', 'FSD', 'LBE','BMI', 'CRW','PPG', 'IAG', 'ACT','SHV', 'FSM', 'MAF',\n",
    "       'SAF', 'JLN', 'LRD', 'BRO', 'TYR', 'GJT', 'DLH',\n",
    "       'SBA', 'ASE', 'IDA', 'RAP', 'FCA', 'LNK', 'AMA',\n",
    "       'BFL', 'MLI', 'LSE', 'SBN', 'PSC','FLG', 'ISN', 'GFK',\n",
    "       'GTF', 'MRY', 'MBS', 'SUN', 'TWF', 'SGF', 'CPR',\n",
    "       'BTR', 'PBG', 'CRP', 'CID', 'SBP', 'RKS', 'CMX', 'MMH', 'PLN',\n",
    "       'EKO', 'GCC', 'MFR', 'SMX', 'EUG', 'RST', 'TVC', 'SPI',\n",
    "       'SGU', 'HLN', 'RDM', 'ACV', 'EAU', 'DVL', 'JMS', 'MKG', 'HYS',\n",
    "       'COD', 'ITH', 'APN', 'ESC', 'BJI', 'MQT',\n",
    "       'BGM', 'RHI', 'LWS', 'IMT', 'BRD', 'INL', 'PIH', 'GUM', 'HIB',\n",
    "       'BTM', 'CDC', 'OTH', 'RDD', 'HRL', 'ISP', 'MHT', 'GNV',\n",
    "       'MEI', 'PIB', 'BPT',  'AEX', 'TXK', 'ROW', 'CLL',\n",
    "       'HOB', 'LCH', 'OAJ', 'ELM', 'VLD', 'MGM', 'BGR', 'GTR',\n",
    "       'CSG', 'BQK', 'DHN', 'EWN', 'ABY', 'SPS', 'SJT', 'GGG',\n",
    "       'ACK', 'MVY', 'HYA', 'GST', 'AKN', 'DLG', 'GCK', 'MHK',\n",
    "       'ABI', 'GRI', 'EFD', 'PGD', 'SPN']"
   ]
  },
  {
   "cell_type": "code",
   "execution_count": 126,
   "metadata": {
    "collapsed": true
   },
   "outputs": [],
   "source": [
    "dt_both = data[data.Origin.isin(airport)]\n",
    "dt_both = dt_both[dt_both.Dest.isin(airport)]"
   ]
  },
  {
   "cell_type": "code",
   "execution_count": 127,
   "metadata": {
    "collapsed": true
   },
   "outputs": [],
   "source": [
    "df_weather2016 = pd.read_csv(cur_path+'/weatherdata2016/weatherdata2016.csv', low_memory=False)\n",
    "df_weather2017 = pd.read_csv(cur_path+'/weatherdata2017/weatherdata2017.csv', low_memory=False)"
   ]
  },
  {
   "cell_type": "code",
   "execution_count": 128,
   "metadata": {
    "collapsed": true
   },
   "outputs": [],
   "source": [
    "df_weather2016=df_weather2016.rename(columns = {'year':'Year','month':'Month','day':'Day'})\n",
    "df_weather2017=df_weather2017.rename(columns = {'year':'Year','month':'Month','day':'Day'})\n",
    "df_weather = pd.concat([df_weather2016,df_weather2017])"
   ]
  },
  {
   "cell_type": "code",
   "execution_count": 129,
   "metadata": {
    "collapsed": false
   },
   "outputs": [],
   "source": [
    "df_weather_origin = df_weather[['station', 'Year', 'Month', 'Day', 'Visibility', 'Wind', 'Precip']]\n",
    "df_weather_origin.columns = ['Origin', 'Year', 'Month', 'Day', 'OriginVisibility', 'OriginWind', 'OriginPrecip']"
   ]
  },
  {
   "cell_type": "code",
   "execution_count": 130,
   "metadata": {
    "collapsed": false
   },
   "outputs": [],
   "source": [
    "result = dt_both.merge(df_weather_origin.drop_duplicates(subset=['Origin', 'Year','Month', 'Day']), how='left',on=['Origin', 'Year','Month', 'Day'])"
   ]
  },
  {
   "cell_type": "code",
   "execution_count": 131,
   "metadata": {
    "collapsed": false
   },
   "outputs": [
    {
     "data": {
      "text/plain": [
       "FlightDate                 0\n",
       "Flight_Status              0\n",
       "Distance                   0\n",
       "DestCityName               0\n",
       "OriginCityName             0\n",
       "DepDelayMinutes            0\n",
       "ArrDelayMinutes            0\n",
       "WheelsOff                  0\n",
       "WheelsOn                   0\n",
       "ActualElapsedTime          0\n",
       "CRSElapsedTime             0\n",
       "DepDel15                   0\n",
       "CRSDepTime                 0\n",
       "CRSArrTime                 0\n",
       "ArrDel15                   0\n",
       "DepTime                    0\n",
       "ArrTimeBlk                 0\n",
       "ArrTime                    0\n",
       "Cancelled                  0\n",
       "UniqueCarrier              0\n",
       "Dest                       0\n",
       "FlightNum                  0\n",
       "Year                       0\n",
       "Day                        0\n",
       "DepTimeBlk                 0\n",
       "Month                      0\n",
       "Origin                     0\n",
       "Week                       0\n",
       "OriginVisibility      395512\n",
       "OriginPrecip          395512\n",
       "OriginWind            395512\n",
       "WeatherDelay         6565534\n",
       "CarrierDelay         6565534\n",
       "LateAircraftDelay    6565534\n",
       "SecurityDelay        6565534\n",
       "NASDelay             6565534\n",
       "dtype: int64"
      ]
     },
     "execution_count": 131,
     "metadata": {},
     "output_type": "execute_result"
    }
   ],
   "source": [
    "result.isnull().sum().sort_values()"
   ]
  },
  {
   "cell_type": "code",
   "execution_count": 132,
   "metadata": {
    "collapsed": true
   },
   "outputs": [],
   "source": [
    "final_combined =result\n",
    "final_combined.OriginVisibility = final_combined.OriginVisibility.fillna((final_combined.OriginVisibility.fillna(method='ffill') +final_combined.OriginVisibility.fillna(method='bfill'))/2)\n",
    "final_combined.OriginWind = final_combined.OriginWind.fillna((final_combined.OriginWind.fillna(method='ffill') +final_combined.OriginWind.fillna(method='bfill'))/2)\n",
    "final_combined.OriginPrecip = final_combined.OriginPrecip.fillna((final_combined.OriginPrecip.fillna(method='ffill') +final_combined.OriginPrecip.fillna(method='bfill'))/2)"
   ]
  },
  {
   "cell_type": "code",
   "execution_count": 133,
   "metadata": {
    "collapsed": true
   },
   "outputs": [],
   "source": [
    "df_dec = final_combined.loc[(final_combined['Month']==9)]"
   ]
  },
  {
   "cell_type": "code",
   "execution_count": 134,
   "metadata": {
    "collapsed": true
   },
   "outputs": [],
   "source": [
    "mode_vis = df_dec.OriginVisibility.mode()[0]\n",
    "mode_wind = df_dec.OriginWind.mode()[0]\n",
    "mode_pre = df_dec.OriginPrecip.mode()[0]"
   ]
  },
  {
   "cell_type": "code",
   "execution_count": 135,
   "metadata": {
    "collapsed": true
   },
   "outputs": [],
   "source": [
    "final_combined.OriginVisibility = final_combined.OriginVisibility.fillna(mode_vis)\n",
    "final_combined.OriginWind = final_combined.OriginWind.fillna(mode_wind)\n",
    "final_combined.OriginPrecip = final_combined.OriginPrecip.fillna(mode_pre)"
   ]
  },
  {
   "cell_type": "code",
   "execution_count": 136,
   "metadata": {
    "collapsed": false
   },
   "outputs": [
    {
     "data": {
      "text/plain": [
       "FlightDate                 0\n",
       "OriginVisibility           0\n",
       "Flight_Status              0\n",
       "Distance                   0\n",
       "DestCityName               0\n",
       "OriginCityName             0\n",
       "DepDelayMinutes            0\n",
       "ArrDelayMinutes            0\n",
       "WheelsOff                  0\n",
       "WheelsOn                   0\n",
       "ActualElapsedTime          0\n",
       "CRSElapsedTime             0\n",
       "OriginWind                 0\n",
       "DepDel15                   0\n",
       "CRSDepTime                 0\n",
       "ArrDel15                   0\n",
       "DepTimeBlk                 0\n",
       "FlightNum                  0\n",
       "Year                       0\n",
       "Day                        0\n",
       "Month                      0\n",
       "Week                       0\n",
       "Origin                     0\n",
       "Dest                       0\n",
       "CRSArrTime                 0\n",
       "OriginPrecip               0\n",
       "UniqueCarrier              0\n",
       "Cancelled                  0\n",
       "ArrTime                    0\n",
       "ArrTimeBlk                 0\n",
       "DepTime                    0\n",
       "SecurityDelay        6565534\n",
       "CarrierDelay         6565534\n",
       "LateAircraftDelay    6565534\n",
       "WeatherDelay         6565534\n",
       "NASDelay             6565534\n",
       "dtype: int64"
      ]
     },
     "execution_count": 136,
     "metadata": {},
     "output_type": "execute_result"
    }
   ],
   "source": [
    "final_combined.isnull().sum().sort_values()"
   ]
  },
  {
   "cell_type": "code",
   "execution_count": 137,
   "metadata": {
    "collapsed": false
   },
   "outputs": [
    {
     "data": {
      "text/plain": [
       "(8058349, 36)"
      ]
     },
     "execution_count": 137,
     "metadata": {},
     "output_type": "execute_result"
    }
   ],
   "source": [
    "final_combined.shape"
   ]
  },
  {
   "cell_type": "code",
   "execution_count": 138,
   "metadata": {
    "collapsed": false
   },
   "outputs": [
    {
     "data": {
      "text/plain": [
       "Index(['FlightDate', 'FlightNum', 'Year', 'Day', 'Month', 'Week', 'Origin',\n",
       "       'Dest', 'UniqueCarrier', 'Cancelled', 'ArrTime', 'ArrTimeBlk',\n",
       "       'DepTime', 'DepTimeBlk', 'CRSArrTime', 'CRSDepTime', 'DepDel15',\n",
       "       'ArrDel15', 'CRSElapsedTime', 'ActualElapsedTime', 'WheelsOn',\n",
       "       'WheelsOff', 'LateAircraftDelay', 'CarrierDelay', 'WeatherDelay',\n",
       "       'NASDelay', 'SecurityDelay', 'ArrDelayMinutes', 'DepDelayMinutes',\n",
       "       'OriginCityName', 'DestCityName', 'Distance', 'Flight_Status',\n",
       "       'OriginVisibility', 'OriginWind', 'OriginPrecip'],\n",
       "      dtype='object')"
      ]
     },
     "execution_count": 138,
     "metadata": {},
     "output_type": "execute_result"
    }
   ],
   "source": [
    "final_combined.columns"
   ]
  },
  {
   "cell_type": "code",
   "execution_count": 139,
   "metadata": {
    "collapsed": true
   },
   "outputs": [],
   "source": [
    "final_combined.to_csv(cur_path+'/dataweatherclean.csv',index = False)"
   ]
  },
  {
   "cell_type": "markdown",
   "metadata": {},
   "source": [
    "# FEATURES THAT ARE REQUIRED"
   ]
  },
  {
   "cell_type": "code",
   "execution_count": 78,
   "metadata": {
    "collapsed": false
   },
   "outputs": [],
   "source": [
    "del final_combined['ArrDel15']\n",
    "del final_combined['ArrTime']\n",
    "del final_combined['ActualElapsedTime']\n",
    "del final_combined['ArrDelayMinutes']\n",
    "del final_combined['DepDel15']\n",
    "del final_combined['Cancelled']\n",
    "del final_combined['DepTime']"
   ]
  },
  {
   "cell_type": "code",
   "execution_count": 79,
   "metadata": {
    "collapsed": false
   },
   "outputs": [
    {
     "data": {
      "text/plain": [
       "FlightNum             int64\n",
       "Year                  int64\n",
       "Day                   int64\n",
       "Month                 int64\n",
       "Week                  int64\n",
       "Origin               object\n",
       "Dest                 object\n",
       "UniqueCarrier        object\n",
       "CRSArrTime            int64\n",
       "CRSDepTime            int64\n",
       "CRSElapsedTime        int64\n",
       "DepDelayMinutes       int64\n",
       "OriginCityName       object\n",
       "DestCityName         object\n",
       "Distance            float64\n",
       "Flight_Status         int64\n",
       "OriginVisibility    float64\n",
       "OriginWind          float64\n",
       "OriginPrecip        float64\n",
       "dtype: object"
      ]
     },
     "execution_count": 79,
     "metadata": {},
     "output_type": "execute_result"
    }
   ],
   "source": [
    "final_combined.dtypes"
   ]
  },
  {
   "cell_type": "code",
   "execution_count": 83,
   "metadata": {
    "collapsed": false
   },
   "outputs": [],
   "source": [
    "final_combined[['CRSElapsedTime','DepDelayMinutes','Distance','OriginVisibility','OriginWind','OriginPrecip']]= final_combined[['CRSElapsedTime','DepDelayMinutes','Distance','OriginVisibility','OriginWind','OriginPrecip']].astype(int)"
   ]
  },
  {
   "cell_type": "code",
   "execution_count": 92,
   "metadata": {
    "collapsed": true
   },
   "outputs": [],
   "source": [
    "final_combined['CRSDep_hour'] = final_combined['CRSDepTime'].apply(lambda x: str(x)[:-2])\n",
    "final_combined['CRSDep_min'] = final_combined['CRSDepTime'].apply(lambda x: str(x)[2:4])\n",
    "final_combined['CRSArr_hour'] = final_combined['CRSArrTime'].apply(lambda x: str(x)[:-2])\n",
    "final_combined['CRSArr_min'] = final_combined['CRSArrTime'].apply(lambda x: str(x)[2:4])\n",
    "final_combined = final_combined.replace('', 0)"
   ]
  },
  {
   "cell_type": "code",
   "execution_count": 86,
   "metadata": {
    "collapsed": true
   },
   "outputs": [],
   "source": [
    "final_combined.to_csv(cur_path+'/Data_for_Models.csv',index = False)"
   ]
  },
  {
   "cell_type": "code",
   "execution_count": 89,
   "metadata": {
    "collapsed": false
   },
   "outputs": [
    {
     "data": {
      "text/plain": [
       "23"
      ]
     },
     "execution_count": 89,
     "metadata": {},
     "output_type": "execute_result"
    }
   ],
   "source": [
    "len(final_combined.columns)"
   ]
  },
  {
   "cell_type": "code",
   "execution_count": 91,
   "metadata": {
    "collapsed": false
   },
   "outputs": [
    {
     "data": {
      "text/plain": [
       "Index(['FlightNum', 'Year', 'Day', 'Month', 'Week', 'Origin', 'Dest',\n",
       "       'UniqueCarrier', 'CRSArrTime', 'CRSDepTime', 'CRSElapsedTime',\n",
       "       'DepDelayMinutes', 'OriginCityName', 'DestCityName', 'Distance',\n",
       "       'Flight_Status', 'OriginVisibility', 'OriginWind', 'OriginPrecip',\n",
       "       'CRSDep_hour', 'CRSDep_min', 'CRSArr_hour', 'CRSArr_min'],\n",
       "      dtype='object')"
      ]
     },
     "execution_count": 91,
     "metadata": {},
     "output_type": "execute_result"
    }
   ],
   "source": [
    "final_combined.columns"
   ]
  },
  {
   "cell_type": "code",
   "execution_count": 97,
   "metadata": {
    "collapsed": true
   },
   "outputs": [],
   "source": [
    "# For Prediction"
   ]
  },
  {
   "cell_type": "code",
   "execution_count": 103,
   "metadata": {
    "collapsed": true
   },
   "outputs": [],
   "source": [
    "cols = ['Year', 'Day', 'Month', 'Week', 'Origin', 'Dest', 'UniqueCarrier',\n",
    "       'CRSElapsedTime', 'Distance', 'OriginVisibility', 'OriginWind',\n",
    "       'OriginPrecip', 'CRSDep_hour', 'CRSDep_min', 'CRSArr_hour',\n",
    "       'CRSArr_min','Flight_Status','DepDelayMinutes']"
   ]
  },
  {
   "cell_type": "code",
   "execution_count": 104,
   "metadata": {
    "collapsed": false
   },
   "outputs": [],
   "source": [
    "pr = final_combined[cols]"
   ]
  },
  {
   "cell_type": "code",
   "execution_count": 108,
   "metadata": {
    "collapsed": false
   },
   "outputs": [],
   "source": [
    "pr = pr[pr.Flight_Status==1]\n",
    "pr = pr[pr.DepDelayMinutes != 0]"
   ]
  },
  {
   "cell_type": "code",
   "execution_count": 110,
   "metadata": {
    "collapsed": false
   },
   "outputs": [
    {
     "data": {
      "text/plain": [
       "(1606792, 18)"
      ]
     },
     "execution_count": 110,
     "metadata": {},
     "output_type": "execute_result"
    }
   ],
   "source": [
    "pr.shape"
   ]
  },
  {
   "cell_type": "code",
   "execution_count": 111,
   "metadata": {
    "collapsed": false
   },
   "outputs": [
    {
     "name": "stdout",
     "output_type": "stream",
     "text": [
      "FlightNum\n",
      "CRSArrTime\n",
      "CRSDepTime\n",
      "OriginCityName\n",
      "DestCityName\n"
     ]
    }
   ],
   "source": [
    "for i in final_combined.columns.tolist():\n",
    "    if i not in cols:\n",
    "        print(i)"
   ]
  },
  {
   "cell_type": "code",
   "execution_count": 112,
   "metadata": {
    "collapsed": true
   },
   "outputs": [],
   "source": [
    "pr.to_csv(cur_path+'/Data_for_Prediction.csv',index = False)"
   ]
  },
  {
   "cell_type": "code",
   "execution_count": null,
   "metadata": {
    "collapsed": true
   },
   "outputs": [],
   "source": []
  }
 ],
 "metadata": {
  "anaconda-cloud": {},
  "kernelspec": {
   "display_name": "Python [conda root]",
   "language": "python",
   "name": "conda-root-py"
  },
  "language_info": {
   "codemirror_mode": {
    "name": "ipython",
    "version": 3
   },
   "file_extension": ".py",
   "mimetype": "text/x-python",
   "name": "python",
   "nbconvert_exporter": "python",
   "pygments_lexer": "ipython3",
   "version": "3.5.2"
  }
 },
 "nbformat": 4,
 "nbformat_minor": 2
}
