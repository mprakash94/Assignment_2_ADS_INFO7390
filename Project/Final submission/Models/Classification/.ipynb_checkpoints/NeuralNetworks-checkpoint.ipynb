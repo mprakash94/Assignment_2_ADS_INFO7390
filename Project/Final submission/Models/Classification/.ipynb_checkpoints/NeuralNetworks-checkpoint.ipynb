{
 "cells": [
  {
   "cell_type": "markdown",
   "metadata": {},
   "source": [
    "# Neural Networks"
   ]
  },
  {
   "cell_type": "code",
   "execution_count": 1,
   "metadata": {
    "collapsed": true
   },
   "outputs": [],
   "source": [
    "import warnings\n",
    "warnings.filterwarnings('ignore')\n",
    "import pandas as pd\n",
    "import numpy as np\n",
    "import csv"
   ]
  },
  {
   "cell_type": "code",
   "execution_count": 2,
   "metadata": {
    "collapsed": false
   },
   "outputs": [],
   "source": [
    "cur_path = '/Users/sonalichaudhari/Desktop/ADS_Project/Data'\n",
    "df = pd.read_csv(open(cur_path+'/Final_Data.csv','rU'), encoding='utf-8')"
   ]
  },
  {
   "cell_type": "code",
   "execution_count": 3,
   "metadata": {
    "collapsed": false
   },
   "outputs": [
    {
     "data": {
      "text/plain": [
       "(8006399, 22)"
      ]
     },
     "execution_count": 3,
     "metadata": {},
     "output_type": "execute_result"
    }
   ],
   "source": [
    "df.shape"
   ]
  },
  {
   "cell_type": "code",
   "execution_count": 4,
   "metadata": {
    "collapsed": false
   },
   "outputs": [
    {
     "data": {
      "text/plain": [
       "FlightNum              int64\n",
       "Year                   int64\n",
       "Day                    int64\n",
       "Month                  int64\n",
       "Week                   int64\n",
       "Origin                object\n",
       "Dest                  object\n",
       "UniqueCarrier         object\n",
       "ArrTime                int64\n",
       "DepTime                int64\n",
       "CRSArrTime             int64\n",
       "CRSDepTime             int64\n",
       "CRSElapsedTime         int64\n",
       "ActualElapsedTime      int64\n",
       "ArrDelayMinutes        int64\n",
       "DepDelayMinutes        int64\n",
       "OriginCityName        object\n",
       "DestCityName          object\n",
       "Flight_Status          int64\n",
       "OriginVisibility     float64\n",
       "OriginWind           float64\n",
       "OriginPrecip         float64\n",
       "dtype: object"
      ]
     },
     "execution_count": 4,
     "metadata": {},
     "output_type": "execute_result"
    }
   ],
   "source": [
    "df.dtypes"
   ]
  },
  {
   "cell_type": "code",
   "execution_count": 57,
   "metadata": {
    "collapsed": true
   },
   "outputs": [],
   "source": [
    "cols = df.columns.tolist()\n",
    "cols.remove('Flight_Status')\n",
    "cols.remove('OriginWind')\n",
    "cols.remove('OriginVisibility')"
   ]
  },
  {
   "cell_type": "code",
   "execution_count": 58,
   "metadata": {
    "collapsed": false
   },
   "outputs": [
    {
     "data": {
      "text/plain": [
       "Index(['FlightNum', 'Year', 'Day', 'Month', 'Week', 'Origin', 'Dest',\n",
       "       'UniqueCarrier', 'ArrTime', 'DepTime', 'CRSArrTime', 'CRSDepTime',\n",
       "       'CRSElapsedTime', 'ActualElapsedTime', 'ArrDelayMinutes',\n",
       "       'DepDelayMinutes', 'OriginCityName', 'DestCityName', 'Flight_Status',\n",
       "       'OriginVisibility', 'OriginWind', 'OriginPrecip'],\n",
       "      dtype='object')"
      ]
     },
     "execution_count": 58,
     "metadata": {},
     "output_type": "execute_result"
    }
   ],
   "source": [
    "df.columns"
   ]
  },
  {
   "cell_type": "markdown",
   "metadata": {},
   "source": [
    "### Cross Validation for splitting the data in train and test sets"
   ]
  },
  {
   "cell_type": "code",
   "execution_count": 43,
   "metadata": {
    "collapsed": false
   },
   "outputs": [],
   "source": [
    "X= df[cols]\n",
    "y = df['Flight_Status']"
   ]
  },
  {
   "cell_type": "code",
   "execution_count": 33,
   "metadata": {
    "collapsed": false
   },
   "outputs": [],
   "source": [
    "from sklearn import preprocessing, cross_validation\n",
    "\n",
    "y = np.ravel(y)\n",
    "# Splitting the data\n",
    "X_train, X_test, y_train, y_test =  cross_validation.train_test_split(X, y,test_size=0.30,random_state=0)"
   ]
  },
  {
   "cell_type": "code",
   "execution_count": 34,
   "metadata": {
    "collapsed": false
   },
   "outputs": [],
   "source": [
    "from sklearn import preprocessing\n",
    "label_encoder = preprocessing.LabelEncoder()\n",
    "# Converting the categorical data to numeric \n",
    "\n",
    "X_train['carrier'] = label_encoder.fit_transform(X_train['UniqueCarrier'])\n",
    "X_train['origin'] = label_encoder.fit_transform(X_train['Origin'])\n",
    "X_train['dest'] = label_encoder.fit_transform(X_train['Dest'])\n",
    "X_train['ori_city'] = label_encoder.fit_transform(X_train['OriginCityName'])\n",
    "X_train['dest_city'] = label_encoder.fit_transform(X_train['DestCityName'])\n",
    "\n",
    "X_test['carrier'] = label_encoder.fit_transform(X_test['UniqueCarrier'])\n",
    "X_test['origin'] = label_encoder.fit_transform(X_test['Origin'])\n",
    "X_test['dest'] = label_encoder.fit_transform(X_test['Dest'])\n",
    "X_test['ori_city'] = label_encoder.fit_transform(X_test['OriginCityName'])\n",
    "X_test['dest_city'] = label_encoder.fit_transform(X_test['DestCityName'])"
   ]
  },
  {
   "cell_type": "code",
   "execution_count": 35,
   "metadata": {
    "collapsed": true
   },
   "outputs": [],
   "source": [
    "# Getting only the numerical columns\n",
    "\n",
    "X_train = X_train._get_numeric_data()\n",
    "X_test = X_test._get_numeric_data()"
   ]
  },
  {
   "cell_type": "code",
   "execution_count": 10,
   "metadata": {
    "collapsed": false
   },
   "outputs": [
    {
     "data": {
      "text/html": [
       "<div>\n",
       "<table border=\"1\" class=\"dataframe\">\n",
       "  <thead>\n",
       "    <tr style=\"text-align: right;\">\n",
       "      <th></th>\n",
       "      <th>FlightNum</th>\n",
       "      <th>Year</th>\n",
       "      <th>Day</th>\n",
       "      <th>Month</th>\n",
       "      <th>Week</th>\n",
       "      <th>ArrTime</th>\n",
       "      <th>DepTime</th>\n",
       "      <th>CRSArrTime</th>\n",
       "      <th>CRSDepTime</th>\n",
       "      <th>CRSElapsedTime</th>\n",
       "      <th>...</th>\n",
       "      <th>ArrDelayMinutes</th>\n",
       "      <th>DepDelayMinutes</th>\n",
       "      <th>OriginVisibility</th>\n",
       "      <th>OriginWind</th>\n",
       "      <th>OriginPrecip</th>\n",
       "      <th>carrier</th>\n",
       "      <th>origin</th>\n",
       "      <th>dest</th>\n",
       "      <th>ori_city</th>\n",
       "      <th>dest_city</th>\n",
       "    </tr>\n",
       "  </thead>\n",
       "  <tbody>\n",
       "    <tr>\n",
       "      <th>5735510</th>\n",
       "      <td>1685</td>\n",
       "      <td>2017</td>\n",
       "      <td>25</td>\n",
       "      <td>4</td>\n",
       "      <td>2</td>\n",
       "      <td>1851</td>\n",
       "      <td>1727</td>\n",
       "      <td>1905</td>\n",
       "      <td>1730</td>\n",
       "      <td>95</td>\n",
       "      <td>...</td>\n",
       "      <td>0</td>\n",
       "      <td>0</td>\n",
       "      <td>10.0</td>\n",
       "      <td>9.0</td>\n",
       "      <td>0.0</td>\n",
       "      <td>3</td>\n",
       "      <td>16</td>\n",
       "      <td>185</td>\n",
       "      <td>14</td>\n",
       "      <td>178</td>\n",
       "    </tr>\n",
       "    <tr>\n",
       "      <th>3878461</th>\n",
       "      <td>1720</td>\n",
       "      <td>2016</td>\n",
       "      <td>16</td>\n",
       "      <td>11</td>\n",
       "      <td>3</td>\n",
       "      <td>1053</td>\n",
       "      <td>939</td>\n",
       "      <td>1041</td>\n",
       "      <td>937</td>\n",
       "      <td>124</td>\n",
       "      <td>...</td>\n",
       "      <td>12</td>\n",
       "      <td>2</td>\n",
       "      <td>10.0</td>\n",
       "      <td>7.0</td>\n",
       "      <td>0.0</td>\n",
       "      <td>3</td>\n",
       "      <td>16</td>\n",
       "      <td>171</td>\n",
       "      <td>14</td>\n",
       "      <td>147</td>\n",
       "    </tr>\n",
       "    <tr>\n",
       "      <th>3795517</th>\n",
       "      <td>3013</td>\n",
       "      <td>2016</td>\n",
       "      <td>22</td>\n",
       "      <td>10</td>\n",
       "      <td>6</td>\n",
       "      <td>1301</td>\n",
       "      <td>1131</td>\n",
       "      <td>1323</td>\n",
       "      <td>1138</td>\n",
       "      <td>105</td>\n",
       "      <td>...</td>\n",
       "      <td>0</td>\n",
       "      <td>0</td>\n",
       "      <td>6.0</td>\n",
       "      <td>7.0</td>\n",
       "      <td>0.0</td>\n",
       "      <td>8</td>\n",
       "      <td>250</td>\n",
       "      <td>138</td>\n",
       "      <td>241</td>\n",
       "      <td>144</td>\n",
       "    </tr>\n",
       "    <tr>\n",
       "      <th>2166340</th>\n",
       "      <td>1483</td>\n",
       "      <td>2016</td>\n",
       "      <td>2</td>\n",
       "      <td>6</td>\n",
       "      <td>4</td>\n",
       "      <td>918</td>\n",
       "      <td>603</td>\n",
       "      <td>912</td>\n",
       "      <td>600</td>\n",
       "      <td>372</td>\n",
       "      <td>...</td>\n",
       "      <td>6</td>\n",
       "      <td>3</td>\n",
       "      <td>10.0</td>\n",
       "      <td>7.0</td>\n",
       "      <td>0.0</td>\n",
       "      <td>9</td>\n",
       "      <td>81</td>\n",
       "      <td>227</td>\n",
       "      <td>173</td>\n",
       "      <td>215</td>\n",
       "    </tr>\n",
       "    <tr>\n",
       "      <th>7992256</th>\n",
       "      <td>577</td>\n",
       "      <td>2017</td>\n",
       "      <td>3</td>\n",
       "      <td>9</td>\n",
       "      <td>7</td>\n",
       "      <td>1117</td>\n",
       "      <td>841</td>\n",
       "      <td>1149</td>\n",
       "      <td>851</td>\n",
       "      <td>358</td>\n",
       "      <td>...</td>\n",
       "      <td>0</td>\n",
       "      <td>0</td>\n",
       "      <td>10.0</td>\n",
       "      <td>5.0</td>\n",
       "      <td>0.0</td>\n",
       "      <td>2</td>\n",
       "      <td>87</td>\n",
       "      <td>227</td>\n",
       "      <td>81</td>\n",
       "      <td>215</td>\n",
       "    </tr>\n",
       "  </tbody>\n",
       "</table>\n",
       "<p>5 rows × 21 columns</p>\n",
       "</div>"
      ],
      "text/plain": [
       "         FlightNum  Year  Day  Month  Week  ArrTime  DepTime  CRSArrTime  \\\n",
       "5735510       1685  2017   25      4     2     1851     1727        1905   \n",
       "3878461       1720  2016   16     11     3     1053      939        1041   \n",
       "3795517       3013  2016   22     10     6     1301     1131        1323   \n",
       "2166340       1483  2016    2      6     4      918      603         912   \n",
       "7992256        577  2017    3      9     7     1117      841        1149   \n",
       "\n",
       "         CRSDepTime  CRSElapsedTime    ...      ArrDelayMinutes  \\\n",
       "5735510        1730              95    ...                    0   \n",
       "3878461         937             124    ...                   12   \n",
       "3795517        1138             105    ...                    0   \n",
       "2166340         600             372    ...                    6   \n",
       "7992256         851             358    ...                    0   \n",
       "\n",
       "         DepDelayMinutes  OriginVisibility  OriginWind  OriginPrecip  carrier  \\\n",
       "5735510                0              10.0         9.0           0.0        3   \n",
       "3878461                2              10.0         7.0           0.0        3   \n",
       "3795517                0               6.0         7.0           0.0        8   \n",
       "2166340                3              10.0         7.0           0.0        9   \n",
       "7992256                0              10.0         5.0           0.0        2   \n",
       "\n",
       "         origin  dest  ori_city  dest_city  \n",
       "5735510      16   185        14        178  \n",
       "3878461      16   171        14        147  \n",
       "3795517     250   138       241        144  \n",
       "2166340      81   227       173        215  \n",
       "7992256      87   227        81        215  \n",
       "\n",
       "[5 rows x 21 columns]"
      ]
     },
     "execution_count": 10,
     "metadata": {},
     "output_type": "execute_result"
    }
   ],
   "source": [
    "X_train.head()"
   ]
  },
  {
   "cell_type": "code",
   "execution_count": null,
   "metadata": {
    "collapsed": false
   },
   "outputs": [],
   "source": [
    "# Creating the model\n",
    "from sklearn.neural_network import MLPClassifier\n",
    "\n",
    "model = MLPClassifier(hidden_layer_sizes=(50,20,5),max_iter=20,verbose=False)\n",
    "model = model.fit(X_train, y_train)"
   ]
  },
  {
   "cell_type": "code",
   "execution_count": null,
   "metadata": {
    "collapsed": false
   },
   "outputs": [],
   "source": [
    "# Caluculating the accuracy of the model\n",
    "\n",
    "accuracy = model.score(X_train, y_train)\n",
    "print(accuracy)"
   ]
  },
  {
   "cell_type": "code",
   "execution_count": null,
   "metadata": {
    "collapsed": false
   },
   "outputs": [],
   "source": [
    "# Run the model on the test set\n",
    "y_pred = model.predict(X_test)\n",
    "y_pred"
   ]
  },
  {
   "cell_type": "code",
   "execution_count": null,
   "metadata": {
    "collapsed": false
   },
   "outputs": [],
   "source": [
    "# Generating Confusion Matrix\n",
    "\n",
    "from sklearn.metrics import confusion_matrix\n",
    "cm = confusion_matrix(y_test, y_pred)\n",
    "print(cm)"
   ]
  },
  {
   "cell_type": "code",
   "execution_count": null,
   "metadata": {
    "collapsed": false
   },
   "outputs": [],
   "source": [
    "# ROC\n",
    "\n",
    "import matplotlib.pyplot as plt\n",
    "from sklearn.metrics import roc_curve\n",
    "\n",
    "preds = model.predict_proba(X_test)[:,1]\n",
    "fpr, tpr, _ = roc_curve(y_test, preds)\n",
    "plt.figure()\n",
    "plt.plot(fpr, tpr, label='ROC curve')\n",
    "plt.plot([0, 1], [0, 1], 'k--')\n",
    "plt.xlim([0.0, 1.0])\n",
    "plt.ylim([0.0, 1.05])\n",
    "plt.xlabel('1-Specificity')\n",
    "plt.ylabel('Sensitivity')\n",
    "plt.title('ROC curve')\n",
    "plt.legend(loc=\"lower right\")\n",
    "plt.show()"
   ]
  },
  {
   "cell_type": "code",
   "execution_count": null,
   "metadata": {
    "collapsed": true
   },
   "outputs": [],
   "source": [
    "# Predict the values for test and train using the model\n",
    "y_test_predicted = model.predict(X_test)\n",
    "y_train_predicted= model.predict(X_train)"
   ]
  },
  {
   "cell_type": "code",
   "execution_count": null,
   "metadata": {
    "collapsed": false
   },
   "outputs": [],
   "source": [
    "# Caluclate the rms and mae values\n",
    "from sklearn.metrics import mean_squared_error, mean_absolute_error\n",
    "\n",
    "mae_train = mean_absolute_error(y_train, y_train_predicted)\n",
    "mae_test = mean_absolute_error(y_test, y_test_predicted)\n",
    "rms_train = mean_squared_error(y_train, y_train_predicted)\n",
    "rms_test = mean_squared_error(y_test, y_test_predicted)\n",
    "print('MAE_train:' ,mae_train)\n",
    "print('MAE_test:',mae_test)\n",
    "print('RMS_train:',rms_train)\n",
    "print('RMS_test:',rms_test)"
   ]
  },
  {
   "cell_type": "markdown",
   "metadata": {
    "collapsed": true
   },
   "source": [
    "# TRIALS"
   ]
  },
  {
   "cell_type": "markdown",
   "metadata": {},
   "source": [
    "# 1"
   ]
  },
  {
   "cell_type": "code",
   "execution_count": 14,
   "metadata": {
    "collapsed": false
   },
   "outputs": [
    {
     "name": "stdout",
     "output_type": "stream",
     "text": [
      "Accuracy:  0.999990186421\n",
      "[[1868957      19]\n",
      " [      9  532935]]\n",
      "MAE_train: 9.81357946029e-06\n",
      "MAE_test: 1.1657340794e-05\n",
      "RMS_train: 9.81357946029e-06\n",
      "RMS_test: 1.1657340794e-05\n"
     ]
    }
   ],
   "source": [
    "from sklearn.neural_network import MLPClassifier\n",
    "\n",
    "model2 = MLPClassifier(hidden_layer_sizes=(15,10,5),max_iter=20,verbose=False)\n",
    "model2= model2.fit(X_train, y_train)\n",
    "\n",
    "accuracy = model2.score(X_train, y_train)\n",
    "print('Accuracy: ',accuracy)\n",
    "\n",
    "# Run the model on the test set\n",
    "y_pred = model2.predict(X_test)\n",
    "from sklearn.metrics import confusion_matrix\n",
    "cm = confusion_matrix(y_test, y_pred)\n",
    "print(cm)\n",
    "\n",
    "# Caluclate the rms and mae values\n",
    "from sklearn.metrics import mean_squared_error, mean_absolute_error\n",
    "y_test_predicted = model2.predict(X_test)\n",
    "y_train_predicted= model2.predict(X_train)\n",
    "mae_train = mean_absolute_error(y_train, y_train_predicted)\n",
    "mae_test = mean_absolute_error(y_test, y_test_predicted)\n",
    "rms_train = mean_squared_error(y_train, y_train_predicted)\n",
    "rms_test = mean_squared_error(y_test, y_test_predicted)\n",
    "print('MAE_train:' ,mae_train)\n",
    "print('MAE_test:',mae_test)\n",
    "print('RMS_train:',rms_train)\n",
    "print('RMS_test:',rms_test)"
   ]
  },
  {
   "cell_type": "markdown",
   "metadata": {},
   "source": [
    "# 2"
   ]
  },
  {
   "cell_type": "code",
   "execution_count": 16,
   "metadata": {
    "collapsed": false
   },
   "outputs": [
    {
     "name": "stdout",
     "output_type": "stream",
     "text": [
      "Accuracy:  0.999977339553\n",
      "[[1868965      11]\n",
      " [     45  532899]]\n",
      "MAE_train: 2.26604471174e-05\n",
      "MAE_test: 2.33146815881e-05\n",
      "RMS_train: 2.26604471174e-05\n",
      "RMS_test: 2.33146815881e-05\n"
     ]
    }
   ],
   "source": [
    "from sklearn.neural_network import MLPClassifier\n",
    "\n",
    "model1 = MLPClassifier(hidden_layer_sizes=(25,13,6),max_iter=25,verbose=False)\n",
    "model1= model1.fit(X_train, y_train)\n",
    "\n",
    "accuracy = model1.score(X_train, y_train)\n",
    "print('Accuracy: ',accuracy)\n",
    "\n",
    "# Run the model on the test set\n",
    "y_pred = model1.predict(X_test)\n",
    "from sklearn.metrics import confusion_matrix\n",
    "cm = confusion_matrix(y_test, y_pred)\n",
    "print(cm)\n",
    "\n",
    "# Caluclate the rms and mae values\n",
    "from sklearn.metrics import mean_squared_error, mean_absolute_error\n",
    "y_test_predicted = model1.predict(X_test)\n",
    "y_train_predicted= model1.predict(X_train)\n",
    "mae_train = mean_absolute_error(y_train, y_train_predicted)\n",
    "mae_test = mean_absolute_error(y_test, y_test_predicted)\n",
    "rms_train = mean_squared_error(y_train, y_train_predicted)\n",
    "rms_test = mean_squared_error(y_test, y_test_predicted)\n",
    "print('MAE_train:' ,mae_train)\n",
    "print('MAE_test:',mae_test)\n",
    "print('RMS_train:',rms_train)\n",
    "print('RMS_test:',rms_test)"
   ]
  },
  {
   "cell_type": "markdown",
   "metadata": {},
   "source": [
    "# 3"
   ]
  },
  {
   "cell_type": "code",
   "execution_count": 17,
   "metadata": {
    "collapsed": false
   },
   "outputs": [
    {
     "name": "stdout",
     "output_type": "stream",
     "text": [
      "Accuracy:  0.999649209141\n",
      "[[1868962      14]\n",
      " [    832  532112]]\n",
      "MAE_train: 0.000350790858526\n",
      "MAE_test: 0.00035221822542\n",
      "RMS_train: 0.000350790858526\n",
      "RMS_test: 0.00035221822542\n"
     ]
    }
   ],
   "source": [
    "from sklearn.neural_network import MLPClassifier\n",
    "\n",
    "model3 = MLPClassifier(hidden_layer_sizes=(20,10,5),max_iter=15,verbose=False)\n",
    "model3= model3.fit(X_train, y_train)\n",
    "\n",
    "accuracy = model3.score(X_train, y_train)\n",
    "print('Accuracy: ',accuracy)\n",
    "\n",
    "# Run the model on the test set\n",
    "y_pred = model3.predict(X_test)\n",
    "from sklearn.metrics import confusion_matrix\n",
    "cm = confusion_matrix(y_test, y_pred)\n",
    "print(cm)\n",
    "\n",
    "# Caluclate the rms and mae values\n",
    "from sklearn.metrics import mean_squared_error, mean_absolute_error\n",
    "y_test_predicted = model3.predict(X_test)\n",
    "y_train_predicted= model3.predict(X_train)\n",
    "mae_train = mean_absolute_error(y_train, y_train_predicted)\n",
    "mae_test = mean_absolute_error(y_test, y_test_predicted)\n",
    "rms_train = mean_squared_error(y_train, y_train_predicted)\n",
    "rms_test = mean_squared_error(y_test, y_test_predicted)\n",
    "print('MAE_train:' ,mae_train)\n",
    "print('MAE_test:',mae_test)\n",
    "print('RMS_train:',rms_train)\n",
    "print('RMS_test:',rms_test)"
   ]
  },
  {
   "cell_type": "markdown",
   "metadata": {},
   "source": [
    "# 4"
   ]
  },
  {
   "cell_type": "code",
   "execution_count": 19,
   "metadata": {
    "collapsed": false
   },
   "outputs": [
    {
     "name": "stdout",
     "output_type": "stream",
     "text": [
      "Accuracy:  0.999999643143\n",
      "[[1868974       2]\n",
      " [      0  532944]]\n",
      "MAE_train: 3.56857434919e-07\n",
      "MAE_test: 8.32667199574e-07\n",
      "RMS_train: 3.56857434919e-07\n",
      "RMS_test: 8.32667199574e-07\n"
     ]
    }
   ],
   "source": [
    "from sklearn.neural_network import MLPClassifier\n",
    "\n",
    "model4 = MLPClassifier(hidden_layer_sizes=(10,5,2),max_iter=30,verbose=False)\n",
    "model4= model4.fit(X_train, y_train)\n",
    "\n",
    "accuracy = model4.score(X_train, y_train)\n",
    "print('Accuracy: ',accuracy)\n",
    "\n",
    "# Run the model on the test set\n",
    "y_pred = model4.predict(X_test)\n",
    "from sklearn.metrics import confusion_matrix\n",
    "cm = confusion_matrix(y_test, y_pred)\n",
    "print(cm)\n",
    "\n",
    "# Caluclate the rms and mae values\n",
    "from sklearn.metrics import mean_squared_error, mean_absolute_error\n",
    "y_test_predicted = model4.predict(X_test)\n",
    "y_train_predicted= model4.predict(X_train)\n",
    "mae_train = mean_absolute_error(y_train, y_train_predicted)\n",
    "mae_test = mean_absolute_error(y_test, y_test_predicted)\n",
    "rms_train = mean_squared_error(y_train, y_train_predicted)\n",
    "rms_test = mean_squared_error(y_test, y_test_predicted)\n",
    "print('MAE_train:' ,mae_train)\n",
    "print('MAE_test:',mae_test)\n",
    "print('RMS_train:',rms_train)\n",
    "print('RMS_test:',rms_test)"
   ]
  },
  {
   "cell_type": "markdown",
   "metadata": {},
   "source": [
    "# 5"
   ]
  },
  {
   "cell_type": "code",
   "execution_count": 21,
   "metadata": {
    "collapsed": false
   },
   "outputs": [
    {
     "name": "stdout",
     "output_type": "stream",
     "text": [
      "Accuracy:  0.999998750999\n",
      "[[1868974       2]\n",
      " [      0  532944]]\n",
      "MAE_train: 1.24900102222e-06\n",
      "MAE_test: 8.32667199574e-07\n",
      "RMS_train: 1.24900102222e-06\n",
      "RMS_test: 8.32667199574e-07\n"
     ]
    }
   ],
   "source": [
    "from sklearn.neural_network import MLPClassifier\n",
    "\n",
    "model5 = MLPClassifier(hidden_layer_sizes=(15,10,5),max_iter=30,verbose=False)\n",
    "model5= model5.fit(X_train, y_train)\n",
    "\n",
    "accuracy = model5.score(X_train, y_train)\n",
    "print('Accuracy: ',accuracy)\n",
    "\n",
    "# Run the model on the test set\n",
    "y_pred = model5.predict(X_test)\n",
    "from sklearn.metrics import confusion_matrix\n",
    "cm = confusion_matrix(y_test, y_pred)\n",
    "print(cm)\n",
    "\n",
    "# Caluclate the rms and mae values\n",
    "from sklearn.metrics import mean_squared_error, mean_absolute_error\n",
    "y_test_predicted = model5.predict(X_test)\n",
    "y_train_predicted= model5.predict(X_train)\n",
    "mae_train = mean_absolute_error(y_train, y_train_predicted)\n",
    "mae_test = mean_absolute_error(y_test, y_test_predicted)\n",
    "rms_train = mean_squared_error(y_train, y_train_predicted)\n",
    "rms_test = mean_squared_error(y_test, y_test_predicted)\n",
    "print('MAE_train:' ,mae_train)\n",
    "print('MAE_test:',mae_test)\n",
    "print('RMS_train:',rms_train)\n",
    "print('RMS_test:',rms_test)"
   ]
  },
  {
   "cell_type": "markdown",
   "metadata": {},
   "source": [
    "# 6"
   ]
  },
  {
   "cell_type": "code",
   "execution_count": 22,
   "metadata": {
    "collapsed": false
   },
   "outputs": [
    {
     "name": "stdout",
     "output_type": "stream",
     "text": [
      "Accuracy:  0.999138367723\n",
      "[[1868966      10]\n",
      " [   2096  530848]]\n",
      "MAE_train: 0.000861632276613\n",
      "MAE_test: 0.000876798561151\n",
      "RMS_train: 0.000861632276613\n",
      "RMS_test: 0.000876798561151\n"
     ]
    }
   ],
   "source": [
    "\n",
    "from sklearn.neural_network import MLPClassifier\n",
    "\n",
    "model6 = MLPClassifier(hidden_layer_sizes=(15,10,5),max_iter=10,verbose=False, learning_rate='adaptive')\n",
    "model6= model5.fit(X_train, y_train)\n",
    "\n",
    "accuracy = model6.score(X_train, y_train)\n",
    "print('Accuracy: ',accuracy)\n",
    "\n",
    "# Run the model on the test set\n",
    "y_pred = model6.predict(X_test)\n",
    "from sklearn.metrics import confusion_matrix\n",
    "cm = confusion_matrix(y_test, y_pred)\n",
    "print(cm)\n",
    "\n",
    "# Caluclate the rms and mae values\n",
    "from sklearn.metrics import mean_squared_error, mean_absolute_error\n",
    "y_test_predicted = model6.predict(X_test)\n",
    "y_train_predicted= model6.predict(X_train)\n",
    "mae_train = mean_absolute_error(y_train, y_train_predicted)\n",
    "mae_test = mean_absolute_error(y_test, y_test_predicted)\n",
    "rms_train = mean_squared_error(y_train, y_train_predicted)\n",
    "rms_test = mean_squared_error(y_test, y_test_predicted)\n",
    "print('MAE_train:' ,mae_train)\n",
    "print('MAE_test:',mae_test)\n",
    "print('RMS_train:',rms_train)\n",
    "print('RMS_test:',rms_test)"
   ]
  },
  {
   "cell_type": "markdown",
   "metadata": {},
   "source": [
    "# 7"
   ]
  },
  {
   "cell_type": "code",
   "execution_count": 24,
   "metadata": {
    "collapsed": false
   },
   "outputs": [
    {
     "name": "stdout",
     "output_type": "stream",
     "text": [
      "Accuracy:  0.999915603217\n",
      "[[1868964      12]\n",
      " [    217  532727]]\n",
      "MAE_train: 8.43967833585e-05\n",
      "MAE_test: 9.53403943512e-05\n",
      "RMS_train: 8.43967833585e-05\n",
      "RMS_test: 9.53403943512e-05\n"
     ]
    }
   ],
   "source": [
    "\n",
    "from sklearn.neural_network import MLPClassifier\n",
    "\n",
    "model7 = MLPClassifier(hidden_layer_sizes=(15,10,5),max_iter=20,verbose=False, learning_rate='adaptive')\n",
    "model7= model7.fit(X_train, y_train)\n",
    "\n",
    "accuracy = model7.score(X_train, y_train)\n",
    "print('Accuracy: ',accuracy)\n",
    "\n",
    "# Run the model on the test set\n",
    "y_pred = model7.predict(X_test)\n",
    "from sklearn.metrics import confusion_matrix\n",
    "cm = confusion_matrix(y_test, y_pred)\n",
    "print(cm)\n",
    "\n",
    "# Caluclate the rms and mae values\n",
    "from sklearn.metrics import mean_squared_error, mean_absolute_error\n",
    "y_test_predicted = model7.predict(X_test)\n",
    "y_train_predicted= model7.predict(X_train)\n",
    "mae_train = mean_absolute_error(y_train, y_train_predicted)\n",
    "mae_test = mean_absolute_error(y_test, y_test_predicted)\n",
    "rms_train = mean_squared_error(y_train, y_train_predicted)\n",
    "rms_test = mean_squared_error(y_test, y_test_predicted)\n",
    "print('MAE_train:' ,mae_train)\n",
    "print('MAE_test:',mae_test)\n",
    "print('RMS_train:',rms_train)\n",
    "print('RMS_test:',rms_test)"
   ]
  },
  {
   "cell_type": "markdown",
   "metadata": {},
   "source": [
    "# 8"
   ]
  },
  {
   "cell_type": "code",
   "execution_count": 25,
   "metadata": {
    "collapsed": false
   },
   "outputs": [
    {
     "name": "stdout",
     "output_type": "stream",
     "text": [
      "Accuracy:  0.995803534994\n",
      "[[1868041     935]\n",
      " [   9053  523891]]\n",
      "MAE_train: 0.00419646500594\n",
      "MAE_test: 0.00415833999467\n",
      "RMS_train: 0.00419646500594\n"
     ]
    }
   ],
   "source": [
    "\n",
    "from sklearn.neural_network import MLPClassifier\n",
    "\n",
    "model8 = MLPClassifier(hidden_layer_sizes=(15,10,5),max_iter=15,verbose=False, learning_rate='adaptive')\n",
    "model8= model8.fit(X_train, y_train)\n",
    "\n",
    "accuracy = model8.score(X_train, y_train)\n",
    "print('Accuracy: ',accuracy)\n",
    "\n",
    "# Run the model on the test set\n",
    "y_pred = model8.predict(X_test)\n",
    "from sklearn.metrics import confusion_matrix\n",
    "cm = confusion_matrix(y_test, y_pred)\n",
    "print(cm)\n",
    "\n",
    "# Caluclate the rms and mae values\n",
    "from sklearn.metrics import mean_squared_error, mean_absolute_error\n",
    "y_test_predicted = model8.predict(X_test)\n",
    "y_train_predicted= model8.predict(X_train)\n",
    "mae_train = mean_absolute_error(y_train, y_train_predicted)\n",
    "mae_test = mean_absolute_error(y_test, y_test_predicted)\n",
    "rms_train = mean_squared_error(y_train, y_train_predicted)\n",
    "rms_test = mean_squared_error(y_test, y_test_predicted)\n",
    "print('MAE_train:' ,mae_train)\n",
    "print('MAE_test:',mae_test)\n",
    "print('RMS_train:',rms_train)"
   ]
  },
  {
   "cell_type": "markdown",
   "metadata": {},
   "source": [
    "# 9"
   ]
  },
  {
   "cell_type": "code",
   "execution_count": 27,
   "metadata": {
    "collapsed": false
   },
   "outputs": [
    {
     "name": "stdout",
     "output_type": "stream",
     "text": [
      "Accuracy:  0.997778740896\n",
      "[[1868645     331]\n",
      " [   5080  527864]]\n",
      "MAE_train: 0.00222125910366\n",
      "MAE_test: 0.00225278110845\n",
      "RMS_train: 0.00222125910366\n"
     ]
    }
   ],
   "source": [
    "from sklearn.neural_network import MLPClassifier\n",
    "\n",
    "model9 = MLPClassifier(hidden_layer_sizes=(30,15,5),max_iter=5,verbose=False, learning_rate='adaptive')\n",
    "model9= model9.fit(X_train, y_train)\n",
    "\n",
    "accuracy = model9.score(X_train, y_train)\n",
    "print('Accuracy: ',accuracy)\n",
    "\n",
    "# Run the model on the test set\n",
    "y_pred = model9.predict(X_test)\n",
    "from sklearn.metrics import confusion_matrix\n",
    "cm = confusion_matrix(y_test, y_pred)\n",
    "print(cm)\n",
    "\n",
    "# Caluclate the rms and mae values\n",
    "from sklearn.metrics import mean_squared_error, mean_absolute_error\n",
    "y_test_predicted = model9.predict(X_test)\n",
    "y_train_predicted= model9.predict(X_train)\n",
    "mae_train = mean_absolute_error(y_train, y_train_predicted)\n",
    "mae_test = mean_absolute_error(y_test, y_test_predicted)\n",
    "rms_train = mean_squared_error(y_train, y_train_predicted)\n",
    "rms_test = mean_squared_error(y_test, y_test_predicted)\n",
    "print('MAE_train:' ,mae_train)\n",
    "print('MAE_test:',mae_test)\n",
    "print('RMS_train:',rms_train)"
   ]
  },
  {
   "cell_type": "markdown",
   "metadata": {},
   "source": [
    "# 10"
   ]
  },
  {
   "cell_type": "code",
   "execution_count": 28,
   "metadata": {
    "collapsed": false
   },
   "outputs": [
    {
     "name": "stdout",
     "output_type": "stream",
     "text": [
      "Accuracy:  0.997985361351\n",
      "[[1868418     558]\n",
      " [   4333  528611]]\n",
      "MAE_train: 0.00201463864884\n",
      "MAE_test: 0.00203628763656\n",
      "RMS_train: 0.00201463864884\n"
     ]
    }
   ],
   "source": [
    "from sklearn.neural_network import MLPClassifier\n",
    "\n",
    "model10 = MLPClassifier(hidden_layer_sizes=(50,25,10),max_iter=5,verbose=False, learning_rate='adaptive')\n",
    "model10= model10.fit(X_train, y_train)\n",
    "\n",
    "accuracy = model10.score(X_train, y_train)\n",
    "print('Accuracy: ',accuracy)\n",
    "\n",
    "# Run the model on the test set\n",
    "y_pred = model10.predict(X_test)\n",
    "from sklearn.metrics import confusion_matrix\n",
    "cm = confusion_matrix(y_test, y_pred)\n",
    "print(cm)\n",
    "\n",
    "# Caluclate the rms and mae values\n",
    "from sklearn.metrics import mean_squared_error, mean_absolute_error\n",
    "y_test_predicted = model10.predict(X_test)\n",
    "y_train_predicted= model10.predict(X_train)\n",
    "mae_train = mean_absolute_error(y_train, y_train_predicted)\n",
    "mae_test = mean_absolute_error(y_test, y_test_predicted)\n",
    "rms_train = mean_squared_error(y_train, y_train_predicted)\n",
    "rms_test = mean_squared_error(y_test, y_test_predicted)\n",
    "print('MAE_train:' ,mae_train)\n",
    "print('MAE_test:',mae_test)\n",
    "print('RMS_train:',rms_train)"
   ]
  },
  {
   "cell_type": "markdown",
   "metadata": {},
   "source": [
    "# 11"
   ]
  },
  {
   "cell_type": "code",
   "execution_count": 30,
   "metadata": {
    "collapsed": false
   },
   "outputs": [
    {
     "name": "stdout",
     "output_type": "stream",
     "text": [
      "Accuracy:  0.999931304944\n",
      "[[1868819     157]\n",
      " [      9  532935]]\n",
      "MAE_train: 6.8695056222e-05\n",
      "MAE_test: 6.91113775646e-05\n",
      "RMS_train: 6.8695056222e-05\n"
     ]
    }
   ],
   "source": [
    "from sklearn.neural_network import MLPClassifier\n",
    "\n",
    "model11 = MLPClassifier(hidden_layer_sizes=(20,10,5),max_iter=25,verbose=False, learning_rate='adaptive')\n",
    "model11= model11.fit(X_train, y_train)\n",
    "\n",
    "accuracy = model11.score(X_train, y_train)\n",
    "print('Accuracy: ',accuracy)\n",
    "\n",
    "# Run the model on the test set\n",
    "y_pred = model11.predict(X_test)\n",
    "from sklearn.metrics import confusion_matrix\n",
    "cm = confusion_matrix(y_test, y_pred)\n",
    "print(cm)\n",
    "\n",
    "# Caluclate the rms and mae values\n",
    "from sklearn.metrics import mean_squared_error, mean_absolute_error\n",
    "y_test_predicted = model11.predict(X_test)\n",
    "y_train_predicted= model11.predict(X_train)\n",
    "mae_train = mean_absolute_error(y_train, y_train_predicted)\n",
    "mae_test = mean_absolute_error(y_test, y_test_predicted)\n",
    "rms_train = mean_squared_error(y_train, y_train_predicted)\n",
    "rms_test = mean_squared_error(y_test, y_test_predicted)\n",
    "print('MAE_train:' ,mae_train)\n",
    "print('MAE_test:',mae_test)\n",
    "print('RMS_train:',rms_train)"
   ]
  },
  {
   "cell_type": "markdown",
   "metadata": {},
   "source": [
    "# 12"
   ]
  },
  {
   "cell_type": "code",
   "execution_count": 36,
   "metadata": {
    "collapsed": false
   },
   "outputs": [
    {
     "name": "stdout",
     "output_type": "stream",
     "text": [
      "Accuracy:  0.998343467787\n",
      "[[1868203     773]\n",
      " [   3223  529721]]\n",
      "MAE_train: 0.0016565322129\n",
      "MAE_test: 0.00166366906475\n",
      "RMS_train: 0.0016565322129\n"
     ]
    }
   ],
   "source": [
    "from sklearn.neural_network import MLPClassifier\n",
    "\n",
    "model11 = MLPClassifier(hidden_layer_sizes=(30,15,7),max_iter=7,verbose=False, learning_rate='adaptive')\n",
    "model11= model11.fit(X_train, y_train)\n",
    "\n",
    "accuracy = model11.score(X_train, y_train)\n",
    "print('Accuracy: ',accuracy)\n",
    "\n",
    "# Run the model on the test set\n",
    "y_pred = model11.predict(X_test)\n",
    "from sklearn.metrics import confusion_matrix\n",
    "cm = confusion_matrix(y_test, y_pred)\n",
    "print(cm)\n",
    "\n",
    "# Caluclate the rms and mae values\n",
    "from sklearn.metrics import mean_squared_error, mean_absolute_error\n",
    "y_test_predicted = model11.predict(X_test)\n",
    "y_train_predicted= model11.predict(X_train)\n",
    "mae_train = mean_absolute_error(y_train, y_train_predicted)\n",
    "mae_test = mean_absolute_error(y_test, y_test_predicted)\n",
    "rms_train = mean_squared_error(y_train, y_train_predicted)\n",
    "rms_test = mean_squared_error(y_test, y_test_predicted)\n",
    "print('MAE_train:' ,mae_train)\n",
    "print('MAE_test:',mae_test)\n",
    "print('RMS_train:',rms_train)"
   ]
  },
  {
   "cell_type": "markdown",
   "metadata": {},
   "source": [
    "# 13"
   ]
  },
  {
   "cell_type": "code",
   "execution_count": 37,
   "metadata": {
    "collapsed": true
   },
   "outputs": [],
   "source": [
    "X= df[cols]\n",
    "y = df['Flight_Status']"
   ]
  },
  {
   "cell_type": "code",
   "execution_count": 44,
   "metadata": {
    "collapsed": false
   },
   "outputs": [
    {
     "name": "stdout",
     "output_type": "stream",
     "text": [
      "StratifiedKFold(n_splits=2, random_state=None, shuffle=False)\n",
      "TRAIN: [3938005 3938006 3938007 ..., 8006396 8006397 8006398] TEST: [      0       1       2 ..., 4290412 4290413 4290414]\n",
      "TRAIN: [      0       1       2 ..., 4290412 4290413 4290414] TEST: [3938005 3938006 3938007 ..., 8006396 8006397 8006398]\n"
     ]
    }
   ],
   "source": [
    "from sklearn.model_selection import StratifiedKFold\n",
    "\n",
    "skf = StratifiedKFold(n_splits=2)\n",
    "skf.get_n_splits(X, y)\n",
    "print(skf)  \n",
    "StratifiedKFold(n_splits=2, random_state=None, shuffle=False)\n",
    "for train_index, test_index in skf.split(X, y):\n",
    "    print(\"TRAIN:\", train_index, \"TEST:\", test_index)\n",
    "    X_train, X_test = X.iloc[train_index], X.iloc[test_index]\n",
    "    y_train, y_test = y.iloc[train_index], y.iloc[test_index]"
   ]
  },
  {
   "cell_type": "code",
   "execution_count": 45,
   "metadata": {
    "collapsed": true
   },
   "outputs": [],
   "source": [
    "from sklearn import preprocessing\n",
    "label_encoder = preprocessing.LabelEncoder()\n",
    "# Converting the categorical data to numeric \n",
    "\n",
    "X_train['carrier'] = label_encoder.fit_transform(X_train['UniqueCarrier'])\n",
    "X_train['origin'] = label_encoder.fit_transform(X_train['Origin'])\n",
    "X_train['dest'] = label_encoder.fit_transform(X_train['Dest'])\n",
    "X_train['ori_city'] = label_encoder.fit_transform(X_train['OriginCityName'])\n",
    "X_train['dest_city'] = label_encoder.fit_transform(X_train['DestCityName'])\n",
    "\n",
    "X_test['carrier'] = label_encoder.fit_transform(X_test['UniqueCarrier'])\n",
    "X_test['origin'] = label_encoder.fit_transform(X_test['Origin'])\n",
    "X_test['dest'] = label_encoder.fit_transform(X_test['Dest'])\n",
    "X_test['ori_city'] = label_encoder.fit_transform(X_test['OriginCityName'])\n",
    "X_test['dest_city'] = label_encoder.fit_transform(X_test['DestCityName'])"
   ]
  },
  {
   "cell_type": "code",
   "execution_count": 47,
   "metadata": {
    "collapsed": false
   },
   "outputs": [
    {
     "data": {
      "text/plain": [
       "(4003200, 19)"
      ]
     },
     "execution_count": 47,
     "metadata": {},
     "output_type": "execute_result"
    }
   ],
   "source": [
    "# Getting only the numerical columns\n",
    "X_train = X_train._get_numeric_data()\n",
    "X_test = X_test._get_numeric_data()\n",
    "\n",
    "X_train.shape"
   ]
  },
  {
   "cell_type": "code",
   "execution_count": 48,
   "metadata": {
    "collapsed": false
   },
   "outputs": [
    {
     "data": {
      "text/plain": [
       "(4003199, 19)"
      ]
     },
     "execution_count": 48,
     "metadata": {},
     "output_type": "execute_result"
    }
   ],
   "source": [
    "X_test.shape"
   ]
  },
  {
   "cell_type": "code",
   "execution_count": 49,
   "metadata": {
    "collapsed": false
   },
   "outputs": [
    {
     "name": "stdout",
     "output_type": "stream",
     "text": [
      "Accuracy:  0.998508693046\n",
      "[[3109343    6280]\n",
      " [    503  887073]]\n",
      "MAE_train: 0.00149130695444\n",
      "MAE_test: 0.00169439490767\n",
      "RMS_train: 0.00149130695444\n"
     ]
    }
   ],
   "source": [
    "from sklearn.neural_network import MLPClassifier\n",
    "\n",
    "model13 = MLPClassifier(hidden_layer_sizes=(10,5,2),max_iter=7,verbose=False, learning_rate='adaptive')\n",
    "model13= model13.fit(X_train, y_train)\n",
    "\n",
    "accuracy = model13.score(X_train, y_train)\n",
    "print('Accuracy: ',accuracy)\n",
    "\n",
    "# Run the model on the test set\n",
    "y_pred = model13.predict(X_test)\n",
    "from sklearn.metrics import confusion_matrix\n",
    "cm = confusion_matrix(y_test, y_pred)\n",
    "print(cm)\n",
    "\n",
    "# Caluclate the rms and mae values\n",
    "from sklearn.metrics import mean_squared_error, mean_absolute_error\n",
    "y_test_predicted = model13.predict(X_test)\n",
    "y_train_predicted= model13.predict(X_train)\n",
    "mae_train = mean_absolute_error(y_train, y_train_predicted)\n",
    "mae_test = mean_absolute_error(y_test, y_test_predicted)\n",
    "rms_train = mean_squared_error(y_train, y_train_predicted)\n",
    "rms_test = mean_squared_error(y_test, y_test_predicted)\n",
    "print('MAE_train:' ,mae_train)\n",
    "print('MAE_test:',mae_test)\n",
    "print('RMS_train:',rms_train)"
   ]
  },
  {
   "cell_type": "code",
   "execution_count": 52,
   "metadata": {
    "collapsed": false
   },
   "outputs": [
    {
     "name": "stdout",
     "output_type": "stream",
     "text": [
      "Accuracy:  0.999870853317\n",
      "[[3115112     511]\n",
      " [     62  887514]]\n",
      "MAE_train: 0.000129146682654\n",
      "MAE_test: 0.000143135527362\n",
      "RMS_train: 0.000129146682654\n",
      "RMS_test: 0.000143135527362\n"
     ]
    }
   ],
   "source": [
    "from sklearn.neural_network import MLPClassifier\n",
    "\n",
    "model13 = MLPClassifier(hidden_layer_sizes=(10,5,2),max_iter=20,verbose=False, learning_rate='adaptive')\n",
    "model13= model13.fit(X_train, y_train)\n",
    "\n",
    "accuracy = model13.score(X_train, y_train)\n",
    "print('Accuracy: ',accuracy)\n",
    "\n",
    "# Run the model on the test set\n",
    "y_pred = model13.predict(X_test)\n",
    "from sklearn.metrics import confusion_matrix\n",
    "cm = confusion_matrix(y_test, y_pred)\n",
    "print(cm)\n",
    "\n",
    "# Caluclate the rms and mae values\n",
    "from sklearn.metrics import mean_squared_error, mean_absolute_error\n",
    "y_test_predicted = model13.predict(X_test)\n",
    "y_train_predicted= model13.predict(X_train)\n",
    "mae_train = mean_absolute_error(y_train, y_train_predicted)\n",
    "mae_test = mean_absolute_error(y_test, y_test_predicted)\n",
    "rms_train = mean_squared_error(y_train, y_train_predicted)\n",
    "rms_test = mean_squared_error(y_test, y_test_predicted)\n",
    "print('MAE_train:' ,mae_train)\n",
    "print('MAE_test:',mae_test)\n",
    "print('RMS_train:',rms_train)\n",
    "print('RMS_test:',rms_test)"
   ]
  },
  {
   "cell_type": "code",
   "execution_count": 53,
   "metadata": {
    "collapsed": false
   },
   "outputs": [
    {
     "name": "stdout",
     "output_type": "stream",
     "text": [
      "Accuracy:  0.999948790967\n",
      "[[3115492     131]\n",
      " [     29  887547]]\n",
      "MAE_train: 5.12090327738e-05\n",
      "MAE_test: 3.99680355636e-05\n",
      "RMS_train: 5.12090327738e-05\n",
      "RMS_test: 3.99680355636e-05\n"
     ]
    }
   ],
   "source": [
    "from sklearn.neural_network import MLPClassifier\n",
    "\n",
    "model13 = MLPClassifier(hidden_layer_sizes=(10,5,2),max_iter=25,verbose=False, learning_rate='adaptive')\n",
    "model13= model13.fit(X_train, y_train)\n",
    "\n",
    "accuracy = model13.score(X_train, y_train)\n",
    "print('Accuracy: ',accuracy)\n",
    "\n",
    "# Run the model on the test set\n",
    "y_pred = model13.predict(X_test)\n",
    "from sklearn.metrics import confusion_matrix\n",
    "cm = confusion_matrix(y_test, y_pred)\n",
    "print(cm)\n",
    "\n",
    "# Caluclate the rms and mae values\n",
    "from sklearn.metrics import mean_squared_error, mean_absolute_error\n",
    "y_test_predicted = model13.predict(X_test)\n",
    "y_train_predicted= model13.predict(X_train)\n",
    "mae_train = mean_absolute_error(y_train, y_train_predicted)\n",
    "mae_test = mean_absolute_error(y_test, y_test_predicted)\n",
    "rms_train = mean_squared_error(y_train, y_train_predicted)\n",
    "rms_test = mean_squared_error(y_test, y_test_predicted)\n",
    "print('MAE_train:' ,mae_train)\n",
    "print('MAE_test:',mae_test)\n",
    "print('RMS_train:',rms_train)\n",
    "print('RMS_test:',rms_test)"
   ]
  },
  {
   "cell_type": "code",
   "execution_count": 55,
   "metadata": {
    "collapsed": false
   },
   "outputs": [
    {
     "name": "stdout",
     "output_type": "stream",
     "text": [
      "Accuracy:  0.999957284173\n",
      "[[3115423     200]\n",
      " [      9  887567]]\n",
      "MAE_train: 4.27158273381e-05\n",
      "MAE_test: 5.22082464549e-05\n",
      "RMS_train: 4.27158273381e-05\n",
      "RMS_test: 5.22082464549e-05\n"
     ]
    }
   ],
   "source": [
    "from sklearn.neural_network import MLPClassifier\n",
    "\n",
    "model13 = MLPClassifier(hidden_layer_sizes=(15,7,3),max_iter=25,verbose=False, learning_rate='adaptive')\n",
    "model13= model13.fit(X_train, y_train)\n",
    "\n",
    "accuracy = model13.score(X_train, y_train)\n",
    "print('Accuracy: ',accuracy)\n",
    "\n",
    "# Run the model on the test set\n",
    "y_pred = model13.predict(X_test)\n",
    "from sklearn.metrics import confusion_matrix\n",
    "cm = confusion_matrix(y_test, y_pred)\n",
    "print(cm)\n",
    "\n",
    "# Caluclate the rms and mae values\n",
    "from sklearn.metrics import mean_squared_error, mean_absolute_error\n",
    "y_test_predicted = model13.predict(X_test)\n",
    "y_train_predicted= model13.predict(X_train)\n",
    "mae_train = mean_absolute_error(y_train, y_train_predicted)\n",
    "mae_test = mean_absolute_error(y_test, y_test_predicted)\n",
    "rms_train = mean_squared_error(y_train, y_train_predicted)\n",
    "rms_test = mean_squared_error(y_test, y_test_predicted)\n",
    "print('MAE_train:' ,mae_train)\n",
    "print('MAE_test:',mae_test)\n",
    "print('RMS_train:',rms_train)\n",
    "print('RMS_test:',rms_test)"
   ]
  },
  {
   "cell_type": "code",
   "execution_count": 56,
   "metadata": {
    "collapsed": false
   },
   "outputs": [
    {
     "name": "stdout",
     "output_type": "stream",
     "text": [
      "Accuracy:  0.999618055556\n",
      "[[3113997    1626]\n",
      " [    298  887278]]\n",
      "MAE_train: 0.000381944444444\n",
      "MAE_test: 0.000480615627652\n",
      "RMS_train: 0.000381944444444\n",
      "RMS_test: 0.000480615627652\n"
     ]
    }
   ],
   "source": [
    "from sklearn.neural_network import MLPClassifier\n",
    "\n",
    "model13 = MLPClassifier(hidden_layer_sizes=(15,7,3),max_iter=22,verbose=False, learning_rate='adaptive')\n",
    "model13= model13.fit(X_train, y_train)\n",
    "\n",
    "accuracy = model13.score(X_train, y_train)\n",
    "print('Accuracy: ',accuracy)\n",
    "\n",
    "# Run the model on the test set\n",
    "y_pred = model13.predict(X_test)\n",
    "from sklearn.metrics import confusion_matrix\n",
    "cm = confusion_matrix(y_test, y_pred)\n",
    "print(cm)\n",
    "\n",
    "# Caluclate the rms and mae values\n",
    "from sklearn.metrics import mean_squared_error, mean_absolute_error\n",
    "y_test_predicted = model13.predict(X_test)\n",
    "y_train_predicted= model13.predict(X_train)\n",
    "mae_train = mean_absolute_error(y_train, y_train_predicted)\n",
    "mae_test = mean_absolute_error(y_test, y_test_predicted)\n",
    "rms_train = mean_squared_error(y_train, y_train_predicted)\n",
    "rms_test = mean_squared_error(y_test, y_test_predicted)\n",
    "print('MAE_train:' ,mae_train)\n",
    "print('MAE_test:',mae_test)\n",
    "print('RMS_train:',rms_train)\n",
    "print('RMS_test:',rms_test)"
   ]
  },
  {
   "cell_type": "code",
   "execution_count": 61,
   "metadata": {
    "collapsed": false
   },
   "outputs": [
    {
     "name": "stdout",
     "output_type": "stream",
     "text": [
      "Accuracy:  0.991094624301\n",
      "[[3098242   17381]\n",
      " [  18696  868880]]\n",
      "MAE_train: 0.00890537569944\n",
      "MAE_test: 0.00901204261892\n",
      "RMS_train: 0.00890537569944\n",
      "RMS_test: 0.00901204261892\n"
     ]
    }
   ],
   "source": [
    "from sklearn.neural_network import MLPClassifier\n",
    "\n",
    "model14 = MLPClassifier(hidden_layer_sizes=(25,12,6),max_iter=22,verbose=False, learning_rate='adaptive')\n",
    "model14= model14.fit(X_train, y_train)\n",
    "\n",
    "accuracy = model14.score(X_train, y_train)\n",
    "print('Accuracy: ',accuracy)\n",
    "\n",
    "# Run the model on the test set\n",
    "y_pred = model14.predict(X_test)\n",
    "from sklearn.metrics import confusion_matrix\n",
    "cm = confusion_matrix(y_test, y_pred)\n",
    "print(cm)\n",
    "\n",
    "# Caluclate the rms and mae values\n",
    "from sklearn.metrics import mean_squared_error, mean_absolute_error\n",
    "y_test_predicted = model14.predict(X_test)\n",
    "y_train_predicted= model14.predict(X_train)\n",
    "mae_train = mean_absolute_error(y_train, y_train_predicted)\n",
    "mae_test = mean_absolute_error(y_test, y_test_predicted)\n",
    "rms_train = mean_squared_error(y_train, y_train_predicted)\n",
    "rms_test = mean_squared_error(y_test, y_test_predicted)\n",
    "print('MAE_train:' ,mae_train)\n",
    "print('MAE_test:',mae_test)\n",
    "print('RMS_train:',rms_train)\n",
    "print('RMS_test:',rms_test)"
   ]
  },
  {
   "cell_type": "code",
   "execution_count": null,
   "metadata": {
    "collapsed": true
   },
   "outputs": [],
   "source": [
    "from sklearn.neural_network import MLPClassifier\n",
    "\n",
    "model14 = MLPClassifier(hidden_layer_sizes=(15,7,3),max_iter=22,verbose=False, learning_rate='adaptive')\n",
    "model14= model14.fit(X_train, y_train)\n",
    "\n",
    "accuracy = model14.score(X_train, y_train)\n",
    "print('Accuracy: ',accuracy)\n",
    "\n",
    "# Run the model on the test set\n",
    "y_pred = model14.predict(X_test)\n",
    "from sklearn.metrics import confusion_matrix\n",
    "cm = confusion_matrix(y_test, y_pred)\n",
    "print(cm)\n",
    "\n",
    "# Caluclate the rms and mae values\n",
    "from sklearn.metrics import mean_squared_error, mean_absolute_error\n",
    "y_test_predicted = model14.predict(X_test)\n",
    "y_train_predicted= model14.predict(X_train)\n",
    "mae_train = mean_absolute_error(y_train, y_train_predicted)\n",
    "mae_test = mean_absolute_error(y_test, y_test_predicted)\n",
    "rms_train = mean_squared_error(y_train, y_train_predicted)\n",
    "rms_test = mean_squared_error(y_test, y_test_predicted)\n",
    "print('MAE_train:' ,mae_train)\n",
    "print('MAE_test:',mae_test)\n",
    "print('RMS_train:',rms_train)\n",
    "print('RMS_test:',rms_test)"
   ]
  }
 ],
 "metadata": {
  "anaconda-cloud": {},
  "kernelspec": {
   "display_name": "Python [conda root]",
   "language": "python",
   "name": "conda-root-py"
  },
  "language_info": {
   "codemirror_mode": {
    "name": "ipython",
    "version": 3
   },
   "file_extension": ".py",
   "mimetype": "text/x-python",
   "name": "python",
   "nbconvert_exporter": "python",
   "pygments_lexer": "ipython3",
   "version": "3.5.2"
  }
 },
 "nbformat": 4,
 "nbformat_minor": 2
}
