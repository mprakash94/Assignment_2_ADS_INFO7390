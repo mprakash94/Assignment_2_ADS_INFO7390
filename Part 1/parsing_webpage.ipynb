{
 "cells": [
  {
   "cell_type": "code",
   "execution_count": 23,
   "metadata": {
    "collapsed": true
   },
   "outputs": [],
   "source": [
    "import requests\n",
    "import os\n",
    "import zipfile\n",
    "from urllib.request import urlopen\n",
    "from bs4 import BeautifulSoup\n",
    "from zipfile import ZipFile\n",
    "from io import BytesIO\n",
    "import shutil\n",
    "import pandas as pd"
   ]
  },
  {
   "cell_type": "code",
   "execution_count": 24,
   "metadata": {
    "collapsed": false
   },
   "outputs": [
    {
     "data": {
      "text/plain": [
       "'/Users/sonalichaudhari/Desktop'"
      ]
     },
     "execution_count": 24,
     "metadata": {},
     "output_type": "execute_result"
    }
   ],
   "source": [
    "os.path.dirname(os.getcwd()) "
   ]
  },
  {
   "cell_type": "code",
   "execution_count": 25,
   "metadata": {
    "collapsed": true
   },
   "outputs": [],
   "source": [
    "def loandata():\n",
    "    directory = os.path.dirname(os.getcwd()) \n",
    "    #newpathloan = directory+'/loanstatecsv'\n",
    "    newpathloanFinal = directory+'/loanstatecsvFinal'\n",
    "    page = requests.get('https://www.lendingclub.com/info/download-data.action')\n",
    "    soup = BeautifulSoup(page.text, 'html.parser')\n",
    "    loan_val = soup.find(\"div\", { \"id\" : \"loanStatsFileNamesJS\" }).text\n",
    "    list_loan_csv = loan_val.split('|')\n",
    "    del list_loan_csv[-1]\n",
    "    # if not os.path.exists(newpathloan):\n",
    "    #     os.makedirs(newpathloan)\n",
    "    if not os.path.exists(newpathloanFinal):\n",
    "        os.makedirs(newpathloanFinal)\n",
    "    for value in list_loan_csv:\n",
    "        url=\"https://resources.lendingclub.com/\"+value\n",
    "        with urlopen(url) as zipresp:\n",
    "            with ZipFile(BytesIO(zipresp.read())) as zfile:\n",
    "                zfile.extractall(newpathloanFinal)\n",
    "        #session = session_requests.get(url,stream=True)\n",
    "        #with open(os.path.join(newpath,value), 'wb') as f:\n",
    "         #   for chunk in session.iter_content(chunk_size=1024):\n",
    "          #      if chunk: \n",
    "           #         f.write(chunk)"
   ]
  },
  {
   "cell_type": "code",
   "execution_count": 18,
   "metadata": {
    "collapsed": true
   },
   "outputs": [],
   "source": [
    "def concatloandatacsv():\n",
    "    directory = os.path.dirname(os.getcwd()) \n",
    "    newpathloanFinal = directory+'/loanstatecsvFinal'\n",
    "    data_concat_loan_decline = directory+'/loanAndDeclineConcat'\n",
    "    if not os.path.exists(data_concat_loan_decline):\n",
    "        os.makedirs(data_concat_loan_decline)\n",
    "    d1 = pd.read_csv(newpathloanFinal+'/LoanStats3a.csv', header=1, skipfooter=4, engine='python')\n",
    "    d2 = pd.read_csv(newpathloanFinal+'/LoanStats3b.csv', header=1, skipfooter=4, engine='python')\n",
    "    d3 = pd.read_csv(newpathloanFinal+'/LoanStats3c.csv', header=1, skipfooter=4, engine='python')\n",
    "    d4 = pd.read_csv(newpathloanFinal+'/LoanStats3d.csv', header=1, skipfooter=4, engine='python')\n",
    "    d5 = pd.read_csv(newpathloanFinal+'/LoanStats_2016Q1.csv', header=1, skipfooter=4, engine='python')\n",
    "    d6 = pd.read_csv(newpathloanFinal+'/LoanStats_2016Q2.csv', header=1, skipfooter=4, engine='python')\n",
    "    d7 = pd.read_csv(newpathloanFinal+'/LoanStats_2016Q3.csv', header=1, skipfooter=4, engine='python')\n",
    "    d8 = pd.read_csv(newpathloanFinal+'/LoanStats_2016Q4.csv', header=1, skipfooter=4, engine='python')\n",
    "    d9 = pd.read_csv(newpathloanFinal+'/LoanStats_2017Q1.csv', header=1, skipfooter=4, engine='python')\n",
    "    d10 = pd.read_csv(newpathloanFinal+'/LoanStats_2017Q2.csv', header=1, skipfooter=4, engine='python')\n",
    "    d11 = pd.read_csv(newpathloanFinal+'/LoanStats_2017Q3.csv', header=1, skipfooter=4, engine='python')\n",
    "    concatdata = pd.concat([d1, d2, d3, d4, d5, d6, d7, d8, d9, d10, d11])\n",
    "    concatdata.to_csv(os.path.join(data_concat_loan_decline,r'loandataconcat.csv'))\n",
    "    shutil.rmtree(newpathloanFinal)"
   ]
  },
  {
   "cell_type": "code",
   "execution_count": 28,
   "metadata": {
    "collapsed": true
   },
   "outputs": [],
   "source": [
    "def declineloandata():\n",
    "    direct = os.path.dirname(os.getcwd()) \n",
    "    #newpathdeclineloan = direct+'/declineloanstatecsv'\n",
    "    newpathdeclineloanFinal = direct+'/declineloanstatecsvFinal'\n",
    "    page = requests.get('https://www.lendingclub.com/info/download-data.action')\n",
    "    soup = BeautifulSoup(page.text, 'html.parser')\n",
    "    loan_val = soup.find(\"div\", { \"id\" : \"rejectedLoanStatsFileNamesJS\" }).text\n",
    "    list_loan_csv = loan_val.split('|')\n",
    "    del list_loan_csv[-1]\n",
    "    #if not os.path.exists(newpathdeclineloan):\n",
    "     #   os.makedirs(newpathdeclineloan)\n",
    "    if not os.path.exists(newpathdeclineloanFinal):\n",
    "        os.makedirs(newpathdeclineloanFinal)\n",
    "    for value in list_loan_csv:\n",
    "        url=\"https://resources.lendingclub.com/\"+value\n",
    "        with urlopen(url) as zipresp:\n",
    "            with ZipFile(BytesIO(zipresp.read())) as zfile:\n",
    "                zfile.extractall(newpathdeclineloanFinal)\n",
    "        #session = session_requests.get(url,stream=True)\n",
    "        #with open(os.path.join(newpath,value), 'wb') as f:\n",
    "         #   for chunk in session.iter_content(chunk_size=1024):\n",
    "          #      if chunk: \n",
    "           #         f.write(chunk)"
   ]
  },
  {
   "cell_type": "code",
   "execution_count": 20,
   "metadata": {
    "collapsed": true
   },
   "outputs": [],
   "source": [
    "def concatDeclineloandatacsv():\n",
    "    direct = os.path.dirname(os.getcwd()) \n",
    "    newpathdeclineloanFinal = direct+'/declineloanstatecsvFinal'\n",
    "    data_concat_loan_decline = direct+'/loanAndDeclineConcat'\n",
    "    if not os.path.exists(data_concat_loan_decline):\n",
    "        os.makedirs(data_concat_loan_decline)\n",
    "    d1 = pd.read_csv(newpathdeclineloanFinal+'/RejectStatsA.csv', header=1, skipfooter=4, engine='python')\n",
    "    d2 = pd.read_csv(newpathdeclineloanFinal+'/RejectStatsB.csv', header=1, skipfooter=4, engine='python')\n",
    "    d3 = pd.read_csv(newpathdeclineloanFinal+'/RejectStatsD.csv', header=1, skipfooter=4, engine='python')\n",
    "    d4 = pd.read_csv(newpathdeclineloanFinal+'/RejectStats_2016Q1.csv', header=1, skipfooter=4, engine='python')\n",
    "    d5 = pd.read_csv(newpathdeclineloanFinal+'/RejectStats_2016Q2.csv', header=1, skipfooter=4, engine='python')\n",
    "    d6 = pd.read_csv(newpathdeclineloanFinal+'/RejectStats_2016Q3.csv', header=1, skipfooter=4, engine='python')\n",
    "    d7 = pd.read_csv(newpathdeclineloanFinal+'/RejectStats_2016Q4.csv', header=1, skipfooter=4, engine='python')\n",
    "    d8 = pd.read_csv(newpathdeclineloanFinal+'/RejectStats_2017Q1.csv', header=1, skipfooter=4, engine='python')\n",
    "    d9 = pd.read_csv(newpathdeclineloanFinal+'/RejectStats_2017Q2.csv', header=1, skipfooter=4, engine='python')\n",
    "    d10 = pd.read_csv(newpathdeclineloanFinal+'/RejectStats_2017Q3.csv', header=1, skipfooter=4, engine='python')\n",
    "    concatdata = pd.concat([d1, d2, d3, d4, d5, d6, d7, d8, d9, d10])\n",
    "    concatdata.to_csv(os.path.join(data_concat_loan_decline,r'declineloandataconcat.csv'))\n",
    "    shutil.rmtree(newpathdeclineloanFinal)"
   ]
  },
  {
   "cell_type": "code",
   "execution_count": 26,
   "metadata": {
    "collapsed": true
   },
   "outputs": [],
   "source": [
    "loandata()\n",
    "#concatloandatacsv()"
   ]
  },
  {
   "cell_type": "code",
   "execution_count": 29,
   "metadata": {
    "collapsed": true
   },
   "outputs": [],
   "source": [
    "declineloandata()\n",
    "#concatDeclineloandatacsv()"
   ]
  },
  {
   "cell_type": "code",
   "execution_count": null,
   "metadata": {
    "collapsed": true
   },
   "outputs": [],
   "source": []
  }
 ],
 "metadata": {
  "anaconda-cloud": {},
  "kernelspec": {
   "display_name": "Python [default]",
   "language": "python",
   "name": "python3"
  },
  "language_info": {
   "codemirror_mode": {
    "name": "ipython",
    "version": 3
   },
   "file_extension": ".py",
   "mimetype": "text/x-python",
   "name": "python",
   "nbconvert_exporter": "python",
   "pygments_lexer": "ipython3",
   "version": "3.5.2"
  }
 },
 "nbformat": 4,
 "nbformat_minor": 2
}
