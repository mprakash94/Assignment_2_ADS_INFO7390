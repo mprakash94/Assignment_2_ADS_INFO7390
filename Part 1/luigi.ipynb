{
 "cells": [
  {
   "cell_type": "code",
   "execution_count": 1,
   "metadata": {
    "collapsed": true
   },
   "outputs": [],
   "source": [
    "import requests\n",
    "import os\n",
    "import zipfile\n",
    "from urllib.request import urlopen\n",
    "from bs4 import BeautifulSoup\n",
    "from zipfile import ZipFile\n",
    "from io import BytesIO\n",
    "import shutil\n",
    "import pandas as pd\n",
    "import urllib.request\n",
    "from lxml import html\n",
    "import glob\n",
    "import os\n",
    "import luigi\n",
    "import warnings"
   ]
  },
  {
   "cell_type": "code",
   "execution_count": null,
   "metadata": {
    "collapsed": true
   },
   "outputs": [],
   "source": [
    "class getloancsv(luigi.Task):\n",
    "    def run(self):\n",
    "        directory = os.path.dirname(os.getcwd()) \n",
    "        newpathloanFinal = directory+'/loanstatecsvFinal'\n",
    "        url = 'https://www.lendingclub.com/account/login.action?'\n",
    "        postUrl = 'https://www.lendingclub.com/info/download-data.action'\n",
    "        payload = {'login_email': \"9603sonaligc@gmail.com\", 'login_password': \"Gopal2145\"}\n",
    "        with requests.session() as s:\n",
    "            loginRequest = s.post(url, data=payload)\n",
    "            finalUrl = s.get(postUrl)\n",
    "            linkhtml = finalUrl.text\n",
    "            soup = BeautifulSoup(linkhtml, \"html.parser\")\n",
    "            loan_val = soup.find(\"div\", { \"id\" : \"loanStatsFileNamesJS\"}).text\n",
    "            list_loan_csv = loan_val.split('|')\n",
    "            if not os.path.exists(newpathloanFinal):\n",
    "                os.makedirs(newpathloanFinal)\n",
    "            for value in list_loan_csv:\n",
    "                url=\"https://resources.lendingclub.com/\"+value\n",
    "                with urlopen(url) as zipresp:\n",
    "                    with ZipFile(BytesIO(zipresp.read())) as zfile:\n",
    "                        zfile.extractall(newpathloanFinal)"
   ]
  },
  {
   "cell_type": "code",
   "execution_count": null,
   "metadata": {
    "collapsed": true
   },
   "outputs": [],
   "source": [
    "if __name__ == '__main__':\n",
    "    try:\n",
    "        luigi.run()\n",
    "    except MissingParameterException:\n",
    "        print(\"Please provide Lending Club login credentials!\")\n",
    "        sys.exit()"
   ]
  }
 ],
 "metadata": {
  "kernelspec": {
   "display_name": "Python 3",
   "language": "python",
   "name": "python3"
  },
  "language_info": {
   "codemirror_mode": {
    "name": "ipython",
    "version": 3
   },
   "file_extension": ".py",
   "mimetype": "text/x-python",
   "name": "python",
   "nbconvert_exporter": "python",
   "pygments_lexer": "ipython3",
   "version": "3.6.1"
  }
 },
 "nbformat": 4,
 "nbformat_minor": 2
}
