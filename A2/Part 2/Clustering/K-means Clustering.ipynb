{
 "cells": [
  {
   "cell_type": "code",
   "execution_count": 28,
   "metadata": {
    "collapsed": true
   },
   "outputs": [],
   "source": [
    "from sklearn import cluster\n",
    "from sklearn import preprocessing\n",
    "from sklearn.preprocessing import LabelEncoder\n",
    "import csv\n",
    "import pandas as pd\n",
    "import numpy as np\n",
    "import pickle\n",
    "from sklearn.externals import joblib"
   ]
  },
  {
   "cell_type": "code",
   "execution_count": 29,
   "metadata": {},
   "outputs": [],
   "source": [
    "loan_df = pd.read_csv('Loan.csv')"
   ]
  },
  {
   "cell_type": "code",
   "execution_count": 31,
   "metadata": {
    "collapsed": true
   },
   "outputs": [],
   "source": [
    "k_mean = loan_df[['dti', 'annual_inc', 'fico', 'loan_amnt',\n",
    "       'term', 'purpose','approval','emp_length', 'home_ownership']]"
   ]
  },
  {
   "cell_type": "code",
   "execution_count": 32,
   "metadata": {
    "collapsed": true
   },
   "outputs": [],
   "source": [
    "home_ownerships = pd.get_dummies(k_mean['home_ownership'], prefix='house')\n",
    "k_mean = k_mean.join(home_ownerships)\n",
    "k_mean.drop('home_ownership', axis=1, inplace=True)\n",
    "#purpose   \n",
    "purpose = pd.get_dummies(k_mean['purpose'], prefix='purpose')\n",
    "k_mean = k_mean.join(purpose)\n",
    "k_mean.drop('purpose', axis=1, inplace=True)"
   ]
  },
  {
   "cell_type": "code",
   "execution_count": 33,
   "metadata": {},
   "outputs": [
    {
     "data": {
      "text/plain": [
       "(1640757, 27)"
      ]
     },
     "execution_count": 33,
     "metadata": {},
     "output_type": "execute_result"
    }
   ],
   "source": [
    "k_mean.shape"
   ]
  },
  {
   "cell_type": "code",
   "execution_count": 34,
   "metadata": {},
   "outputs": [
    {
     "data": {
      "text/plain": [
       "dti                           float64\n",
       "annual_inc                    float64\n",
       "fico                          float64\n",
       "loan_amnt                     float64\n",
       "term                            int64\n",
       "approval                        int64\n",
       "emp_length                      int64\n",
       "house_ANY                       uint8\n",
       "house_MORTGAGE                  uint8\n",
       "house_NONE                      uint8\n",
       "house_OTHER                     uint8\n",
       "house_OWN                       uint8\n",
       "house_RENT                      uint8\n",
       "purpose_car                     uint8\n",
       "purpose_credit_card             uint8\n",
       "purpose_debt_consolidation      uint8\n",
       "purpose_educational             uint8\n",
       "purpose_home_improvement        uint8\n",
       "purpose_house                   uint8\n",
       "purpose_major_purchase          uint8\n",
       "purpose_medical                 uint8\n",
       "purpose_moving                  uint8\n",
       "purpose_other                   uint8\n",
       "purpose_renewable_energy        uint8\n",
       "purpose_small_business          uint8\n",
       "purpose_vacation                uint8\n",
       "purpose_wedding                 uint8\n",
       "dtype: object"
      ]
     },
     "execution_count": 34,
     "metadata": {},
     "output_type": "execute_result"
    }
   ],
   "source": [
    "k_mean.dtypes"
   ]
  },
  {
   "cell_type": "code",
   "execution_count": 35,
   "metadata": {},
   "outputs": [],
   "source": [
    "norm_data = preprocessing.normalize(k_mean)"
   ]
  },
  {
   "cell_type": "code",
   "execution_count": 36,
   "metadata": {},
   "outputs": [
    {
     "data": {
      "text/plain": [
       "array([[  1.12735567e-03,   9.78536570e-01,   3.00492272e-02, ...,\n",
       "          0.00000000e+00,   0.00000000e+00,   0.00000000e+00],\n",
       "       [  3.32080402e-05,   9.96241206e-01,   2.46403658e-02, ...,\n",
       "          0.00000000e+00,   0.00000000e+00,   0.00000000e+00],\n",
       "       [  6.97229400e-04,   9.79639290e-01,   5.89286775e-02, ...,\n",
       "          7.99575000e-05,   0.00000000e+00,   0.00000000e+00],\n",
       "       ..., \n",
       "       [  3.07366011e-04,   9.06149797e-01,   8.54197209e-03, ...,\n",
       "          0.00000000e+00,   0.00000000e+00,   0.00000000e+00],\n",
       "       [  1.35808005e-04,   9.59612419e-01,   6.14151948e-03, ...,\n",
       "          0.00000000e+00,   0.00000000e+00,   0.00000000e+00],\n",
       "       [  5.16259123e-04,   9.21891291e-01,   1.39717747e-02, ...,\n",
       "          0.00000000e+00,   0.00000000e+00,   0.00000000e+00]])"
      ]
     },
     "execution_count": 36,
     "metadata": {},
     "output_type": "execute_result"
    }
   ],
   "source": [
    "norm_data"
   ]
  },
  {
   "cell_type": "code",
   "execution_count": 37,
   "metadata": {
    "collapsed": true
   },
   "outputs": [],
   "source": [
    "k_cluster=cluster.KMeans(n_clusters=8)"
   ]
  },
  {
   "cell_type": "code",
   "execution_count": 38,
   "metadata": {},
   "outputs": [
    {
     "data": {
      "text/plain": [
       "KMeans(algorithm='auto', copy_x=True, init='k-means++', max_iter=300,\n",
       "    n_clusters=8, n_init=10, n_jobs=1, precompute_distances='auto',\n",
       "    random_state=None, tol=0.0001, verbose=0)"
      ]
     },
     "execution_count": 38,
     "metadata": {},
     "output_type": "execute_result"
    }
   ],
   "source": [
    "k_cluster.fit(norm_data)"
   ]
  },
  {
   "cell_type": "code",
   "execution_count": 39,
   "metadata": {},
   "outputs": [
    {
     "data": {
      "text/plain": [
       "843.86228211237938"
      ]
     },
     "execution_count": 39,
     "metadata": {},
     "output_type": "execute_result"
    }
   ],
   "source": [
    "k_cluster.inertia_"
   ]
  },
  {
   "cell_type": "code",
   "execution_count": 40,
   "metadata": {
    "collapsed": true
   },
   "outputs": [],
   "source": [
    "cluster_label = k_cluster.labels_"
   ]
  },
  {
   "cell_type": "code",
   "execution_count": 41,
   "metadata": {},
   "outputs": [],
   "source": [
    "with open('kmeanCluster.pkl', 'wb') as f:\n",
    "    joblib.dump(k_cluster, f)"
   ]
  },
  {
   "cell_type": "code",
   "execution_count": 42,
   "metadata": {
    "collapsed": true
   },
   "outputs": [],
   "source": [
    "loan_df['kmean'] = cluster_label"
   ]
  },
  {
   "cell_type": "code",
   "execution_count": 43,
   "metadata": {},
   "outputs": [
    {
     "data": {
      "text/html": [
       "<div>\n",
       "<style>\n",
       "    .dataframe thead tr:only-child th {\n",
       "        text-align: right;\n",
       "    }\n",
       "\n",
       "    .dataframe thead th {\n",
       "        text-align: left;\n",
       "    }\n",
       "\n",
       "    .dataframe tbody tr th {\n",
       "        vertical-align: top;\n",
       "    }\n",
       "</style>\n",
       "<table border=\"1\" class=\"dataframe\">\n",
       "  <thead>\n",
       "    <tr style=\"text-align: right;\">\n",
       "      <th>kmean</th>\n",
       "      <th>0</th>\n",
       "      <th>1</th>\n",
       "      <th>2</th>\n",
       "      <th>3</th>\n",
       "      <th>4</th>\n",
       "      <th>5</th>\n",
       "      <th>6</th>\n",
       "      <th>7</th>\n",
       "    </tr>\n",
       "    <tr>\n",
       "      <th>grade</th>\n",
       "      <th></th>\n",
       "      <th></th>\n",
       "      <th></th>\n",
       "      <th></th>\n",
       "      <th></th>\n",
       "      <th></th>\n",
       "      <th></th>\n",
       "      <th></th>\n",
       "    </tr>\n",
       "  </thead>\n",
       "  <tbody>\n",
       "    <tr>\n",
       "      <th>A</th>\n",
       "      <td>62287</td>\n",
       "      <td>15675</td>\n",
       "      <td>44518</td>\n",
       "      <td>49853</td>\n",
       "      <td>258</td>\n",
       "      <td>27988</td>\n",
       "      <td>6121</td>\n",
       "      <td>65114</td>\n",
       "    </tr>\n",
       "    <tr>\n",
       "      <th>B</th>\n",
       "      <td>102494</td>\n",
       "      <td>40864</td>\n",
       "      <td>68107</td>\n",
       "      <td>92256</td>\n",
       "      <td>846</td>\n",
       "      <td>62852</td>\n",
       "      <td>18927</td>\n",
       "      <td>97492</td>\n",
       "    </tr>\n",
       "    <tr>\n",
       "      <th>C</th>\n",
       "      <td>89004</td>\n",
       "      <td>61035</td>\n",
       "      <td>57994</td>\n",
       "      <td>92048</td>\n",
       "      <td>1711</td>\n",
       "      <td>77543</td>\n",
       "      <td>34438</td>\n",
       "      <td>75411</td>\n",
       "    </tr>\n",
       "    <tr>\n",
       "      <th>D</th>\n",
       "      <td>35005</td>\n",
       "      <td>41080</td>\n",
       "      <td>23619</td>\n",
       "      <td>41159</td>\n",
       "      <td>718</td>\n",
       "      <td>41240</td>\n",
       "      <td>25248</td>\n",
       "      <td>28446</td>\n",
       "    </tr>\n",
       "    <tr>\n",
       "      <th>E</th>\n",
       "      <td>13586</td>\n",
       "      <td>24748</td>\n",
       "      <td>7364</td>\n",
       "      <td>18139</td>\n",
       "      <td>348</td>\n",
       "      <td>22313</td>\n",
       "      <td>15531</td>\n",
       "      <td>9285</td>\n",
       "    </tr>\n",
       "    <tr>\n",
       "      <th>F</th>\n",
       "      <td>3884</td>\n",
       "      <td>9113</td>\n",
       "      <td>1914</td>\n",
       "      <td>5742</td>\n",
       "      <td>118</td>\n",
       "      <td>8238</td>\n",
       "      <td>5661</td>\n",
       "      <td>2520</td>\n",
       "    </tr>\n",
       "    <tr>\n",
       "      <th>G</th>\n",
       "      <td>1043</td>\n",
       "      <td>2838</td>\n",
       "      <td>361</td>\n",
       "      <td>1689</td>\n",
       "      <td>81</td>\n",
       "      <td>2668</td>\n",
       "      <td>1667</td>\n",
       "      <td>555</td>\n",
       "    </tr>\n",
       "  </tbody>\n",
       "</table>\n",
       "</div>"
      ],
      "text/plain": [
       "kmean       0      1      2      3     4      5      6      7\n",
       "grade                                                        \n",
       "A       62287  15675  44518  49853   258  27988   6121  65114\n",
       "B      102494  40864  68107  92256   846  62852  18927  97492\n",
       "C       89004  61035  57994  92048  1711  77543  34438  75411\n",
       "D       35005  41080  23619  41159   718  41240  25248  28446\n",
       "E       13586  24748   7364  18139   348  22313  15531   9285\n",
       "F        3884   9113   1914   5742   118   8238   5661   2520\n",
       "G        1043   2838    361   1689    81   2668   1667    555"
      ]
     },
     "execution_count": 43,
     "metadata": {},
     "output_type": "execute_result"
    }
   ],
   "source": [
    "pd.crosstab(loan_df.grade,loan_df.kmean)"
   ]
  },
  {
   "cell_type": "code",
   "execution_count": null,
   "metadata": {
    "collapsed": true
   },
   "outputs": [],
   "source": []
  },
  {
   "cell_type": "code",
   "execution_count": null,
   "metadata": {
    "collapsed": true
   },
   "outputs": [],
   "source": []
  }
 ],
 "metadata": {
  "kernelspec": {
   "display_name": "Python 3",
   "language": "python",
   "name": "python3"
  },
  "language_info": {
   "codemirror_mode": {
    "name": "ipython",
    "version": 3
   },
   "file_extension": ".py",
   "mimetype": "text/x-python",
   "name": "python",
   "nbconvert_exporter": "python",
   "pygments_lexer": "ipython3",
   "version": "3.6.1"
  }
 },
 "nbformat": 4,
 "nbformat_minor": 2
}
