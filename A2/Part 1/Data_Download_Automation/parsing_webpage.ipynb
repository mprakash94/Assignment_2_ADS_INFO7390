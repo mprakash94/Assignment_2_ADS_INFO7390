{
 "cells": [
  {
   "cell_type": "code",
   "execution_count": 2,
   "metadata": {
    "collapsed": true
   },
   "outputs": [],
   "source": [
    "import requests\n",
    "import os\n",
    "import zipfile\n",
    "from urllib.request import urlopen\n",
    "from bs4 import BeautifulSoup\n",
    "from zipfile import ZipFile\n",
    "from io import BytesIO\n",
    "import shutil\n",
    "import pandas as pd\n",
    "import urllib.request\n",
    "from lxml import html"
   ]
  },
  {
   "cell_type": "code",
   "execution_count": 3,
   "metadata": {},
   "outputs": [
    {
     "name": "stdout",
     "output_type": "stream",
     "text": [
      "secure/LoanStats3a_securev1.csv.zip?signature=4YwnYQVxf7aZMdNBXvbppy%2BfTJI%3D&issued=1510719644537|secure/LoanStats3b_securev1.csv.zip?signature=Aovt%2FTe1ntTprx5YdIWyZZ9hv1A%3D&issued=1510719644537|secure/LoanStats3c_securev1.csv.zip?signature=e2apfKZ84jY5iK%2FZjrFZxFH%2BFKc%3D&issued=1510719644537|secure/LoanStats3d_securev1.csv.zip?signature=FTbJliVjVTpECaSo3%2FOyZob4lus%3D&issued=1510719644538|secure/LoanStats_securev1_2016Q1.csv.zip?signature=R6DNRT3IAMfzA176au1dht%2FyL8I%3D&issued=1510719644541|secure/LoanStats_securev1_2016Q2.csv.zip?signature=biDsvURncxrLG7mZ1%2F7%2Bw302OcE%3D&issued=1510719644543|secure/LoanStats_securev1_2016Q3.csv.zip?signature=ArQg4dZgvChK0%2F9H2ekl4syWoxU%3D&issued=1510719644544|secure/LoanStats_securev1_2016Q4.csv.zip?signature=u8Hjf30UAiPaQjFCDvHjC%2BJYlK4%3D&issued=1510719644545|secure/LoanStats_securev1_2017Q1.csv.zip?signature=wIDaIdWsjPnaq%2BdSYo4DeClkFSQ%3D&issued=1510719644546|secure/LoanStats_securev1_2017Q2.csv.zip?signature=e8PCVvRtTutGnToZRWPj8DjvF%2Fo%3D&issued=1510719644548|secure/LoanStats_securev1_2017Q3.csv.zip?signature=cH8hoX4pABQoSpZQtVzCKlLFwgI%3D&issued=1510719644549|\n"
     ]
    }
   ],
   "source": [
    "def loandata():\n",
    "    directory = os.path.dirname(os.getcwd()) \n",
    "    newpathloanFinal = directory+'/loanstatecsvFinal'\n",
    "    url = 'https://www.lendingclub.com/account/login.action?'\n",
    "    postUrl = 'https://www.lendingclub.com/info/download-data.action'\n",
    "    payload = {'login_email': \"9603sonaligc@gmail.com\", 'login_password': \"Gopal2145\"}\n",
    "    with requests.session() as s:\n",
    "        loginRequest = s.post(url, data=payload)\n",
    "        finalUrl = s.get(postUrl)\n",
    "        linkhtml = finalUrl.text\n",
    "        soup = BeautifulSoup(linkhtml, \"html.parser\")\n",
    "        loan_val = soup.find(\"div\", { \"id\" : \"loanStatsFileNamesJS\"}).text\n",
    "        list_loan_csv = loan_val.split('|')\n",
    "        if not os.path.exists(newpathloanFinal):\n",
    "            os.makedirs(newpathloanFinal)\n",
    "        for value in list_loan_csv:\n",
    "            url=\"https://resources.lendingclub.com/\"+value\n",
    "            with urlopen(url) as zipresp:\n",
    "                with ZipFile(BytesIO(zipresp.read())) as zfile:\n",
    "                    zfile.extractall(newpathloanFinal)"
   ]
  },
  {
   "cell_type": "code",
   "execution_count": 72,
   "metadata": {
    "collapsed": true
   },
   "outputs": [],
   "source": [
    "def concatloandatacsv():\n",
    "    directory = os.path.dirname(os.getcwd()) \n",
    "    newpathloanFinal = directory+'/loanstatecsvFinal'\n",
    "    data_concat_loan_decline = directory+'/loanAndDeclineConcat'\n",
    "    if not os.path.exists(data_concat_loan_decline):\n",
    "        os.makedirs(data_concat_loan_decline)\n",
    "    d1 = pd.read_csv(newpathloanFinal+'/LoanStats3a_securev1.csv', header=1, skipfooter=4, engine='python')\n",
    "    d2 = pd.read_csv(newpathloanFinal+'/LoanStats3b_securev1.csv', header=1, skipfooter=4, engine='python')\n",
    "    d3 = pd.read_csv(newpathloanFinal+'/LoanStats3c_securev1.csv', header=1, skipfooter=4, engine='python')\n",
    "    d4 = pd.read_csv(newpathloanFinal+'/LoanStats3d_securev1.csv', header=1, skipfooter=4, engine='python')\n",
    "    d5 = pd.read_csv(newpathloanFinal+'/LoanStats_securev1_2016Q1.csv', header=1, skipfooter=4, engine='python')\n",
    "    d6 = pd.read_csv(newpathloanFinal+'/LoanStats_securev1_2016Q2.csv', header=1, skipfooter=4, engine='python')\n",
    "    d7 = pd.read_csv(newpathloanFinal+'/LoanStats_securev1_2016Q3.csv', header=1, skipfooter=4, engine='python')\n",
    "    d8 = pd.read_csv(newpathloanFinal+'/LoanStats_securev1_2016Q4.csv', header=1, skipfooter=4, engine='python')\n",
    "    d9 = pd.read_csv(newpathloanFinal+'/LoanStats_securev1_2017Q1.csv', header=1, skipfooter=4, engine='python')\n",
    "    d10 = pd.read_csv(newpathloanFinal+'/LoanStats_securev1_2017Q2.csv', header=1, skipfooter=4, engine='python')\n",
    "    d11 = pd.read_csv(newpathloanFinal+'/LoanStats_securev1_2017Q3.csv', header=1, skipfooter=4, engine='python')\n",
    "    concatdata = pd.concat([d1, d2, d3, d4, d5, d6, d7, d8, d9, d10, d11])\n",
    "    concatdata.to_csv(os.path.join(data_concat_loan_decline,r'loandataconcat.csv'))\n",
    "    shutil.rmtree(newpathloanFinal)"
   ]
  },
  {
   "cell_type": "code",
   "execution_count": 2,
   "metadata": {
    "collapsed": true
   },
   "outputs": [],
   "source": [
    "def declineloandata():\n",
    "    direct = os.path.dirname(os.getcwd()) \n",
    "    newpathdeclineloanFinal = direct+'/declineloanstatecsvFinal'\n",
    "    url = 'https://www.lendingclub.com/account/login.action?'\n",
    "    postUrl = 'https://www.lendingclub.com/info/download-data.action'\n",
    "    payload = {'login_email': \"9603sonaligc@gmail.com\", 'login_password': \"Gopal2145\"}\n",
    "    with requests.session() as s:\n",
    "        loginRequest = s.post(url, data=payload)\n",
    "        finalUrl = s.get(postUrl)\n",
    "        linkhtml = finalUrl.text\n",
    "        soup = BeautifulSoup(linkhtml, \"html.parser\")\n",
    "        loan_val = soup.find(\"div\", { \"id\" : \"rejectedLoanStatsFileNamesJS\" }).text\n",
    "        list_loan_csv = loan_val.split('|')\n",
    "        del list_loan_csv[-1]\n",
    "        if not os.path.exists(newpathdeclineloanFinal):\n",
    "            os.makedirs(newpathdeclineloanFinal)\n",
    "        for value in list_loan_csv:\n",
    "            url=\"https://resources.lendingclub.com/\"+value\n",
    "            with urlopen(url) as zipresp:\n",
    "                with ZipFile(BytesIO(zipresp.read())) as zfile:\n",
    "                    zfile.extractall(newpathdeclineloanFinal)"
   ]
  },
  {
   "cell_type": "code",
   "execution_count": 5,
   "metadata": {
    "collapsed": true
   },
   "outputs": [],
   "source": [
    "def concatDeclineloandatacsv():\n",
    "    direct = os.path.dirname(os.getcwd()) \n",
    "    newpathdeclineloanFinal = direct+'/declineloanstatecsvFinal'\n",
    "    #data_concat_loan_decline = direct+'/loanAndDeclineConcat'\n",
    "    #if not os.path.exists(data_concat_loan_decline):\n",
    "     #   os.makedirs(data_concat_loan_decline)\n",
    "    d1 = pd.read_csv(newpathdeclineloanFinal+'/RejectStatsA.csv', header=1, skipfooter=4, engine='python')\n",
    "    d2 = pd.read_csv(newpathdeclineloanFinal+'/RejectStatsB.csv', header=1, skipfooter=4, engine='python')\n",
    "    d3 = pd.read_csv(newpathdeclineloanFinal+'/RejectStatsD.csv', header=1, skipfooter=4, engine='python')\n",
    "    d4 = pd.read_csv(newpathdeclineloanFinal+'/RejectStats_2016Q1.csv', header=1, skipfooter=4, engine='python')\n",
    "    d5 = pd.read_csv(newpathdeclineloanFinal+'/RejectStats_2016Q2.csv', header=1, skipfooter=4, engine='python')\n",
    "    d6 = pd.read_csv(newpathdeclineloanFinal+'/RejectStats_2016Q3.csv', header=1, skipfooter=4, engine='python')\n",
    "    d7 = pd.read_csv(newpathdeclineloanFinal+'/RejectStats_2016Q4.csv', header=1, skipfooter=4, engine='python')\n",
    "    d8 = pd.read_csv(newpathdeclineloanFinal+'/RejectStats_2017Q1.csv', header=1, skipfooter=4, engine='python')\n",
    "    d9 = pd.read_csv(newpathdeclineloanFinal+'/RejectStats_2017Q2.csv', header=1, skipfooter=4, engine='python')\n",
    "    d10 = pd.read_csv(newpathdeclineloanFinal+'/RejectStats_2017Q3.csv', header=1, skipfooter=4, engine='python')\n",
    "    concatdata = pd.concat([d1, d2, d3, d4, d5, d6, d7, d8, d9, d10])\n",
    "    return concatdata\n",
    "  #  concatdata.to_csv(os.path.join(data_concat_loan_decline,r'declineloandataconcat.csv'))\n",
    "   # shutil.rmtree(newpathdeclineloanFinal)"
   ]
  }
 ],
 "metadata": {
  "kernelspec": {
   "display_name": "Python 3",
   "language": "python",
   "name": "python3"
  },
  "language_info": {
   "codemirror_mode": {
    "name": "ipython",
    "version": 3
   },
   "file_extension": ".py",
   "mimetype": "text/x-python",
   "name": "python",
   "nbconvert_exporter": "python",
   "pygments_lexer": "ipython3",
   "version": "3.6.1"
  }
 },
 "nbformat": 4,
 "nbformat_minor": 2
}
