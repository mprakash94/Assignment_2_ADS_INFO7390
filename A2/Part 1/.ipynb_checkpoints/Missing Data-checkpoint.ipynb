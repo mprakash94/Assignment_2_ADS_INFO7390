{
 "cells": [
  {
   "cell_type": "markdown",
   "metadata": {
    "collapsed": true
   },
   "source": [
    "# ----------------------------------MISSING DATA----------------------------------------"
   ]
  },
  {
   "cell_type": "markdown",
   "metadata": {},
   "source": [
    "### Imports"
   ]
  },
  {
   "cell_type": "code",
   "execution_count": 36,
   "metadata": {
    "collapsed": true
   },
   "outputs": [],
   "source": [
    "import pandas as pd\n",
    "import numpy as np\n",
    "import csv\n",
    "from sklearn.neighbors import KNeighborsClassifier\n",
    "from sklearn import preprocessing, neighbors"
   ]
  },
  {
   "cell_type": "markdown",
   "metadata": {},
   "source": [
    "### Reading each CSV in a separate dataframe"
   ]
  },
  {
   "cell_type": "code",
   "execution_count": 3,
   "metadata": {
    "collapsed": true
   },
   "outputs": [],
   "source": [
    "d1 = pd.read_csv('/Users/sonalichaudhari/Desktop/Data/LoanStats3a_securev1.csv', header=1, skipfooter=4, engine='python')\n",
    "d2 = pd.read_csv('/Users/sonalichaudhari/Desktop/Data/LoanStats3b_securev1.csv', header=1, skipfooter=4, engine='python')\n",
    "d3 = pd.read_csv('/Users/sonalichaudhari/Desktop/Data/LoanStats3c_securev1.csv', header=1, skipfooter=4, engine='python')\n",
    "d4 = pd.read_csv('/Users/sonalichaudhari/Desktop/Data/LoanStats3d_securev1.csv', header=1, skipfooter=4, engine='python')\n",
    "d5 = pd.read_csv('/Users/sonalichaudhari/Desktop/Data/LoanStats_securev1_2016Q1.csv', header=1, skipfooter=4, engine='python')\n",
    "d6 = pd.read_csv('/Users/sonalichaudhari/Desktop/Data/LoanStats_securev1_2016Q2.csv', header=1, skipfooter=4, engine='python')\n",
    "d7 = pd.read_csv('/Users/sonalichaudhari/Desktop/Data/LoanStats_securev1_2016Q3.csv', header=1, skipfooter=4, engine='python')\n",
    "d8 = pd.read_csv('/Users/sonalichaudhari/Desktop/Data/LoanStats_securev1_2016Q4.csv', header=1, skipfooter=4, engine='python')\n",
    "d9 = pd.read_csv('/Users/sonalichaudhari/Desktop/Data/LoanStats_securev1_2017Q1.csv', header=1, skipfooter=4, engine='python')\n",
    "d10 = pd.read_csv('/Users/sonalichaudhari/Desktop/Data/LoanStats_securev1_2017Q2.csv', header=1, skipfooter=4, engine='python')\n",
    "d11 = pd.read_csv('/Users/sonalichaudhari/Desktop/Data/LoanStats_securev1_2017Q3.csv', header=1, skipfooter=4, engine='python')"
   ]
  },
  {
   "cell_type": "markdown",
   "metadata": {},
   "source": [
    "### Concatenating all the CSVs in one dataframe"
   ]
  },
  {
   "cell_type": "code",
   "execution_count": 4,
   "metadata": {
    "collapsed": false
   },
   "outputs": [],
   "source": [
    "loan_data = pd.concat([d1, d2, d3, d4, d5, d6, d7, d8, d9, d10])"
   ]
  },
  {
   "cell_type": "code",
   "execution_count": 6,
   "metadata": {
    "collapsed": false
   },
   "outputs": [
    {
     "data": {
      "text/plain": [
       "(1524072, 151)"
      ]
     },
     "execution_count": 6,
     "metadata": {},
     "output_type": "execute_result"
    }
   ],
   "source": [
    "loan_data.shape"
   ]
  },
  {
   "cell_type": "markdown",
   "metadata": {},
   "source": [
    "### Finding the missing data percentage and storing columns in features with mores than 70% data"
   ]
  },
  {
   "cell_type": "code",
   "execution_count": 10,
   "metadata": {
    "collapsed": false
   },
   "outputs": [
    {
     "name": "stdout",
     "output_type": "stream",
     "text": [
      "Number of columns after removing missing columns - 93\n"
     ]
    }
   ],
   "source": [
    "missing_data = loan_data.isnull().sum().to_frame(name='Missing_Count').reset_index()\n",
    "missing_data['Missing_percent'] = (missing_data['Missing_Count']/loan_data.shape[0])*100\n",
    "missing_data.head()\n",
    "missing_data = missing_data.sort_values(by='Missing_percent', axis=0, ascending=True)\n",
    "features = missing_data['index'][(missing_data.Missing_percent <30)]\n",
    "print('Number of columns after removing missing columns -',len(features))"
   ]
  },
  {
   "cell_type": "markdown",
   "metadata": {},
   "source": [
    "### Excluding columns leaking information to the future"
   ]
  },
  {
   "cell_type": "code",
   "execution_count": null,
   "metadata": {
    "collapsed": true
   },
   "outputs": [],
   "source": []
  },
  {
   "cell_type": "markdown",
   "metadata": {},
   "source": [
    "## ------------------------------Cleaning the data as per requirement----------------------------------"
   ]
  },
  {
   "cell_type": "code",
   "execution_count": 52,
   "metadata": {
    "collapsed": false
   },
   "outputs": [],
   "source": [
    "del loan_data['id']\n",
    "s = loan_data.reset_index()\n",
    "s['index'] = s.index +1\n",
    "s=s.rename(columns = {'index':'id'})"
   ]
  },
  {
   "cell_type": "markdown",
   "metadata": {},
   "source": [
    "### Considering on the imp features"
   ]
  },
  {
   "cell_type": "code",
   "execution_count": 53,
   "metadata": {
    "collapsed": true
   },
   "outputs": [],
   "source": [
    "f = ['id','application_type','fico_range_low','fico_range_high','emp_length','dti','annual_inc','dti_joint','annual_inc_joint','grade','sub_grade','int_rate','loan_amnt','issue_d','purpose','addr_state','zip_code']"
   ]
  },
  {
   "cell_type": "code",
   "execution_count": 81,
   "metadata": {
    "collapsed": true
   },
   "outputs": [],
   "source": [
    "# df is the main dataframe required for working\n",
    "df = s[f]"
   ]
  },
  {
   "cell_type": "code",
   "execution_count": 82,
   "metadata": {
    "collapsed": false
   },
   "outputs": [
    {
     "data": {
      "text/html": [
       "<div>\n",
       "<table border=\"1\" class=\"dataframe\">\n",
       "  <thead>\n",
       "    <tr style=\"text-align: right;\">\n",
       "      <th></th>\n",
       "      <th>id</th>\n",
       "      <th>application_type</th>\n",
       "      <th>fico_range_low</th>\n",
       "      <th>fico_range_high</th>\n",
       "      <th>emp_length</th>\n",
       "      <th>dti</th>\n",
       "      <th>annual_inc</th>\n",
       "      <th>dti_joint</th>\n",
       "      <th>annual_inc_joint</th>\n",
       "      <th>grade</th>\n",
       "      <th>sub_grade</th>\n",
       "      <th>int_rate</th>\n",
       "      <th>loan_amnt</th>\n",
       "      <th>issue_d</th>\n",
       "      <th>purpose</th>\n",
       "      <th>addr_state</th>\n",
       "      <th>zip_code</th>\n",
       "    </tr>\n",
       "  </thead>\n",
       "  <tbody>\n",
       "    <tr>\n",
       "      <th>0</th>\n",
       "      <td>1</td>\n",
       "      <td>Individual</td>\n",
       "      <td>735.0</td>\n",
       "      <td>739.0</td>\n",
       "      <td>10+ years</td>\n",
       "      <td>27.65</td>\n",
       "      <td>24000.0</td>\n",
       "      <td>NaN</td>\n",
       "      <td>NaN</td>\n",
       "      <td>B</td>\n",
       "      <td>B2</td>\n",
       "      <td>10.65%</td>\n",
       "      <td>5000.0</td>\n",
       "      <td>Dec-2011</td>\n",
       "      <td>credit_card</td>\n",
       "      <td>AZ</td>\n",
       "      <td>860xx</td>\n",
       "    </tr>\n",
       "    <tr>\n",
       "      <th>1</th>\n",
       "      <td>2</td>\n",
       "      <td>Individual</td>\n",
       "      <td>740.0</td>\n",
       "      <td>744.0</td>\n",
       "      <td>&lt; 1 year</td>\n",
       "      <td>1.00</td>\n",
       "      <td>30000.0</td>\n",
       "      <td>NaN</td>\n",
       "      <td>NaN</td>\n",
       "      <td>C</td>\n",
       "      <td>C4</td>\n",
       "      <td>15.27%</td>\n",
       "      <td>2500.0</td>\n",
       "      <td>Dec-2011</td>\n",
       "      <td>car</td>\n",
       "      <td>GA</td>\n",
       "      <td>309xx</td>\n",
       "    </tr>\n",
       "    <tr>\n",
       "      <th>2</th>\n",
       "      <td>3</td>\n",
       "      <td>Individual</td>\n",
       "      <td>735.0</td>\n",
       "      <td>739.0</td>\n",
       "      <td>10+ years</td>\n",
       "      <td>8.72</td>\n",
       "      <td>12252.0</td>\n",
       "      <td>NaN</td>\n",
       "      <td>NaN</td>\n",
       "      <td>C</td>\n",
       "      <td>C5</td>\n",
       "      <td>15.96%</td>\n",
       "      <td>2400.0</td>\n",
       "      <td>Dec-2011</td>\n",
       "      <td>small_business</td>\n",
       "      <td>IL</td>\n",
       "      <td>606xx</td>\n",
       "    </tr>\n",
       "    <tr>\n",
       "      <th>3</th>\n",
       "      <td>4</td>\n",
       "      <td>Individual</td>\n",
       "      <td>690.0</td>\n",
       "      <td>694.0</td>\n",
       "      <td>10+ years</td>\n",
       "      <td>20.00</td>\n",
       "      <td>49200.0</td>\n",
       "      <td>NaN</td>\n",
       "      <td>NaN</td>\n",
       "      <td>C</td>\n",
       "      <td>C1</td>\n",
       "      <td>13.49%</td>\n",
       "      <td>10000.0</td>\n",
       "      <td>Dec-2011</td>\n",
       "      <td>other</td>\n",
       "      <td>CA</td>\n",
       "      <td>917xx</td>\n",
       "    </tr>\n",
       "    <tr>\n",
       "      <th>4</th>\n",
       "      <td>5</td>\n",
       "      <td>Individual</td>\n",
       "      <td>695.0</td>\n",
       "      <td>699.0</td>\n",
       "      <td>1 year</td>\n",
       "      <td>17.94</td>\n",
       "      <td>80000.0</td>\n",
       "      <td>NaN</td>\n",
       "      <td>NaN</td>\n",
       "      <td>B</td>\n",
       "      <td>B5</td>\n",
       "      <td>12.69%</td>\n",
       "      <td>3000.0</td>\n",
       "      <td>Dec-2011</td>\n",
       "      <td>other</td>\n",
       "      <td>OR</td>\n",
       "      <td>972xx</td>\n",
       "    </tr>\n",
       "  </tbody>\n",
       "</table>\n",
       "</div>"
      ],
      "text/plain": [
       "   id application_type  fico_range_low  fico_range_high emp_length    dti  \\\n",
       "0   1       Individual           735.0            739.0  10+ years  27.65   \n",
       "1   2       Individual           740.0            744.0   < 1 year   1.00   \n",
       "2   3       Individual           735.0            739.0  10+ years   8.72   \n",
       "3   4       Individual           690.0            694.0  10+ years  20.00   \n",
       "4   5       Individual           695.0            699.0     1 year  17.94   \n",
       "\n",
       "   annual_inc  dti_joint  annual_inc_joint grade sub_grade int_rate  \\\n",
       "0     24000.0        NaN               NaN     B        B2   10.65%   \n",
       "1     30000.0        NaN               NaN     C        C4   15.27%   \n",
       "2     12252.0        NaN               NaN     C        C5   15.96%   \n",
       "3     49200.0        NaN               NaN     C        C1   13.49%   \n",
       "4     80000.0        NaN               NaN     B        B5   12.69%   \n",
       "\n",
       "   loan_amnt   issue_d         purpose addr_state zip_code  \n",
       "0     5000.0  Dec-2011     credit_card         AZ    860xx  \n",
       "1     2500.0  Dec-2011             car         GA    309xx  \n",
       "2     2400.0  Dec-2011  small_business         IL    606xx  \n",
       "3    10000.0  Dec-2011           other         CA    917xx  \n",
       "4     3000.0  Dec-2011           other         OR    972xx  "
      ]
     },
     "execution_count": 82,
     "metadata": {},
     "output_type": "execute_result"
    }
   ],
   "source": [
    "df.head()"
   ]
  },
  {
   "cell_type": "code",
   "execution_count": 83,
   "metadata": {
    "collapsed": false
   },
   "outputs": [
    {
     "data": {
      "text/plain": [
       "id                        0\n",
       "application_type          1\n",
       "fico_range_low            1\n",
       "fico_range_high           1\n",
       "emp_length                1\n",
       "dti                     174\n",
       "annual_inc                5\n",
       "dti_joint           1503556\n",
       "annual_inc_joint    1503552\n",
       "grade                     1\n",
       "sub_grade                 1\n",
       "int_rate                  1\n",
       "loan_amnt                 1\n",
       "issue_d                   1\n",
       "purpose                   1\n",
       "addr_state                1\n",
       "zip_code                  2\n",
       "dtype: int64"
      ]
     },
     "execution_count": 83,
     "metadata": {},
     "output_type": "execute_result"
    }
   ],
   "source": [
    "df.isnull().sum()"
   ]
  },
  {
   "cell_type": "code",
   "execution_count": 84,
   "metadata": {
    "collapsed": true
   },
   "outputs": [],
   "source": [
    "df = df[df.application_type.notnull()]"
   ]
  },
  {
   "cell_type": "markdown",
   "metadata": {},
   "source": [
    "### Emp Length"
   ]
  },
  {
   "cell_type": "code",
   "execution_count": 85,
   "metadata": {
    "collapsed": false
   },
   "outputs": [],
   "source": [
    "df['emp_length']=np.where(df['emp_length']=='10+ years','10',df['emp_length'])\n",
    "df['emp_length']=np.where(df['emp_length']=='< 1 year','0',df['emp_length'])\n",
    "df['emp_length']=np.where(df['emp_length']=='1 year','1',df['emp_length'])\n",
    "df['emp_length'] = df['emp_length'].map(lambda x: x.rstrip('years').strip())"
   ]
  },
  {
   "cell_type": "markdown",
   "metadata": {},
   "source": [
    "### Zipcode"
   ]
  },
  {
   "cell_type": "code",
   "execution_count": 60,
   "metadata": {
    "collapsed": true
   },
   "outputs": [],
   "source": [
    "df['zip_code'] = df['zip_code'].astype(str).map(lambda x: x.rstrip('xx'))"
   ]
  },
  {
   "cell_type": "markdown",
   "metadata": {},
   "source": [
    "### Int Rate"
   ]
  },
  {
   "cell_type": "code",
   "execution_count": 61,
   "metadata": {
    "collapsed": false
   },
   "outputs": [],
   "source": [
    "df['int_rate'] = df['int_rate'].astype(str).map(lambda x: x.rstrip('%'))\n",
    "df['int_rate'] = df['int_rate'].astype(float)"
   ]
  },
  {
   "cell_type": "markdown",
   "metadata": {},
   "source": [
    "### Date"
   ]
  },
  {
   "cell_type": "code",
   "execution_count": 62,
   "metadata": {
    "collapsed": true
   },
   "outputs": [],
   "source": [
    "df['Year'] = df['issue_d'].astype(str).map(lambda x: int(x.split('-')[1]))\n",
    "df['Month'] = df['issue_d'].astype(str).map(lambda x: x.split('-')[0])"
   ]
  },
  {
   "cell_type": "markdown",
   "metadata": {},
   "source": [
    "###  annual_inc_joint and dti_joint"
   ]
  },
  {
   "cell_type": "code",
   "execution_count": 63,
   "metadata": {
    "collapsed": false
   },
   "outputs": [],
   "source": [
    "df['dti_joint'] = np.where(df['application_type']=='Individual',0,df['dti_joint'])"
   ]
  },
  {
   "cell_type": "code",
   "execution_count": 65,
   "metadata": {
    "collapsed": false
   },
   "outputs": [],
   "source": [
    "df['annual_inc_joint'] = np.where(df['application_type']=='Individual',0,df['annual_inc_joint'])"
   ]
  },
  {
   "cell_type": "code",
   "execution_count": 67,
   "metadata": {
    "collapsed": false
   },
   "outputs": [
    {
     "data": {
      "text/html": [
       "<div>\n",
       "<table border=\"1\" class=\"dataframe\">\n",
       "  <thead>\n",
       "    <tr style=\"text-align: right;\">\n",
       "      <th></th>\n",
       "      <th>id</th>\n",
       "      <th>application_type</th>\n",
       "      <th>fico_range_low</th>\n",
       "      <th>fico_range_high</th>\n",
       "      <th>emp_length</th>\n",
       "      <th>dti</th>\n",
       "      <th>annual_inc</th>\n",
       "      <th>dti_joint</th>\n",
       "      <th>annual_inc_joint</th>\n",
       "      <th>grade</th>\n",
       "      <th>sub_grade</th>\n",
       "      <th>int_rate</th>\n",
       "      <th>loan_amnt</th>\n",
       "      <th>issue_d</th>\n",
       "      <th>purpose</th>\n",
       "      <th>addr_state</th>\n",
       "      <th>zip_code</th>\n",
       "      <th>Year</th>\n",
       "      <th>Month</th>\n",
       "    </tr>\n",
       "  </thead>\n",
       "  <tbody>\n",
       "    <tr>\n",
       "      <th>42450</th>\n",
       "      <td>42451</td>\n",
       "      <td>Individual</td>\n",
       "      <td>800.0</td>\n",
       "      <td>804.0</td>\n",
       "      <td>0</td>\n",
       "      <td>1.0</td>\n",
       "      <td>NaN</td>\n",
       "      <td>0.0</td>\n",
       "      <td>0.0</td>\n",
       "      <td>A</td>\n",
       "      <td>A2</td>\n",
       "      <td>7.43</td>\n",
       "      <td>5000.0</td>\n",
       "      <td>Aug-2007</td>\n",
       "      <td>other</td>\n",
       "      <td>NY</td>\n",
       "      <td>100</td>\n",
       "      <td>2007</td>\n",
       "      <td>Aug</td>\n",
       "    </tr>\n",
       "    <tr>\n",
       "      <th>42451</th>\n",
       "      <td>42452</td>\n",
       "      <td>Individual</td>\n",
       "      <td>800.0</td>\n",
       "      <td>804.0</td>\n",
       "      <td>0</td>\n",
       "      <td>1.0</td>\n",
       "      <td>NaN</td>\n",
       "      <td>0.0</td>\n",
       "      <td>0.0</td>\n",
       "      <td>A</td>\n",
       "      <td>A3</td>\n",
       "      <td>7.75</td>\n",
       "      <td>7000.0</td>\n",
       "      <td>Aug-2007</td>\n",
       "      <td>other</td>\n",
       "      <td>NY</td>\n",
       "      <td>100</td>\n",
       "      <td>2007</td>\n",
       "      <td>Aug</td>\n",
       "    </tr>\n",
       "    <tr>\n",
       "      <th>42481</th>\n",
       "      <td>42482</td>\n",
       "      <td>Individual</td>\n",
       "      <td>800.0</td>\n",
       "      <td>804.0</td>\n",
       "      <td>0</td>\n",
       "      <td>1.0</td>\n",
       "      <td>NaN</td>\n",
       "      <td>0.0</td>\n",
       "      <td>0.0</td>\n",
       "      <td>A</td>\n",
       "      <td>A3</td>\n",
       "      <td>7.75</td>\n",
       "      <td>6700.0</td>\n",
       "      <td>Jul-2007</td>\n",
       "      <td>other</td>\n",
       "      <td>NY</td>\n",
       "      <td>100</td>\n",
       "      <td>2007</td>\n",
       "      <td>Jul</td>\n",
       "    </tr>\n",
       "    <tr>\n",
       "      <th>42534</th>\n",
       "      <td>42535</td>\n",
       "      <td>Individual</td>\n",
       "      <td>740.0</td>\n",
       "      <td>744.0</td>\n",
       "      <td>0</td>\n",
       "      <td>4.0</td>\n",
       "      <td>NaN</td>\n",
       "      <td>0.0</td>\n",
       "      <td>0.0</td>\n",
       "      <td>A</td>\n",
       "      <td>A5</td>\n",
       "      <td>8.38</td>\n",
       "      <td>6500.0</td>\n",
       "      <td>Jun-2007</td>\n",
       "      <td>other</td>\n",
       "      <td>NY</td>\n",
       "      <td>100</td>\n",
       "      <td>2007</td>\n",
       "      <td>Jun</td>\n",
       "    </tr>\n",
       "  </tbody>\n",
       "</table>\n",
       "</div>"
      ],
      "text/plain": [
       "          id application_type  fico_range_low  fico_range_high emp_length  \\\n",
       "42450  42451       Individual           800.0            804.0          0   \n",
       "42451  42452       Individual           800.0            804.0          0   \n",
       "42481  42482       Individual           800.0            804.0          0   \n",
       "42534  42535       Individual           740.0            744.0          0   \n",
       "\n",
       "       dti  annual_inc  dti_joint  annual_inc_joint grade sub_grade  int_rate  \\\n",
       "42450  1.0         NaN        0.0               0.0     A        A2      7.43   \n",
       "42451  1.0         NaN        0.0               0.0     A        A3      7.75   \n",
       "42481  1.0         NaN        0.0               0.0     A        A3      7.75   \n",
       "42534  4.0         NaN        0.0               0.0     A        A5      8.38   \n",
       "\n",
       "       loan_amnt   issue_d purpose addr_state zip_code  Year Month  \n",
       "42450     5000.0  Aug-2007   other         NY      100  2007   Aug  \n",
       "42451     7000.0  Aug-2007   other         NY      100  2007   Aug  \n",
       "42481     6700.0  Jul-2007   other         NY      100  2007   Jul  \n",
       "42534     6500.0  Jun-2007   other         NY      100  2007   Jun  "
      ]
     },
     "execution_count": 67,
     "metadata": {},
     "output_type": "execute_result"
    }
   ],
   "source": [
    "df[df.annual_inc.isnull()]"
   ]
  },
  {
   "cell_type": "code",
   "execution_count": 43,
   "metadata": {
    "collapsed": false
   },
   "outputs": [
    {
     "data": {
      "image/png": "[encoded data removed]",
      "text/plain": [
       "<matplotlib.figure.Figure at 0x1278d0320>"
      ]
     },
     "metadata": {},
     "output_type": "display_data"
    }
   ],
   "source": [
    "import matplotlib.pyplot as plt\n",
    "import seaborn as sns\n",
    "import numpy as np\n",
    "color = sns.color_palette()\n",
    "plt.figure(figsize = (30,20))\n",
    "sns.set(font_scale = 2)\n",
    "sns.heatmap(data=df.corr())\n",
    "plt.show()\n",
    "plt.gcf().clear()"
   ]
  },
  {
   "cell_type": "markdown",
   "metadata": {},
   "source": [
    "##### Knn for dti filling"
   ]
  },
  {
   "cell_type": "code",
   "execution_count": 44,
   "metadata": {
    "collapsed": true
   },
   "outputs": [],
   "source": [
    "base = 'id','dti','int_rate','dti_joint','annual_inc_joint','Year'\n",
    "target_column = 'dti'\n",
    "\n",
    "null = df[target_column].isnull()\n",
    "not_null = ~null\n",
    "num_miss = null.sum()\n",
    "num_miss\n",
    "\n",
    "X_train = df.loc[not_null, base].sample(frac = 1)\n",
    "X=X_train[['id','int_rate','dti_joint','annual_inc_joint','Year']].values\n",
    "\n",
    "y = X_train[target_column].astype(int)\n",
    "y = y.values\n",
    "\n",
    "Y_target =df.loc[null, base].sample(frac = 1)\n",
    "Y =Y_target[['id','int_rate','dti_joint','annual_inc_joint','Year']].values"
   ]
  },
  {
   "cell_type": "code",
   "execution_count": null,
   "metadata": {
    "collapsed": false
   },
   "outputs": [],
   "source": [
    "clf = neighbors.KNeighborsClassifier()\n",
    "clf.fit(X,y)\n",
    "accuracy = clf.score(X, y) \n",
    "print(accuracy)\n",
    "prediction = clf.predict(Y)\n",
    "\n",
    "Y_target.loc[Y_target.dti.isnull(),'dti'] = prediction\n",
    "df.loc[df.id.isin(Y_target.id), ['dti']] = Y_target[['dti']]"
   ]
  },
  {
   "cell_type": "markdown",
   "metadata": {},
   "source": [
    "##### dti_joint filling"
   ]
  },
  {
   "cell_type": "code",
   "execution_count": 69,
   "metadata": {
    "collapsed": false
   },
   "outputs": [],
   "source": [
    "part = df[['dti_joint', 'sub_grade','id']][df.application_type=='Joint App']\n",
    "Mode = df['dti_joint'].mode()[0]\n",
    "a = list(df['sub_grade'].unique())\n",
    "\n",
    "for c in a:\n",
    "    t = part[part.sub_grade == c]\n",
    "    if( t.dti_joint.isnull().sum()==0):\n",
    "            break\n",
    "    else:\n",
    "            if(t.shape == t[t.isnull().any(axis=1)].shape ):\n",
    "                t['dti_joint'].fillna(Mode, inplace=True)\n",
    "            else:\n",
    "                c = t['dti_joint'].mode()[0]\n",
    "                t['dti_joint'].fillna(c, inplace=True)\n",
    "            part.loc[part.id.isin(t.id), ['dti_joint']] = t[['dti_joint']]\n",
    "part['dti_joint'].fillna(part['dti_joint'].mode()[0], inplace = True)      \n",
    "df.loc[df.id.isin(part.id), ['dti_joint']] = part[['dti_joint']]"
   ]
  },
  {
   "cell_type": "markdown",
   "metadata": {},
   "source": [
    "### annual_inc"
   ]
  },
  {
   "cell_type": "code",
   "execution_count": 74,
   "metadata": {
    "collapsed": false
   },
   "outputs": [
    {
     "name": "stderr",
     "output_type": "stream",
     "text": [
      "/Users/sonalichaudhari/anaconda/lib/python3.5/site-packages/pandas/core/generic.py:3295: SettingWithCopyWarning:\n",
      "\n",
      "\n",
      "A value is trying to be set on a copy of a slice from a DataFrame\n",
      "\n",
      "See the caveats in the documentation: http://pandas.pydata.org/pandas-docs/stable/indexing.html#indexing-view-versus-copy\n",
      "\n"
     ]
    }
   ],
   "source": [
    "part = df[['id','sub_grade', 'annual_inc']]\n",
    "Mode = df['annual_inc'].mode()[0]\n",
    "a = list(df['sub_grade'].unique())\n",
    "\n",
    "for c in a:\n",
    "    t = part[part.sub_grade == c]\n",
    "    if( t.annual_inc.isnull().sum()==0):\n",
    "            break\n",
    "    else:\n",
    "            if(t.shape == t[t.isnull().any(axis=1)].shape ):\n",
    "                t['annual_inc'].fillna(Mode, inplace=True)\n",
    "            else:\n",
    "                c = t['annual_inc'].mode()[0]\n",
    "                t['annual_inc'].fillna(c, inplace=True)\n",
    "            part.loc[part.id.isin(t.id), ['annual_inc']] = t[['annual_inc']]\n",
    "part['annual_inc'].fillna(part['annual_inc'].mode()[0], inplace = True)      \n",
    "df.loc[df.id.isin(part.id), ['annual_inc']] = part[['annual_inc']]"
   ]
  },
  {
   "cell_type": "markdown",
   "metadata": {},
   "source": [
    "### Fico columns"
   ]
  },
  {
   "cell_type": "code",
   "execution_count": 39,
   "metadata": {
    "collapsed": true
   },
   "outputs": [],
   "source": [
    " df['fico_avg'] = (df['fico_range_high']+df['fico_range_low'])/2"
   ]
  },
  {
   "cell_type": "code",
   "execution_count": 75,
   "metadata": {
    "collapsed": false
   },
   "outputs": [
    {
     "data": {
      "text/plain": [
       "id                    0\n",
       "application_type      0\n",
       "fico_range_low        0\n",
       "fico_range_high       0\n",
       "emp_length            0\n",
       "dti                 173\n",
       "annual_inc            0\n",
       "dti_joint             0\n",
       "annual_inc_joint      0\n",
       "grade                 0\n",
       "sub_grade             0\n",
       "int_rate              0\n",
       "loan_amnt             0\n",
       "issue_d               0\n",
       "purpose               0\n",
       "addr_state            0\n",
       "zip_code              0\n",
       "Year                  0\n",
       "Month                 0\n",
       "dtype: int64"
      ]
     },
     "execution_count": 75,
     "metadata": {},
     "output_type": "execute_result"
    }
   ],
   "source": [
    "df.isnull().sum()"
   ]
  }
 ],
 "metadata": {
  "anaconda-cloud": {},
  "kernelspec": {
   "display_name": "Python [default]",
   "language": "python",
   "name": "python3"
  },
  "language_info": {
   "codemirror_mode": {
    "name": "ipython",
    "version": 3
   },
   "file_extension": ".py",
   "mimetype": "text/x-python",
   "name": "python",
   "nbconvert_exporter": "python",
   "pygments_lexer": "ipython3",
   "version": "3.5.2"
  }
 },
 "nbformat": 4,
 "nbformat_minor": 2
}
