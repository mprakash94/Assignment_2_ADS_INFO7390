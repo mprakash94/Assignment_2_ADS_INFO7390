{
 "cells": [
  {
   "cell_type": "markdown",
   "metadata": {
    "collapsed": true
   },
   "source": [
    "# Predicting the interest rate"
   ]
  },
  {
   "cell_type": "code",
   "execution_count": 4,
   "metadata": {
    "collapsed": true
   },
   "outputs": [],
   "source": [
    "# Import\n",
    "import urllib.request\n",
    "import json"
   ]
  },
  {
   "cell_type": "code",
   "execution_count": 5,
   "metadata": {},
   "outputs": [],
   "source": [
    "#DEMO Input from the user\n",
    "\n",
    "# Employemet length\n",
    "emp_length = '7'\n",
    "# Debt to Income Ratio\n",
    "dti = '25'\n",
    "# Annual Income of the user\n",
    "annual_inc = '40000'\n",
    "# Loan Amount he is expecting to get\n",
    "loan_amount ='13000'\n",
    "# The reason for which the loan is needed\n",
    "purpose = ' business'\n",
    "# State of resdident of borrower\n",
    "State = 'MA'\n",
    "# Zipcode of the borrower\n",
    "zipc = '012'\n",
    "# Current Year\n",
    "Year ='2017'\n",
    "# Current Month\n",
    "Month ='11'\n",
    "# Users Fico score\n",
    "fico='730'   \n",
    "fico_range_low= \"1\"  \n",
    "fico_range_high=\"1\"  \n",
    "grade='G' \n",
    "sub_grade=\"G1\"  \n",
    "issue_d= \"\" \n",
    "home_ownership=\"own\" \n",
    "policy_code=\"1\"\n",
    "term=\"45\"    \n",
    "approval= \"1\""
   ]
  },
  {
   "cell_type": "code",
   "execution_count": 6,
   "metadata": {},
   "outputs": [],
   "source": [
    "# Inializing the three variable for interest rate\n",
    "rate1 = 0.0 # Interest Rate from No Cluster\n",
    "rate2 = 0.0 # Interest Rate from Manual Clusters\n",
    "rate3 = 0.0 # Interest Rate from K-Means"
   ]
  },
  {
   "cell_type": "code",
   "execution_count": 7,
   "metadata": {},
   "outputs": [
    {
     "name": "stdout",
     "output_type": "stream",
     "text": [
      "b'{\"Results\":{\"output1\":[{\"emp_length\":\"7\",\"dti\":\"25\",\"annual_inc\":\"40000\",\"loan_amnt\":\"13000\",\"purpose\":\" business\",\"State\":\"MA\",\"zip_code\":\"12\",\"term\":\"45\",\"Year\":\"2017\",\"Month\":\"11\",\"fico\":\"730\",\"Scored Label Mean\":\"15.2541666666667\",\"Scored Label Standard Deviation\":\"3.82258993462984\"}]}}'\n"
     ]
    }
   ],
   "source": [
    "# NoClusters\n",
    "data = {\n",
    "        \"Inputs\": {\n",
    "                \"input1\":\n",
    "                [\n",
    "                    {\n",
    "                            'emp_length': emp_length,   \n",
    "                            'dti': dti, \n",
    "                            'annual_inc': annual_inc,   \n",
    "                            'loan_amnt': loan_amount,   \n",
    "                            'purpose': purpose,   \n",
    "                            'State': State,   \n",
    "                            'zip_code': zipc,   \n",
    "                            'term': term,   \n",
    "                            'Year': Year,   \n",
    "                            'Month': Month,   \n",
    "                            'fico': fico,   \n",
    "                    }\n",
    "                ],\n",
    "        },\n",
    "    \"GlobalParameters\":  {\n",
    "    }\n",
    "}\n",
    "\n",
    "body = str.encode(json.dumps(data))\n",
    "\n",
    "url = 'https://ussouthcentral.services.azureml.net/workspaces/91fc502741c3454b90c12d5733f12e64/services/a0d187776a6441e9b044b4a675ca7ddd/execute?api-version=2.0&format=swagger'\n",
    "api_key = 'qTFaua3Zmuzs0jdJjTOQJK1sgxGh0oI/utfI2/MOYJKUjbLn4eEi4gHJqF6RprNCpbS/gQEIt0ogBLyeOWfg7Q==' # Replace this with the API key for the web service\n",
    "headers = {'Content-Type':'application/json', 'Authorization':('Bearer '+ api_key)}\n",
    "\n",
    "req = urllib.request.Request(url, body, headers)\n",
    "\n",
    "try:\n",
    "    response = urllib.request.urlopen(req)\n",
    "\n",
    "    result1 = response.read()\n",
    "    print(result1)\n",
    "except urllib.error.HTTPError as error:\n",
    "    print(\"The request failed with status code: \" + str(error.code))\n",
    "\n",
    "    # Print the headers - they include the requert ID and the timestamp, which are useful for debugging the failure\n",
    "    print(error.info())\n",
    "    print(json.loads(error.read().decode(\"utf8\", 'ignore')))\n",
    "    \n",
    "result1=json.loads(result1.decode(\"utf-8\"))\n",
    "rate1 = float(result1['Results']['output1'][0]['Scored Label Mean'])"
   ]
  },
  {
   "cell_type": "code",
   "execution_count": 8,
   "metadata": {},
   "outputs": [
    {
     "name": "stdout",
     "output_type": "stream",
     "text": [
      "Interest Rate for NoClusters:  15.2541666666667\n"
     ]
    }
   ],
   "source": [
    "print(\"Interest Rate for NoClusters: \",rate1)"
   ]
  },
  {
   "cell_type": "code",
   "execution_count": 15,
   "metadata": {
    "collapsed": true
   },
   "outputs": [],
   "source": [
    "def manual(fico):\n",
    "    cluster_name = 0\n",
    "    if fico>790.0:\n",
    "        cluster_name = 1\n",
    "    elif ((fico <= 790.0) & (fico>750.0)):\n",
    "        cluster_name = 2\n",
    "    elif ((fico <=750.0) & (fico>700.0)):\n",
    "        cluster_name = 3\n",
    "    elif ((fico <=700.0) & (fico>660.0)):\n",
    "        cluster_name= 4\n",
    "    return cluster_name"
   ]
  },
  {
   "cell_type": "code",
   "execution_count": 18,
   "metadata": {},
   "outputs": [
    {
     "name": "stdout",
     "output_type": "stream",
     "text": [
      "b'{\"Results\":{\"output1\":[{\"term\":\"45\",\"emp_length\":\"7\",\"dti\":\"25\",\"annual_inc\":\"40000\",\"loan_amnt\":\"13000\",\"purpose\":\" business\",\"State\":\"MA\",\"zip_code\":\"12\",\"Year\":\"2017\",\"Month\":\"11\",\"fico\":\"730\",\"Scored Label Mean\":\"17.8988236788618\",\"Scored Label Standard Deviation\":\"6.2162229784664\"}]}}'\n"
     ]
    }
   ],
   "source": [
    "# Checking rate for mannual clusters\n",
    "f = manual(int(fico))\n",
    "\n",
    "data = {\n",
    "        \"Inputs\": {\n",
    "                \"input1\":\n",
    "                [\n",
    "                    {\n",
    "                            'emp_length': emp_length,   \n",
    "                            'dti': dti, \n",
    "                            'annual_inc': annual_inc,   \n",
    "                            'loan_amnt': loan_amount,   \n",
    "                            'purpose': purpose,   \n",
    "                            'State': State,   \n",
    "                            'zip_code': zipc,   \n",
    "                            'term': term,   \n",
    "                            'Year': Year,   \n",
    "                            'Month': Month,   \n",
    "                            'fico': fico,   \n",
    "                    }\n",
    "                ],\n",
    "        },\n",
    "    \"GlobalParameters\":  {\n",
    "    }\n",
    "}\n",
    "\n",
    "body = str.encode(json.dumps(data))\n",
    "\n",
    "if(f ==1):\n",
    "    url = 'https://ussouthcentral.services.azureml.net/workspaces/91fc502741c3454b90c12d5733f12e64/services/0183a193dbf046a2a8965a40eb4fc4ef/execute?api-version=2.0&format=swagger'\n",
    "    api_key = 'lZ3Ab/umNdtg/lr7uZNYpjhcpy2yZbvIkZgYAec2ZHGTgs2LVBTVAiu+gQGQfdTfY+fWT9/CkUQkh9vUI6uR5w==' # Replace this with the API key for the web service\n",
    "elif(f==2):\n",
    "    url = 'https://ussouthcentral.services.azureml.net/workspaces/91fc502741c3454b90c12d5733f12e64/services/576a6034fd0b405288210b61b29a40c8/execute?api-version=2.0&format=swagger'\n",
    "    api_key = 'UAqxeYYKnLZKfkZm+cbRaTH3GIxGOzjzZCfYWBj76ytkd0RnHLNelerX1LT+qhWla3sCgoUf75zgcasVSYaONg==' # Replace this with the API key for the web service\n",
    "elif(f==3):\n",
    "    url = 'https://ussouthcentral.services.azureml.net/workspaces/91fc502741c3454b90c12d5733f12e64/services/c56d1cc2c9144a18b6a93efbf2ceeb5a/execute?api-version=2.0&format=swagger'\n",
    "    api_key = '/mjL3uhsqE+7E2t0JlJiKLGBH/EAtpOpV7n886gUnao/A35alO3kSUPNLc7zxj9bfv3tIVqfmms2JP1PHQIwXw==' # Replace this with the API key for the web service\n",
    "else:\n",
    "    url = 'https://ussouthcentral.services.azureml.net/workspaces/91fc502741c3454b90c12d5733f12e64/services/81a5e2bd244b44799dde2a882d845705/execute?api-version=2.0&format=swagger'\n",
    "    api_key = '+6sHaLhXHJj1Gb+qs4Wc6sA6gAdIQiUjcbpj7wqde+MK4MRGaQZ51QxSsioOizhi5ePyqchIhgJoChujQcqq4w==' # Replace this with the API key for the web service\n",
    "\n",
    "headers = {'Content-Type':'application/json', 'Authorization':('Bearer '+ api_key)}\n",
    "\n",
    "req = urllib.request.Request(url, body, headers)\n",
    "\n",
    "try:\n",
    "    response = urllib.request.urlopen(req)\n",
    "\n",
    "    result2 = response.read()\n",
    "    print(result2)\n",
    "except urllib.error.HTTPError as error:\n",
    "    print(\"The request failed with status code: \" + str(error.code))\n",
    "\n",
    "    # Print the headers - they include the requert ID and the timestamp, which are useful for debugging the failure\n",
    "    print(error.info())\n",
    "    print(json.loads(error.read().decode(\"utf8\", 'ignore')))\n",
    "    \n",
    "result2=json.loads(result2.decode(\"utf-8\"))\n",
    "rate2 = float(result2['Results']['output1'][0]['Scored Label Mean'])"
   ]
  },
  {
   "cell_type": "code",
   "execution_count": 19,
   "metadata": {},
   "outputs": [
    {
     "name": "stdout",
     "output_type": "stream",
     "text": [
      "Interest Rate for Manual CLusters:  17.8988236788618\n"
     ]
    }
   ],
   "source": [
    "print(\"Interest Rate for Manual CLusters: \",rate2)"
   ]
  },
  {
   "cell_type": "code",
   "execution_count": 20,
   "metadata": {},
   "outputs": [],
   "source": [
    "# Checking rate in K-means cluster\n",
    "\n",
    "data = {\n",
    "        \"Inputs\": {\n",
    "                \"input1\":\n",
    "                [\n",
    "                    {\n",
    "                            'debt_settlement_flag': \"N\",   \n",
    "                            'application_type': \"Individual\",   \n",
    "                            'fico_range_low': \"735\",   \n",
    "                            'fico_range_high': \"739\",   \n",
    "                            'emp_length': emp_length,   \n",
    "                            'dti': dti,   \n",
    "                            'annual_inc': annual_inc,   \n",
    "                            'grade': grade,   \n",
    "                            'sub_grade': sub_grade,   \n",
    "                            'loan_amnt': loan_amount,   \n",
    "                            'issue_d': issue_d,   \n",
    "                            'purpose': purpose,   \n",
    "                            'State': State,   \n",
    "                            'home_ownership':home_ownership,   \n",
    "                            'zip_code': zipc,   \n",
    "                            'policy_code': policy_code,   \n",
    "                            'term': term,   \n",
    "                            'Year': Year,   \n",
    "                            'Month': Month,   \n",
    "                            'fico': fico,   \n",
    "                            'approval': approval,   \n",
    "                    }\n",
    "                ],\n",
    "        },\n",
    "    \"GlobalParameters\":  {\n",
    "    }\n",
    "}\n",
    "\n",
    "body = str.encode(json.dumps(data))\n",
    "\n",
    "url0 = 'https://ussouthcentral.services.azureml.net/workspaces/c2f8dc5126ac4024b08690eda8426a56/services/605482c5d53e4f97b8777bde05394ec9/execute?api-version=2.0&format=swagger'\n",
    "api_key0 = 'V6mYCe+WC5G5+5bIp14IRJ091cxZq8DYL2/MYtJCLGKN77QMBDmi6E1aSDNPlWRmniiSwIKH1dwSiAA9ib6UMg==' # Replace this with the API key for the web service\n",
    "headers0 = {'Content-Type':'application/json', 'Authorization':('Bearer '+ api_key0)}\n",
    "req0 = urllib.request.Request(url0, body, headers0)\n",
    "\n",
    "url1 = 'https://ussouthcentral.services.azureml.net/workspaces/c2f8dc5126ac4024b08690eda8426a56/services/212fd57552574c6fa8777f4fa6832e8b/execute?api-version=2.0&format=swagger'\n",
    "api_key1 = 's06oiIMbGYKTe31k8T+YUBnXTXn0Ow9FL2L2JD0X1NpBUs9gTLdtdo9CVf+Oej2JiX8ar3JkOd7CNRt5kzcURA==' # Replace this with the API key for the web service\n",
    "headers1 = {'Content-Type':'application/json', 'Authorization':('Bearer '+ api_key1)}\n",
    "req1 = urllib.request.Request(url1, body, headers1)\n",
    "\n",
    "url2 = 'https://ussouthcentral.services.azureml.net/workspaces/c2f8dc5126ac4024b08690eda8426a56/services/a0518b16d4a24e93abb5e07c1e1caeb5/execute?api-version=2.0&format=swagger'\n",
    "api_key2 = 'NvYLcVmRgj4BO9M94U59mrau4yiwPezdVCvjWqsY2g2r08yEh4X0DMvecov0etITK0au4zNXFKL/MulkusRdWw==' # Replace this with the API key for the web service\n",
    "headers2 = {'Content-Type':'application/json', 'Authorization':('Bearer '+ api_key2)}\n",
    "req2 = urllib.request.Request(url2, body, headers2)\n",
    "\n",
    "url3 = 'https://ussouthcentral.services.azureml.net/workspaces/c2f8dc5126ac4024b08690eda8426a56/services/9a07e563a57f4ee89d800e619862aa65/execute?api-version=2.0&format=swagger'\n",
    "api_key3 = 'YgyVwIPJXweyHLfi28/jwW3i3a3KHLf8HW56bUVGSSDpTsWD+7xDfxnz4w4SPcfP99j1Lp5OE6szQXmpLS322A==' # Replace this with the API key for the web service\n",
    "headers3 = {'Content-Type':'application/json', 'Authorization':('Bearer '+ api_key3)}\n",
    "req3 = urllib.request.Request(url3, body, headers3)\n",
    "\n",
    "\n",
    "url4 = 'https://ussouthcentral.services.azureml.net/workspaces/c2f8dc5126ac4024b08690eda8426a56/services/8d3faa13c38f40babc8ac505a0fa6c6f/execute?api-version=2.0&format=swagger'\n",
    "api_key4 = 'aokwGrKclMAzpFKfUKhn3EubxTj7Hmxubz7BeU3oIc+7UVtR4mYf3ysZcbUUT8V40gYyFA7H0nvpS4wuPKI7MA==' # Replace this with the API key for the web service\n",
    "headers4 = {'Content-Type':'application/json', 'Authorization':('Bearer '+ api_key4)}\n",
    "req4 = urllib.request.Request(url4, body, headers4)\n",
    "\n",
    "url5 = 'https://ussouthcentral.services.azureml.net/workspaces/c2f8dc5126ac4024b08690eda8426a56/services/c38f252ebec746b99ed37b0b7e0dd164/execute?api-version=2.0&format=swagger'\n",
    "api_key5 = 'Yt/U8UFX4l9/7A9Exj2wPzafKEPgDU+FNoIdfj50FeuiERmkxsKN293xo1UbIO247MfS6bGezCHcMjk0mvx5gA==' # Replace this with the API key for the web service\n",
    "headers5 = {'Content-Type':'application/json', 'Authorization':('Bearer '+ api_key5)}\n",
    "req5 = urllib.request.Request(url5, body, headers5)\n",
    "\n",
    "url6 = 'https://ussouthcentral.services.azureml.net/workspaces/c2f8dc5126ac4024b08690eda8426a56/services/7af179175b814fe9b7273bd617f048d0/execute?api-version=2.0&format=swagger'\n",
    "api_key6 = 'BH4uIujO3TN0RIXd7JDO7iaq1r4NUN5R8dtRQbsQuXgR2vKtj9u64zrAkXb5Nktxq9B4LI4uZnrLjQOPCBfIdg==' # Replace this with the API key for the web service\n",
    "headers6 = {'Content-Type':'application/json', 'Authorization':('Bearer '+ api_key6)}\n",
    "req6 = urllib.request.Request(url6, body, headers6)\n",
    "\n",
    "url7 = 'https://ussouthcentral.services.azureml.net/workspaces/c2f8dc5126ac4024b08690eda8426a56/services/11904d20378745bf9cad7d40121722c3/execute?api-version=2.0&format=swagger'\n",
    "api_key7 = '6T6QBFiJOAAiEEQxWoa/Z69I4uaL0wwpfUpKZecYooBXG2TX+iZuKwq3+pWH8r9sPkb8w0G4TRUO+cGMt8pA5A==' # Replace this with the API key for the web service\n",
    "headers7 = {'Content-Type':'application/json', 'Authorization':('Bearer '+ api_key7)}\n",
    "req7 = urllib.request.Request(url7, body, headers7)\n",
    "\n",
    "try:\n",
    "    result0 = urllib.request.urlopen(req0).read()\n",
    "    result1 = urllib.request.urlopen(req1).read()\n",
    "    result2 = urllib.request.urlopen(req2).read()\n",
    "    result3 = urllib.request.urlopen(req3).read()\n",
    "    result4 = urllib.request.urlopen(req4).read()\n",
    "    result5 = urllib.request.urlopen(req5).read()\n",
    "    result6 = urllib.request.urlopen(req6).read()\n",
    "    result7 = urllib.request.urlopen(req7).read()\n",
    "    \n",
    "except urllib.error.HTTPError as error:\n",
    "    print(\"The request failed with status code: \" + str(error.code))\n",
    "    print(error.info())\n",
    "    print(json.loads(error.read().decode(\"utf8\", 'ignore')))\n",
    "    \n",
    "list =[]\n",
    "result0 = json.loads(result0.decode(\"utf-8\"))\n",
    "result1 = json.loads(result1.decode(\"utf-8\"))\n",
    "result2 = json.loads(result2.decode(\"utf-8\"))\n",
    "result3 = json.loads(result3.decode(\"utf-8\"))\n",
    "result4 = json.loads(result4.decode(\"utf-8\"))\n",
    "result5 = json.loads(result5.decode(\"utf-8\"))\n",
    "result6 = json.loads(result6.decode(\"utf-8\"))\n",
    "result7 = json.loads(result7.decode(\"utf-8\"))\n",
    "\n",
    "\n",
    "\n",
    "r0 = float(result0['Results']['output1'][0]['Scored Label Mean'])\n",
    "r1 = float(result1['Results']['output1'][0]['Scored Label Mean'])\n",
    "r2 = float(result2['Results']['output1'][0]['Scored Label Mean'])\n",
    "r3 = float(result3['Results']['output1'][0]['Scored Label Mean'])\n",
    "r4 = float(result4['Results']['output1'][0]['Scored Label Mean'])\n",
    "r5 = float(result5['Results']['output1'][0]['Scored Label Mean'])\n",
    "r6 = float(result6['Results']['output1'][0]['Scored Label Mean'])\n",
    "r7 = float(result7['Results']['output1'][0]['Scored Label Mean'])\n",
    "\n",
    "rate3 =max(r0,r1,r2,r3,r4,r6,r7)"
   ]
  },
  {
   "cell_type": "code",
   "execution_count": null,
   "metadata": {
    "collapsed": true
   },
   "outputs": [],
   "source": [
    "print(\"Interest Rate for K-means: \",rate3)"
   ]
  },
  {
   "cell_type": "code",
   "execution_count": 21,
   "metadata": {},
   "outputs": [],
   "source": [
    "rate = max(rate1,rate2,rate3)"
   ]
  },
  {
   "cell_type": "code",
   "execution_count": 23,
   "metadata": {},
   "outputs": [
    {
     "name": "stdout",
     "output_type": "stream",
     "text": [
      "The best interest rate is:  30.79 %\n"
     ]
    }
   ],
   "source": [
    "print('The best interest rate is: ',rate,'%')"
   ]
  }
 ],
 "metadata": {
  "anaconda-cloud": {},
  "kernelspec": {
   "display_name": "Python 3",
   "language": "python",
   "name": "python3"
  },
  "language_info": {
   "codemirror_mode": {
    "name": "ipython",
    "version": 3
   },
   "file_extension": ".py",
   "mimetype": "text/x-python",
   "name": "python",
   "nbconvert_exporter": "python",
   "pygments_lexer": "ipython3",
   "version": "3.6.1"
  }
 },
 "nbformat": 4,
 "nbformat_minor": 2
}
