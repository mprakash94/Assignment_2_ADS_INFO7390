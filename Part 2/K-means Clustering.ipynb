{
 "cells": [
  {
   "cell_type": "code",
   "execution_count": 21,
   "metadata": {
    "collapsed": true
   },
   "outputs": [],
   "source": [
    "from sklearn import cluster\n",
    "from sklearn import preprocessing\n",
    "from sklearn.preprocessing import LabelEncoder\n",
    "import csv\n",
    "import pandas as pd\n",
    "import numpy as np\n",
    "import pickle\n",
    "from sklearn.externals import joblib"
   ]
  },
  {
   "cell_type": "code",
   "execution_count": 9,
   "metadata": {},
   "outputs": [],
   "source": [
    "loan_df = pd.read_csv('CleanLoan.csv')"
   ]
  },
  {
   "cell_type": "code",
   "execution_count": 10,
   "metadata": {
    "collapsed": true
   },
   "outputs": [],
   "source": [
    "k_mean = loan_df[['dti', 'annual_inc', 'risk_score', 'loan_amnt',\n",
    "       'term', 'purpose','approval','emp_length', 'home_ownership']]"
   ]
  },
  {
   "cell_type": "code",
   "execution_count": 11,
   "metadata": {
    "collapsed": true
   },
   "outputs": [],
   "source": [
    "home_ownerships = pd.get_dummies(k_mean['home_ownership'], prefix='house')\n",
    "k_mean = k_mean.join(home_ownerships)\n",
    "k_mean.drop('home_ownership', axis=1, inplace=True)\n",
    "#purpose   \n",
    "purpose = pd.get_dummies(k_mean['purpose'], prefix='purpose')\n",
    "k_mean = k_mean.join(purpose)\n",
    "k_mean.drop('purpose', axis=1, inplace=True)"
   ]
  },
  {
   "cell_type": "code",
   "execution_count": 12,
   "metadata": {},
   "outputs": [
    {
     "data": {
      "text/plain": [
       "(1641127, 27)"
      ]
     },
     "execution_count": 12,
     "metadata": {},
     "output_type": "execute_result"
    }
   ],
   "source": [
    "k_mean.shape"
   ]
  },
  {
   "cell_type": "code",
   "execution_count": 13,
   "metadata": {},
   "outputs": [
    {
     "data": {
      "text/plain": [
       "dti                           float64\n",
       "annual_inc                    float64\n",
       "risk_score                    float64\n",
       "loan_amnt                     float64\n",
       "term                            int64\n",
       "approval                        int64\n",
       "emp_length                      int64\n",
       "house_ANY                       uint8\n",
       "house_MORTGAGE                  uint8\n",
       "house_NONE                      uint8\n",
       "house_OTHER                     uint8\n",
       "house_OWN                       uint8\n",
       "house_RENT                      uint8\n",
       "purpose_car                     uint8\n",
       "purpose_credit_card             uint8\n",
       "purpose_debt_consolidation      uint8\n",
       "purpose_educational             uint8\n",
       "purpose_home_improvement        uint8\n",
       "purpose_house                   uint8\n",
       "purpose_major_purchase          uint8\n",
       "purpose_medical                 uint8\n",
       "purpose_moving                  uint8\n",
       "purpose_other                   uint8\n",
       "purpose_renewable_energy        uint8\n",
       "purpose_small_business          uint8\n",
       "purpose_vacation                uint8\n",
       "purpose_wedding                 uint8\n",
       "dtype: object"
      ]
     },
     "execution_count": 13,
     "metadata": {},
     "output_type": "execute_result"
    }
   ],
   "source": [
    "k_mean.dtypes"
   ]
  },
  {
   "cell_type": "code",
   "execution_count": 14,
   "metadata": {},
   "outputs": [],
   "source": [
    "norm_data = preprocessing.normalize(k_mean)"
   ]
  },
  {
   "cell_type": "code",
   "execution_count": 15,
   "metadata": {},
   "outputs": [
    {
     "data": {
      "text/plain": [
       "array([[  1.12735567e-03,   9.78536570e-01,   3.00492272e-02, ...,\n",
       "          0.00000000e+00,   0.00000000e+00,   0.00000000e+00],\n",
       "       [  3.32080402e-05,   9.96241206e-01,   2.46403658e-02, ...,\n",
       "          0.00000000e+00,   0.00000000e+00,   0.00000000e+00],\n",
       "       [  6.97229400e-04,   9.79639290e-01,   5.89286775e-02, ...,\n",
       "          7.99575000e-05,   0.00000000e+00,   0.00000000e+00],\n",
       "       ..., \n",
       "       [  3.07366011e-04,   9.06149797e-01,   8.54197209e-03, ...,\n",
       "          0.00000000e+00,   0.00000000e+00,   0.00000000e+00],\n",
       "       [  1.35808005e-04,   9.59612419e-01,   6.14151948e-03, ...,\n",
       "          0.00000000e+00,   0.00000000e+00,   0.00000000e+00],\n",
       "       [  5.16259123e-04,   9.21891291e-01,   1.39717747e-02, ...,\n",
       "          0.00000000e+00,   0.00000000e+00,   0.00000000e+00]])"
      ]
     },
     "execution_count": 15,
     "metadata": {},
     "output_type": "execute_result"
    }
   ],
   "source": [
    "norm_data"
   ]
  },
  {
   "cell_type": "code",
   "execution_count": 16,
   "metadata": {
    "collapsed": true
   },
   "outputs": [],
   "source": [
    "k_cluster=cluster.KMeans(n_clusters=8)"
   ]
  },
  {
   "cell_type": "code",
   "execution_count": 17,
   "metadata": {},
   "outputs": [
    {
     "data": {
      "text/plain": [
       "KMeans(algorithm='auto', copy_x=True, init='k-means++', max_iter=300,\n",
       "    n_clusters=8, n_init=10, n_jobs=1, precompute_distances='auto',\n",
       "    random_state=None, tol=0.0001, verbose=0)"
      ]
     },
     "execution_count": 17,
     "metadata": {},
     "output_type": "execute_result"
    }
   ],
   "source": [
    "k_cluster.fit(norm_data)"
   ]
  },
  {
   "cell_type": "code",
   "execution_count": 18,
   "metadata": {},
   "outputs": [
    {
     "data": {
      "text/plain": [
       "923.12972527185673"
      ]
     },
     "execution_count": 18,
     "metadata": {},
     "output_type": "execute_result"
    }
   ],
   "source": [
    "k_cluster.inertia_"
   ]
  },
  {
   "cell_type": "code",
   "execution_count": 24,
   "metadata": {
    "collapsed": true
   },
   "outputs": [],
   "source": [
    "cluster_label = k_cluster.labels_"
   ]
  },
  {
   "cell_type": "code",
   "execution_count": 22,
   "metadata": {},
   "outputs": [],
   "source": [
    "with open('kmeanCluster.pkl', 'wb') as f:\n",
    "    joblib.dump(k_cluster, f)"
   ]
  },
  {
   "cell_type": "code",
   "execution_count": 26,
   "metadata": {
    "collapsed": true
   },
   "outputs": [],
   "source": [
    "loan_df['kmean'] = cluster_label"
   ]
  },
  {
   "cell_type": "code",
   "execution_count": 27,
   "metadata": {},
   "outputs": [
    {
     "data": {
      "text/html": [
       "<div>\n",
       "<style>\n",
       "    .dataframe thead tr:only-child th {\n",
       "        text-align: right;\n",
       "    }\n",
       "\n",
       "    .dataframe thead th {\n",
       "        text-align: left;\n",
       "    }\n",
       "\n",
       "    .dataframe tbody tr th {\n",
       "        vertical-align: top;\n",
       "    }\n",
       "</style>\n",
       "<table border=\"1\" class=\"dataframe\">\n",
       "  <thead>\n",
       "    <tr style=\"text-align: right;\">\n",
       "      <th>kmean</th>\n",
       "      <th>0</th>\n",
       "      <th>1</th>\n",
       "      <th>2</th>\n",
       "      <th>3</th>\n",
       "      <th>4</th>\n",
       "      <th>5</th>\n",
       "      <th>6</th>\n",
       "      <th>7</th>\n",
       "    </tr>\n",
       "    <tr>\n",
       "      <th>grade</th>\n",
       "      <th></th>\n",
       "      <th></th>\n",
       "      <th></th>\n",
       "      <th></th>\n",
       "      <th></th>\n",
       "      <th></th>\n",
       "      <th></th>\n",
       "      <th></th>\n",
       "    </tr>\n",
       "  </thead>\n",
       "  <tbody>\n",
       "    <tr>\n",
       "      <th>A</th>\n",
       "      <td>63694</td>\n",
       "      <td>22184</td>\n",
       "      <td>57451</td>\n",
       "      <td>8865</td>\n",
       "      <td>73</td>\n",
       "      <td>40237</td>\n",
       "      <td>78984</td>\n",
       "      <td>355</td>\n",
       "    </tr>\n",
       "    <tr>\n",
       "      <th>B</th>\n",
       "      <td>110856</td>\n",
       "      <td>54998</td>\n",
       "      <td>87010</td>\n",
       "      <td>26196</td>\n",
       "      <td>243</td>\n",
       "      <td>82409</td>\n",
       "      <td>121034</td>\n",
       "      <td>1185</td>\n",
       "    </tr>\n",
       "    <tr>\n",
       "      <th>C</th>\n",
       "      <td>102178</td>\n",
       "      <td>77195</td>\n",
       "      <td>72372</td>\n",
       "      <td>45999</td>\n",
       "      <td>441</td>\n",
       "      <td>92491</td>\n",
       "      <td>96288</td>\n",
       "      <td>2380</td>\n",
       "    </tr>\n",
       "    <tr>\n",
       "      <th>D</th>\n",
       "      <td>42626</td>\n",
       "      <td>48461</td>\n",
       "      <td>29209</td>\n",
       "      <td>33814</td>\n",
       "      <td>169</td>\n",
       "      <td>45186</td>\n",
       "      <td>36092</td>\n",
       "      <td>1017</td>\n",
       "    </tr>\n",
       "    <tr>\n",
       "      <th>E</th>\n",
       "      <td>17209</td>\n",
       "      <td>28873</td>\n",
       "      <td>9068</td>\n",
       "      <td>20865</td>\n",
       "      <td>71</td>\n",
       "      <td>22110</td>\n",
       "      <td>12650</td>\n",
       "      <td>483</td>\n",
       "    </tr>\n",
       "    <tr>\n",
       "      <th>F</th>\n",
       "      <td>5166</td>\n",
       "      <td>11290</td>\n",
       "      <td>2355</td>\n",
       "      <td>7375</td>\n",
       "      <td>21</td>\n",
       "      <td>7373</td>\n",
       "      <td>3452</td>\n",
       "      <td>166</td>\n",
       "    </tr>\n",
       "    <tr>\n",
       "      <th>G</th>\n",
       "      <td>1465</td>\n",
       "      <td>3738</td>\n",
       "      <td>450</td>\n",
       "      <td>2111</td>\n",
       "      <td>24</td>\n",
       "      <td>2222</td>\n",
       "      <td>793</td>\n",
       "      <td>105</td>\n",
       "    </tr>\n",
       "  </tbody>\n",
       "</table>\n",
       "</div>"
      ],
      "text/plain": [
       "kmean       0      1      2      3    4      5       6     7\n",
       "grade                                                       \n",
       "A       63694  22184  57451   8865   73  40237   78984   355\n",
       "B      110856  54998  87010  26196  243  82409  121034  1185\n",
       "C      102178  77195  72372  45999  441  92491   96288  2380\n",
       "D       42626  48461  29209  33814  169  45186   36092  1017\n",
       "E       17209  28873   9068  20865   71  22110   12650   483\n",
       "F        5166  11290   2355   7375   21   7373    3452   166\n",
       "G        1465   3738    450   2111   24   2222     793   105"
      ]
     },
     "execution_count": 27,
     "metadata": {},
     "output_type": "execute_result"
    }
   ],
   "source": [
    "pd.crosstab(loan_df.grade,loan_df.kmean)"
   ]
  },
  {
   "cell_type": "code",
   "execution_count": null,
   "metadata": {
    "collapsed": true
   },
   "outputs": [],
   "source": []
  }
 ],
 "metadata": {
  "kernelspec": {
   "display_name": "Python 3",
   "language": "python",
   "name": "python3"
  },
  "language_info": {
   "codemirror_mode": {
    "name": "ipython",
    "version": 3
   },
   "file_extension": ".py",
   "mimetype": "text/x-python",
   "name": "python",
   "nbconvert_exporter": "python",
   "pygments_lexer": "ipython3",
   "version": "3.6.1"
  }
 },
 "nbformat": 4,
 "nbformat_minor": 2
}
