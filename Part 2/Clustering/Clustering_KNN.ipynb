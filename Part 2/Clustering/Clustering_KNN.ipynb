{
 "cells": [
  {
   "cell_type": "markdown",
   "metadata": {},
   "source": [
    "# Imports"
   ]
  },
  {
   "cell_type": "code",
   "execution_count": 4,
   "metadata": {
    "collapsed": false
   },
   "outputs": [],
   "source": [
    "import warnings\n",
    "warnings.filterwarnings('ignore')"
   ]
  },
  {
   "cell_type": "code",
   "execution_count": 5,
   "metadata": {
    "collapsed": true
   },
   "outputs": [],
   "source": [
    "import pandas as pd\n",
    "import pickle\n",
    "import numpy as np\n",
    "from sklearn.externals import joblib\n",
    "from sklearn import *\n",
    "from sklearn import cluster\n",
    "from math import sqrt\n",
    "from sklearn.model_selection import train_test_split\n",
    "from sklearn.neighbors import KNeighborsRegressor\n",
    "from sklearn import preprocessing, cross_validation, neighbors\n",
    "from sklearn.metrics import mean_squared_error, mean_absolute_error"
   ]
  },
  {
   "cell_type": "markdown",
   "metadata": {},
   "source": [
    "## Load clean loan csv "
   ]
  },
  {
   "cell_type": "code",
   "execution_count": 6,
   "metadata": {
    "collapsed": false
   },
   "outputs": [],
   "source": [
    "loan_df = pd.read_csv('/Users/sonalichaudhari/Desktop/Loan.csv', low_memory=False) "
   ]
  },
  {
   "cell_type": "code",
   "execution_count": 7,
   "metadata": {
    "collapsed": false,
    "scrolled": true
   },
   "outputs": [
    {
     "data": {
      "text/plain": [
       "Index(['id', 'debt_settlement_flag', 'application_type', 'fico_range_low',\n",
       "       'fico_range_high', 'emp_length', 'dti', 'annual_inc', 'grade',\n",
       "       'sub_grade', 'int_rate', 'loan_amnt', 'issue_d', 'purpose', 'State',\n",
       "       'home_ownership', 'zip_code', 'policy_code', 'term', 'Year', 'Month',\n",
       "       'fico', 'approval'],\n",
       "      dtype='object')"
      ]
     },
     "execution_count": 7,
     "metadata": {},
     "output_type": "execute_result"
    }
   ],
   "source": [
    "loan_df.columns"
   ]
  },
  {
   "cell_type": "markdown",
   "metadata": {},
   "source": [
    "# Remove General Columns Not Needed"
   ]
  },
  {
   "cell_type": "code",
   "execution_count": 8,
   "metadata": {
    "collapsed": false
   },
   "outputs": [],
   "source": [
    "feature_df = loan_df[['application_type','emp_length', 'dti', 'annual_inc',\n",
    "       'int_rate', 'loan_amnt', 'purpose', 'State', 'home_ownership', 'term', 'fico', 'approval']]"
   ]
  },
  {
   "cell_type": "code",
   "execution_count": 9,
   "metadata": {
    "collapsed": false
   },
   "outputs": [],
   "source": [
    "home_ownerships = pd.get_dummies(feature_df['home_ownership'], prefix='house')\n",
    "feature_df = feature_df.join(home_ownerships)\n",
    "feature_df.drop('home_ownership', axis=1, inplace=True)\n",
    "\n",
    "app_type = pd.get_dummies(feature_df['application_type'], prefix='appType')\n",
    "feature_df = feature_df.join(app_type)\n",
    "feature_df.drop('application_type', axis=1, inplace=True)\n",
    "\n",
    "adr_states = pd.get_dummies(feature_df['State'], prefix='s')\n",
    "feature_df = feature_df.join(adr_states)\n",
    "feature_df.drop('State', axis=1, inplace=True)\n",
    "\n",
    "#purpose   \n",
    "purpose = pd.get_dummies(feature_df['purpose'], prefix='purpose')\n",
    "feature_df = feature_df.join(purpose)\n",
    "feature_df.drop('purpose', axis=1, inplace=True)"
   ]
  },
  {
   "cell_type": "markdown",
   "metadata": {},
   "source": [
    "# No Clustering"
   ]
  },
  {
   "cell_type": "code",
   "execution_count": 10,
   "metadata": {
    "collapsed": false
   },
   "outputs": [],
   "source": [
    "zero_cluster_df = feature_df"
   ]
  },
  {
   "cell_type": "code",
   "execution_count": 11,
   "metadata": {
    "collapsed": true
   },
   "outputs": [],
   "source": [
    "X_train, X_test, y_train, y_test = train_test_split(zero_cluster_df.ix[:, zero_cluster_df.columns != 'int_rate'], \n",
    "                                            zero_cluster_df['int_rate'], \n",
    "                                            test_size=0.30)"
   ]
  },
  {
   "cell_type": "code",
   "execution_count": 12,
   "metadata": {
    "collapsed": false
   },
   "outputs": [
    {
     "data": {
      "text/plain": [
       "KNeighborsRegressor(algorithm='auto', leaf_size=30, metric='minkowski',\n",
       "          metric_params=None, n_jobs=1, n_neighbors=5, p=2,\n",
       "          weights='uniform')"
      ]
     },
     "execution_count": 12,
     "metadata": {},
     "output_type": "execute_result"
    }
   ],
   "source": [
    "# Creating the model\n",
    "clf = neighbors.KNeighborsRegressor()\n",
    "clf.fit(X_train, y_train)"
   ]
  },
  {
   "cell_type": "code",
   "execution_count": 25,
   "metadata": {
    "collapsed": false
   },
   "outputs": [
    {
     "name": "stdout",
     "output_type": "stream",
     "text": [
      "0.42777569429\n",
      "-----Train-----\n",
      "RMS:  3.402651762736587\n",
      "MAE:  2.62685705323\n",
      "MAPE:  19.497676313563026\n",
      "-----Test-----\n",
      "RMS:  4.17946334159284\n",
      "MAE:  3.22313535767\n",
      "MAPE:  23.90864436620862\n"
     ]
    }
   ],
   "source": [
    "# Accuracy of the model created\n",
    "accuracy = clf.score(X_train, y_train)\n",
    "print(accuracy)\n",
    "\n",
    "y_test_predicted = clf.predict(X_test)\n",
    "y_train_predicted= clf.predict(X_train)    \n",
    "\n",
    "#finished square footage of the property, square footage of lot, tax amounts, number of bedrooms, and number of units\n",
    "#MAE, RMS, MAPE\n",
    "rms = sqrt(mean_squared_error(y_train, y_train_predicted))    \n",
    "mae_train = mean_absolute_error(y_train, y_train_predicted) \n",
    "mape_train = np.mean(np.abs((y_train - y_train_predicted) / y_train)) * 100\n",
    "print(\"-----Train-----\")\n",
    "print('RMS: ',rms)\n",
    "print('MAE: ',mae_train)\n",
    "print('MAPE: ',mape_train)\n",
    "#finished square footage of the property, square footage of lot, tax amounts, number of bedrooms, and number of units\n",
    "#MAE, RMS, MAPE\n",
    "rms = sqrt(mean_squared_error(y_test, y_test_predicted))    \n",
    "mae_test = mean_absolute_error(y_test, y_test_predicted)\n",
    "mape_test = np.mean(np.abs((y_test - y_test_predicted) / y_test)) * 100\n",
    "print(\"-----Test-----\")\n",
    "print('RMS: ',rms)\n",
    "print('MAE: ',mae_test)\n",
    "print('MAPE: ',mape_test)"
   ]
  },
  {
   "cell_type": "markdown",
   "metadata": {},
   "source": [
    "# Manual Clustering"
   ]
  },
  {
   "cell_type": "code",
   "execution_count": 14,
   "metadata": {
    "collapsed": false
   },
   "outputs": [],
   "source": [
    "manual_df = feature_df\n",
    "def clustering(fico):\n",
    "    cluster_name = ''\n",
    "    if fico>790.0:\n",
    "        cluster_name ='K1'\n",
    "    elif ((fico <= 790.0) & (fico>750.0)):\n",
    "        cluster_name = 'K2'\n",
    "    elif ((fico <=750.0) & (fico>700.0)):\n",
    "        cluster_name ='K3'\n",
    "    elif ((fico <=700.0) & (fico>660.0)):\n",
    "        cluster_name= 'K4'\n",
    "    return cluster_name\n",
    "manual_df['cluster'] = manual_df['fico'].astype(float).map(lambda x: clustering(x))"
   ]
  },
  {
   "cell_type": "code",
   "execution_count": 15,
   "metadata": {
    "collapsed": false
   },
   "outputs": [
    {
     "data": {
      "text/html": [
       "<div>\n",
       "<table border=\"1\" class=\"dataframe\">\n",
       "  <thead>\n",
       "    <tr style=\"text-align: right;\">\n",
       "      <th></th>\n",
       "      <th>emp_length</th>\n",
       "      <th>dti</th>\n",
       "      <th>annual_inc</th>\n",
       "      <th>int_rate</th>\n",
       "      <th>loan_amnt</th>\n",
       "      <th>term</th>\n",
       "      <th>fico</th>\n",
       "      <th>approval</th>\n",
       "      <th>house_ANY</th>\n",
       "      <th>house_MORTGAGE</th>\n",
       "      <th>...</th>\n",
       "      <th>purpose_house</th>\n",
       "      <th>purpose_major_purchase</th>\n",
       "      <th>purpose_medical</th>\n",
       "      <th>purpose_moving</th>\n",
       "      <th>purpose_other</th>\n",
       "      <th>purpose_renewable_energy</th>\n",
       "      <th>purpose_small_business</th>\n",
       "      <th>purpose_vacation</th>\n",
       "      <th>purpose_wedding</th>\n",
       "      <th>cluster</th>\n",
       "    </tr>\n",
       "  </thead>\n",
       "  <tbody>\n",
       "    <tr>\n",
       "      <th>0</th>\n",
       "      <td>10</td>\n",
       "      <td>27.65</td>\n",
       "      <td>24000.0</td>\n",
       "      <td>10.65</td>\n",
       "      <td>5000.0</td>\n",
       "      <td>36</td>\n",
       "      <td>737.0</td>\n",
       "      <td>1</td>\n",
       "      <td>0</td>\n",
       "      <td>0</td>\n",
       "      <td>...</td>\n",
       "      <td>0</td>\n",
       "      <td>0</td>\n",
       "      <td>0</td>\n",
       "      <td>0</td>\n",
       "      <td>0</td>\n",
       "      <td>0</td>\n",
       "      <td>0</td>\n",
       "      <td>0</td>\n",
       "      <td>0</td>\n",
       "      <td>K3</td>\n",
       "    </tr>\n",
       "    <tr>\n",
       "      <th>1</th>\n",
       "      <td>1</td>\n",
       "      <td>1.00</td>\n",
       "      <td>30000.0</td>\n",
       "      <td>15.27</td>\n",
       "      <td>2500.0</td>\n",
       "      <td>60</td>\n",
       "      <td>742.0</td>\n",
       "      <td>1</td>\n",
       "      <td>0</td>\n",
       "      <td>0</td>\n",
       "      <td>...</td>\n",
       "      <td>0</td>\n",
       "      <td>0</td>\n",
       "      <td>0</td>\n",
       "      <td>0</td>\n",
       "      <td>0</td>\n",
       "      <td>0</td>\n",
       "      <td>0</td>\n",
       "      <td>0</td>\n",
       "      <td>0</td>\n",
       "      <td>K3</td>\n",
       "    </tr>\n",
       "    <tr>\n",
       "      <th>2</th>\n",
       "      <td>10</td>\n",
       "      <td>8.72</td>\n",
       "      <td>12252.0</td>\n",
       "      <td>15.96</td>\n",
       "      <td>2400.0</td>\n",
       "      <td>36</td>\n",
       "      <td>737.0</td>\n",
       "      <td>1</td>\n",
       "      <td>0</td>\n",
       "      <td>0</td>\n",
       "      <td>...</td>\n",
       "      <td>0</td>\n",
       "      <td>0</td>\n",
       "      <td>0</td>\n",
       "      <td>0</td>\n",
       "      <td>0</td>\n",
       "      <td>0</td>\n",
       "      <td>1</td>\n",
       "      <td>0</td>\n",
       "      <td>0</td>\n",
       "      <td>K3</td>\n",
       "    </tr>\n",
       "    <tr>\n",
       "      <th>3</th>\n",
       "      <td>10</td>\n",
       "      <td>20.00</td>\n",
       "      <td>49200.0</td>\n",
       "      <td>13.49</td>\n",
       "      <td>10000.0</td>\n",
       "      <td>36</td>\n",
       "      <td>692.0</td>\n",
       "      <td>1</td>\n",
       "      <td>0</td>\n",
       "      <td>0</td>\n",
       "      <td>...</td>\n",
       "      <td>0</td>\n",
       "      <td>0</td>\n",
       "      <td>0</td>\n",
       "      <td>0</td>\n",
       "      <td>1</td>\n",
       "      <td>0</td>\n",
       "      <td>0</td>\n",
       "      <td>0</td>\n",
       "      <td>0</td>\n",
       "      <td>K4</td>\n",
       "    </tr>\n",
       "    <tr>\n",
       "      <th>4</th>\n",
       "      <td>1</td>\n",
       "      <td>17.94</td>\n",
       "      <td>80000.0</td>\n",
       "      <td>12.69</td>\n",
       "      <td>3000.0</td>\n",
       "      <td>60</td>\n",
       "      <td>697.0</td>\n",
       "      <td>1</td>\n",
       "      <td>0</td>\n",
       "      <td>0</td>\n",
       "      <td>...</td>\n",
       "      <td>0</td>\n",
       "      <td>0</td>\n",
       "      <td>0</td>\n",
       "      <td>0</td>\n",
       "      <td>1</td>\n",
       "      <td>0</td>\n",
       "      <td>0</td>\n",
       "      <td>0</td>\n",
       "      <td>0</td>\n",
       "      <td>K4</td>\n",
       "    </tr>\n",
       "  </tbody>\n",
       "</table>\n",
       "<p>5 rows × 80 columns</p>\n",
       "</div>"
      ],
      "text/plain": [
       "   emp_length    dti  annual_inc  int_rate  loan_amnt  term   fico  approval  \\\n",
       "0          10  27.65     24000.0     10.65     5000.0    36  737.0         1   \n",
       "1           1   1.00     30000.0     15.27     2500.0    60  742.0         1   \n",
       "2          10   8.72     12252.0     15.96     2400.0    36  737.0         1   \n",
       "3          10  20.00     49200.0     13.49    10000.0    36  692.0         1   \n",
       "4           1  17.94     80000.0     12.69     3000.0    60  697.0         1   \n",
       "\n",
       "   house_ANY  house_MORTGAGE   ...     purpose_house  purpose_major_purchase  \\\n",
       "0          0               0   ...                 0                       0   \n",
       "1          0               0   ...                 0                       0   \n",
       "2          0               0   ...                 0                       0   \n",
       "3          0               0   ...                 0                       0   \n",
       "4          0               0   ...                 0                       0   \n",
       "\n",
       "   purpose_medical  purpose_moving  purpose_other  purpose_renewable_energy  \\\n",
       "0                0               0              0                         0   \n",
       "1                0               0              0                         0   \n",
       "2                0               0              0                         0   \n",
       "3                0               0              1                         0   \n",
       "4                0               0              1                         0   \n",
       "\n",
       "   purpose_small_business  purpose_vacation  purpose_wedding  cluster  \n",
       "0                       0                 0                0       K3  \n",
       "1                       0                 0                0       K3  \n",
       "2                       1                 0                0       K3  \n",
       "3                       0                 0                0       K4  \n",
       "4                       0                 0                0       K4  \n",
       "\n",
       "[5 rows x 80 columns]"
      ]
     },
     "execution_count": 15,
     "metadata": {},
     "output_type": "execute_result"
    }
   ],
   "source": [
    "manual_df.head()"
   ]
  },
  {
   "cell_type": "code",
   "execution_count": 16,
   "metadata": {
    "collapsed": true
   },
   "outputs": [],
   "source": [
    "#Seperate into diff dataframes\n",
    "manual_c1 = manual_df[manual_df['cluster']=='K1']\n",
    "manual_c1.drop('cluster',axis=1,inplace=True)\n",
    "manual_c2 = manual_df[manual_df['cluster']=='K2']\n",
    "manual_c2.drop('cluster',axis=1,inplace=True)\n",
    "manual_c3 = manual_df[manual_df['cluster']=='K3']\n",
    "manual_c3.drop('cluster',axis=1,inplace=True)\n",
    "manual_c4 = manual_df[manual_df['cluster']=='K4']\n",
    "manual_c4.drop('cluster',axis=1,inplace=True)"
   ]
  },
  {
   "cell_type": "markdown",
   "metadata": {},
   "source": [
    "#### Manual 1"
   ]
  },
  {
   "cell_type": "code",
   "execution_count": 17,
   "metadata": {
    "collapsed": false
   },
   "outputs": [
    {
     "data": {
      "text/plain": [
       "KNeighborsRegressor(algorithm='auto', leaf_size=30, metric='minkowski',\n",
       "          metric_params=None, n_jobs=1, n_neighbors=5, p=2,\n",
       "          weights='uniform')"
      ]
     },
     "execution_count": 17,
     "metadata": {},
     "output_type": "execute_result"
    }
   ],
   "source": [
    "\n",
    "X_train, X_test, y_train, y_test = train_test_split(manual_c1.ix[:, manual_c1.columns != 'int_rate'], \n",
    "                                            manual_c1['int_rate'], \n",
    "                                            test_size=0.30)\n",
    "clf = neighbors.KNeighborsRegressor()\n",
    "clf.fit(X_train, y_train)"
   ]
  },
  {
   "cell_type": "code",
   "execution_count": 18,
   "metadata": {
    "collapsed": false
   },
   "outputs": [
    {
     "name": "stdout",
     "output_type": "stream",
     "text": [
      "0.423278086141\n",
      "-----Train-----\n",
      "RMS:  2.4132534196765483\n",
      "MAE:  1.69512610653\n",
      "MAPE:  20.174913249863568\n",
      "-----Test-----\n",
      "RMS:  2.927408037014591\n",
      "MAE:  2.06371910775\n",
      "MAPE:  24.790777898585972\n"
     ]
    }
   ],
   "source": [
    "# Accuracy of the model created\n",
    "accuracy = clf.score(X_train, y_train)\n",
    "print(accuracy)\n",
    "\n",
    "y_test_predicted = clf.predict(X_test)\n",
    "y_train_predicted= clf.predict(X_train)    \n",
    "\n",
    "#finished square footage of the property, square footage of lot, tax amounts, number of bedrooms, and number of units\n",
    "#MAE, RMS, MAPE\n",
    "rms = sqrt(mean_squared_error(y_train, y_train_predicted))    \n",
    "mae_train = mean_absolute_error(y_train, y_train_predicted) \n",
    "mape_train = np.mean(np.abs((y_train - y_train_predicted) / y_train)) * 100\n",
    "print(\"-----Train-----\")\n",
    "print('RMS: ',rms)\n",
    "print('MAE: ',mae_train)\n",
    "print('MAPE: ',mape_train)\n",
    "#finished square footage of the property, square footage of lot, tax amounts, number of bedrooms, and number of units\n",
    "#MAE, RMS, MAPE\n",
    "rms = sqrt(mean_squared_error(y_test, y_test_predicted))    \n",
    "mae_test = mean_absolute_error(y_test, y_test_predicted)\n",
    "mape_test = np.mean(np.abs((y_test - y_test_predicted) / y_test)) * 100\n",
    "print(\"-----Test-----\")\n",
    "print('RMS: ',rms)\n",
    "print('MAE: ',mae_test)\n",
    "print('MAPE: ',mape_test)"
   ]
  },
  {
   "cell_type": "markdown",
   "metadata": {},
   "source": [
    "#### Manual 2"
   ]
  },
  {
   "cell_type": "code",
   "execution_count": 19,
   "metadata": {
    "collapsed": false
   },
   "outputs": [
    {
     "data": {
      "text/plain": [
       "KNeighborsRegressor(algorithm='auto', leaf_size=30, metric='minkowski',\n",
       "          metric_params=None, n_jobs=1, n_neighbors=5, p=2,\n",
       "          weights='uniform')"
      ]
     },
     "execution_count": 19,
     "metadata": {},
     "output_type": "execute_result"
    }
   ],
   "source": [
    "#manual 2\n",
    "X_train, X_test, y_train, y_test = train_test_split(manual_c2.ix[:, manual_c2.columns != 'int_rate'], \n",
    "                                            manual_c2['int_rate'], \n",
    "                                            test_size=0.30)\n",
    "clf = neighbors.KNeighborsRegressor()\n",
    "clf.fit(X_train, y_train)"
   ]
  },
  {
   "cell_type": "code",
   "execution_count": 20,
   "metadata": {
    "collapsed": false
   },
   "outputs": [
    {
     "name": "stdout",
     "output_type": "stream",
     "text": [
      "0.408037804256\n",
      "-----Train-----\n",
      "RMS:  2.797397310813602\n",
      "MAE:  2.02220727206\n",
      "MAPE:  22.139867143314593\n",
      "-----Test-----\n",
      "RMS:  3.4388155022276075\n",
      "MAE:  2.48492245828\n",
      "MAPE:  27.211092286203748\n"
     ]
    }
   ],
   "source": [
    "# Accuracy of the model created\n",
    "accuracy = clf.score(X_train, y_train)\n",
    "print(accuracy)\n",
    "\n",
    "y_test_predicted = clf.predict(X_test)\n",
    "y_train_predicted= clf.predict(X_train)    \n",
    "\n",
    "#finished square footage of the property, square footage of lot, tax amounts, number of bedrooms, and number of units\n",
    "#MAE, RMS, MAPE\n",
    "rms = sqrt(mean_squared_error(y_train, y_train_predicted))    \n",
    "mae_train = mean_absolute_error(y_train, y_train_predicted) \n",
    "mape_train = np.mean(np.abs((y_train - y_train_predicted) / y_train)) * 100\n",
    "print(\"-----Train-----\")\n",
    "print('RMS: ',rms)\n",
    "print('MAE: ',mae_train)\n",
    "print('MAPE: ',mape_train)\n",
    "#finished square footage of the property, square footage of lot, tax amounts, number of bedrooms, and number of units\n",
    "#MAE, RMS, MAPE\n",
    "rms = sqrt(mean_squared_error(y_test, y_test_predicted))    \n",
    "mae_test = mean_absolute_error(y_test, y_test_predicted)\n",
    "mape_test = np.mean(np.abs((y_test - y_test_predicted) / y_test)) * 100\n",
    "print(\"-----Test-----\")\n",
    "print('RMS: ',rms)\n",
    "print('MAE: ',mae_test)\n",
    "print('MAPE: ',mape_test)"
   ]
  },
  {
   "cell_type": "markdown",
   "metadata": {},
   "source": [
    "#### Manual 3"
   ]
  },
  {
   "cell_type": "code",
   "execution_count": 21,
   "metadata": {
    "collapsed": false
   },
   "outputs": [
    {
     "data": {
      "text/plain": [
       "KNeighborsRegressor(algorithm='auto', leaf_size=30, metric='minkowski',\n",
       "          metric_params=None, n_jobs=1, n_neighbors=5, p=2,\n",
       "          weights='uniform')"
      ]
     },
     "execution_count": 21,
     "metadata": {},
     "output_type": "execute_result"
    }
   ],
   "source": [
    "#Manual 3\n",
    "X_train, X_test, y_train, y_test = train_test_split(manual_c3.ix[:, manual_c3.columns != 'int_rate'], \n",
    "                                            manual_c3['int_rate'], \n",
    "                                            test_size=0.30)\n",
    "clf = neighbors.KNeighborsRegressor()\n",
    "clf.fit(X_train, y_train)"
   ]
  },
  {
   "cell_type": "code",
   "execution_count": 22,
   "metadata": {
    "collapsed": false
   },
   "outputs": [
    {
     "name": "stdout",
     "output_type": "stream",
     "text": [
      "0.442430657324\n",
      "-----Train-----\n",
      "RMS:  3.18970394615286\n",
      "MAE:  2.43349092967\n",
      "MAPE:  22.311900727780014\n",
      "-----Test-----\n",
      "RMS:  3.9203478517705777\n",
      "MAE:  2.99003039134\n",
      "MAPE:  27.398009627958736\n"
     ]
    }
   ],
   "source": [
    "# Accuracy of the model created\n",
    "accuracy = clf.score(X_train, y_train)\n",
    "print(accuracy)\n",
    "\n",
    "y_test_predicted = clf.predict(X_test)\n",
    "y_train_predicted= clf.predict(X_train)    \n",
    "\n",
    "#finished square footage of the property, square footage of lot, tax amounts, number of bedrooms, and number of units\n",
    "#MAE, RMS, MAPE\n",
    "rms = sqrt(mean_squared_error(y_train, y_train_predicted))    \n",
    "mae_train = mean_absolute_error(y_train, y_train_predicted) \n",
    "mape_train = np.mean(np.abs((y_train - y_train_predicted) / y_train)) * 100\n",
    "print(\"-----Train-----\")\n",
    "print('RMS: ',rms)\n",
    "print('MAE: ',mae_train)\n",
    "print('MAPE: ',mape_train)\n",
    "#finished square footage of the property, square footage of lot, tax amounts, number of bedrooms, and number of units\n",
    "#MAE, RMS, MAPE\n",
    "rms = sqrt(mean_squared_error(y_test, y_test_predicted))    \n",
    "mae_test = mean_absolute_error(y_test, y_test_predicted)\n",
    "mape_test = np.mean(np.abs((y_test - y_test_predicted) / y_test)) * 100\n",
    "print(\"-----Test-----\")\n",
    "print('RMS: ',rms)\n",
    "print('MAE: ',mae_test)\n",
    "print('MAPE: ',mape_test)"
   ]
  },
  {
   "cell_type": "markdown",
   "metadata": {},
   "source": [
    "#### Manual 4"
   ]
  },
  {
   "cell_type": "code",
   "execution_count": 23,
   "metadata": {
    "collapsed": false
   },
   "outputs": [
    {
     "data": {
      "text/plain": [
       "KNeighborsRegressor(algorithm='auto', leaf_size=30, metric='minkowski',\n",
       "          metric_params=None, n_jobs=1, n_neighbors=5, p=2,\n",
       "          weights='uniform')"
      ]
     },
     "execution_count": 23,
     "metadata": {},
     "output_type": "execute_result"
    }
   ],
   "source": [
    "#Manual 4\n",
    "X_train, X_test, y_train, y_test = train_test_split(manual_c4.ix[:, manual_c4.columns != 'int_rate'], \n",
    "                                            manual_c4['int_rate'], \n",
    "                                            test_size=0.30)\n",
    "clf = neighbors.KNeighborsRegressor()\n",
    "clf.fit(X_train, y_train)"
   ]
  },
  {
   "cell_type": "code",
   "execution_count": 24,
   "metadata": {
    "collapsed": false
   },
   "outputs": [
    {
     "name": "stdout",
     "output_type": "stream",
     "text": [
      "0.42777569429\n",
      "-----Train-----\n",
      "RMS:  3.402651762736587\n",
      "MAE:  2.62685705323\n",
      "MAPE:  19.497676313563026\n",
      "-----Test-----\n",
      "RMS:  4.17946334159284\n",
      "MAE:  3.22313535767\n",
      "MAPE:  23.90864436620862\n"
     ]
    }
   ],
   "source": [
    "# Accuracy of the model created\n",
    "accuracy = clf.score(X_train, y_train)\n",
    "print(accuracy)\n",
    "\n",
    "y_test_predicted = clf.predict(X_test)\n",
    "y_train_predicted= clf.predict(X_train)    \n",
    "\n",
    "#finished square footage of the property, square footage of lot, tax amounts, number of bedrooms, and number of units\n",
    "#MAE, RMS, MAPE\n",
    "rms = sqrt(mean_squared_error(y_train, y_train_predicted))    \n",
    "mae_train = mean_absolute_error(y_train, y_train_predicted) \n",
    "mape_train = np.mean(np.abs((y_train - y_train_predicted) / y_train)) * 100\n",
    "print(\"-----Train-----\")\n",
    "print('RMS: ',rms)\n",
    "print('MAE: ',mae_train)\n",
    "print('MAPE: ',mape_train)\n",
    "#finished square footage of the property, square footage of lot, tax amounts, number of bedrooms, and number of units\n",
    "#MAE, RMS, MAPE\n",
    "rms = sqrt(mean_squared_error(y_test, y_test_predicted))    \n",
    "mae_test = mean_absolute_error(y_test, y_test_predicted)\n",
    "mape_test = np.mean(np.abs((y_test - y_test_predicted) / y_test)) * 100\n",
    "print(\"-----Test-----\")\n",
    "print('RMS: ',rms)\n",
    "print('MAE: ',mae_test)\n",
    "print('MAPE: ',mape_test)"
   ]
  },
  {
   "cell_type": "markdown",
   "metadata": {},
   "source": [
    "# K-Means"
   ]
  },
  {
   "cell_type": "code",
   "execution_count": 41,
   "metadata": {
    "collapsed": false
   },
   "outputs": [
    {
     "ename": "ValueError",
     "evalue": "Length of values does not match length of index",
     "output_type": "error",
     "traceback": [
      "\u001b[0;31m---------------------------------------------------------------------------\u001b[0m",
      "\u001b[0;31mValueError\u001b[0m                                Traceback (most recent call last)",
      "\u001b[0;32m<ipython-input-41-655b83a90649>\u001b[0m in \u001b[0;36m<module>\u001b[0;34m()\u001b[0m\n\u001b[1;32m      2\u001b[0m \u001b[0;31m#Create new column in load_df for the k-means clustering\u001b[0m\u001b[0;34m\u001b[0m\u001b[0;34m\u001b[0m\u001b[0m\n\u001b[1;32m      3\u001b[0m \u001b[0mk_mean_feature_df\u001b[0m \u001b[0;34m=\u001b[0m \u001b[0mfeature_df\u001b[0m\u001b[0;34m\u001b[0m\u001b[0m\n\u001b[0;32m----> 4\u001b[0;31m \u001b[0mk_mean_feature_df\u001b[0m\u001b[0;34m[\u001b[0m\u001b[0;34m'kMean'\u001b[0m\u001b[0;34m]\u001b[0m \u001b[0;34m=\u001b[0m \u001b[0mk_cluster\u001b[0m\u001b[0;34m.\u001b[0m\u001b[0mlabels_\u001b[0m\u001b[0;34m\u001b[0m\u001b[0m\n\u001b[0m",
      "\u001b[0;32m/Users/sonalichaudhari/anaconda/lib/python3.5/site-packages/pandas/core/frame.py\u001b[0m in \u001b[0;36m__setitem__\u001b[0;34m(self, key, value)\u001b[0m\n\u001b[1;32m   2417\u001b[0m         \u001b[0;32melse\u001b[0m\u001b[0;34m:\u001b[0m\u001b[0;34m\u001b[0m\u001b[0m\n\u001b[1;32m   2418\u001b[0m             \u001b[0;31m# set column\u001b[0m\u001b[0;34m\u001b[0m\u001b[0;34m\u001b[0m\u001b[0m\n\u001b[0;32m-> 2419\u001b[0;31m             \u001b[0mself\u001b[0m\u001b[0;34m.\u001b[0m\u001b[0m_set_item\u001b[0m\u001b[0;34m(\u001b[0m\u001b[0mkey\u001b[0m\u001b[0;34m,\u001b[0m \u001b[0mvalue\u001b[0m\u001b[0;34m)\u001b[0m\u001b[0;34m\u001b[0m\u001b[0m\n\u001b[0m\u001b[1;32m   2420\u001b[0m \u001b[0;34m\u001b[0m\u001b[0m\n\u001b[1;32m   2421\u001b[0m     \u001b[0;32mdef\u001b[0m \u001b[0m_setitem_slice\u001b[0m\u001b[0;34m(\u001b[0m\u001b[0mself\u001b[0m\u001b[0;34m,\u001b[0m \u001b[0mkey\u001b[0m\u001b[0;34m,\u001b[0m \u001b[0mvalue\u001b[0m\u001b[0;34m)\u001b[0m\u001b[0;34m:\u001b[0m\u001b[0;34m\u001b[0m\u001b[0m\n",
      "\u001b[0;32m/Users/sonalichaudhari/anaconda/lib/python3.5/site-packages/pandas/core/frame.py\u001b[0m in \u001b[0;36m_set_item\u001b[0;34m(self, key, value)\u001b[0m\n\u001b[1;32m   2483\u001b[0m \u001b[0;34m\u001b[0m\u001b[0m\n\u001b[1;32m   2484\u001b[0m         \u001b[0mself\u001b[0m\u001b[0;34m.\u001b[0m\u001b[0m_ensure_valid_index\u001b[0m\u001b[0;34m(\u001b[0m\u001b[0mvalue\u001b[0m\u001b[0;34m)\u001b[0m\u001b[0;34m\u001b[0m\u001b[0m\n\u001b[0;32m-> 2485\u001b[0;31m         \u001b[0mvalue\u001b[0m \u001b[0;34m=\u001b[0m \u001b[0mself\u001b[0m\u001b[0;34m.\u001b[0m\u001b[0m_sanitize_column\u001b[0m\u001b[0;34m(\u001b[0m\u001b[0mkey\u001b[0m\u001b[0;34m,\u001b[0m \u001b[0mvalue\u001b[0m\u001b[0;34m)\u001b[0m\u001b[0;34m\u001b[0m\u001b[0m\n\u001b[0m\u001b[1;32m   2486\u001b[0m         \u001b[0mNDFrame\u001b[0m\u001b[0;34m.\u001b[0m\u001b[0m_set_item\u001b[0m\u001b[0;34m(\u001b[0m\u001b[0mself\u001b[0m\u001b[0;34m,\u001b[0m \u001b[0mkey\u001b[0m\u001b[0;34m,\u001b[0m \u001b[0mvalue\u001b[0m\u001b[0;34m)\u001b[0m\u001b[0;34m\u001b[0m\u001b[0m\n\u001b[1;32m   2487\u001b[0m \u001b[0;34m\u001b[0m\u001b[0m\n",
      "\u001b[0;32m/Users/sonalichaudhari/anaconda/lib/python3.5/site-packages/pandas/core/frame.py\u001b[0m in \u001b[0;36m_sanitize_column\u001b[0;34m(self, key, value, broadcast)\u001b[0m\n\u001b[1;32m   2654\u001b[0m \u001b[0;34m\u001b[0m\u001b[0m\n\u001b[1;32m   2655\u001b[0m             \u001b[0;31m# turn me into an ndarray\u001b[0m\u001b[0;34m\u001b[0m\u001b[0;34m\u001b[0m\u001b[0m\n\u001b[0;32m-> 2656\u001b[0;31m             \u001b[0mvalue\u001b[0m \u001b[0;34m=\u001b[0m \u001b[0m_sanitize_index\u001b[0m\u001b[0;34m(\u001b[0m\u001b[0mvalue\u001b[0m\u001b[0;34m,\u001b[0m \u001b[0mself\u001b[0m\u001b[0;34m.\u001b[0m\u001b[0mindex\u001b[0m\u001b[0;34m,\u001b[0m \u001b[0mcopy\u001b[0m\u001b[0;34m=\u001b[0m\u001b[0;32mFalse\u001b[0m\u001b[0;34m)\u001b[0m\u001b[0;34m\u001b[0m\u001b[0m\n\u001b[0m\u001b[1;32m   2657\u001b[0m             \u001b[0;32mif\u001b[0m \u001b[0;32mnot\u001b[0m \u001b[0misinstance\u001b[0m\u001b[0;34m(\u001b[0m\u001b[0mvalue\u001b[0m\u001b[0;34m,\u001b[0m \u001b[0;34m(\u001b[0m\u001b[0mnp\u001b[0m\u001b[0;34m.\u001b[0m\u001b[0mndarray\u001b[0m\u001b[0;34m,\u001b[0m \u001b[0mIndex\u001b[0m\u001b[0;34m)\u001b[0m\u001b[0;34m)\u001b[0m\u001b[0;34m:\u001b[0m\u001b[0;34m\u001b[0m\u001b[0m\n\u001b[1;32m   2658\u001b[0m                 \u001b[0;32mif\u001b[0m \u001b[0misinstance\u001b[0m\u001b[0;34m(\u001b[0m\u001b[0mvalue\u001b[0m\u001b[0;34m,\u001b[0m \u001b[0mlist\u001b[0m\u001b[0;34m)\u001b[0m \u001b[0;32mand\u001b[0m \u001b[0mlen\u001b[0m\u001b[0;34m(\u001b[0m\u001b[0mvalue\u001b[0m\u001b[0;34m)\u001b[0m \u001b[0;34m>\u001b[0m \u001b[0;36m0\u001b[0m\u001b[0;34m:\u001b[0m\u001b[0;34m\u001b[0m\u001b[0m\n",
      "\u001b[0;32m/Users/sonalichaudhari/anaconda/lib/python3.5/site-packages/pandas/core/series.py\u001b[0m in \u001b[0;36m_sanitize_index\u001b[0;34m(data, index, copy)\u001b[0m\n\u001b[1;32m   2798\u001b[0m \u001b[0;34m\u001b[0m\u001b[0m\n\u001b[1;32m   2799\u001b[0m     \u001b[0;32mif\u001b[0m \u001b[0mlen\u001b[0m\u001b[0;34m(\u001b[0m\u001b[0mdata\u001b[0m\u001b[0;34m)\u001b[0m \u001b[0;34m!=\u001b[0m \u001b[0mlen\u001b[0m\u001b[0;34m(\u001b[0m\u001b[0mindex\u001b[0m\u001b[0;34m)\u001b[0m\u001b[0;34m:\u001b[0m\u001b[0;34m\u001b[0m\u001b[0m\n\u001b[0;32m-> 2800\u001b[0;31m         \u001b[0;32mraise\u001b[0m \u001b[0mValueError\u001b[0m\u001b[0;34m(\u001b[0m\u001b[0;34m'Length of values does not match length of '\u001b[0m \u001b[0;34m'index'\u001b[0m\u001b[0;34m)\u001b[0m\u001b[0;34m\u001b[0m\u001b[0m\n\u001b[0m\u001b[1;32m   2801\u001b[0m \u001b[0;34m\u001b[0m\u001b[0m\n\u001b[1;32m   2802\u001b[0m     \u001b[0;32mif\u001b[0m \u001b[0misinstance\u001b[0m\u001b[0;34m(\u001b[0m\u001b[0mdata\u001b[0m\u001b[0;34m,\u001b[0m \u001b[0mPeriodIndex\u001b[0m\u001b[0;34m)\u001b[0m\u001b[0;34m:\u001b[0m\u001b[0;34m\u001b[0m\u001b[0m\n",
      "\u001b[0;31mValueError\u001b[0m: Length of values does not match length of index"
     ]
    }
   ],
   "source": [
    "k_cluster = joblib.load(open('/Users/sonalichaudhari/Desktop/ADS_A_2/Part 2/Clustering/kmeanCluster.pkl', 'rb'))\n",
    "#Create new column in load_df for the k-means clustering \n",
    "k_mean_feature_df = feature_df\n",
    "k_mean_feature_df['kMean'] = k_cluster.labels_"
   ]
  },
  {
   "cell_type": "code",
   "execution_count": 40,
   "metadata": {
    "collapsed": false
   },
   "outputs": [
    {
     "ename": "NameError",
     "evalue": "name 'k_mean_feature_df' is not defined",
     "output_type": "error",
     "traceback": [
      "\u001b[0;31m---------------------------------------------------------------------------\u001b[0m",
      "\u001b[0;31mNameError\u001b[0m                                 Traceback (most recent call last)",
      "\u001b[0;32m<ipython-input-40-c0509d90e8ce>\u001b[0m in \u001b[0;36m<module>\u001b[0;34m()\u001b[0m\n\u001b[0;32m----> 1\u001b[0;31m \u001b[0mkmean_0\u001b[0m \u001b[0;34m=\u001b[0m \u001b[0mk_mean_feature_df\u001b[0m\u001b[0;34m[\u001b[0m\u001b[0mk_mean_feature_df\u001b[0m\u001b[0;34m[\u001b[0m\u001b[0;34m'kMean'\u001b[0m\u001b[0;34m]\u001b[0m\u001b[0;34m==\u001b[0m\u001b[0;36m0\u001b[0m\u001b[0;34m]\u001b[0m\u001b[0;34m\u001b[0m\u001b[0m\n\u001b[0m\u001b[1;32m      2\u001b[0m \u001b[0mkmean_0\u001b[0m\u001b[0;34m.\u001b[0m\u001b[0mdrop\u001b[0m\u001b[0;34m(\u001b[0m\u001b[0;34m'kMean'\u001b[0m\u001b[0;34m,\u001b[0m \u001b[0maxis\u001b[0m\u001b[0;34m=\u001b[0m\u001b[0;36m1\u001b[0m\u001b[0;34m,\u001b[0m \u001b[0minplace\u001b[0m\u001b[0;34m=\u001b[0m\u001b[0;32mTrue\u001b[0m\u001b[0;34m)\u001b[0m\u001b[0;34m\u001b[0m\u001b[0m\n\u001b[1;32m      3\u001b[0m \u001b[0mkmean_1\u001b[0m \u001b[0;34m=\u001b[0m \u001b[0mk_mean_feature_df\u001b[0m\u001b[0;34m[\u001b[0m\u001b[0mk_mean_feature_df\u001b[0m\u001b[0;34m[\u001b[0m\u001b[0;34m'kMean'\u001b[0m\u001b[0;34m]\u001b[0m\u001b[0;34m==\u001b[0m\u001b[0;36m1\u001b[0m\u001b[0;34m]\u001b[0m\u001b[0;34m\u001b[0m\u001b[0m\n\u001b[1;32m      4\u001b[0m \u001b[0mkmean_1\u001b[0m\u001b[0;34m.\u001b[0m\u001b[0mdrop\u001b[0m\u001b[0;34m(\u001b[0m\u001b[0;34m'kMean'\u001b[0m\u001b[0;34m,\u001b[0m \u001b[0maxis\u001b[0m\u001b[0;34m=\u001b[0m\u001b[0;36m1\u001b[0m\u001b[0;34m,\u001b[0m \u001b[0minplace\u001b[0m\u001b[0;34m=\u001b[0m\u001b[0;32mTrue\u001b[0m\u001b[0;34m)\u001b[0m\u001b[0;34m\u001b[0m\u001b[0m\n\u001b[1;32m      5\u001b[0m \u001b[0mkmean_2\u001b[0m \u001b[0;34m=\u001b[0m \u001b[0mk_mean_feature_df\u001b[0m\u001b[0;34m[\u001b[0m\u001b[0mk_mean_feature_df\u001b[0m\u001b[0;34m[\u001b[0m\u001b[0;34m'kMean'\u001b[0m\u001b[0;34m]\u001b[0m\u001b[0;34m==\u001b[0m\u001b[0;36m2\u001b[0m\u001b[0;34m]\u001b[0m\u001b[0;34m\u001b[0m\u001b[0m\n",
      "\u001b[0;31mNameError\u001b[0m: name 'k_mean_feature_df' is not defined"
     ]
    }
   ],
   "source": [
    "kmean_0 = k_mean_feature_df[k_mean_feature_df['kMean']==0]\n",
    "kmean_0.drop('kMean', axis=1, inplace=True)\n",
    "kmean_1 = k_mean_feature_df[k_mean_feature_df['kMean']==1]\n",
    "kmean_1.drop('kMean', axis=1, inplace=True)\n",
    "kmean_2 = k_mean_feature_df[k_mean_feature_df['kMean']==2]\n",
    "kmean_2.drop('kMean', axis=1, inplace=True)\n",
    "kmean_3 = k_mean_feature_df[k_mean_feature_df['kMean']==3]\n",
    "kmean_3.drop('kMean', axis=1, inplace=True)\n",
    "kmean_4 = k_mean_feature_df[k_mean_feature_df['kMean']==4]\n",
    "kmean_4.drop('kMean', axis=1, inplace=True)\n",
    "kmean_5 = k_mean_feature_df[k_mean_feature_df['kMean']==5]\n",
    "kmean_5.drop('kMean', axis=1, inplace=True)\n",
    "kmean_6 = k_mean_feature_df[k_mean_feature_df['kMean']==6]\n",
    "kmean_6.drop('kMean', axis=1, inplace=True)\n",
    "kmean_7 = k_mean_feature_df[k_mean_feature_df['kMean']==7]\n",
    "kmean_7.drop('kMean', axis=1, inplace=True)\n"
   ]
  },
  {
   "cell_type": "markdown",
   "metadata": {},
   "source": [
    "#### K-means0"
   ]
  },
  {
   "cell_type": "code",
   "execution_count": 32,
   "metadata": {
    "collapsed": false
   },
   "outputs": [
    {
     "ename": "NameError",
     "evalue": "name 'kmean_0' is not defined",
     "output_type": "error",
     "traceback": [
      "\u001b[0;31m---------------------------------------------------------------------------\u001b[0m",
      "\u001b[0;31mNameError\u001b[0m                                 Traceback (most recent call last)",
      "\u001b[0;32m<ipython-input-32-7315755298d7>\u001b[0m in \u001b[0;36m<module>\u001b[0;34m()\u001b[0m\n\u001b[1;32m      1\u001b[0m \u001b[0;31m#K-mean_0\u001b[0m\u001b[0;34m\u001b[0m\u001b[0;34m\u001b[0m\u001b[0m\n\u001b[0;32m----> 2\u001b[0;31m X_train, X_test, y_train, y_test = train_test_split(kmean_0.ix[:, kmean_0.columns != 'int_rate'], \n\u001b[0m\u001b[1;32m      3\u001b[0m                                             \u001b[0mkmean_0\u001b[0m\u001b[0;34m[\u001b[0m\u001b[0;34m'int_rate'\u001b[0m\u001b[0;34m]\u001b[0m\u001b[0;34m,\u001b[0m\u001b[0;34m\u001b[0m\u001b[0m\n\u001b[1;32m      4\u001b[0m                                             test_size=0.30)\n\u001b[1;32m      5\u001b[0m \u001b[0mclf\u001b[0m \u001b[0;34m=\u001b[0m \u001b[0mneighbors\u001b[0m\u001b[0;34m.\u001b[0m\u001b[0mKNeighborsRegressor\u001b[0m\u001b[0;34m(\u001b[0m\u001b[0;34m)\u001b[0m\u001b[0;34m\u001b[0m\u001b[0m\n",
      "\u001b[0;31mNameError\u001b[0m: name 'kmean_0' is not defined"
     ]
    }
   ],
   "source": [
    "#K-mean_0\n",
    "X_train, X_test, y_train, y_test = train_test_split(kmean_0.ix[:, kmean_0.columns != 'int_rate'], \n",
    "                                            kmean_0['int_rate'], \n",
    "                                            test_size=0.30)\n",
    "clf = neighbors.KNeighborsRegressor()\n",
    "clf.fit(X_train, y_train)"
   ]
  },
  {
   "cell_type": "code",
   "execution_count": null,
   "metadata": {
    "collapsed": true
   },
   "outputs": [],
   "source": [
    "# Accuracy of the model created\n",
    "accuracy = clf.score(X_train, y_train)\n",
    "print(accuracy)\n",
    "\n",
    "y_test_predicted = clf.predict(X_test)\n",
    "y_train_predicted= clf.predict(X_train)    \n",
    "\n",
    "#finished square footage of the property, square footage of lot, tax amounts, number of bedrooms, and number of units\n",
    "#MAE, RMS, MAPE\n",
    "rms = sqrt(mean_squared_error(y_train, y_train_predicted))    \n",
    "mae_train = mean_absolute_error(y_train, y_train_predicted) \n",
    "mape_train = np.mean(np.abs((y_train - y_train_predicted) / y_train)) * 100\n",
    "print(\"-----Train-----\")\n",
    "print('RMS: ',rms)\n",
    "print('MAE: ',mae_train)\n",
    "print('MAPE: ',mape_train)\n",
    "#finished square footage of the property, square footage of lot, tax amounts, number of bedrooms, and number of units\n",
    "#MAE, RMS, MAPE\n",
    "rms = sqrt(mean_squared_error(y_test, y_test_predicted))    \n",
    "mae_test = mean_absolute_error(y_test, y_test_predicted)\n",
    "mape_test = np.mean(np.abs((y_test - y_test_predicted) / y_test)) * 100\n",
    "print(\"-----Test-----\")\n",
    "print('RMS: ',rms)\n",
    "print('MAE: ',mae_test)\n",
    "print('MAPE: ',mape_test)"
   ]
  },
  {
   "cell_type": "markdown",
   "metadata": {},
   "source": [
    "#### K-means1"
   ]
  },
  {
   "cell_type": "code",
   "execution_count": null,
   "metadata": {
    "collapsed": false
   },
   "outputs": [],
   "source": [
    "#K-mean_1\n",
    "X_train, X_test, y_train, y_test = train_test_split(kmean_1.ix[:, kmean_1.columns != 'int_rate'], \n",
    "                                            kmean_1['int_rate'], \n",
    "                                            test_size=0.30)\n",
    "clf = neighbors.KNeighborsRegressor()\n",
    "clf.fit(X_train, y_train)# Accuracy of the model created"
   ]
  },
  {
   "cell_type": "code",
   "execution_count": null,
   "metadata": {
    "collapsed": true
   },
   "outputs": [],
   "source": [
    "# Accuracy of the model created\n",
    "accuracy = clf.score(X_train, y_train)\n",
    "print(accuracy)\n",
    "\n",
    "y_test_predicted = clf.predict(X_test)\n",
    "y_train_predicted= clf.predict(X_train)    \n",
    "\n",
    "#finished square footage of the property, square footage of lot, tax amounts, number of bedrooms, and number of units\n",
    "#MAE, RMS, MAPE\n",
    "rms = sqrt(mean_squared_error(y_train, y_train_predicted))    \n",
    "mae_train = mean_absolute_error(y_train, y_train_predicted) \n",
    "mape_train = np.mean(np.abs((y_train - y_train_predicted) / y_train)) * 100\n",
    "print(\"-----Train-----\")\n",
    "print('RMS: ',rms)\n",
    "print('MAE: ',mae_train)\n",
    "print('MAPE: ',mape_train)\n",
    "#finished square footage of the property, square footage of lot, tax amounts, number of bedrooms, and number of units\n",
    "#MAE, RMS, MAPE\n",
    "rms = sqrt(mean_squared_error(y_test, y_test_predicted))    \n",
    "mae_test = mean_absolute_error(y_test, y_test_predicted)\n",
    "mape_test = np.mean(np.abs((y_test - y_test_predicted) / y_test)) * 100\n",
    "print(\"-----Test-----\")\n",
    "print('RMS: ',rms)\n",
    "print('MAE: ',mae_test)\n",
    "print('MAPE: ',mape_test)"
   ]
  },
  {
   "cell_type": "markdown",
   "metadata": {},
   "source": [
    "#### K-means2"
   ]
  },
  {
   "cell_type": "code",
   "execution_count": null,
   "metadata": {
    "collapsed": false
   },
   "outputs": [],
   "source": [
    "#K-mean_2\n",
    "X_train, X_test, y_train, y_test = train_test_split(kmean_2.ix[:, kmean_2.columns != 'int_rate'], \n",
    "                                            kmean_2['int_rate'], \n",
    "                                            test_size=0.30)\n",
    "clf = neighbors.KNeighborsRegressor()\n",
    "clf.fit(X_train, y_train)print('MAPE: ',mape_test)"
   ]
  },
  {
   "cell_type": "code",
   "execution_count": null,
   "metadata": {
    "collapsed": true
   },
   "outputs": [],
   "source": [
    "# Accuracy of the model created\n",
    "accuracy = clf.score(X_train, y_train)\n",
    "print(accuracy)\n",
    "\n",
    "y_test_predicted = clf.predict(X_test)\n",
    "y_train_predicted= clf.predict(X_train)    \n",
    "\n",
    "#finished square footage of the property, square footage of lot, tax amounts, number of bedrooms, and number of units\n",
    "#MAE, RMS, MAPE\n",
    "rms = sqrt(mean_squared_error(y_train, y_train_predicted))    \n",
    "mae_train = mean_absolute_error(y_train, y_train_predicted) \n",
    "mape_train = np.mean(np.abs((y_train - y_train_predicted) / y_train)) * 100\n",
    "print(\"-----Train-----\")\n",
    "print('RMS: ',rms)\n",
    "print('MAE: ',mae_train)\n",
    "print('MAPE: ',mape_train)\n",
    "#finished square footage of the property, square footage of lot, tax amounts, number of bedrooms, and number of units\n",
    "#MAE, RMS, MAPE\n",
    "rms = sqrt(mean_squared_error(y_test, y_test_predicted))    \n",
    "mae_test = mean_absolute_error(y_test, y_test_predicted)\n",
    "mape_test = np.mean(np.abs((y_test - y_test_predicted) / y_test)) * 100\n",
    "print(\"-----Test-----\")\n",
    "print('RMS: ',rms)\n",
    "print('MAE: ',mae_test)\n",
    "print('MAPE: ',mape_test)"
   ]
  },
  {
   "cell_type": "code",
   "execution_count": null,
   "metadata": {
    "collapsed": true
   },
   "outputs": [],
   "source": []
  },
  {
   "cell_type": "markdown",
   "metadata": {},
   "source": [
    "#### K-means3"
   ]
  },
  {
   "cell_type": "code",
   "execution_count": null,
   "metadata": {
    "collapsed": false
   },
   "outputs": [],
   "source": [
    "#K-mean_3\n",
    "X_train, X_test, y_train, y_test = train_test_split(kmean_3.ix[:, kmean_3.columns != 'int_rate'], \n",
    "                                            kmean_3['int_rate'], \n",
    "                                            test_size=0.30)\n",
    "clf = neighbors.KNeighborsRegressor()\n",
    "clf.fit(X_train, y_train)"
   ]
  },
  {
   "cell_type": "code",
   "execution_count": null,
   "metadata": {
    "collapsed": true
   },
   "outputs": [],
   "source": [
    "# Accuracy of the model created\n",
    "accuracy = clf.score(X_train, y_train)\n",
    "print(accuracy)\n",
    "\n",
    "y_test_predicted = clf.predict(X_test)\n",
    "y_train_predicted= clf.predict(X_train)    \n",
    "\n",
    "#finished square footage of the property, square footage of lot, tax amounts, number of bedrooms, and number of units\n",
    "#MAE, RMS, MAPE\n",
    "rms = sqrt(mean_squared_error(y_train, y_train_predicted))    \n",
    "mae_train = mean_absolute_error(y_train, y_train_predicted) \n",
    "mape_train = np.mean(np.abs((y_train - y_train_predicted) / y_train)) * 100\n",
    "print(\"-----Train-----\")\n",
    "print('RMS: ',rms)\n",
    "print('MAE: ',mae_train)\n",
    "print('MAPE: ',mape_train)\n",
    "#finished square footage of the property, square footage of lot, tax amounts, number of bedrooms, and number of units\n",
    "#MAE, RMS, MAPE\n",
    "rms = sqrt(mean_squared_error(y_test, y_test_predicted))    \n",
    "mae_test = mean_absolute_error(y_test, y_test_predicted)\n",
    "mape_test = np.mean(np.abs((y_test - y_test_predicted) / y_test)) * 100\n",
    "print(\"-----Test-----\")\n",
    "print('RMS: ',rms)\n",
    "print('MAE: ',mae_test)\n",
    "print('MAPE: ',mape_test)"
   ]
  },
  {
   "cell_type": "markdown",
   "metadata": {},
   "source": [
    "#### K-means4"
   ]
  },
  {
   "cell_type": "code",
   "execution_count": null,
   "metadata": {
    "collapsed": false
   },
   "outputs": [],
   "source": [
    "#K-mean_4\n",
    "X_train, X_test, y_train, y_test = train_test_split(kmean_4.ix[:, kmean_4.columns != 'int_rate'], \n",
    "                                            kmean_4['int_rate'], \n",
    "                                            test_size=0.30)\n",
    "clf = neighbors.KNeighborsRegressor()\n",
    "clf.fit(X_train, y_train)"
   ]
  },
  {
   "cell_type": "code",
   "execution_count": null,
   "metadata": {
    "collapsed": true
   },
   "outputs": [],
   "source": [
    "# Accuracy of the model created\n",
    "accuracy = clf.score(X_train, y_train)\n",
    "print(accuracy)\n",
    "\n",
    "y_test_predicted = clf.predict(X_test)\n",
    "y_train_predicted= clf.predict(X_train)    \n",
    "\n",
    "#finished square footage of the property, square footage of lot, tax amounts, number of bedrooms, and number of units\n",
    "#MAE, RMS, MAPE\n",
    "rms = sqrt(mean_squared_error(y_train, y_train_predicted))    \n",
    "mae_train = mean_absolute_error(y_train, y_train_predicted) \n",
    "mape_train = np.mean(np.abs((y_train - y_train_predicted) / y_train)) * 100\n",
    "print(\"-----Train-----\")\n",
    "print('RMS: ',rms)\n",
    "print('MAE: ',mae_train)\n",
    "print('MAPE: ',mape_train)\n",
    "#finished square footage of the property, square footage of lot, tax amounts, number of bedrooms, and number of units\n",
    "#MAE, RMS, MAPE\n",
    "rms = sqrt(mean_squared_error(y_test, y_test_predicted))    \n",
    "mae_test = mean_absolute_error(y_test, y_test_predicted)\n",
    "mape_test = np.mean(np.abs((y_test - y_test_predicted) / y_test)) * 100\n",
    "print(\"-----Test-----\")\n",
    "print('RMS: ',rms)\n",
    "print('MAE: ',mae_test)\n",
    "print('MAPE: ',mape_test)"
   ]
  },
  {
   "cell_type": "markdown",
   "metadata": {},
   "source": [
    "#### K-means5"
   ]
  },
  {
   "cell_type": "code",
   "execution_count": null,
   "metadata": {
    "collapsed": false
   },
   "outputs": [],
   "source": [
    "#K-mean_5\n",
    "X_train, X_test, y_train, y_test = train_test_split(kmean_5.ix[:, kmean_5.columns != 'int_rate'], \n",
    "                                            kmean_5['int_rate'], \n",
    "                                            test_size=0.30)\n",
    "clf = neighbors.KNeighborsRegressor()\n",
    "clf.fit(X_train, y_train)"
   ]
  },
  {
   "cell_type": "code",
   "execution_count": null,
   "metadata": {
    "collapsed": true
   },
   "outputs": [],
   "source": [
    "# Accuracy of the model created\n",
    "accuracy = clf.score(X_train, y_train)\n",
    "print(accuracy)\n",
    "\n",
    "y_test_predicted = clf.predict(X_test)\n",
    "y_train_predicted= clf.predict(X_train)    \n",
    "\n",
    "#finished square footage of the property, square footage of lot, tax amounts, number of bedrooms, and number of units\n",
    "#MAE, RMS, MAPE\n",
    "rms = sqrt(mean_squared_error(y_train, y_train_predicted))    \n",
    "mae_train = mean_absolute_error(y_train, y_train_predicted) \n",
    "mape_train = np.mean(np.abs((y_train - y_train_predicted) / y_train)) * 100\n",
    "print(\"-----Train-----\")\n",
    "print('RMS: ',rms)\n",
    "print('MAE: ',mae_train)\n",
    "print('MAPE: ',mape_train)\n",
    "#finished square footage of the property, square footage of lot, tax amounts, number of bedrooms, and number of units\n",
    "#MAE, RMS, MAPE\n",
    "rms = sqrt(mean_squared_error(y_test, y_test_predicted))    \n",
    "mae_test = mean_absolute_error(y_test, y_test_predicted)\n",
    "mape_test = np.mean(np.abs((y_test - y_test_predicted) / y_test)) * 100\n",
    "print(\"-----Test-----\")\n",
    "print('RMS: ',rms)\n",
    "print('MAE: ',mae_test)\n",
    "print('MAPE: ',mape_test)"
   ]
  },
  {
   "cell_type": "markdown",
   "metadata": {},
   "source": [
    "#### K-mean_6"
   ]
  },
  {
   "cell_type": "code",
   "execution_count": null,
   "metadata": {
    "collapsed": false
   },
   "outputs": [],
   "source": [
    "#K-mean_6\n",
    "X_train, X_test, y_train, y_test = train_test_split(kmean_6.ix[:, kmean_6.columns != 'int_rate'], \n",
    "                                            kmean_6['int_rate'], \n",
    "                                            test_size=0.30)\n",
    "clf = neighbors.KNeighborsRegressor()\n",
    "clf.fit(X_train, y_train)"
   ]
  },
  {
   "cell_type": "code",
   "execution_count": null,
   "metadata": {
    "collapsed": true
   },
   "outputs": [],
   "source": [
    "# Accuracy of the model created\n",
    "accuracy = clf.score(X_train, y_train)\n",
    "print(accuracy)\n",
    "\n",
    "y_test_predicted = clf.predict(X_test)\n",
    "y_train_predicted= clf.predict(X_train)    \n",
    "\n",
    "#finished square footage of the property, square footage of lot, tax amounts, number of bedrooms, and number of units\n",
    "#MAE, RMS, MAPE\n",
    "rms = sqrt(mean_squared_error(y_train, y_train_predicted))    \n",
    "mae_train = mean_absolute_error(y_train, y_train_predicted) \n",
    "mape_train = np.mean(np.abs((y_train - y_train_predicted) / y_train)) * 100\n",
    "print(\"-----Train-----\")\n",
    "print('RMS: ',rms)\n",
    "print('MAE: ',mae_train)\n",
    "print('MAPE: ',mape_train)\n",
    "#finished square footage of the property, square footage of lot, tax amounts, number of bedrooms, and number of units\n",
    "#MAE, RMS, MAPE\n",
    "rms = sqrt(mean_squared_error(y_test, y_test_predicted))    \n",
    "mae_test = mean_absolute_error(y_test, y_test_predicted)\n",
    "mape_test = np.mean(np.abs((y_test - y_test_predicted) / y_test)) * 100\n",
    "print(\"-----Test-----\")\n",
    "print('RMS: ',rms)\n",
    "print('MAE: ',mae_test)\n",
    "print('MAPE: ',mape_test)"
   ]
  },
  {
   "cell_type": "markdown",
   "metadata": {},
   "source": [
    "#### K-means7"
   ]
  },
  {
   "cell_type": "code",
   "execution_count": 78,
   "metadata": {
    "collapsed": false
   },
   "outputs": [
    {
     "name": "stderr",
     "output_type": "stream",
     "text": [
      "C:\\Users\\madhu\\Anaconda3\\lib\\site-packages\\ipykernel_launcher.py:2: DeprecationWarning: \n",
      ".ix is deprecated. Please use\n",
      ".loc for label based indexing or\n",
      ".iloc for positional indexing\n",
      "\n",
      "See the documentation here:\n",
      "http://pandas.pydata.org/pandas-docs/stable/indexing.html#deprecate_ix\n",
      "  \n"
     ]
    },
    {
     "name": "stdout",
     "output_type": "stream",
     "text": [
      "Train\n",
      "4.303993667625199\n",
      "3.27449945154\n",
      "22.12354231231697\n",
      "Test\n",
      "4.328852277974883\n",
      "3.3188296155\n",
      "22.12354231231697\n"
     ]
    }
   ],
   "source": [
    "#K-mean_7\n",
    "X_train, X_test, y_train, y_test = train_test_split(kmean_7.ix[:, kmean_7.columns != 'int_rate'], \n",
    "                                            kmean_7['int_rate'], \n",
    "                                            test_size=0.30)\n",
    "clf = neighbors.KNeighborsRegressor()\n",
    "clf.fit(X_train, y_train)"
   ]
  },
  {
   "cell_type": "code",
   "execution_count": null,
   "metadata": {
    "collapsed": true
   },
   "outputs": [],
   "source": [
    "# Accuracy of the model created\n",
    "accuracy = clf.score(X_train, y_train)\n",
    "print(accuracy)\n",
    "\n",
    "y_test_predicted = clf.predict(X_test)\n",
    "y_train_predicted= clf.predict(X_train)    \n",
    "\n",
    "#finished square footage of the property, square footage of lot, tax amounts, number of bedrooms, and number of units\n",
    "#MAE, RMS, MAPE\n",
    "rms = sqrt(mean_squared_error(y_train, y_train_predicted))    \n",
    "mae_train = mean_absolute_error(y_train, y_train_predicted) \n",
    "mape_train = np.mean(np.abs((y_train - y_train_predicted) / y_train)) * 100\n",
    "print(\"-----Train-----\")\n",
    "print('RMS: ',rms)\n",
    "print('MAE: ',mae_train)\n",
    "print('MAPE: ',mape_train)\n",
    "#finished square footage of the property, square footage of lot, tax amounts, number of bedrooms, and number of units\n",
    "#MAE, RMS, MAPE\n",
    "rms = sqrt(mean_squared_error(y_test, y_test_predicted))    \n",
    "mae_test = mean_absolute_error(y_test, y_test_predicted)\n",
    "mape_test = np.mean(np.abs((y_test - y_test_predicted) / y_test)) * 100\n",
    "print(\"-----Test-----\")\n",
    "print('RMS: ',rms)\n",
    "print('MAE: ',mae_test)\n",
    "print('MAPE: ',mape_test)"
   ]
  }
 ],
 "metadata": {
  "anaconda-cloud": {},
  "kernelspec": {
   "display_name": "Python [default]",
   "language": "python",
   "name": "python3"
  },
  "language_info": {
   "codemirror_mode": {
    "name": "ipython",
    "version": 3
   },
   "file_extension": ".py",
   "mimetype": "text/x-python",
   "name": "python",
   "nbconvert_exporter": "python",
   "pygments_lexer": "ipython3",
   "version": "3.5.2"
  }
 },
 "nbformat": 4,
 "nbformat_minor": 2
}
