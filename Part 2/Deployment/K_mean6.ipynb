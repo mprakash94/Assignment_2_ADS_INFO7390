{
 "cells": [
  {
   "cell_type": "code",
   "execution_count": null,
   "metadata": {
    "collapsed": true
   },
   "outputs": [],
   "source": []
  },
  {
   "cell_type": "code",
   "execution_count": 1,
   "metadata": {},
   "outputs": [
    {
     "name": "stdout",
     "output_type": "stream",
     "text": [
      "b'{\"Results\":{\"output1\":[{\"debt_settlement_flag\":null,\"application_type\":null,\"fico_range_low\":\"1\",\"fico_range_high\":\"1\",\"emp_length\":\"1\",\"dti\":\"1\",\"annual_inc\":\"1\",\"grade\":null,\"sub_grade\":null,\"loan_amnt\":\"1\",\"issue_d\":null,\"purpose\":null,\"State\":null,\"home_ownership\":null,\"zip_code\":\"1\",\"policy_code\":\"1\",\"term\":\"1\",\"Year\":\"1\",\"Month\":\"1\",\"fico\":\"1\",\"approval\":\"1\",\"Scored Label Mean\":\"16.4895\",\"Scored Label Standard Deviation\":\"4.85738481895031\"}]}}'\n"
     ]
    }
   ],
   "source": [
    "import urllib.request\n",
    "import json\n",
    "\n",
    "data = {\n",
    "        \"Inputs\": {\n",
    "                \"input1\":\n",
    "                [\n",
    "                    {\n",
    "                            'debt_settlement_flag': \"\",   \n",
    "                            'application_type': \"\",   \n",
    "                            'fico_range_low': \"1\",   \n",
    "                            'fico_range_high': \"1\",   \n",
    "                            'emp_length': \"1\",   \n",
    "                            'dti': \"1\",   \n",
    "                            'annual_inc': \"1\",   \n",
    "                            'grade': \"\",   \n",
    "                            'sub_grade': \"\",   \n",
    "                            'loan_amnt': \"1\",   \n",
    "                            'issue_d': \"\",   \n",
    "                            'purpose': \"\",   \n",
    "                            'State': \"\",   \n",
    "                            'home_ownership': \"\",   \n",
    "                            'zip_code': \"1\",   \n",
    "                            'policy_code': \"1\",   \n",
    "                            'term': \"1\",   \n",
    "                            'Year': \"1\",   \n",
    "                            'Month': \"1\",   \n",
    "                            'fico': \"1\",   \n",
    "                            'approval': \"1\",   \n",
    "                    }\n",
    "                ],\n",
    "        },\n",
    "    \"GlobalParameters\":  {\n",
    "    }\n",
    "}\n",
    "\n",
    "body = str.encode(json.dumps(data))\n",
    "\n",
    "url = 'https://ussouthcentral.services.azureml.net/workspaces/c2f8dc5126ac4024b08690eda8426a56/services/7af179175b814fe9b7273bd617f048d0/execute?api-version=2.0&format=swagger'\n",
    "api_key = 'BH4uIujO3TN0RIXd7JDO7iaq1r4NUN5R8dtRQbsQuXgR2vKtj9u64zrAkXb5Nktxq9B4LI4uZnrLjQOPCBfIdg==' # Replace this with the API key for the web service\n",
    "headers = {'Content-Type':'application/json', 'Authorization':('Bearer '+ api_key)}\n",
    "\n",
    "req = urllib.request.Request(url, body, headers)\n",
    "\n",
    "try:\n",
    "    response = urllib.request.urlopen(req)\n",
    "\n",
    "    result = response.read()\n",
    "    print(result)\n",
    "except urllib.error.HTTPError as error:\n",
    "    print(\"The request failed with status code: \" + str(error.code))\n",
    "\n",
    "    # Print the headers - they include the requert ID and the timestamp, which are useful for debugging the failure\n",
    "    print(error.info())\n",
    "    print(json.loads(error.read().decode(\"utf8\", 'ignore')))"
   ]
  },
  {
   "cell_type": "code",
   "execution_count": null,
   "metadata": {
    "collapsed": true
   },
   "outputs": [],
   "source": []
  }
 ],
 "metadata": {
  "kernelspec": {
   "display_name": "Python 3",
   "language": "python",
   "name": "python3"
  },
  "language_info": {
   "codemirror_mode": {
    "name": "ipython",
    "version": 3
   },
   "file_extension": ".py",
   "mimetype": "text/x-python",
   "name": "python",
   "nbconvert_exporter": "python",
   "pygments_lexer": "ipython3",
   "version": "3.6.1"
  }
 },
 "nbformat": 4,
 "nbformat_minor": 2
}
