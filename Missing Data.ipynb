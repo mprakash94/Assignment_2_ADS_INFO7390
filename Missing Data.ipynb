{
 "cells": [
  {
   "cell_type": "markdown",
   "metadata": {
    "collapsed": true
   },
   "source": [
    "# LOAN DETAILS DATA"
   ]
  },
  {
   "cell_type": "markdown",
   "metadata": {},
   "source": [
    "### • Missing data analysis: How will you handle missing data?\n",
    "### • Feature engineering: What variables do you need to predict interest rates? Ensure users would be able to give you that information to help you predict rates\n",
    "### • You need to create one more pipeline to do this for the “Declined Loan data”. Repeat above steps\n",
    "### NOTE: NO HUMAN INTERVERSION SHOULD BE NEEDED AT ALL. YOUR LUIGI/AIRFLOW script SHOULD DO EVERYTHING.\n",
    "### Exploratory Data analysis: (15 points)\n",
    "### • Write a Jupyter notebook using R/Python to graphically represent different summaries of data. Summarize your findings in this notebook.\n",
    "### • Summarize your key insights about different user profiles, states, loan amounts etc."
   ]
  },
  {
   "cell_type": "markdown",
   "metadata": {},
   "source": [
    "### Imports"
   ]
  },
  {
   "cell_type": "code",
   "execution_count": 3,
   "metadata": {
    "collapsed": true
   },
   "outputs": [],
   "source": [
    "import pandas as pd\n",
    "import numpy as np\n",
    "import csv"
   ]
  },
  {
   "cell_type": "markdown",
   "metadata": {},
   "source": [
    "### Reading each CSV in a separate dataframe"
   ]
  },
  {
   "cell_type": "code",
   "execution_count": 4,
   "metadata": {
    "collapsed": false
   },
   "outputs": [],
   "source": [
    "d1 = pd.read_csv('/Users/sonalichaudhari/Desktop/ADS_A_2/loanstatecsvFinal/LoanStats3a.csv', header=1, skipfooter=4, engine='python')\n",
    "d2 = pd.read_csv('/Users/sonalichaudhari/Desktop/ADS_A_2/loanstatecsvFinal/LoanStats3b.csv', header=1, skipfooter=4, engine='python')\n",
    "d3 = pd.read_csv('/Users/sonalichaudhari/Desktop/ADS_A_2/loanstatecsvFinal/LoanStats3c.csv', header=1, skipfooter=4, engine='python')\n",
    "d4 = pd.read_csv('/Users/sonalichaudhari/Desktop/ADS_A_2/loanstatecsvFinal/LoanStats3d.csv', header=1, skipfooter=4, engine='python')\n",
    "d5 = pd.read_csv('/Users/sonalichaudhari/Desktop/ADS_A_2/loanstatecsvFinal/LoanStats_2016Q1.csv', header=1, skipfooter=4, engine='python')\n",
    "d6 = pd.read_csv('/Users/sonalichaudhari/Desktop/ADS_A_2/loanstatecsvFinal/LoanStats_2016Q2.csv', header=1, skipfooter=4, engine='python')\n",
    "d7 = pd.read_csv('/Users/sonalichaudhari/Desktop/ADS_A_2/loanstatecsvFinal/LoanStats_2016Q3.csv', header=1, skipfooter=4, engine='python')\n",
    "d8 = pd.read_csv('/Users/sonalichaudhari/Desktop/ADS_A_2/loanstatecsvFinal/LoanStats_2016Q4.csv', header=1, skipfooter=4, engine='python')\n",
    "d9 = pd.read_csv('/Users/sonalichaudhari/Desktop/ADS_A_2/loanstatecsvFinal/LoanStats_2017Q1.csv', header=1, skipfooter=4, engine='python')\n",
    "d10 = pd.read_csv('/Users/sonalichaudhari/Desktop/ADS_A_2/loanstatecsvFinal/LoanStats_2017Q2.csv', header=1, skipfooter=4, engine='python')\n",
    "d11 = pd.read_csv('/Users/sonalichaudhari/Desktop/ADS_A_2/loanstatecsvFinal/LoanStats_2017Q3.csv', header=1, skipfooter=4, engine='python')"
   ]
  },
  {
   "cell_type": "markdown",
   "metadata": {},
   "source": [
    "### Concatenating all the CSVs in one dataframe"
   ]
  },
  {
   "cell_type": "code",
   "execution_count": 5,
   "metadata": {
    "collapsed": false
   },
   "outputs": [],
   "source": [
    "loan_data = pd.concat([d1, d2, d3, d4, d5, d6, d7, d8, d9, d10])"
   ]
  },
  {
   "cell_type": "markdown",
   "metadata": {},
   "source": [
    "### Finding the missing data percentage and storing columns in features with mores than 70% data"
   ]
  },
  {
   "cell_type": "code",
   "execution_count": 6,
   "metadata": {
    "collapsed": false
   },
   "outputs": [
    {
     "data": {
      "text/plain": [
       "87"
      ]
     },
     "execution_count": 6,
     "metadata": {},
     "output_type": "execute_result"
    }
   ],
   "source": [
    "missing_data = loan_data.isnull().sum().to_frame(name='Missing_Count').reset_index()\n",
    "missing_data['Missing_percent'] = (missing_data['Missing_Count']/loan_data.shape[0])*100\n",
    "missing_data.head()\n",
    "missing_data = missing_data.sort_values(by='Missing_percent', axis=0, ascending=True)\n",
    "features = missing_data['index'][(missing_data.Missing_percent <30)]\n",
    "len(features)"
   ]
  },
  {
   "cell_type": "markdown",
   "metadata": {},
   "source": [
    "### Considering only the relevant features"
   ]
  },
  {
   "cell_type": "code",
   "execution_count": 7,
   "metadata": {
    "collapsed": false
   },
   "outputs": [
    {
     "data": {
      "text/plain": [
       "87"
      ]
     },
     "execution_count": 7,
     "metadata": {},
     "output_type": "execute_result"
    }
   ],
   "source": [
    "loan_df = loan_data[features]\n",
    "len(loan_df.columns)"
   ]
  },
  {
   "cell_type": "code",
   "execution_count": 132,
   "metadata": {
    "collapsed": false
   },
   "outputs": [
    {
     "data": {
      "text/plain": [
       "(1524078, 87)"
      ]
     },
     "execution_count": 132,
     "metadata": {},
     "output_type": "execute_result"
    }
   ],
   "source": [
    "loan_df.shape"
   ]
  },
  {
   "cell_type": "code",
   "execution_count": 15,
   "metadata": {
    "collapsed": false
   },
   "outputs": [
    {
     "data": {
      "text/plain": [
       "mths_since_recent_inq         205440\n",
       "num_tl_120dpd_2m              128983\n",
       "mo_sin_old_il_acct            112783\n",
       "emp_title                      93634\n",
       "pct_tl_nvr_dlq                 70429\n",
       "avg_cur_bal                    70290\n",
       "mo_sin_rcnt_rev_tl_op          70277\n",
       "mo_sin_old_rev_tl_op           70277\n",
       "num_rev_accts                  70277\n",
       "num_op_rev_tl                  70276\n",
       "tot_hi_cred_lim                70276\n",
       "mo_sin_rcnt_tl                 70276\n",
       "num_accts_ever_120_pd          70276\n",
       "num_tl_op_past_12m             70276\n",
       "num_bc_tl                      70276\n",
       "num_il_tl                      70276\n",
       "num_tl_90g_dpd_24m             70276\n",
       "num_rev_tl_bal_gt_0            70276\n",
       "total_il_high_credit_limit     70276\n",
       "num_tl_30dpd                   70276\n",
       "num_actv_bc_tl                 70276\n",
       "num_actv_rev_tl                70276\n",
       "tot_coll_amt                   70276\n",
       "tot_cur_bal                    70276\n",
       "total_rev_hi_lim               70276\n",
       "bc_util                        65539\n",
       "percent_bc_gt_75               65157\n",
       "bc_open_to_buy                 64731\n",
       "mths_since_recent_bc           63809\n",
       "num_sats                       58590\n",
       "                               ...  \n",
       "total_rec_int                      0\n",
       "last_pymnt_amnt                    0\n",
       "collection_recovery_fee            0\n",
       "recoveries                         0\n",
       "total_pymnt                        0\n",
       "addr_state                         0\n",
       "total_rec_prncp                    0\n",
       "total_pymnt_inv                    0\n",
       "purpose                            0\n",
       "out_prncp                          0\n",
       "initial_list_status                0\n",
       "revol_bal                          0\n",
       "total_rec_late_fee                 0\n",
       "int_rate                           0\n",
       "out_prncp_inv                      0\n",
       "funded_amnt_inv                    0\n",
       "pymnt_plan                         0\n",
       "term                               0\n",
       "installment                        0\n",
       "grade                              0\n",
       "sub_grade                          0\n",
       "debt_settlement_flag               0\n",
       "emp_length                         0\n",
       "home_ownership                     0\n",
       "funded_amnt                        0\n",
       "verification_status                0\n",
       "loan_amnt                          0\n",
       "issue_d                            0\n",
       "loan_status                        0\n",
       "hardship_flag                      0\n",
       "dtype: int64"
      ]
     },
     "execution_count": 15,
     "metadata": {},
     "output_type": "execute_result"
    }
   ],
   "source": [
    "loan_df.isnull().sum().sort_values(ascending = False)"
   ]
  },
  {
   "cell_type": "markdown",
   "metadata": {},
   "source": [
    "### Getting rid of a row with maximum missing data"
   ]
  },
  {
   "cell_type": "code",
   "execution_count": 12,
   "metadata": {
    "collapsed": true
   },
   "outputs": [],
   "source": [
    "loan_df = loan_df[loan_df.int_rate.notnull()]"
   ]
  },
  {
   "cell_type": "code",
   "execution_count": 13,
   "metadata": {
    "collapsed": false
   },
   "outputs": [
    {
     "data": {
      "text/plain": [
       "(1524077, 87)"
      ]
     },
     "execution_count": 13,
     "metadata": {},
     "output_type": "execute_result"
    }
   ],
   "source": [
    "loan_df.shape"
   ]
  },
  {
   "cell_type": "code",
   "execution_count": 14,
   "metadata": {
    "collapsed": false
   },
   "outputs": [
    {
     "data": {
      "text/html": [
       "<div>\n",
       "<table border=\"1\" class=\"dataframe\">\n",
       "  <thead>\n",
       "    <tr style=\"text-align: right;\">\n",
       "      <th></th>\n",
       "      <th>hardship_flag</th>\n",
       "      <th>revol_bal</th>\n",
       "      <th>initial_list_status</th>\n",
       "      <th>out_prncp</th>\n",
       "      <th>total_pymnt</th>\n",
       "      <th>total_pymnt_inv</th>\n",
       "      <th>total_rec_prncp</th>\n",
       "      <th>addr_state</th>\n",
       "      <th>total_rec_int</th>\n",
       "      <th>recoveries</th>\n",
       "      <th>...</th>\n",
       "      <th>total_rev_hi_lim</th>\n",
       "      <th>num_rev_accts</th>\n",
       "      <th>mo_sin_old_rev_tl_op</th>\n",
       "      <th>mo_sin_rcnt_rev_tl_op</th>\n",
       "      <th>avg_cur_bal</th>\n",
       "      <th>pct_tl_nvr_dlq</th>\n",
       "      <th>emp_title</th>\n",
       "      <th>mo_sin_old_il_acct</th>\n",
       "      <th>num_tl_120dpd_2m</th>\n",
       "      <th>mths_since_recent_inq</th>\n",
       "    </tr>\n",
       "  </thead>\n",
       "  <tbody>\n",
       "    <tr>\n",
       "      <th>0</th>\n",
       "      <td>N</td>\n",
       "      <td>13648.0</td>\n",
       "      <td>f</td>\n",
       "      <td>0.0</td>\n",
       "      <td>5863.155187</td>\n",
       "      <td>5833.84</td>\n",
       "      <td>5000.00</td>\n",
       "      <td>AZ</td>\n",
       "      <td>863.16</td>\n",
       "      <td>0.0</td>\n",
       "      <td>...</td>\n",
       "      <td>NaN</td>\n",
       "      <td>NaN</td>\n",
       "      <td>NaN</td>\n",
       "      <td>NaN</td>\n",
       "      <td>NaN</td>\n",
       "      <td>NaN</td>\n",
       "      <td>NaN</td>\n",
       "      <td>NaN</td>\n",
       "      <td>NaN</td>\n",
       "      <td>NaN</td>\n",
       "    </tr>\n",
       "    <tr>\n",
       "      <th>1</th>\n",
       "      <td>N</td>\n",
       "      <td>1687.0</td>\n",
       "      <td>f</td>\n",
       "      <td>0.0</td>\n",
       "      <td>1014.530000</td>\n",
       "      <td>1014.53</td>\n",
       "      <td>456.46</td>\n",
       "      <td>GA</td>\n",
       "      <td>435.17</td>\n",
       "      <td>122.9</td>\n",
       "      <td>...</td>\n",
       "      <td>NaN</td>\n",
       "      <td>NaN</td>\n",
       "      <td>NaN</td>\n",
       "      <td>NaN</td>\n",
       "      <td>NaN</td>\n",
       "      <td>NaN</td>\n",
       "      <td>Ryder</td>\n",
       "      <td>NaN</td>\n",
       "      <td>NaN</td>\n",
       "      <td>NaN</td>\n",
       "    </tr>\n",
       "    <tr>\n",
       "      <th>2</th>\n",
       "      <td>N</td>\n",
       "      <td>2956.0</td>\n",
       "      <td>f</td>\n",
       "      <td>0.0</td>\n",
       "      <td>3005.666844</td>\n",
       "      <td>3005.67</td>\n",
       "      <td>2400.00</td>\n",
       "      <td>IL</td>\n",
       "      <td>605.67</td>\n",
       "      <td>0.0</td>\n",
       "      <td>...</td>\n",
       "      <td>NaN</td>\n",
       "      <td>NaN</td>\n",
       "      <td>NaN</td>\n",
       "      <td>NaN</td>\n",
       "      <td>NaN</td>\n",
       "      <td>NaN</td>\n",
       "      <td>NaN</td>\n",
       "      <td>NaN</td>\n",
       "      <td>NaN</td>\n",
       "      <td>NaN</td>\n",
       "    </tr>\n",
       "    <tr>\n",
       "      <th>3</th>\n",
       "      <td>N</td>\n",
       "      <td>5598.0</td>\n",
       "      <td>f</td>\n",
       "      <td>0.0</td>\n",
       "      <td>12231.890000</td>\n",
       "      <td>12231.89</td>\n",
       "      <td>10000.00</td>\n",
       "      <td>CA</td>\n",
       "      <td>2214.92</td>\n",
       "      <td>0.0</td>\n",
       "      <td>...</td>\n",
       "      <td>NaN</td>\n",
       "      <td>NaN</td>\n",
       "      <td>NaN</td>\n",
       "      <td>NaN</td>\n",
       "      <td>NaN</td>\n",
       "      <td>NaN</td>\n",
       "      <td>AIR RESOURCES BOARD</td>\n",
       "      <td>NaN</td>\n",
       "      <td>NaN</td>\n",
       "      <td>NaN</td>\n",
       "    </tr>\n",
       "    <tr>\n",
       "      <th>4</th>\n",
       "      <td>N</td>\n",
       "      <td>27783.0</td>\n",
       "      <td>f</td>\n",
       "      <td>0.0</td>\n",
       "      <td>4066.908161</td>\n",
       "      <td>4066.91</td>\n",
       "      <td>3000.00</td>\n",
       "      <td>OR</td>\n",
       "      <td>1066.91</td>\n",
       "      <td>0.0</td>\n",
       "      <td>...</td>\n",
       "      <td>NaN</td>\n",
       "      <td>NaN</td>\n",
       "      <td>NaN</td>\n",
       "      <td>NaN</td>\n",
       "      <td>NaN</td>\n",
       "      <td>NaN</td>\n",
       "      <td>University Medical Group</td>\n",
       "      <td>NaN</td>\n",
       "      <td>NaN</td>\n",
       "      <td>NaN</td>\n",
       "    </tr>\n",
       "  </tbody>\n",
       "</table>\n",
       "<p>5 rows × 87 columns</p>\n",
       "</div>"
      ],
      "text/plain": [
       "  hardship_flag  revol_bal initial_list_status  out_prncp   total_pymnt  \\\n",
       "0             N    13648.0                   f        0.0   5863.155187   \n",
       "1             N     1687.0                   f        0.0   1014.530000   \n",
       "2             N     2956.0                   f        0.0   3005.666844   \n",
       "3             N     5598.0                   f        0.0  12231.890000   \n",
       "4             N    27783.0                   f        0.0   4066.908161   \n",
       "\n",
       "   total_pymnt_inv  total_rec_prncp addr_state  total_rec_int  recoveries  \\\n",
       "0          5833.84          5000.00         AZ         863.16         0.0   \n",
       "1          1014.53           456.46         GA         435.17       122.9   \n",
       "2          3005.67          2400.00         IL         605.67         0.0   \n",
       "3         12231.89         10000.00         CA        2214.92         0.0   \n",
       "4          4066.91          3000.00         OR        1066.91         0.0   \n",
       "\n",
       "           ...           total_rev_hi_lim  num_rev_accts  \\\n",
       "0          ...                        NaN            NaN   \n",
       "1          ...                        NaN            NaN   \n",
       "2          ...                        NaN            NaN   \n",
       "3          ...                        NaN            NaN   \n",
       "4          ...                        NaN            NaN   \n",
       "\n",
       "   mo_sin_old_rev_tl_op mo_sin_rcnt_rev_tl_op avg_cur_bal  pct_tl_nvr_dlq  \\\n",
       "0                   NaN                   NaN         NaN             NaN   \n",
       "1                   NaN                   NaN         NaN             NaN   \n",
       "2                   NaN                   NaN         NaN             NaN   \n",
       "3                   NaN                   NaN         NaN             NaN   \n",
       "4                   NaN                   NaN         NaN             NaN   \n",
       "\n",
       "                  emp_title  mo_sin_old_il_acct  num_tl_120dpd_2m  \\\n",
       "0                       NaN                 NaN               NaN   \n",
       "1                     Ryder                 NaN               NaN   \n",
       "2                       NaN                 NaN               NaN   \n",
       "3       AIR RESOURCES BOARD                 NaN               NaN   \n",
       "4  University Medical Group                 NaN               NaN   \n",
       "\n",
       "  mths_since_recent_inq  \n",
       "0                   NaN  \n",
       "1                   NaN  \n",
       "2                   NaN  \n",
       "3                   NaN  \n",
       "4                   NaN  \n",
       "\n",
       "[5 rows x 87 columns]"
      ]
     },
     "execution_count": 14,
     "metadata": {},
     "output_type": "execute_result"
    }
   ],
   "source": [
    "loan_df.head()"
   ]
  },
  {
   "cell_type": "code",
   "execution_count": 21,
   "metadata": {
    "collapsed": false
   },
   "outputs": [
    {
     "data": {
      "text/plain": [
       "array(['B', 'C', 'A', 'E', 'F', 'D', 'G'], dtype=object)"
      ]
     },
     "execution_count": 21,
     "metadata": {},
     "output_type": "execute_result"
    }
   ],
   "source": [
    "loan_df.grade.unique()"
   ]
  },
  {
   "cell_type": "code",
   "execution_count": 23,
   "metadata": {
    "collapsed": false
   },
   "outputs": [
    {
     "data": {
      "text/html": [
       "<div>\n",
       "<table border=\"1\" class=\"dataframe\">\n",
       "  <thead>\n",
       "    <tr style=\"text-align: right;\">\n",
       "      <th></th>\n",
       "      <th>loan_amnt</th>\n",
       "    </tr>\n",
       "    <tr>\n",
       "      <th>grade</th>\n",
       "      <th></th>\n",
       "    </tr>\n",
       "  </thead>\n",
       "  <tbody>\n",
       "    <tr>\n",
       "      <th>A</th>\n",
       "      <td>14078.427269</td>\n",
       "    </tr>\n",
       "    <tr>\n",
       "      <th>B</th>\n",
       "      <td>13520.480494</td>\n",
       "    </tr>\n",
       "    <tr>\n",
       "      <th>C</th>\n",
       "      <td>14664.571436</td>\n",
       "    </tr>\n",
       "    <tr>\n",
       "      <th>D</th>\n",
       "      <td>15672.516452</td>\n",
       "    </tr>\n",
       "    <tr>\n",
       "      <th>E</th>\n",
       "      <td>17918.678172</td>\n",
       "    </tr>\n",
       "    <tr>\n",
       "      <th>F</th>\n",
       "      <td>19132.253857</td>\n",
       "    </tr>\n",
       "    <tr>\n",
       "      <th>G</th>\n",
       "      <td>20226.904532</td>\n",
       "    </tr>\n",
       "  </tbody>\n",
       "</table>\n",
       "</div>"
      ],
      "text/plain": [
       "          loan_amnt\n",
       "grade              \n",
       "A      14078.427269\n",
       "B      13520.480494\n",
       "C      14664.571436\n",
       "D      15672.516452\n",
       "E      17918.678172\n",
       "F      19132.253857\n",
       "G      20226.904532"
      ]
     },
     "execution_count": 23,
     "metadata": {},
     "output_type": "execute_result"
    }
   ],
   "source": [
    "loan_df[['grade','loan_amnt']].groupby('grade').mean()"
   ]
  },
  {
   "cell_type": "code",
   "execution_count": 25,
   "metadata": {
    "collapsed": false
   },
   "outputs": [
    {
     "data": {
      "text/plain": [
       "array([ nan,   8.,   3.,   4.,  17.,   0.,   6.,   2.,  14.,  12.,   7.,\n",
       "        10.,  20.,  11.,  13.,   5.,   1.,   9.,  16.,  21.,  19.,  18.,\n",
       "        15.,  22.,  23.,  24.,  25.])"
      ]
     },
     "execution_count": 25,
     "metadata": {},
     "output_type": "execute_result"
    }
   ],
   "source": [
    "loan_df.mths_since_recent_inq.unique()"
   ]
  },
  {
   "cell_type": "code",
   "execution_count": 32,
   "metadata": {
    "collapsed": false
   },
   "outputs": [
    {
     "data": {
      "text/plain": [
       "2345"
      ]
     },
     "execution_count": 32,
     "metadata": {},
     "output_type": "execute_result"
    }
   ],
   "source": [
    "len(loan_df.delinq_amnt.unique())"
   ]
  },
  {
   "cell_type": "code",
   "execution_count": 36,
   "metadata": {
    "collapsed": false
   },
   "outputs": [
    {
     "data": {
      "text/plain": [
       "array(['Fully Paid', 'Charged Off',\n",
       "       'Does not meet the credit policy. Status:Fully Paid',\n",
       "       'Does not meet the credit policy. Status:Charged Off', 'Current',\n",
       "       'Late (16-30 days)', 'Late (31-120 days)', 'In Grace Period',\n",
       "       'Default'], dtype=object)"
      ]
     },
     "execution_count": 36,
     "metadata": {},
     "output_type": "execute_result"
    }
   ],
   "source": [
    "loan_df.loan_status.unique()"
   ]
  },
  {
   "cell_type": "code",
   "execution_count": 37,
   "metadata": {
    "collapsed": false
   },
   "outputs": [
    {
     "data": {
      "text/plain": [
       "loan_status\n",
       "Charged Off                                            154359\n",
       "Current                                                721348\n",
       "Default                                                   225\n",
       "Does not meet the credit policy. Status:Charged Off       761\n",
       "Does not meet the credit policy. Status:Fully Paid       1988\n",
       "Fully Paid                                             600680\n",
       "In Grace Period                                         13970\n",
       "Late (16-30 days)                                        6320\n",
       "Late (31-120 days)                                      24426\n",
       "dtype: int64"
      ]
     },
     "execution_count": 37,
     "metadata": {},
     "output_type": "execute_result"
    }
   ],
   "source": [
    "loan_df.groupby('loan_status').size()"
   ]
  },
  {
   "cell_type": "code",
   "execution_count": 42,
   "metadata": {
    "collapsed": false
   },
   "outputs": [
    {
     "data": {
      "text/html": [
       "<div>\n",
       "<table border=\"1\" class=\"dataframe\">\n",
       "  <thead>\n",
       "    <tr style=\"text-align: right;\">\n",
       "      <th></th>\n",
       "      <th></th>\n",
       "      <th>loan_amnt</th>\n",
       "    </tr>\n",
       "    <tr>\n",
       "      <th>loan_status</th>\n",
       "      <th></th>\n",
       "      <th></th>\n",
       "    </tr>\n",
       "  </thead>\n",
       "  <tbody>\n",
       "    <tr>\n",
       "      <th rowspan=\"8\" valign=\"top\">Charged Off</th>\n",
       "      <th>count</th>\n",
       "      <td>154359.000000</td>\n",
       "    </tr>\n",
       "    <tr>\n",
       "      <th>mean</th>\n",
       "      <td>15370.944357</td>\n",
       "    </tr>\n",
       "    <tr>\n",
       "      <th>std</th>\n",
       "      <td>8590.909200</td>\n",
       "    </tr>\n",
       "    <tr>\n",
       "      <th>min</th>\n",
       "      <td>900.000000</td>\n",
       "    </tr>\n",
       "    <tr>\n",
       "      <th>25%</th>\n",
       "      <td>9000.000000</td>\n",
       "    </tr>\n",
       "    <tr>\n",
       "      <th>50%</th>\n",
       "      <td>14000.000000</td>\n",
       "    </tr>\n",
       "    <tr>\n",
       "      <th>75%</th>\n",
       "      <td>20000.000000</td>\n",
       "    </tr>\n",
       "    <tr>\n",
       "      <th>max</th>\n",
       "      <td>40000.000000</td>\n",
       "    </tr>\n",
       "    <tr>\n",
       "      <th rowspan=\"8\" valign=\"top\">Current</th>\n",
       "      <th>count</th>\n",
       "      <td>721348.000000</td>\n",
       "    </tr>\n",
       "    <tr>\n",
       "      <th>mean</th>\n",
       "      <td>15146.864828</td>\n",
       "    </tr>\n",
       "    <tr>\n",
       "      <th>std</th>\n",
       "      <td>8956.482528</td>\n",
       "    </tr>\n",
       "    <tr>\n",
       "      <th>min</th>\n",
       "      <td>1000.000000</td>\n",
       "    </tr>\n",
       "    <tr>\n",
       "      <th>25%</th>\n",
       "      <td>8000.000000</td>\n",
       "    </tr>\n",
       "    <tr>\n",
       "      <th>50%</th>\n",
       "      <td>13500.000000</td>\n",
       "    </tr>\n",
       "    <tr>\n",
       "      <th>75%</th>\n",
       "      <td>20000.000000</td>\n",
       "    </tr>\n",
       "    <tr>\n",
       "      <th>max</th>\n",
       "      <td>40000.000000</td>\n",
       "    </tr>\n",
       "    <tr>\n",
       "      <th rowspan=\"8\" valign=\"top\">Default</th>\n",
       "      <th>count</th>\n",
       "      <td>225.000000</td>\n",
       "    </tr>\n",
       "    <tr>\n",
       "      <th>mean</th>\n",
       "      <td>15277.444444</td>\n",
       "    </tr>\n",
       "    <tr>\n",
       "      <th>std</th>\n",
       "      <td>8782.097990</td>\n",
       "    </tr>\n",
       "    <tr>\n",
       "      <th>min</th>\n",
       "      <td>1200.000000</td>\n",
       "    </tr>\n",
       "    <tr>\n",
       "      <th>25%</th>\n",
       "      <td>9000.000000</td>\n",
       "    </tr>\n",
       "    <tr>\n",
       "      <th>50%</th>\n",
       "      <td>13200.000000</td>\n",
       "    </tr>\n",
       "    <tr>\n",
       "      <th>75%</th>\n",
       "      <td>21000.000000</td>\n",
       "    </tr>\n",
       "    <tr>\n",
       "      <th>max</th>\n",
       "      <td>35000.000000</td>\n",
       "    </tr>\n",
       "    <tr>\n",
       "      <th rowspan=\"6\" valign=\"top\">Does not meet the credit policy. Status:Charged Off</th>\n",
       "      <th>count</th>\n",
       "      <td>761.000000</td>\n",
       "    </tr>\n",
       "    <tr>\n",
       "      <th>mean</th>\n",
       "      <td>9527.233903</td>\n",
       "    </tr>\n",
       "    <tr>\n",
       "      <th>std</th>\n",
       "      <td>6404.598723</td>\n",
       "    </tr>\n",
       "    <tr>\n",
       "      <th>min</th>\n",
       "      <td>500.000000</td>\n",
       "    </tr>\n",
       "    <tr>\n",
       "      <th>25%</th>\n",
       "      <td>5000.000000</td>\n",
       "    </tr>\n",
       "    <tr>\n",
       "      <th>50%</th>\n",
       "      <td>7750.000000</td>\n",
       "    </tr>\n",
       "    <tr>\n",
       "      <th>...</th>\n",
       "      <th>...</th>\n",
       "      <td>...</td>\n",
       "    </tr>\n",
       "    <tr>\n",
       "      <th rowspan=\"6\" valign=\"top\">Fully Paid</th>\n",
       "      <th>std</th>\n",
       "      <td>8424.441054</td>\n",
       "    </tr>\n",
       "    <tr>\n",
       "      <th>min</th>\n",
       "      <td>500.000000</td>\n",
       "    </tr>\n",
       "    <tr>\n",
       "      <th>25%</th>\n",
       "      <td>7500.000000</td>\n",
       "    </tr>\n",
       "    <tr>\n",
       "      <th>50%</th>\n",
       "      <td>12000.000000</td>\n",
       "    </tr>\n",
       "    <tr>\n",
       "      <th>75%</th>\n",
       "      <td>20000.000000</td>\n",
       "    </tr>\n",
       "    <tr>\n",
       "      <th>max</th>\n",
       "      <td>40000.000000</td>\n",
       "    </tr>\n",
       "    <tr>\n",
       "      <th rowspan=\"8\" valign=\"top\">In Grace Period</th>\n",
       "      <th>count</th>\n",
       "      <td>13970.000000</td>\n",
       "    </tr>\n",
       "    <tr>\n",
       "      <th>mean</th>\n",
       "      <td>16392.235147</td>\n",
       "    </tr>\n",
       "    <tr>\n",
       "      <th>std</th>\n",
       "      <td>9027.043650</td>\n",
       "    </tr>\n",
       "    <tr>\n",
       "      <th>min</th>\n",
       "      <td>1000.000000</td>\n",
       "    </tr>\n",
       "    <tr>\n",
       "      <th>25%</th>\n",
       "      <td>9800.000000</td>\n",
       "    </tr>\n",
       "    <tr>\n",
       "      <th>50%</th>\n",
       "      <td>15000.000000</td>\n",
       "    </tr>\n",
       "    <tr>\n",
       "      <th>75%</th>\n",
       "      <td>22400.000000</td>\n",
       "    </tr>\n",
       "    <tr>\n",
       "      <th>max</th>\n",
       "      <td>40000.000000</td>\n",
       "    </tr>\n",
       "    <tr>\n",
       "      <th rowspan=\"8\" valign=\"top\">Late (16-30 days)</th>\n",
       "      <th>count</th>\n",
       "      <td>6320.000000</td>\n",
       "    </tr>\n",
       "    <tr>\n",
       "      <th>mean</th>\n",
       "      <td>16395.984968</td>\n",
       "    </tr>\n",
       "    <tr>\n",
       "      <th>std</th>\n",
       "      <td>9135.730039</td>\n",
       "    </tr>\n",
       "    <tr>\n",
       "      <th>min</th>\n",
       "      <td>1000.000000</td>\n",
       "    </tr>\n",
       "    <tr>\n",
       "      <th>25%</th>\n",
       "      <td>9718.750000</td>\n",
       "    </tr>\n",
       "    <tr>\n",
       "      <th>50%</th>\n",
       "      <td>15000.000000</td>\n",
       "    </tr>\n",
       "    <tr>\n",
       "      <th>75%</th>\n",
       "      <td>22500.000000</td>\n",
       "    </tr>\n",
       "    <tr>\n",
       "      <th>max</th>\n",
       "      <td>40000.000000</td>\n",
       "    </tr>\n",
       "    <tr>\n",
       "      <th rowspan=\"8\" valign=\"top\">Late (31-120 days)</th>\n",
       "      <th>count</th>\n",
       "      <td>24426.000000</td>\n",
       "    </tr>\n",
       "    <tr>\n",
       "      <th>mean</th>\n",
       "      <td>15924.964178</td>\n",
       "    </tr>\n",
       "    <tr>\n",
       "      <th>std</th>\n",
       "      <td>8917.675396</td>\n",
       "    </tr>\n",
       "    <tr>\n",
       "      <th>min</th>\n",
       "      <td>1000.000000</td>\n",
       "    </tr>\n",
       "    <tr>\n",
       "      <th>25%</th>\n",
       "      <td>9406.250000</td>\n",
       "    </tr>\n",
       "    <tr>\n",
       "      <th>50%</th>\n",
       "      <td>15000.000000</td>\n",
       "    </tr>\n",
       "    <tr>\n",
       "      <th>75%</th>\n",
       "      <td>21000.000000</td>\n",
       "    </tr>\n",
       "    <tr>\n",
       "      <th>max</th>\n",
       "      <td>40000.000000</td>\n",
       "    </tr>\n",
       "  </tbody>\n",
       "</table>\n",
       "<p>72 rows × 1 columns</p>\n",
       "</div>"
      ],
      "text/plain": [
       "                                                              loan_amnt\n",
       "loan_status                                                            \n",
       "Charged Off                                        count  154359.000000\n",
       "                                                   mean    15370.944357\n",
       "                                                   std      8590.909200\n",
       "                                                   min       900.000000\n",
       "                                                   25%      9000.000000\n",
       "                                                   50%     14000.000000\n",
       "                                                   75%     20000.000000\n",
       "                                                   max     40000.000000\n",
       "Current                                            count  721348.000000\n",
       "                                                   mean    15146.864828\n",
       "                                                   std      8956.482528\n",
       "                                                   min      1000.000000\n",
       "                                                   25%      8000.000000\n",
       "                                                   50%     13500.000000\n",
       "                                                   75%     20000.000000\n",
       "                                                   max     40000.000000\n",
       "Default                                            count     225.000000\n",
       "                                                   mean    15277.444444\n",
       "                                                   std      8782.097990\n",
       "                                                   min      1200.000000\n",
       "                                                   25%      9000.000000\n",
       "                                                   50%     13200.000000\n",
       "                                                   75%     21000.000000\n",
       "                                                   max     35000.000000\n",
       "Does not meet the credit policy. Status:Charged... count     761.000000\n",
       "                                                   mean     9527.233903\n",
       "                                                   std      6404.598723\n",
       "                                                   min       500.000000\n",
       "                                                   25%      5000.000000\n",
       "                                                   50%      7750.000000\n",
       "...                                                                 ...\n",
       "Fully Paid                                         std      8424.441054\n",
       "                                                   min       500.000000\n",
       "                                                   25%      7500.000000\n",
       "                                                   50%     12000.000000\n",
       "                                                   75%     20000.000000\n",
       "                                                   max     40000.000000\n",
       "In Grace Period                                    count   13970.000000\n",
       "                                                   mean    16392.235147\n",
       "                                                   std      9027.043650\n",
       "                                                   min      1000.000000\n",
       "                                                   25%      9800.000000\n",
       "                                                   50%     15000.000000\n",
       "                                                   75%     22400.000000\n",
       "                                                   max     40000.000000\n",
       "Late (16-30 days)                                  count    6320.000000\n",
       "                                                   mean    16395.984968\n",
       "                                                   std      9135.730039\n",
       "                                                   min      1000.000000\n",
       "                                                   25%      9718.750000\n",
       "                                                   50%     15000.000000\n",
       "                                                   75%     22500.000000\n",
       "                                                   max     40000.000000\n",
       "Late (31-120 days)                                 count   24426.000000\n",
       "                                                   mean    15924.964178\n",
       "                                                   std      8917.675396\n",
       "                                                   min      1000.000000\n",
       "                                                   25%      9406.250000\n",
       "                                                   50%     15000.000000\n",
       "                                                   75%     21000.000000\n",
       "                                                   max     40000.000000\n",
       "\n",
       "[72 rows x 1 columns]"
      ]
     },
     "execution_count": 42,
     "metadata": {},
     "output_type": "execute_result"
    }
   ],
   "source": [
    "loan_df.groupby('loan_status')['loan_amnt'].describe().to_frame()"
   ]
  },
  {
   "cell_type": "code",
   "execution_count": 46,
   "metadata": {
    "collapsed": false
   },
   "outputs": [
    {
     "data": {
      "text/plain": [
       "array(['credit_card', 'car', 'small_business', 'other', 'wedding',\n",
       "       'debt_consolidation', 'home_improvement', 'major_purchase',\n",
       "       'medical', 'moving', 'vacation', 'house', 'renewable_energy',\n",
       "       'educational'], dtype=object)"
      ]
     },
     "execution_count": 46,
     "metadata": {},
     "output_type": "execute_result"
    }
   ],
   "source": [
    "loan_df.purpose.unique()"
   ]
  },
  {
   "cell_type": "code",
   "execution_count": 53,
   "metadata": {
    "collapsed": false
   },
   "outputs": [
    {
     "data": {
      "text/html": [
       "<div>\n",
       "<table border=\"1\" class=\"dataframe\">\n",
       "  <thead>\n",
       "    <tr style=\"text-align: right;\">\n",
       "      <th></th>\n",
       "      <th></th>\n",
       "      <th>loan_amnt</th>\n",
       "    </tr>\n",
       "    <tr>\n",
       "      <th>purpose</th>\n",
       "      <th></th>\n",
       "      <th></th>\n",
       "    </tr>\n",
       "  </thead>\n",
       "  <tbody>\n",
       "    <tr>\n",
       "      <th rowspan=\"8\" valign=\"top\">car</th>\n",
       "      <th>count</th>\n",
       "      <td>16129.000000</td>\n",
       "    </tr>\n",
       "    <tr>\n",
       "      <th>mean</th>\n",
       "      <td>9034.715419</td>\n",
       "    </tr>\n",
       "    <tr>\n",
       "      <th>std</th>\n",
       "      <td>6397.241343</td>\n",
       "    </tr>\n",
       "    <tr>\n",
       "      <th>min</th>\n",
       "      <td>1000.000000</td>\n",
       "    </tr>\n",
       "    <tr>\n",
       "      <th>25%</th>\n",
       "      <td>4800.000000</td>\n",
       "    </tr>\n",
       "    <tr>\n",
       "      <th>50%</th>\n",
       "      <td>7000.000000</td>\n",
       "    </tr>\n",
       "    <tr>\n",
       "      <th>75%</th>\n",
       "      <td>12000.000000</td>\n",
       "    </tr>\n",
       "    <tr>\n",
       "      <th>max</th>\n",
       "      <td>40000.000000</td>\n",
       "    </tr>\n",
       "    <tr>\n",
       "      <th rowspan=\"8\" valign=\"top\">credit_card</th>\n",
       "      <th>count</th>\n",
       "      <td>340073.000000</td>\n",
       "    </tr>\n",
       "    <tr>\n",
       "      <th>mean</th>\n",
       "      <td>15238.014926</td>\n",
       "    </tr>\n",
       "    <tr>\n",
       "      <th>std</th>\n",
       "      <td>8499.844963</td>\n",
       "    </tr>\n",
       "    <tr>\n",
       "      <th>min</th>\n",
       "      <td>500.000000</td>\n",
       "    </tr>\n",
       "    <tr>\n",
       "      <th>25%</th>\n",
       "      <td>8875.000000</td>\n",
       "    </tr>\n",
       "    <tr>\n",
       "      <th>50%</th>\n",
       "      <td>13700.000000</td>\n",
       "    </tr>\n",
       "    <tr>\n",
       "      <th>75%</th>\n",
       "      <td>20000.000000</td>\n",
       "    </tr>\n",
       "    <tr>\n",
       "      <th>max</th>\n",
       "      <td>40000.000000</td>\n",
       "    </tr>\n",
       "    <tr>\n",
       "      <th rowspan=\"8\" valign=\"top\">debt_consolidation</th>\n",
       "      <th>count</th>\n",
       "      <td>886520.000000</td>\n",
       "    </tr>\n",
       "    <tr>\n",
       "      <th>mean</th>\n",
       "      <td>15557.472561</td>\n",
       "    </tr>\n",
       "    <tr>\n",
       "      <th>std</th>\n",
       "      <td>8597.739601</td>\n",
       "    </tr>\n",
       "    <tr>\n",
       "      <th>min</th>\n",
       "      <td>700.000000</td>\n",
       "    </tr>\n",
       "    <tr>\n",
       "      <th>25%</th>\n",
       "      <td>9000.000000</td>\n",
       "    </tr>\n",
       "    <tr>\n",
       "      <th>50%</th>\n",
       "      <td>14125.000000</td>\n",
       "    </tr>\n",
       "    <tr>\n",
       "      <th>75%</th>\n",
       "      <td>20000.000000</td>\n",
       "    </tr>\n",
       "    <tr>\n",
       "      <th>max</th>\n",
       "      <td>40000.000000</td>\n",
       "    </tr>\n",
       "    <tr>\n",
       "      <th rowspan=\"6\" valign=\"top\">educational</th>\n",
       "      <th>count</th>\n",
       "      <td>423.000000</td>\n",
       "    </tr>\n",
       "    <tr>\n",
       "      <th>mean</th>\n",
       "      <td>6616.075650</td>\n",
       "    </tr>\n",
       "    <tr>\n",
       "      <th>std</th>\n",
       "      <td>5093.890248</td>\n",
       "    </tr>\n",
       "    <tr>\n",
       "      <th>min</th>\n",
       "      <td>500.000000</td>\n",
       "    </tr>\n",
       "    <tr>\n",
       "      <th>25%</th>\n",
       "      <td>3000.000000</td>\n",
       "    </tr>\n",
       "    <tr>\n",
       "      <th>50%</th>\n",
       "      <td>5000.000000</td>\n",
       "    </tr>\n",
       "    <tr>\n",
       "      <th>...</th>\n",
       "      <th>...</th>\n",
       "      <td>...</td>\n",
       "    </tr>\n",
       "    <tr>\n",
       "      <th rowspan=\"6\" valign=\"top\">renewable_energy</th>\n",
       "      <th>std</th>\n",
       "      <td>8289.721546</td>\n",
       "    </tr>\n",
       "    <tr>\n",
       "      <th>min</th>\n",
       "      <td>1000.000000</td>\n",
       "    </tr>\n",
       "    <tr>\n",
       "      <th>25%</th>\n",
       "      <td>4000.000000</td>\n",
       "    </tr>\n",
       "    <tr>\n",
       "      <th>50%</th>\n",
       "      <td>8000.000000</td>\n",
       "    </tr>\n",
       "    <tr>\n",
       "      <th>75%</th>\n",
       "      <td>14575.000000</td>\n",
       "    </tr>\n",
       "    <tr>\n",
       "      <th>max</th>\n",
       "      <td>40000.000000</td>\n",
       "    </tr>\n",
       "    <tr>\n",
       "      <th rowspan=\"8\" valign=\"top\">small_business</th>\n",
       "      <th>count</th>\n",
       "      <td>17347.000000</td>\n",
       "    </tr>\n",
       "    <tr>\n",
       "      <th>mean</th>\n",
       "      <td>15579.407102</td>\n",
       "    </tr>\n",
       "    <tr>\n",
       "      <th>std</th>\n",
       "      <td>9566.194385</td>\n",
       "    </tr>\n",
       "    <tr>\n",
       "      <th>min</th>\n",
       "      <td>500.000000</td>\n",
       "    </tr>\n",
       "    <tr>\n",
       "      <th>25%</th>\n",
       "      <td>8000.000000</td>\n",
       "    </tr>\n",
       "    <tr>\n",
       "      <th>50%</th>\n",
       "      <td>14000.000000</td>\n",
       "    </tr>\n",
       "    <tr>\n",
       "      <th>75%</th>\n",
       "      <td>21600.000000</td>\n",
       "    </tr>\n",
       "    <tr>\n",
       "      <th>max</th>\n",
       "      <td>40000.000000</td>\n",
       "    </tr>\n",
       "    <tr>\n",
       "      <th rowspan=\"8\" valign=\"top\">vacation</th>\n",
       "      <th>count</th>\n",
       "      <td>9948.000000</td>\n",
       "    </tr>\n",
       "    <tr>\n",
       "      <th>mean</th>\n",
       "      <td>6212.821673</td>\n",
       "    </tr>\n",
       "    <tr>\n",
       "      <th>std</th>\n",
       "      <td>5346.481400</td>\n",
       "    </tr>\n",
       "    <tr>\n",
       "      <th>min</th>\n",
       "      <td>500.000000</td>\n",
       "    </tr>\n",
       "    <tr>\n",
       "      <th>25%</th>\n",
       "      <td>2800.000000</td>\n",
       "    </tr>\n",
       "    <tr>\n",
       "      <th>50%</th>\n",
       "      <td>5000.000000</td>\n",
       "    </tr>\n",
       "    <tr>\n",
       "      <th>75%</th>\n",
       "      <td>8000.000000</td>\n",
       "    </tr>\n",
       "    <tr>\n",
       "      <th>max</th>\n",
       "      <td>40000.000000</td>\n",
       "    </tr>\n",
       "    <tr>\n",
       "      <th rowspan=\"8\" valign=\"top\">wedding</th>\n",
       "      <th>count</th>\n",
       "      <td>2350.000000</td>\n",
       "    </tr>\n",
       "    <tr>\n",
       "      <th>mean</th>\n",
       "      <td>10479.095745</td>\n",
       "    </tr>\n",
       "    <tr>\n",
       "      <th>std</th>\n",
       "      <td>6754.309992</td>\n",
       "    </tr>\n",
       "    <tr>\n",
       "      <th>min</th>\n",
       "      <td>1000.000000</td>\n",
       "    </tr>\n",
       "    <tr>\n",
       "      <th>25%</th>\n",
       "      <td>5500.000000</td>\n",
       "    </tr>\n",
       "    <tr>\n",
       "      <th>50%</th>\n",
       "      <td>9000.000000</td>\n",
       "    </tr>\n",
       "    <tr>\n",
       "      <th>75%</th>\n",
       "      <td>14000.000000</td>\n",
       "    </tr>\n",
       "    <tr>\n",
       "      <th>max</th>\n",
       "      <td>35000.000000</td>\n",
       "    </tr>\n",
       "  </tbody>\n",
       "</table>\n",
       "<p>112 rows × 1 columns</p>\n",
       "</div>"
      ],
      "text/plain": [
       "                              loan_amnt\n",
       "purpose                                \n",
       "car                count   16129.000000\n",
       "                   mean     9034.715419\n",
       "                   std      6397.241343\n",
       "                   min      1000.000000\n",
       "                   25%      4800.000000\n",
       "                   50%      7000.000000\n",
       "                   75%     12000.000000\n",
       "                   max     40000.000000\n",
       "credit_card        count  340073.000000\n",
       "                   mean    15238.014926\n",
       "                   std      8499.844963\n",
       "                   min       500.000000\n",
       "                   25%      8875.000000\n",
       "                   50%     13700.000000\n",
       "                   75%     20000.000000\n",
       "                   max     40000.000000\n",
       "debt_consolidation count  886520.000000\n",
       "                   mean    15557.472561\n",
       "                   std      8597.739601\n",
       "                   min       700.000000\n",
       "                   25%      9000.000000\n",
       "                   50%     14125.000000\n",
       "                   75%     20000.000000\n",
       "                   max     40000.000000\n",
       "educational        count     423.000000\n",
       "                   mean     6616.075650\n",
       "                   std      5093.890248\n",
       "                   min       500.000000\n",
       "                   25%      3000.000000\n",
       "                   50%      5000.000000\n",
       "...                                 ...\n",
       "renewable_energy   std      8289.721546\n",
       "                   min      1000.000000\n",
       "                   25%      4000.000000\n",
       "                   50%      8000.000000\n",
       "                   75%     14575.000000\n",
       "                   max     40000.000000\n",
       "small_business     count   17347.000000\n",
       "                   mean    15579.407102\n",
       "                   std      9566.194385\n",
       "                   min       500.000000\n",
       "                   25%      8000.000000\n",
       "                   50%     14000.000000\n",
       "                   75%     21600.000000\n",
       "                   max     40000.000000\n",
       "vacation           count    9948.000000\n",
       "                   mean     6212.821673\n",
       "                   std      5346.481400\n",
       "                   min       500.000000\n",
       "                   25%      2800.000000\n",
       "                   50%      5000.000000\n",
       "                   75%      8000.000000\n",
       "                   max     40000.000000\n",
       "wedding            count    2350.000000\n",
       "                   mean    10479.095745\n",
       "                   std      6754.309992\n",
       "                   min      1000.000000\n",
       "                   25%      5500.000000\n",
       "                   50%      9000.000000\n",
       "                   75%     14000.000000\n",
       "                   max     35000.000000\n",
       "\n",
       "[112 rows x 1 columns]"
      ]
     },
     "execution_count": 53,
     "metadata": {},
     "output_type": "execute_result"
    }
   ],
   "source": [
    "loan_df.groupby('purpose')['loan_amnt'].describe().to_frame()"
   ]
  },
  {
   "cell_type": "code",
   "execution_count": 55,
   "metadata": {
    "collapsed": false
   },
   "outputs": [
    {
     "data": {
      "text/plain": [
       "87"
      ]
     },
     "execution_count": 55,
     "metadata": {},
     "output_type": "execute_result"
    }
   ],
   "source": [
    "len(loan_df.columns)"
   ]
  },
  {
   "cell_type": "code",
   "execution_count": 64,
   "metadata": {
    "collapsed": false
   },
   "outputs": [
    {
     "data": {
      "text/plain": [
       "['hardship_flag',\n",
       " 'revol_bal',\n",
       " 'initial_list_status',\n",
       " 'out_prncp',\n",
       " 'total_pymnt',\n",
       " 'total_pymnt_inv',\n",
       " 'total_rec_prncp',\n",
       " 'addr_state',\n",
       " 'total_rec_int',\n",
       " 'recoveries',\n",
       " 'collection_recovery_fee',\n",
       " 'last_pymnt_amnt',\n",
       " 'policy_code',\n",
       " 'application_type',\n",
       " 'disbursement_method',\n",
       " 'total_rec_late_fee',\n",
       " 'purpose',\n",
       " 'out_prncp_inv',\n",
       " 'funded_amnt_inv',\n",
       " 'pymnt_plan',\n",
       " 'term',\n",
       " 'int_rate',\n",
       " 'installment',\n",
       " 'grade',\n",
       " 'sub_grade',\n",
       " 'debt_settlement_flag',\n",
       " 'emp_length',\n",
       " 'home_ownership',\n",
       " 'funded_amnt',\n",
       " 'verification_status',\n",
       " 'loan_amnt',\n",
       " 'issue_d',\n",
       " 'loan_status',\n",
       " 'zip_code',\n",
       " 'annual_inc',\n",
       " 'delinq_amnt',\n",
       " 'acc_now_delinq',\n",
       " 'total_acc',\n",
       " 'open_acc',\n",
       " 'pub_rec',\n",
       " 'earliest_cr_line',\n",
       " 'delinq_2yrs',\n",
       " 'inq_last_6mths',\n",
       " 'last_credit_pull_d',\n",
       " 'tax_liens',\n",
       " 'chargeoff_within_12_mths',\n",
       " 'collections_12_mths_ex_med',\n",
       " 'dti',\n",
       " 'revol_util',\n",
       " 'pub_rec_bankruptcies',\n",
       " 'last_pymnt_d',\n",
       " 'title',\n",
       " 'mort_acc',\n",
       " 'total_bc_limit',\n",
       " 'acc_open_past_24mths',\n",
       " 'total_bal_ex_mort',\n",
       " 'num_sats',\n",
       " 'num_bc_sats',\n",
       " 'mths_since_recent_bc',\n",
       " 'bc_open_to_buy',\n",
       " 'percent_bc_gt_75',\n",
       " 'bc_util',\n",
       " 'tot_hi_cred_lim',\n",
       " 'mo_sin_rcnt_tl',\n",
       " 'num_accts_ever_120_pd',\n",
       " 'num_tl_90g_dpd_24m',\n",
       " 'num_tl_op_past_12m',\n",
       " 'num_bc_tl',\n",
       " 'num_il_tl',\n",
       " 'num_op_rev_tl',\n",
       " 'num_rev_tl_bal_gt_0',\n",
       " 'total_il_high_credit_limit',\n",
       " 'num_tl_30dpd',\n",
       " 'num_actv_bc_tl',\n",
       " 'num_actv_rev_tl',\n",
       " 'tot_coll_amt',\n",
       " 'tot_cur_bal',\n",
       " 'total_rev_hi_lim',\n",
       " 'num_rev_accts',\n",
       " 'mo_sin_old_rev_tl_op',\n",
       " 'mo_sin_rcnt_rev_tl_op',\n",
       " 'avg_cur_bal',\n",
       " 'pct_tl_nvr_dlq',\n",
       " 'emp_title',\n",
       " 'mo_sin_old_il_acct',\n",
       " 'num_tl_120dpd_2m',\n",
       " 'mths_since_recent_inq']"
      ]
     },
     "execution_count": 64,
     "metadata": {},
     "output_type": "execute_result"
    }
   ],
   "source": [
    "loan_df.columns.tolist()"
   ]
  },
  {
   "cell_type": "code",
   "execution_count": 77,
   "metadata": {
    "collapsed": false
   },
   "outputs": [
    {
     "data": {
      "text/plain": [
       "(1524077, 87)"
      ]
     },
     "execution_count": 77,
     "metadata": {},
     "output_type": "execute_result"
    }
   ],
   "source": [
    "loan_df.shape"
   ]
  },
  {
   "cell_type": "code",
   "execution_count": 67,
   "metadata": {
    "collapsed": false
   },
   "outputs": [
    {
     "data": {
      "text/plain": [
       "array(['N', 'Y'], dtype=object)"
      ]
     },
     "execution_count": 67,
     "metadata": {},
     "output_type": "execute_result"
    }
   ],
   "source": [
    "loan_df.hardship_flag.unique()"
   ]
  },
  {
   "cell_type": "code",
   "execution_count": 76,
   "metadata": {
    "collapsed": false
   },
   "outputs": [
    {
     "data": {
      "text/plain": [
       "1520626"
      ]
     },
     "execution_count": 76,
     "metadata": {},
     "output_type": "execute_result"
    }
   ],
   "source": [
    "len(loan_df[loan_df.hardship_flag=='N'])"
   ]
  },
  {
   "cell_type": "code",
   "execution_count": 78,
   "metadata": {
    "collapsed": false
   },
   "outputs": [
    {
     "data": {
      "text/plain": [
       "3451"
      ]
     },
     "execution_count": 78,
     "metadata": {},
     "output_type": "execute_result"
    }
   ],
   "source": [
    "len(loan_df[loan_df.hardship_flag=='Y'])"
   ]
  },
  {
   "cell_type": "code",
   "execution_count": null,
   "metadata": {
    "collapsed": true
   },
   "outputs": [],
   "source": []
  }
 ],
 "metadata": {
  "anaconda-cloud": {},
  "kernelspec": {
   "display_name": "Python [conda root]",
   "language": "python",
   "name": "conda-root-py"
  },
  "language_info": {
   "codemirror_mode": {
    "name": "ipython",
    "version": 3
   },
   "file_extension": ".py",
   "mimetype": "text/x-python",
   "name": "python",
   "nbconvert_exporter": "python",
   "pygments_lexer": "ipython3",
   "version": "3.5.2"
  }
 },
 "nbformat": 4,
 "nbformat_minor": 2
}
